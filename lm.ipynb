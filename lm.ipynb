{
 "cells": [
  {
   "cell_type": "code",
   "execution_count": 1,
   "id": "continent-dance",
   "metadata": {},
   "outputs": [],
   "source": [
    "using Plots\n",
    "using LinearAlgebra # For I"
   ]
  },
  {
   "cell_type": "markdown",
   "id": "numeric-portugal",
   "metadata": {},
   "source": [
    "# Gradient Descent"
   ]
  },
  {
   "cell_type": "code",
   "execution_count": 227,
   "id": "collaborative-clear",
   "metadata": {},
   "outputs": [
    {
     "data": {
      "text/plain": [
       "chisquare (generic function with 1 method)"
      ]
     },
     "execution_count": 227,
     "metadata": {},
     "output_type": "execute_result"
    }
   ],
   "source": [
    "function chisquare(O, E)\n",
    "    return sum(((O .- E).^2) ./ E)\n",
    "end"
   ]
  },
  {
   "cell_type": "code",
   "execution_count": 242,
   "id": "corporate-electric",
   "metadata": {},
   "outputs": [
    {
     "data": {
      "text/plain": [
       "step (generic function with 2 methods)"
      ]
     },
     "execution_count": 242,
     "metadata": {},
     "output_type": "execute_result"
    }
   ],
   "source": [
    "function perturbparameters(parameters, perturbation)\n",
    "    return parameters .* (ones(length(p), length(p)) + perturbation * I)\n",
    "end\n",
    "\n",
    "function jacobian(f, x::Vector{Float64}, parameters, perturbation=0.0001)::Array{Float64, 2}\n",
    "    return cat(\n",
    "        map(row -> (f(x, row...) - f(x, parameters...)) / perturbation,\n",
    "            eachrow(perturbparameters(parameters, perturbation)))...,\n",
    "        dims=2)\n",
    "end\n",
    "\n",
    "function gradient(f, x, y, ŷ, parameters, J)\n",
    "    return transpose(J)*(y-ŷ)\n",
    "end\n",
    "\n",
    "function gaussnewton(f, x, y, ŷ, parameters, J)\n",
    "    return inv(transpose(J)*J)*transpose(J)*(y-ŷ)\n",
    "end\n",
    "\n",
    "# Todo: Use Broyden rank-1 update for updating jacobian in certain conditions\n",
    "# http://people.duke.edu/~hpgavin/ce281/lm.pdf\n",
    "# https://www.eecs189.org/static/notes/n12.pdf\n",
    "\n",
    "function step(f, x::Vector{Float64}, y::Vector{Float64}, parameters, α=0.0001)\n",
    "    W = I\n",
    "    p = copy(parameters)\n",
    "    iterations = 1\n",
    "    while true\n",
    "        ŷ = f(x, p...)\n",
    "        J = jacobian(f, x, parameters)\n",
    "        grad = gaussnewton(f, x, y, ŷ, p, J)\n",
    "        p = p + grad\n",
    "        sumsquares = sum((y-ŷ).^2)\n",
    "        println(\"Experiment new parameters $(p) loss: $(sumsquares)\")\n",
    "        iterations = iterations + 1\n",
    "        iterations > 50 && break\n",
    "        sumsquares > 1 || break\n",
    "    end\n",
    "    return p\n",
    "end"
   ]
  },
  {
   "cell_type": "code",
   "execution_count": 240,
   "id": "opening-leader",
   "metadata": {},
   "outputs": [
    {
     "data": {
      "text/plain": [
       "5-element Array{Int64,1}:\n",
       " 1\n",
       " 1\n",
       " 1\n",
       " 1\n",
       " 1"
      ]
     },
     "execution_count": 240,
     "metadata": {},
     "output_type": "execute_result"
    }
   ],
   "source": [
    "α = 0.01\n",
    "f(x, a, b, c, d, e) = a.+b.*exp.(-c.*x) .* sin.(d.*x.+e)\n",
    "x = collect(0:0.1:3)\n",
    "y = f(x, 5, 6, 7, 8, 9)\n",
    "p = [1, 1, 1, 1, 1]"
   ]
  },
  {
   "cell_type": "code",
   "execution_count": 241,
   "id": "portable-climb",
   "metadata": {},
   "outputs": [
    {
     "name": "stdout",
     "output_type": "stream",
     "text": [
      "Experiment new parameters [2.1574022646418856, 1.2585235856686143, 0.8677854914057875, 0.8199910609341233, 0.9441825254111572] loss: 444.6852156779073\n",
      "Experiment new parameters [-1917.5313567933229, -7959.3779597306775, -10591.329603381462, -10927.00198686704, -10067.438084489662] loss: 199.5529498610013\n",
      "Experiment new parameters [NaN, NaN, NaN, NaN, NaN] loss: Inf\n",
      "Experiment new parameters [NaN, NaN, NaN, NaN, NaN] loss: NaN\n"
     ]
    },
    {
     "data": {
      "image/svg+xml": [
       "<?xml version=\"1.0\" encoding=\"utf-8\"?>\n",
       "<svg xmlns=\"http://www.w3.org/2000/svg\" xmlns:xlink=\"http://www.w3.org/1999/xlink\" width=\"600\" height=\"400\" viewBox=\"0 0 2400 1600\">\n",
       "<defs>\n",
       "  <clipPath id=\"clip110\">\n",
       "    <rect x=\"0\" y=\"0\" width=\"2400\" height=\"1600\"/>\n",
       "  </clipPath>\n",
       "</defs>\n",
       "<path clip-path=\"url(#clip110)\" d=\"\n",
       "M0 1600 L2400 1600 L2400 0 L0 0  Z\n",
       "  \" fill=\"#ffffff\" fill-rule=\"evenodd\" fill-opacity=\"1\"/>\n",
       "<defs>\n",
       "  <clipPath id=\"clip111\">\n",
       "    <rect x=\"480\" y=\"0\" width=\"1681\" height=\"1600\"/>\n",
       "  </clipPath>\n",
       "</defs>\n",
       "<path clip-path=\"url(#clip110)\" d=\"\n",
       "M112.177 1486.45 L2352.76 1486.45 L2352.76 47.2441 L112.177 47.2441  Z\n",
       "  \" fill=\"#ffffff\" fill-rule=\"evenodd\" fill-opacity=\"1\"/>\n",
       "<defs>\n",
       "  <clipPath id=\"clip112\">\n",
       "    <rect x=\"112\" y=\"47\" width=\"2242\" height=\"1440\"/>\n",
       "  </clipPath>\n",
       "</defs>\n",
       "<polyline clip-path=\"url(#clip112)\" style=\"stroke:#000000; stroke-width:2; stroke-opacity:0.1; fill:none\" points=\"\n",
       "  175.59,1486.45 175.59,47.2441 \n",
       "  \"/>\n",
       "<polyline clip-path=\"url(#clip112)\" style=\"stroke:#000000; stroke-width:2; stroke-opacity:0.1; fill:none\" points=\"\n",
       "  880.174,1486.45 880.174,47.2441 \n",
       "  \"/>\n",
       "<polyline clip-path=\"url(#clip112)\" style=\"stroke:#000000; stroke-width:2; stroke-opacity:0.1; fill:none\" points=\"\n",
       "  1584.76,1486.45 1584.76,47.2441 \n",
       "  \"/>\n",
       "<polyline clip-path=\"url(#clip112)\" style=\"stroke:#000000; stroke-width:2; stroke-opacity:0.1; fill:none\" points=\"\n",
       "  2289.34,1486.45 2289.34,47.2441 \n",
       "  \"/>\n",
       "<polyline clip-path=\"url(#clip110)\" style=\"stroke:#000000; stroke-width:4; stroke-opacity:1; fill:none\" points=\"\n",
       "  112.177,1486.45 2352.76,1486.45 \n",
       "  \"/>\n",
       "<polyline clip-path=\"url(#clip110)\" style=\"stroke:#000000; stroke-width:4; stroke-opacity:1; fill:none\" points=\"\n",
       "  175.59,1486.45 175.59,1469.18 \n",
       "  \"/>\n",
       "<polyline clip-path=\"url(#clip110)\" style=\"stroke:#000000; stroke-width:4; stroke-opacity:1; fill:none\" points=\"\n",
       "  880.174,1486.45 880.174,1469.18 \n",
       "  \"/>\n",
       "<polyline clip-path=\"url(#clip110)\" style=\"stroke:#000000; stroke-width:4; stroke-opacity:1; fill:none\" points=\"\n",
       "  1584.76,1486.45 1584.76,1469.18 \n",
       "  \"/>\n",
       "<polyline clip-path=\"url(#clip110)\" style=\"stroke:#000000; stroke-width:4; stroke-opacity:1; fill:none\" points=\"\n",
       "  2289.34,1486.45 2289.34,1469.18 \n",
       "  \"/>\n",
       "<path clip-path=\"url(#clip110)\" d=\"M 0 0 M175.59 1515.64 Q171.979 1515.64 170.15 1519.2 Q168.344 1522.75 168.344 1529.87 Q168.344 1536.98 170.15 1540.55 Q171.979 1544.09 175.59 1544.09 Q179.224 1544.09 181.03 1540.55 Q182.858 1536.98 182.858 1529.87 Q182.858 1522.75 181.03 1519.2 Q179.224 1515.64 175.59 1515.64 M175.59 1511.93 Q181.4 1511.93 184.455 1516.54 Q187.534 1521.12 187.534 1529.87 Q187.534 1538.6 184.455 1543.21 Q181.4 1547.79 175.59 1547.79 Q169.78 1547.79 166.701 1543.21 Q163.645 1538.6 163.645 1529.87 Q163.645 1521.12 166.701 1516.54 Q169.78 1511.93 175.59 1511.93 Z\" fill=\"#000000\" fill-rule=\"evenodd\" fill-opacity=\"1\" /><path clip-path=\"url(#clip110)\" d=\"M 0 0 M870.556 1543.18 L878.195 1543.18 L878.195 1516.82 L869.885 1518.49 L869.885 1514.23 L878.149 1512.56 L882.825 1512.56 L882.825 1543.18 L890.464 1543.18 L890.464 1547.12 L870.556 1547.12 L870.556 1543.18 Z\" fill=\"#000000\" fill-rule=\"evenodd\" fill-opacity=\"1\" /><path clip-path=\"url(#clip110)\" d=\"M 0 0 M1579.41 1543.18 L1595.73 1543.18 L1595.73 1547.12 L1573.79 1547.12 L1573.79 1543.18 Q1576.45 1540.43 1581.03 1535.8 Q1585.64 1531.15 1586.82 1529.81 Q1589.06 1527.28 1589.94 1525.55 Q1590.85 1523.79 1590.85 1522.1 Q1590.85 1519.34 1588.9 1517.61 Q1586.98 1515.87 1583.88 1515.87 Q1581.68 1515.87 1579.23 1516.63 Q1576.8 1517.4 1574.02 1518.95 L1574.02 1514.23 Q1576.84 1513.09 1579.3 1512.51 Q1581.75 1511.93 1583.79 1511.93 Q1589.16 1511.93 1592.35 1514.62 Q1595.55 1517.31 1595.55 1521.8 Q1595.55 1523.93 1594.74 1525.85 Q1593.95 1527.74 1591.84 1530.34 Q1591.26 1531.01 1588.16 1534.23 Q1585.06 1537.42 1579.41 1543.18 Z\" fill=\"#000000\" fill-rule=\"evenodd\" fill-opacity=\"1\" /><path clip-path=\"url(#clip110)\" d=\"M 0 0 M2293.59 1528.49 Q2296.95 1529.2 2298.82 1531.47 Q2300.72 1533.74 2300.72 1537.07 Q2300.72 1542.19 2297.2 1544.99 Q2293.68 1547.79 2287.2 1547.79 Q2285.03 1547.79 2282.71 1547.35 Q2280.42 1546.93 2277.97 1546.08 L2277.97 1541.56 Q2279.91 1542.7 2282.23 1543.28 Q2284.54 1543.86 2287.06 1543.86 Q2291.46 1543.86 2293.75 1542.12 Q2296.07 1540.38 2296.07 1537.07 Q2296.07 1534.02 2293.92 1532.31 Q2291.79 1530.57 2287.97 1530.57 L2283.94 1530.57 L2283.94 1526.73 L2288.15 1526.73 Q2291.6 1526.73 2293.43 1525.36 Q2295.26 1523.97 2295.26 1521.38 Q2295.26 1518.72 2293.36 1517.31 Q2291.48 1515.87 2287.97 1515.87 Q2286.04 1515.87 2283.85 1516.29 Q2281.65 1516.7 2279.01 1517.58 L2279.01 1513.42 Q2281.67 1512.68 2283.98 1512.31 Q2286.32 1511.93 2288.38 1511.93 Q2293.71 1511.93 2296.81 1514.37 Q2299.91 1516.77 2299.91 1520.89 Q2299.91 1523.76 2298.27 1525.75 Q2296.62 1527.72 2293.59 1528.49 Z\" fill=\"#000000\" fill-rule=\"evenodd\" fill-opacity=\"1\" /><polyline clip-path=\"url(#clip112)\" style=\"stroke:#000000; stroke-width:2; stroke-opacity:0.1; fill:none\" points=\"\n",
       "  112.177,1316.48 2352.76,1316.48 \n",
       "  \"/>\n",
       "<polyline clip-path=\"url(#clip112)\" style=\"stroke:#000000; stroke-width:2; stroke-opacity:0.1; fill:none\" points=\"\n",
       "  112.177,962.721 2352.76,962.721 \n",
       "  \"/>\n",
       "<polyline clip-path=\"url(#clip112)\" style=\"stroke:#000000; stroke-width:2; stroke-opacity:0.1; fill:none\" points=\"\n",
       "  112.177,608.961 2352.76,608.961 \n",
       "  \"/>\n",
       "<polyline clip-path=\"url(#clip112)\" style=\"stroke:#000000; stroke-width:2; stroke-opacity:0.1; fill:none\" points=\"\n",
       "  112.177,255.202 2352.76,255.202 \n",
       "  \"/>\n",
       "<polyline clip-path=\"url(#clip110)\" style=\"stroke:#000000; stroke-width:4; stroke-opacity:1; fill:none\" points=\"\n",
       "  112.177,1486.45 112.177,47.2441 \n",
       "  \"/>\n",
       "<polyline clip-path=\"url(#clip110)\" style=\"stroke:#000000; stroke-width:4; stroke-opacity:1; fill:none\" points=\"\n",
       "  112.177,1316.48 139.064,1316.48 \n",
       "  \"/>\n",
       "<polyline clip-path=\"url(#clip110)\" style=\"stroke:#000000; stroke-width:4; stroke-opacity:1; fill:none\" points=\"\n",
       "  112.177,962.721 139.064,962.721 \n",
       "  \"/>\n",
       "<polyline clip-path=\"url(#clip110)\" style=\"stroke:#000000; stroke-width:4; stroke-opacity:1; fill:none\" points=\"\n",
       "  112.177,608.961 139.064,608.961 \n",
       "  \"/>\n",
       "<polyline clip-path=\"url(#clip110)\" style=\"stroke:#000000; stroke-width:4; stroke-opacity:1; fill:none\" points=\"\n",
       "  112.177,255.202 139.064,255.202 \n",
       "  \"/>\n",
       "<path clip-path=\"url(#clip110)\" d=\"M 0 0 M66.5939 1303.27 L54.7884 1321.72 L66.5939 1321.72 L66.5939 1303.27 M65.367 1299.2 L71.2466 1299.2 L71.2466 1321.72 L76.1772 1321.72 L76.1772 1325.61 L71.2466 1325.61 L71.2466 1333.76 L66.5939 1333.76 L66.5939 1325.61 L50.9921 1325.61 L50.9921 1321.1 L65.367 1299.2 Z\" fill=\"#000000\" fill-rule=\"evenodd\" fill-opacity=\"1\" /><path clip-path=\"url(#clip110)\" d=\"M 0 0 M55.2745 945.441 L73.6309 945.441 L73.6309 949.376 L59.5569 949.376 L59.5569 957.848 Q60.5754 957.501 61.5939 957.339 Q62.6124 957.153 63.6309 957.153 Q69.418 957.153 72.7976 960.325 Q76.1772 963.496 76.1772 968.913 Q76.1772 974.491 72.705 977.593 Q69.2328 980.672 62.9134 980.672 Q60.7374 980.672 58.4689 980.301 Q56.2236 979.931 53.8162 979.19 L53.8162 974.491 Q55.8995 975.626 58.1217 976.181 Q60.3439 976.737 62.8208 976.737 Q66.8254 976.737 69.1633 974.63 Q71.5013 972.524 71.5013 968.913 Q71.5013 965.302 69.1633 963.195 Q66.8254 961.089 62.8208 961.089 Q60.9458 961.089 59.0708 961.505 Q57.2189 961.922 55.2745 962.802 L55.2745 945.441 Z\" fill=\"#000000\" fill-rule=\"evenodd\" fill-opacity=\"1\" /><path clip-path=\"url(#clip110)\" d=\"M 0 0 M64.6495 607.098 Q61.5013 607.098 59.6495 609.251 Q57.8208 611.403 57.8208 615.153 Q57.8208 618.88 59.6495 621.056 Q61.5013 623.209 64.6495 623.209 Q67.7976 623.209 69.6263 621.056 Q71.4781 618.88 71.4781 615.153 Q71.4781 611.403 69.6263 609.251 Q67.7976 607.098 64.6495 607.098 M73.9318 592.445 L73.9318 596.704 Q72.1726 595.871 70.367 595.431 Q68.5846 594.992 66.8254 594.992 Q62.1958 594.992 59.7421 598.116 Q57.3115 601.241 56.9643 607.561 Q58.33 605.547 60.3902 604.482 Q62.4504 603.394 64.9272 603.394 Q70.1355 603.394 73.1448 606.566 Q76.1772 609.714 76.1772 615.153 Q76.1772 620.477 73.029 623.695 Q69.8809 626.913 64.6495 626.913 Q58.6541 626.913 55.4828 622.329 Q52.3116 617.723 52.3116 608.996 Q52.3116 600.802 56.2004 595.941 Q60.0893 591.056 66.6402 591.056 Q68.3994 591.056 70.1818 591.404 Q71.9874 591.751 73.9318 592.445 Z\" fill=\"#000000\" fill-rule=\"evenodd\" fill-opacity=\"1\" /><path clip-path=\"url(#clip110)\" d=\"M 0 0 M53.9551 237.922 L76.1772 237.922 L76.1772 239.913 L63.6309 272.482 L58.7467 272.482 L70.5522 241.857 L53.9551 241.857 L53.9551 237.922 Z\" fill=\"#000000\" fill-rule=\"evenodd\" fill-opacity=\"1\" /><polyline clip-path=\"url(#clip112)\" style=\"stroke:#e26f46; stroke-width:4; stroke-opacity:1; fill:none\" points=\"\n",
       "  175.59,87.9763 246.048,1349 316.507,1445.72 386.965,1201.67 457.424,1008.96 527.882,935.79 598.34,932.684 668.799,948.578 739.257,960.341 809.716,964.562 \n",
       "  880.174,964.581 950.633,963.554 1021.09,962.838 1091.55,962.597 1162.01,962.606 1232.47,962.672 1302.92,962.715 1373.38,962.729 1443.84,962.728 1514.3,962.723 \n",
       "  1584.76,962.721 1655.22,962.72 1725.68,962.72 1796.13,962.72 1866.59,962.721 1937.05,962.721 2007.51,962.721 2077.97,962.721 2148.43,962.721 2218.88,962.721 \n",
       "  2289.34,962.721 \n",
       "  \"/>\n",
       "<path clip-path=\"url(#clip110)\" d=\"\n",
       "M1978.1 276.658 L2278.07 276.658 L2278.07 95.2176 L1978.1 95.2176  Z\n",
       "  \" fill=\"#ffffff\" fill-rule=\"evenodd\" fill-opacity=\"1\"/>\n",
       "<polyline clip-path=\"url(#clip110)\" style=\"stroke:#000000; stroke-width:4; stroke-opacity:1; fill:none\" points=\"\n",
       "  1978.1,276.658 2278.07,276.658 2278.07,95.2176 1978.1,95.2176 1978.1,276.658 \n",
       "  \"/>\n",
       "<polyline clip-path=\"url(#clip110)\" style=\"stroke:#009af9; stroke-width:4; stroke-opacity:1; fill:none\" points=\"\n",
       "  2002.99,155.698 2152.37,155.698 \n",
       "  \"/>\n",
       "<path clip-path=\"url(#clip110)\" d=\"M 0 0 M2191.1 175.385 Q2189.3 180.015 2187.59 181.427 Q2185.87 182.839 2183 182.839 L2179.6 182.839 L2179.6 179.274 L2182.1 179.274 Q2183.86 179.274 2184.83 178.44 Q2185.8 177.607 2186.98 174.505 L2187.75 172.561 L2177.26 147.052 L2181.77 147.052 L2189.88 167.329 L2197.98 147.052 L2202.49 147.052 L2191.1 175.385 Z\" fill=\"#000000\" fill-rule=\"evenodd\" fill-opacity=\"1\" /><path clip-path=\"url(#clip110)\" d=\"M 0 0 M2208.37 169.042 L2216.01 169.042 L2216.01 142.677 L2207.7 144.343 L2207.7 140.084 L2215.96 138.418 L2220.64 138.418 L2220.64 169.042 L2228.28 169.042 L2228.28 172.978 L2208.37 172.978 L2208.37 169.042 Z\" fill=\"#000000\" fill-rule=\"evenodd\" fill-opacity=\"1\" /><polyline clip-path=\"url(#clip110)\" style=\"stroke:#e26f46; stroke-width:4; stroke-opacity:1; fill:none\" points=\"\n",
       "  2002.99,216.178 2152.37,216.178 \n",
       "  \"/>\n",
       "<path clip-path=\"url(#clip110)\" d=\"M 0 0 M2191.1 235.865 Q2189.3 240.495 2187.59 241.907 Q2185.87 243.319 2183 243.319 L2179.6 243.319 L2179.6 239.754 L2182.1 239.754 Q2183.86 239.754 2184.83 238.92 Q2185.8 238.087 2186.98 234.985 L2187.75 233.041 L2177.26 207.532 L2181.77 207.532 L2189.88 227.809 L2197.98 207.532 L2202.49 207.532 L2191.1 235.865 Z\" fill=\"#000000\" fill-rule=\"evenodd\" fill-opacity=\"1\" /><path clip-path=\"url(#clip110)\" d=\"M 0 0 M2211.59 229.522 L2227.91 229.522 L2227.91 233.458 L2205.96 233.458 L2205.96 229.522 Q2208.63 226.768 2213.21 222.138 Q2217.82 217.485 2219 216.143 Q2221.24 213.62 2222.12 211.884 Q2223.02 210.124 2223.02 208.435 Q2223.02 205.68 2221.08 203.944 Q2219.16 202.208 2216.06 202.208 Q2213.86 202.208 2211.4 202.972 Q2208.97 203.735 2206.2 205.286 L2206.2 200.564 Q2209.02 199.43 2211.47 198.851 Q2213.93 198.273 2215.96 198.273 Q2221.33 198.273 2224.53 200.958 Q2227.72 203.643 2227.72 208.134 Q2227.72 210.263 2226.91 212.185 Q2226.13 214.083 2224.02 216.675 Q2223.44 217.347 2220.34 220.564 Q2217.24 223.759 2211.59 229.522 Z\" fill=\"#000000\" fill-rule=\"evenodd\" fill-opacity=\"1\" /></svg>\n"
      ]
     },
     "execution_count": 241,
     "metadata": {},
     "output_type": "execute_result"
    }
   ],
   "source": [
    "newparameters = gradientdescent(f, collect(x), y, p, α)\n",
    "ŷ = f(x, newparameters...)\n",
    "plot([x, x], [ŷ, y])"
   ]
  },
  {
   "cell_type": "code",
   "execution_count": 230,
   "id": "prime-validation",
   "metadata": {},
   "outputs": [
    {
     "data": {
      "text/plain": [
       "31.39721932215896"
      ]
     },
     "execution_count": 230,
     "metadata": {},
     "output_type": "execute_result"
    }
   ],
   "source": [
    "chisquare(y, ŷ)"
   ]
  },
  {
   "cell_type": "code",
   "execution_count": 182,
   "id": "hollywood-recommendation",
   "metadata": {},
   "outputs": [
    {
     "name": "stdout",
     "output_type": "stream",
     "text": [
      "[4.951927363403979, NaN]"
     ]
    }
   ],
   "source": [
    "print(newparameters)"
   ]
  },
  {
   "cell_type": "code",
   "execution_count": null,
   "id": "terminal-horse",
   "metadata": {},
   "outputs": [],
   "source": []
  }
 ],
 "metadata": {
  "kernelspec": {
   "display_name": "Julia 1.4.1",
   "language": "julia",
   "name": "julia-1.4"
  },
  "language_info": {
   "file_extension": ".jl",
   "mimetype": "application/julia",
   "name": "julia",
   "version": "1.4.1"
  }
 },
 "nbformat": 4,
 "nbformat_minor": 5
}
