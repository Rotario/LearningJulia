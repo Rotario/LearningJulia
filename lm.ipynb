{
 "cells": [
  {
   "cell_type": "markdown",
   "id": "ahead-grove",
   "metadata": {},
   "source": [
    "# Nonlinear Least Squares curve fitting\n",
    "Trying to put together a minimal implementation of the Levenberg-Marquardt algorithm for nonlinear least squares curve fitting.\n",
    "This is mostly for my own learning, but it was also requested on [my blog](https://workyourtech.com/2020/04/05/fitting-curves-to-data-with-an-arduino/#comment-28)\n",
    "\n",
    "## Following these papers: [this](http://people.duke.edu/~hpgavin/ce281/lm.pdf) and [this](https://www.eecs189.org/static/notes/n12.pdf)"
   ]
  },
  {
   "cell_type": "code",
   "execution_count": 1,
   "id": "continent-dance",
   "metadata": {},
   "outputs": [],
   "source": [
    "using Plots\n",
    "using LinearAlgebra # For I"
   ]
  },
  {
   "cell_type": "markdown",
   "id": "matched-truck",
   "metadata": {},
   "source": [
    "## Chi square measure of goodness of fit (used for λ measure in LM algo)"
   ]
  },
  {
   "cell_type": "code",
   "execution_count": 2,
   "id": "correct-sweet",
   "metadata": {},
   "outputs": [
    {
     "data": {
      "text/plain": [
       "chisquare (generic function with 1 method)"
      ]
     },
     "execution_count": 2,
     "metadata": {},
     "output_type": "execute_result"
    }
   ],
   "source": [
    "function chisquare(O, E)\n",
    "    return sum(((O .- E).^2) ./ E)\n",
    "end"
   ]
  },
  {
   "cell_type": "markdown",
   "id": "driven-skating",
   "metadata": {},
   "source": [
    "## The nicest(?) way I've found to calculate the jacobian matrix is by generating a square matrix with each parameter perturbation in a row like this, then map each row of the perturbation matrix to get mxn matrix"
   ]
  },
  {
   "cell_type": "code",
   "execution_count": 13,
   "id": "established-jones",
   "metadata": {},
   "outputs": [
    {
     "data": {
      "text/plain": [
       "3×3 Array{Float64,2}:\n",
       " 1.001  1.0    1.0\n",
       " 2.0    2.002  2.0\n",
       " 3.0    3.0    3.003"
      ]
     },
     "execution_count": 13,
     "metadata": {},
     "output_type": "execute_result"
    }
   ],
   "source": [
    "function perturbparameters(parameters, perturbation)\n",
    "    return parameters .* (ones(length(parameters), length(parameters)) + perturbation * I)\n",
    "end\n",
    "perturbparameters([1, 2, 3], 0.001)"
   ]
  },
  {
   "cell_type": "markdown",
   "id": "basic-builder",
   "metadata": {},
   "source": [
    "## Jacobian function\n",
    "The functions we're working with here take a vector of datapoints of **m** length and return a vector of the function applied to each of those datapoints.\n",
    "\n",
    "The function takes **n** parameters.\n",
    "\n",
    "The jacobian is an **m**x**n** matrix that gives the gradient of each parameter if all the others are fixed, for all **n** datapoints."
   ]
  },
  {
   "cell_type": "code",
   "execution_count": null,
   "id": "generous-wheat",
   "metadata": {},
   "outputs": [],
   "source": [
    "function jacobian(f, x::Vector{Float64}, parameters, perturbation=0.0001)::Array{Float64, 2}\n",
    "    return cat(\n",
    "        map(row -> (f(x, row...) - f(x, parameters...)) / perturbation,\n",
    "            eachrow(perturbparameters(parameters, perturbation)))...,\n",
    "        dims=2)\n",
    "end"
   ]
  },
  {
   "cell_type": "markdown",
   "id": "magnetic-harassment",
   "metadata": {},
   "source": [
    "## Meat of the algo, two different update functions, gradient descent and gauss-newton"
   ]
  },
  {
   "cell_type": "code",
   "execution_count": 3,
   "id": "corporate-electric",
   "metadata": {},
   "outputs": [
    {
     "data": {
      "text/plain": [
       "step (generic function with 2 methods)"
      ]
     },
     "execution_count": 3,
     "metadata": {},
     "output_type": "execute_result"
    }
   ],
   "source": [
    "function gradient(f, x, y, ŷ, parameters, J)\n",
    "    return transpose(J)*(y-ŷ)\n",
    "end\n",
    "\n",
    "function gaussnewton(f, x, y, ŷ, parameters, J)\n",
    "    return inv(transpose(J)*J)*transpose(J)*(y-ŷ)\n",
    "end\n",
    "\n",
    "# Todo: Use Broyden rank-1 update for updating jacobian in certain conditions\n",
    "# http://people.duke.edu/~hpgavin/ce281/lm.pdf\n",
    "# https://www.eecs189.org/static/notes/n12.pdf\n",
    "\n",
    "function step(f, x::Vector{Float64}, y::Vector{Float64}, parameters, α=0.0001)\n",
    "    W = I\n",
    "    p = copy(parameters)\n",
    "    iterations = 1\n",
    "    while true\n",
    "        ŷ = f(x, p...)\n",
    "        J = jacobian(f, x, parameters)\n",
    "        grad = gaussnewton(f, x, y, ŷ, p, J)\n",
    "        p = p + grad\n",
    "        sumsquares = sum((y-ŷ).^2)\n",
    "        println(\"Experiment new parameters $(p) loss: $(sumsquares)\")\n",
    "        iterations = iterations + 1\n",
    "        iterations > 50 && break\n",
    "        sumsquares > 1 || break\n",
    "    end\n",
    "    return p\n",
    "end"
   ]
  },
  {
   "cell_type": "code",
   "execution_count": 4,
   "id": "pending-brighton",
   "metadata": {},
   "outputs": [
    {
     "data": {
      "text/plain": [
       "5-element Array{Int64,1}:\n",
       " 1\n",
       " 1\n",
       " 1\n",
       " 1\n",
       " 1"
      ]
     },
     "execution_count": 4,
     "metadata": {},
     "output_type": "execute_result"
    }
   ],
   "source": [
    "α = 0.01\n",
    "f(x, a, b, c, d, e) = a.+b.*exp.(-c.*x) .* sin.(d.*x.+e)\n",
    "x = collect(0:0.1:3)\n",
    "y = f(x, 5, 6, 7, 8, 9)\n",
    "p = [1, 1, 1, 1, 1]"
   ]
  },
  {
   "cell_type": "code",
   "execution_count": 5,
   "id": "portable-climb",
   "metadata": {},
   "outputs": [
    {
     "ename": "UndefVarError",
     "evalue": "\u001b[91mUndefVarError: gradientdescent not defined\u001b[39m",
     "output_type": "error",
     "traceback": [
      "\u001b[91mUndefVarError: gradientdescent not defined\u001b[39m",
      "",
      "Stacktrace:",
      " [1] top-level scope at In[5]:1"
     ]
    }
   ],
   "source": [
    "newparameters = gradientdescent(f, collect(x), y, p, α)\n",
    "ŷ = f(x, newparameters...)\n",
    "plot([x, x], [ŷ, y])"
   ]
  },
  {
   "cell_type": "code",
   "execution_count": 6,
   "id": "searching-burton",
   "metadata": {},
   "outputs": [
    {
     "ename": "UndefVarError",
     "evalue": "\u001b[91mUndefVarError: ŷ not defined\u001b[39m",
     "output_type": "error",
     "traceback": [
      "\u001b[91mUndefVarError: ŷ not defined\u001b[39m",
      "",
      "Stacktrace:",
      " [1] top-level scope at In[6]:1"
     ]
    }
   ],
   "source": [
    "chisquare(y, ŷ)"
   ]
  },
  {
   "cell_type": "code",
   "execution_count": 7,
   "id": "varying-magazine",
   "metadata": {},
   "outputs": [
    {
     "ename": "UndefVarError",
     "evalue": "\u001b[91mUndefVarError: newparameters not defined\u001b[39m",
     "output_type": "error",
     "traceback": [
      "\u001b[91mUndefVarError: newparameters not defined\u001b[39m",
      "",
      "Stacktrace:",
      " [1] top-level scope at In[7]:1"
     ]
    }
   ],
   "source": [
    "print(newparameters)"
   ]
  },
  {
   "cell_type": "code",
   "execution_count": null,
   "id": "incomplete-night",
   "metadata": {},
   "outputs": [],
   "source": []
  }
 ],
 "metadata": {
  "kernelspec": {
   "display_name": "Julia 1.4.1",
   "language": "julia",
   "name": "julia-1.4"
  },
  "language_info": {
   "file_extension": ".jl",
   "mimetype": "application/julia",
   "name": "julia",
   "version": "1.4.1"
  }
 },
 "nbformat": 4,
 "nbformat_minor": 5
}
