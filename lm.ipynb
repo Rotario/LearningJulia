{
 "cells": [
  {
   "cell_type": "markdown",
   "id": "adaptive-dallas",
   "metadata": {},
   "source": [
    "# Nonlinear Least Squares curve fitting\n",
    "Trying to put together a minimal implementation of the Levenberg-Marquardt algorithm for nonlinear least squares curve fitting.\n",
    "This is mostly for my own learning, but it was also requested on [my blog](https://workyourtech.com/2020/04/05/fitting-curves-to-data-with-an-arduino/#comment-28)\n",
    "\n",
    "## Following these papers: [this](http://people.duke.edu/~hpgavin/ce281/lm.pdf) and [this](https://www.eecs189.org/static/notes/n12.pdf)\n",
    "\n",
    "# Nomenclature\n",
    " - x - x-values (probably time)\n",
    " - f(x) - function we're modelling the data as, this takes parameters p\n",
    " - y - f(x) data we're fitting the function to\n",
    " - p - parameters\n",
    " \n",
    "- λ - LM factor that weights for either Gauss-Newton at high values, or Grad descent for low values"
   ]
  },
  {
   "cell_type": "code",
   "execution_count": 1,
   "id": "continent-dance",
   "metadata": {},
   "outputs": [
    {
     "name": "stderr",
     "output_type": "stream",
     "text": [
      "\u001b[32m\u001b[1m   Updating\u001b[22m\u001b[39m registry at `~/.julia/registries/General`\n"
     ]
    },
    {
     "name": "stdout",
     "output_type": "stream",
     "text": [
      "\u001b[?25l    "
     ]
    },
    {
     "name": "stderr",
     "output_type": "stream",
     "text": [
      "\u001b[32m\u001b[1m   Updating\u001b[22m\u001b[39m git-repo `https://github.com/JuliaRegistries/General.git`\n"
     ]
    },
    {
     "name": "stdout",
     "output_type": "stream",
     "text": [
      "\u001b[36m\u001b[1mFetching:\u001b[22m\u001b[39m [>                                        ]  0.0 %\r",
      "    \u001b[36m\u001b[1mFetching:\u001b[22m\u001b[39m [===>                                     ]  7.1 %\r",
      "    \u001b[36m\u001b[1mFetching:\u001b[22m\u001b[39m [======>                                  ]  14.3 %\r",
      "    \u001b[36m\u001b[1mFetching:\u001b[22m\u001b[39m [=========>                               ]  21.4 %\r",
      "    \u001b[36m\u001b[1mFetching:\u001b[22m\u001b[39m [============>                            ]  28.6 %\r",
      "    \u001b[36m\u001b[1mFetching:\u001b[22m\u001b[39m [===============>                         ]  35.7 %\r",
      "    \u001b[36m\u001b[1mFetching:\u001b[22m\u001b[39m [==================>                      ]  42.9 %\r",
      "    \u001b[36m\u001b[1mFetching:\u001b[22m\u001b[39m [====================>                    ]  50.0 %\r",
      "    \u001b[36m\u001b[1mFetching:\u001b[22m\u001b[39m [=======================>                 ]  57.1 %\r",
      "    \u001b[36m\u001b[1mFetching:\u001b[22m\u001b[39m [==========================>              ]  64.3 %\r",
      "    \u001b[36m\u001b[1mFetching:\u001b[22m\u001b[39m [=============================>           ]  71.4 %\r",
      "    \u001b[36m\u001b[1mFetching:\u001b[22m\u001b[39m [================================>        ]  78.6 %\r",
      "    \u001b[36m\u001b[1mFetching:\u001b[22m\u001b[39m [===================================>     ]  85.7 %\r",
      "    \u001b[36m\u001b[1mFetching:\u001b[22m\u001b[39m [======================================>  ]  92.9 %\r",
      "    \u001b[36m\u001b[1mFetching:\u001b[22m\u001b[39m [========================================>]  100.0 %\r",
      "\u001b[2K\u001b[?25h"
     ]
    },
    {
     "name": "stderr",
     "output_type": "stream",
     "text": [
      "\u001b[32m\u001b[1m  Resolving\u001b[22m\u001b[39m package versions...\n",
      "\u001b[32m\u001b[1m   Updating\u001b[22m\u001b[39m `/mnt/hdd/docs/MATLAB/MatlabFiles/SolarArray/data/nonlinearcurvefitting/Project.toml`\n",
      " \u001b[90m [91a5bcdd]\u001b[39m\u001b[92m + Plots v1.6.12\u001b[39m\n",
      "\u001b[32m\u001b[1m   Updating\u001b[22m\u001b[39m `/mnt/hdd/docs/MATLAB/MatlabFiles/SolarArray/data/nonlinearcurvefitting/Manifest.toml`\n",
      " \u001b[90m [79e6a3ab]\u001b[39m\u001b[92m + Adapt v3.3.0\u001b[39m\n",
      " \u001b[90m [56f22d72]\u001b[39m\u001b[92m + Artifacts v1.3.0\u001b[39m\n",
      " \u001b[90m [6e34b625]\u001b[39m\u001b[92m + Bzip2_jll v1.0.6+5\u001b[39m\n",
      " \u001b[90m [35d6a980]\u001b[39m\u001b[92m + ColorSchemes v3.11.0\u001b[39m\n",
      " \u001b[90m [3da002f7]\u001b[39m\u001b[92m + ColorTypes v0.10.12\u001b[39m\n",
      " \u001b[90m [5ae59095]\u001b[39m\u001b[92m + Colors v0.12.7\u001b[39m\n",
      " \u001b[90m [34da2185]\u001b[39m\u001b[92m + Compat v3.27.0\u001b[39m\n",
      " \u001b[90m [d38c429a]\u001b[39m\u001b[92m + Contour v0.5.7\u001b[39m\n",
      " \u001b[90m [9a962f9c]\u001b[39m\u001b[92m + DataAPI v1.6.0\u001b[39m\n",
      " \u001b[90m [864edb3b]\u001b[39m\u001b[92m + DataStructures v0.18.9\u001b[39m\n",
      " \u001b[90m [e2d170a0]\u001b[39m\u001b[92m + DataValueInterfaces v1.0.0\u001b[39m\n",
      " \u001b[90m [5ae413db]\u001b[39m\u001b[92m + EarCut_jll v2.1.5+1\u001b[39m\n",
      " \u001b[90m [c87230d0]\u001b[39m\u001b[92m + FFMPEG v0.4.0\u001b[39m\n",
      " \u001b[90m [b22a6f82]\u001b[39m\u001b[92m + FFMPEG_jll v4.3.1+4\u001b[39m\n",
      " \u001b[90m [53c48c17]\u001b[39m\u001b[92m + FixedPointNumbers v0.8.4\u001b[39m\n",
      " \u001b[90m [59287772]\u001b[39m\u001b[92m + Formatting v0.4.2\u001b[39m\n",
      " \u001b[90m [d7e528f0]\u001b[39m\u001b[92m + FreeType2_jll v2.10.1+5\u001b[39m\n",
      " \u001b[90m [559328eb]\u001b[39m\u001b[92m + FriBidi_jll v1.0.5+6\u001b[39m\n",
      " \u001b[90m [28b8d3ca]\u001b[39m\u001b[92m + GR v0.52.0\u001b[39m\n",
      " \u001b[90m [5c1252a2]\u001b[39m\u001b[92m + GeometryBasics v0.3.12\u001b[39m\n",
      " \u001b[90m [4d00f742]\u001b[39m\u001b[92m + GeometryTypes v0.8.4\u001b[39m\n",
      " \u001b[90m [42e2da0e]\u001b[39m\u001b[92m + Grisu v1.0.0\u001b[39m\n",
      " \u001b[90m [cd3eb016]\u001b[39m\u001b[92m + HTTP v0.8.19\u001b[39m\n",
      " \u001b[90m [83e8ac13]\u001b[39m\u001b[92m + IniFile v0.5.0\u001b[39m\n",
      " \u001b[90m [c8e1da08]\u001b[39m\u001b[92m + IterTools v1.3.0\u001b[39m\n",
      " \u001b[90m [82899510]\u001b[39m\u001b[92m + IteratorInterfaceExtensions v1.0.0\u001b[39m\n",
      " \u001b[90m [692b3bcd]\u001b[39m\u001b[92m + JLLWrappers v1.2.0\u001b[39m\n",
      " \u001b[90m [682c06a0]\u001b[39m\u001b[92m + JSON v0.21.1\u001b[39m\n",
      " \u001b[90m [c1c5ebd0]\u001b[39m\u001b[92m + LAME_jll v3.100.0+3\u001b[39m\n",
      " \u001b[90m [b964fa9f]\u001b[39m\u001b[92m + LaTeXStrings v1.2.1\u001b[39m\n",
      " \u001b[90m [23fbe1c1]\u001b[39m\u001b[92m + Latexify v0.14.12\u001b[39m\n",
      " \u001b[90m [dd192d2f]\u001b[39m\u001b[92m + LibVPX_jll v1.9.0+1\u001b[39m\n",
      " \u001b[90m [1914dd2f]\u001b[39m\u001b[92m + MacroTools v0.5.6\u001b[39m\n",
      " \u001b[90m [739be429]\u001b[39m\u001b[92m + MbedTLS v1.0.3\u001b[39m\n",
      " \u001b[90m [c8ffd9c3]\u001b[39m\u001b[92m + MbedTLS_jll v2.16.8+1\u001b[39m\n",
      " \u001b[90m [442fdcdd]\u001b[39m\u001b[92m + Measures v0.3.1\u001b[39m\n",
      " \u001b[90m [e1d29d7a]\u001b[39m\u001b[92m + Missings v0.4.5\u001b[39m\n",
      " \u001b[90m [77ba4419]\u001b[39m\u001b[92m + NaNMath v0.3.5\u001b[39m\n",
      " \u001b[90m [e7412a2a]\u001b[39m\u001b[92m + Ogg_jll v1.3.4+2\u001b[39m\n",
      " \u001b[90m [458c3c95]\u001b[39m\u001b[92m + OpenSSL_jll v1.1.1+6\u001b[39m\n",
      " \u001b[90m [91d4177d]\u001b[39m\u001b[92m + Opus_jll v1.3.1+3\u001b[39m\n",
      " \u001b[90m [bac558e1]\u001b[39m\u001b[92m + OrderedCollections v1.4.0\u001b[39m\n",
      " \u001b[90m [69de0a69]\u001b[39m\u001b[92m + Parsers v1.1.0\u001b[39m\n",
      " \u001b[90m [ccf2f8ad]\u001b[39m\u001b[92m + PlotThemes v2.0.1\u001b[39m\n",
      " \u001b[90m [995b91a9]\u001b[39m\u001b[92m + PlotUtils v1.0.10\u001b[39m\n",
      " \u001b[90m [91a5bcdd]\u001b[39m\u001b[92m + Plots v1.6.12\u001b[39m\n",
      " \u001b[90m [3cdcf5f2]\u001b[39m\u001b[92m + RecipesBase v1.1.1\u001b[39m\n",
      " \u001b[90m [01d81517]\u001b[39m\u001b[92m + RecipesPipeline v0.1.13\u001b[39m\n",
      " \u001b[90m [189a3867]\u001b[39m\u001b[92m + Reexport v0.2.0\u001b[39m\n",
      " \u001b[90m [ae029012]\u001b[39m\u001b[92m + Requires v1.1.3\u001b[39m\n",
      " \u001b[90m [992d4aef]\u001b[39m\u001b[92m + Showoff v0.3.2\u001b[39m\n",
      " \u001b[90m [a2af1166]\u001b[39m\u001b[92m + SortingAlgorithms v0.3.1\u001b[39m\n",
      " \u001b[90m [90137ffa]\u001b[39m\u001b[92m + StaticArrays v1.1.0\u001b[39m\n",
      " \u001b[90m [2913bbd2]\u001b[39m\u001b[92m + StatsBase v0.33.5\u001b[39m\n",
      " \u001b[90m [09ab397b]\u001b[39m\u001b[92m + StructArrays v0.5.1\u001b[39m\n",
      " \u001b[90m [3783bdb8]\u001b[39m\u001b[92m + TableTraits v1.0.1\u001b[39m\n",
      " \u001b[90m [bd369af6]\u001b[39m\u001b[92m + Tables v1.4.2\u001b[39m\n",
      " \u001b[90m [83775a58]\u001b[39m\u001b[92m + Zlib_jll v1.2.11+18\u001b[39m\n",
      " \u001b[90m [0ac62f75]\u001b[39m\u001b[92m + libass_jll v0.14.0+4\u001b[39m\n",
      " \u001b[90m [f638f0a6]\u001b[39m\u001b[92m + libfdk_aac_jll v0.1.6+4\u001b[39m\n",
      " \u001b[90m [f27f6e37]\u001b[39m\u001b[92m + libvorbis_jll v1.3.6+6\u001b[39m\n",
      " \u001b[90m [1270edf5]\u001b[39m\u001b[92m + x264_jll v2020.7.14+2\u001b[39m\n",
      " \u001b[90m [dfaa095f]\u001b[39m\u001b[92m + x265_jll v3.0.0+3\u001b[39m\n",
      " \u001b[90m [2a0f44e3]\u001b[39m\u001b[92m + Base64 \u001b[39m\n",
      " \u001b[90m [ade2ca70]\u001b[39m\u001b[92m + Dates \u001b[39m\n",
      " \u001b[90m [8bb1440f]\u001b[39m\u001b[92m + DelimitedFiles \u001b[39m\n",
      " \u001b[90m [8ba89e20]\u001b[39m\u001b[92m + Distributed \u001b[39m\n",
      " \u001b[90m [b77e0a4c]\u001b[39m\u001b[92m + InteractiveUtils \u001b[39m\n",
      " \u001b[90m [76f85450]\u001b[39m\u001b[92m + LibGit2 \u001b[39m\n",
      " \u001b[90m [8f399da3]\u001b[39m\u001b[92m + Libdl \u001b[39m\n",
      " \u001b[90m [37e2e46d]\u001b[39m\u001b[92m + LinearAlgebra \u001b[39m\n",
      " \u001b[90m [56ddb016]\u001b[39m\u001b[92m + Logging \u001b[39m\n",
      " \u001b[90m [d6f4376e]\u001b[39m\u001b[92m + Markdown \u001b[39m\n",
      " \u001b[90m [a63ad114]\u001b[39m\u001b[92m + Mmap \u001b[39m\n",
      " \u001b[90m [44cfe95a]\u001b[39m\u001b[92m + Pkg \u001b[39m\n",
      " \u001b[90m [de0858da]\u001b[39m\u001b[92m + Printf \u001b[39m\n",
      " \u001b[90m [3fa0cd96]\u001b[39m\u001b[92m + REPL \u001b[39m\n",
      " \u001b[90m [9a3f8284]\u001b[39m\u001b[92m + Random \u001b[39m\n",
      " \u001b[90m [ea8e919c]\u001b[39m\u001b[92m + SHA \u001b[39m\n",
      " \u001b[90m [9e88b42a]\u001b[39m\u001b[92m + Serialization \u001b[39m\n",
      " \u001b[90m [1a1011a3]\u001b[39m\u001b[92m + SharedArrays \u001b[39m\n",
      " \u001b[90m [6462fe0b]\u001b[39m\u001b[92m + Sockets \u001b[39m\n",
      " \u001b[90m [2f01184e]\u001b[39m\u001b[92m + SparseArrays \u001b[39m\n",
      " \u001b[90m [10745b16]\u001b[39m\u001b[92m + Statistics \u001b[39m\n",
      " \u001b[90m [8dfed614]\u001b[39m\u001b[92m + Test \u001b[39m\n",
      " \u001b[90m [cf7118a7]\u001b[39m\u001b[92m + UUIDs \u001b[39m\n",
      " \u001b[90m [4ec0a83e]\u001b[39m\u001b[92m + Unicode \u001b[39m\n",
      "┌ Info: Precompiling Plots [91a5bcdd-55d7-5caf-9e0b-520d859cae80]\n",
      "└ @ Base loading.jl:1260\n"
     ]
    }
   ],
   "source": [
    "using Plots\n",
    "using LinearAlgebra # For I"
   ]
  },
  {
   "cell_type": "markdown",
   "id": "furnished-copper",
   "metadata": {},
   "source": [
    "## Chi square measure of goodness of fit (used for λ measure in LM algo)"
   ]
  },
  {
   "cell_type": "code",
   "execution_count": 2,
   "id": "useful-yield",
   "metadata": {},
   "outputs": [
    {
     "data": {
      "text/plain": [
       "chisquare (generic function with 1 method)"
      ]
     },
     "execution_count": 2,
     "metadata": {},
     "output_type": "execute_result"
    }
   ],
   "source": [
    "function chisquare(O, E)\n",
    "    return sum(((O .- E).^2) ./ E)\n",
    "end"
   ]
  },
  {
   "cell_type": "markdown",
   "id": "brilliant-header",
   "metadata": {},
   "source": [
    "## Parameter delta helper for Jacobian calculator (Forward differences)\n",
    "The nicest way I've found to calculate the jacobian matrix is by generating a square matrix with each parameter perturbation in a row like this, then map each row of the perturbation matrix to get mxn matrix"
   ]
  },
  {
   "cell_type": "code",
   "execution_count": 92,
   "id": "acoustic-responsibility",
   "metadata": {},
   "outputs": [
    {
     "data": {
      "text/plain": [
       "3×3 Array{Float64,2}:\n",
       " 1.0001  1.0     1.0\n",
       " 2.0     2.0001  2.0\n",
       " 3.0     3.0     3.0001"
      ]
     },
     "execution_count": 92,
     "metadata": {},
     "output_type": "execute_result"
    }
   ],
   "source": [
    "function perturbparameters(parameters, perturbation)\n",
    "    parametermatrix = hcat([copy(parameters) for i=1:length(parameters)]...)\n",
    "    return parametermatrix + perturbation * I\n",
    "end\n",
    "perturbparameters([1, 2, 3], 0.0001)"
   ]
  },
  {
   "cell_type": "markdown",
   "id": "valuable-receptor",
   "metadata": {},
   "source": [
    "## Jacobian function\n",
    "The functions we're working with here take a vector of datapoints of **m** length and return a vector of the function applied to each of those datapoints.\n",
    "\n",
    "The function takes **n** parameters.\n",
    "\n",
    "The jacobian is an **m**x**n** matrix that gives the gradient of each parameter if all the others are fixed, for all **n** datapoints."
   ]
  },
  {
   "cell_type": "code",
   "execution_count": 110,
   "id": "african-teacher",
   "metadata": {},
   "outputs": [
    {
     "data": {
      "text/plain": [
       "jacobian (generic function with 4 methods)"
      ]
     },
     "execution_count": 110,
     "metadata": {},
     "output_type": "execute_result"
    }
   ],
   "source": [
    "function jacobian(f, x::Vector{Float64}, parameters, perturbation=1)::Array{Float64, 2}\n",
    "    return cat(\n",
    "        map(row -> (f(x, row...) - f(x, parameters...)) / perturbation,\n",
    "            eachcol(perturbparameters(parameters, perturbation)))...,\n",
    "        dims=2)\n",
    "end"
   ]
  },
  {
   "cell_type": "markdown",
   "id": "pressing-sample",
   "metadata": {},
   "source": [
    "## Meat of the algo, two different update functions, gradient descent and gauss-newton"
   ]
  },
  {
   "cell_type": "code",
   "execution_count": 112,
   "id": "corporate-electric",
   "metadata": {},
   "outputs": [
    {
     "data": {
      "text/plain": [
       "step (generic function with 1 method)"
      ]
     },
     "execution_count": 112,
     "metadata": {},
     "output_type": "execute_result"
    }
   ],
   "source": [
    "function gradient(y, ŷ, J, W=I)\n",
    "    return transpose(J)*W*(y-ŷ)\n",
    "end\n",
    "\n",
    "function gaussnewton(y, ŷ, J, W=I)\n",
    "    return inv(transpose(J)*W*J)*transpose(J)*W*(y-ŷ)\n",
    "end\n",
    "\n",
    "function lm(y, ŷ, J, λ, W=I)\n",
    "    grad = transpose(J)*W*(y-ŷ)\n",
    "    gaussnewton = transpose(J)*W*J + λ*Diagonal(transpose(J)*W*J)\n",
    "    return  inv(gaussnewton) * grad\n",
    "end\n",
    "\n",
    "# symbol ρᵢ in first paper, this is compared to a user-given measure ϵ\n",
    "function lmmetric(f, x, y, p, h, λ, J, W=I)\n",
    "    yold = f(x, p...)\n",
    "    ynew = f(x, (p .+ h)...)\n",
    "    return (chisquare(y, yold) - chisquare(y, ynew)) /\n",
    "        (transpose(h) * (λ * Diagonal(transpose(J)*W*J) * h + transpose(J)*W*(y-yold)))\n",
    "end\n",
    "\n",
    "# Todo: Use Broyden rank-1 update for updating jacobian in certain conditions\n",
    "# http://people.duke.edu/~hpgavin/ce281/lm.pdf\n",
    "# https://www.eecs189.org/static/notes/n12.pdf\n",
    "\n",
    "function step(f, x::Vector{Float64}, y::Vector{Float64}, parameters;\n",
    "        ϵ=1e-2, loss=(y, ŷ)->(sum((y-ŷ).^2)), maxiters=5000, lossvalues=[], ρvalues=[], λvalues=[])\n",
    "    p = copy(parameters)\n",
    "    \n",
    "    λfactordown = 9\n",
    "    λfactorup = 11\n",
    "    λ = 1e-2\n",
    "    \n",
    "    iterations = 1\n",
    "    # Initialise tso we can access it after while loop\n",
    "    lossvalue = 2\n",
    "    while true\n",
    "        ŷ = f(x, p...)\n",
    "        J = jacobian(f, x, parameters)\n",
    "        \n",
    "        h = lm(y, ŷ, J, λ)\n",
    "        ρ =lmmetric(f, x, y, parameters, h, λ, J)\n",
    "\n",
    "        if ρ > ϵ\n",
    "            p = p + h\n",
    "            λ = max(λ / λfactordown, 10^7)\n",
    "        else\n",
    "            λ = min(λ * λfactorup, 10^7)\n",
    "        end\n",
    "        \n",
    "        lossvalue = loss(y, ŷ)\n",
    "        push!(lossvalues, lossvalue)\n",
    "        push!(ρvalues, ρ)\n",
    "        push!(λvalues, λ)\n",
    "        #println(\"Experiment $(iterations): parameters $(p) loss $(sumsquares)\")\n",
    "        lossvalue > 0.001 || break\n",
    "        iterations = iterations + 1\n",
    "        iterations > maxiters && break\n",
    "    end\n",
    "    print(\"Iterations: $(iterations), Loss: $(lossvalue)\")\n",
    "    return p\n",
    "end"
   ]
  },
  {
   "cell_type": "markdown",
   "id": "average-binding",
   "metadata": {},
   "source": [
    "Define our function as one that takes a vector x and gives us back a vector y"
   ]
  },
  {
   "cell_type": "code",
   "execution_count": 121,
   "id": "moral-placement",
   "metadata": {},
   "outputs": [
    {
     "name": "stdout",
     "output_type": "stream",
     "text": [
      "Iterations: 2, Loss: 0.000614701888136123"
     ]
    }
   ],
   "source": [
    "f(x, a, b, c, d, e) = a.+b.*exp.(-c.*x) .* sin.(d.*x.+e)\n",
    "x = collect(0:0.1:20)\n",
    "actualparameters = [0.4, 0.6, 2, 0.75, 0.8]\n",
    "y = f(x, actualparameters...)\n",
    "p = [0.5, 1.0, 1.5, 1.0, 1.0]\n",
    "\n",
    "lossvalues = Float64[]\n",
    "ρvalues = Float64[]\n",
    "λvalues = Float64[]\n",
    "\n",
    "newparameters = step(f, collect(x), y, p, lossvalues=lossvalues, ρvalues=ρvalues, λvalues=λvalues)\n",
    "ŷ = f(x, newparameters...);"
   ]
  },
  {
   "cell_type": "markdown",
   "id": "built-template",
   "metadata": {},
   "source": [
    "As we can see, the new parameters are nothing like the ones we gave!"
   ]
  },
  {
   "cell_type": "code",
   "execution_count": 122,
   "id": "ruled-network",
   "metadata": {},
   "outputs": [
    {
     "name": "stdout",
     "output_type": "stream",
     "text": [
      "[0.40119334799818784, 0.5283075032032363, 1.83992709750054, 0.9826054601145258, 0.9193070893297652]"
     ]
    }
   ],
   "source": [
    "print(newparameters)"
   ]
  },
  {
   "cell_type": "markdown",
   "id": "small-cloud",
   "metadata": {},
   "source": [
    "vs"
   ]
  },
  {
   "cell_type": "code",
   "execution_count": 123,
   "id": "understanding-contribution",
   "metadata": {},
   "outputs": [
    {
     "name": "stdout",
     "output_type": "stream",
     "text": [
      "[0.4, 0.6, 2.0, 0.75, 0.8]"
     ]
    }
   ],
   "source": [
    "print(actualparameters)"
   ]
  },
  {
   "cell_type": "markdown",
   "id": "classified-maldives",
   "metadata": {},
   "source": [
    "Here we see the loss dropped significantly (Probably from the low lambda = gradient descent method)\n",
    "\n",
    "But it pretty much flatlined as soon as it was low enough"
   ]
  },
  {
   "cell_type": "code",
   "execution_count": 124,
   "id": "stretch-moscow",
   "metadata": {},
   "outputs": [
    {
     "data": {
      "image/svg+xml": [
       "<?xml version=\"1.0\" encoding=\"utf-8\"?>\n",
       "<svg xmlns=\"http://www.w3.org/2000/svg\" xmlns:xlink=\"http://www.w3.org/1999/xlink\" width=\"600\" height=\"400\" viewBox=\"0 0 2400 1600\">\n",
       "<defs>\n",
       "  <clipPath id=\"clip850\">\n",
       "    <rect x=\"0\" y=\"0\" width=\"2400\" height=\"1600\"/>\n",
       "  </clipPath>\n",
       "</defs>\n",
       "<path clip-path=\"url(#clip850)\" d=\"\n",
       "M0 1600 L2400 1600 L2400 0 L0 0  Z\n",
       "  \" fill=\"#ffffff\" fill-rule=\"evenodd\" fill-opacity=\"1\"/>\n",
       "<defs>\n",
       "  <clipPath id=\"clip851\">\n",
       "    <rect x=\"480\" y=\"0\" width=\"1681\" height=\"1600\"/>\n",
       "  </clipPath>\n",
       "</defs>\n",
       "<path clip-path=\"url(#clip850)\" d=\"\n",
       "M110.881 1486.45 L2352.76 1486.45 L2352.76 123.472 L110.881 123.472  Z\n",
       "  \" fill=\"#ffffff\" fill-rule=\"evenodd\" fill-opacity=\"1\"/>\n",
       "<defs>\n",
       "  <clipPath id=\"clip852\">\n",
       "    <rect x=\"110\" y=\"123\" width=\"2243\" height=\"1364\"/>\n",
       "  </clipPath>\n",
       "</defs>\n",
       "<polyline clip-path=\"url(#clip852)\" style=\"stroke:#000000; stroke-width:2; stroke-opacity:0.1; fill:none\" points=\"\n",
       "  174.33,1486.45 174.33,123.472 \n",
       "  \"/>\n",
       "<polyline clip-path=\"url(#clip852)\" style=\"stroke:#000000; stroke-width:2; stroke-opacity:0.1; fill:none\" points=\"\n",
       "  703.074,1486.45 703.074,123.472 \n",
       "  \"/>\n",
       "<polyline clip-path=\"url(#clip852)\" style=\"stroke:#000000; stroke-width:2; stroke-opacity:0.1; fill:none\" points=\"\n",
       "  1231.82,1486.45 1231.82,123.472 \n",
       "  \"/>\n",
       "<polyline clip-path=\"url(#clip852)\" style=\"stroke:#000000; stroke-width:2; stroke-opacity:0.1; fill:none\" points=\"\n",
       "  1760.56,1486.45 1760.56,123.472 \n",
       "  \"/>\n",
       "<polyline clip-path=\"url(#clip852)\" style=\"stroke:#000000; stroke-width:2; stroke-opacity:0.1; fill:none\" points=\"\n",
       "  2289.31,1486.45 2289.31,123.472 \n",
       "  \"/>\n",
       "<polyline clip-path=\"url(#clip850)\" style=\"stroke:#000000; stroke-width:4; stroke-opacity:1; fill:none\" points=\"\n",
       "  110.881,1486.45 2352.76,1486.45 \n",
       "  \"/>\n",
       "<polyline clip-path=\"url(#clip850)\" style=\"stroke:#000000; stroke-width:4; stroke-opacity:1; fill:none\" points=\"\n",
       "  174.33,1486.45 174.33,1470.09 \n",
       "  \"/>\n",
       "<polyline clip-path=\"url(#clip850)\" style=\"stroke:#000000; stroke-width:4; stroke-opacity:1; fill:none\" points=\"\n",
       "  703.074,1486.45 703.074,1470.09 \n",
       "  \"/>\n",
       "<polyline clip-path=\"url(#clip850)\" style=\"stroke:#000000; stroke-width:4; stroke-opacity:1; fill:none\" points=\"\n",
       "  1231.82,1486.45 1231.82,1470.09 \n",
       "  \"/>\n",
       "<polyline clip-path=\"url(#clip850)\" style=\"stroke:#000000; stroke-width:4; stroke-opacity:1; fill:none\" points=\"\n",
       "  1760.56,1486.45 1760.56,1470.09 \n",
       "  \"/>\n",
       "<polyline clip-path=\"url(#clip850)\" style=\"stroke:#000000; stroke-width:4; stroke-opacity:1; fill:none\" points=\"\n",
       "  2289.31,1486.45 2289.31,1470.09 \n",
       "  \"/>\n",
       "<path clip-path=\"url(#clip850)\" d=\"M 0 0 M132.722 1543.18 L140.36 1543.18 L140.36 1516.82 L132.05 1518.49 L132.05 1514.23 L140.314 1512.56 L144.99 1512.56 L144.99 1543.18 L152.629 1543.18 L152.629 1547.12 L132.722 1547.12 L132.722 1543.18 Z\" fill=\"#000000\" fill-rule=\"evenodd\" fill-opacity=\"1\" /><path clip-path=\"url(#clip850)\" d=\"M 0 0 M157.698 1541.24 L162.583 1541.24 L162.583 1547.12 L157.698 1547.12 L157.698 1541.24 Z\" fill=\"#000000\" fill-rule=\"evenodd\" fill-opacity=\"1\" /><path clip-path=\"url(#clip850)\" d=\"M 0 0 M177.652 1515.64 Q174.041 1515.64 172.212 1519.2 Q170.407 1522.75 170.407 1529.87 Q170.407 1536.98 172.212 1540.55 Q174.041 1544.09 177.652 1544.09 Q181.286 1544.09 183.092 1540.55 Q184.92 1536.98 184.92 1529.87 Q184.92 1522.75 183.092 1519.2 Q181.286 1515.64 177.652 1515.64 M177.652 1511.93 Q183.462 1511.93 186.518 1516.54 Q189.596 1521.12 189.596 1529.87 Q189.596 1538.6 186.518 1543.21 Q183.462 1547.79 177.652 1547.79 Q171.842 1547.79 168.763 1543.21 Q165.708 1538.6 165.708 1529.87 Q165.708 1521.12 168.763 1516.54 Q171.842 1511.93 177.652 1511.93 Z\" fill=\"#000000\" fill-rule=\"evenodd\" fill-opacity=\"1\" /><path clip-path=\"url(#clip850)\" d=\"M 0 0 M204.666 1515.64 Q201.055 1515.64 199.226 1519.2 Q197.42 1522.75 197.42 1529.87 Q197.42 1536.98 199.226 1540.55 Q201.055 1544.09 204.666 1544.09 Q208.3 1544.09 210.105 1540.55 Q211.934 1536.98 211.934 1529.87 Q211.934 1522.75 210.105 1519.2 Q208.3 1515.64 204.666 1515.64 M204.666 1511.93 Q210.476 1511.93 213.531 1516.54 Q216.61 1521.12 216.61 1529.87 Q216.61 1538.6 213.531 1543.21 Q210.476 1547.79 204.666 1547.79 Q198.856 1547.79 195.777 1543.21 Q192.721 1538.6 192.721 1529.87 Q192.721 1521.12 195.777 1516.54 Q198.856 1511.93 204.666 1511.93 Z\" fill=\"#000000\" fill-rule=\"evenodd\" fill-opacity=\"1\" /><path clip-path=\"url(#clip850)\" d=\"M 0 0 M662.762 1543.18 L670.401 1543.18 L670.401 1516.82 L662.091 1518.49 L662.091 1514.23 L670.355 1512.56 L675.03 1512.56 L675.03 1543.18 L682.669 1543.18 L682.669 1547.12 L662.762 1547.12 L662.762 1543.18 Z\" fill=\"#000000\" fill-rule=\"evenodd\" fill-opacity=\"1\" /><path clip-path=\"url(#clip850)\" d=\"M 0 0 M687.739 1541.24 L692.623 1541.24 L692.623 1547.12 L687.739 1547.12 L687.739 1541.24 Z\" fill=\"#000000\" fill-rule=\"evenodd\" fill-opacity=\"1\" /><path clip-path=\"url(#clip850)\" d=\"M 0 0 M701.72 1543.18 L718.039 1543.18 L718.039 1547.12 L696.095 1547.12 L696.095 1543.18 Q698.757 1540.43 703.34 1535.8 Q707.947 1531.15 709.127 1529.81 Q711.373 1527.28 712.252 1525.55 Q713.155 1523.79 713.155 1522.1 Q713.155 1519.34 711.211 1517.61 Q709.29 1515.87 706.188 1515.87 Q703.989 1515.87 701.535 1516.63 Q699.104 1517.4 696.327 1518.95 L696.327 1514.23 Q699.151 1513.09 701.604 1512.51 Q704.058 1511.93 706.095 1511.93 Q711.465 1511.93 714.66 1514.62 Q717.854 1517.31 717.854 1521.8 Q717.854 1523.93 717.044 1525.85 Q716.257 1527.74 714.151 1530.34 Q713.572 1531.01 710.47 1534.23 Q707.368 1537.42 701.72 1543.18 Z\" fill=\"#000000\" fill-rule=\"evenodd\" fill-opacity=\"1\" /><path clip-path=\"url(#clip850)\" d=\"M 0 0 M723.155 1512.56 L741.512 1512.56 L741.512 1516.5 L727.438 1516.5 L727.438 1524.97 Q728.456 1524.62 729.475 1524.46 Q730.493 1524.27 731.512 1524.27 Q737.299 1524.27 740.678 1527.44 Q744.058 1530.62 744.058 1536.03 Q744.058 1541.61 740.586 1544.71 Q737.113 1547.79 730.794 1547.79 Q728.618 1547.79 726.35 1547.42 Q724.104 1547.05 721.697 1546.31 L721.697 1541.61 Q723.78 1542.74 726.002 1543.3 Q728.225 1543.86 730.701 1543.86 Q734.706 1543.86 737.044 1541.75 Q739.382 1539.64 739.382 1536.03 Q739.382 1532.42 737.044 1530.31 Q734.706 1528.21 730.701 1528.21 Q728.826 1528.21 726.951 1528.62 Q725.1 1529.04 723.155 1529.92 L723.155 1512.56 Z\" fill=\"#000000\" fill-rule=\"evenodd\" fill-opacity=\"1\" /><path clip-path=\"url(#clip850)\" d=\"M 0 0 M1190.71 1543.18 L1198.35 1543.18 L1198.35 1516.82 L1190.04 1518.49 L1190.04 1514.23 L1198.3 1512.56 L1202.98 1512.56 L1202.98 1543.18 L1210.61 1543.18 L1210.61 1547.12 L1190.71 1547.12 L1190.71 1543.18 Z\" fill=\"#000000\" fill-rule=\"evenodd\" fill-opacity=\"1\" /><path clip-path=\"url(#clip850)\" d=\"M 0 0 M1215.68 1541.24 L1220.57 1541.24 L1220.57 1547.12 L1215.68 1547.12 L1215.68 1541.24 Z\" fill=\"#000000\" fill-rule=\"evenodd\" fill-opacity=\"1\" /><path clip-path=\"url(#clip850)\" d=\"M 0 0 M1225.68 1512.56 L1244.04 1512.56 L1244.04 1516.5 L1229.97 1516.5 L1229.97 1524.97 Q1230.99 1524.62 1232 1524.46 Q1233.02 1524.27 1234.04 1524.27 Q1239.83 1524.27 1243.21 1527.44 Q1246.59 1530.62 1246.59 1536.03 Q1246.59 1541.61 1243.11 1544.71 Q1239.64 1547.79 1233.32 1547.79 Q1231.15 1547.79 1228.88 1547.42 Q1226.63 1547.05 1224.23 1546.31 L1224.23 1541.61 Q1226.31 1542.74 1228.53 1543.3 Q1230.75 1543.86 1233.23 1543.86 Q1237.24 1543.86 1239.57 1541.75 Q1241.91 1539.64 1241.91 1536.03 Q1241.91 1532.42 1239.57 1530.31 Q1237.24 1528.21 1233.23 1528.21 Q1231.36 1528.21 1229.48 1528.62 Q1227.63 1529.04 1225.68 1529.92 L1225.68 1512.56 Z\" fill=\"#000000\" fill-rule=\"evenodd\" fill-opacity=\"1\" /><path clip-path=\"url(#clip850)\" d=\"M 0 0 M1261.66 1515.64 Q1258.05 1515.64 1256.22 1519.2 Q1254.41 1522.75 1254.41 1529.87 Q1254.41 1536.98 1256.22 1540.55 Q1258.05 1544.09 1261.66 1544.09 Q1265.29 1544.09 1267.1 1540.55 Q1268.92 1536.98 1268.92 1529.87 Q1268.92 1522.75 1267.1 1519.2 Q1265.29 1515.64 1261.66 1515.64 M1261.66 1511.93 Q1267.47 1511.93 1270.52 1516.54 Q1273.6 1521.12 1273.6 1529.87 Q1273.6 1538.6 1270.52 1543.21 Q1267.47 1547.79 1261.66 1547.79 Q1255.85 1547.79 1252.77 1543.21 Q1249.71 1538.6 1249.71 1529.87 Q1249.71 1521.12 1252.77 1516.54 Q1255.85 1511.93 1261.66 1511.93 Z\" fill=\"#000000\" fill-rule=\"evenodd\" fill-opacity=\"1\" /><path clip-path=\"url(#clip850)\" d=\"M 0 0 M1719.9 1543.18 L1727.54 1543.18 L1727.54 1516.82 L1719.23 1518.49 L1719.23 1514.23 L1727.5 1512.56 L1732.17 1512.56 L1732.17 1543.18 L1739.81 1543.18 L1739.81 1547.12 L1719.9 1547.12 L1719.9 1543.18 Z\" fill=\"#000000\" fill-rule=\"evenodd\" fill-opacity=\"1\" /><path clip-path=\"url(#clip850)\" d=\"M 0 0 M1744.88 1541.24 L1749.76 1541.24 L1749.76 1547.12 L1744.88 1547.12 L1744.88 1541.24 Z\" fill=\"#000000\" fill-rule=\"evenodd\" fill-opacity=\"1\" /><path clip-path=\"url(#clip850)\" d=\"M 0 0 M1753.65 1512.56 L1775.87 1512.56 L1775.87 1514.55 L1763.33 1547.12 L1758.44 1547.12 L1770.25 1516.5 L1753.65 1516.5 L1753.65 1512.56 Z\" fill=\"#000000\" fill-rule=\"evenodd\" fill-opacity=\"1\" /><path clip-path=\"url(#clip850)\" d=\"M 0 0 M1780.99 1512.56 L1799.35 1512.56 L1799.35 1516.5 L1785.27 1516.5 L1785.27 1524.97 Q1786.29 1524.62 1787.31 1524.46 Q1788.33 1524.27 1789.35 1524.27 Q1795.13 1524.27 1798.51 1527.44 Q1801.89 1530.62 1801.89 1536.03 Q1801.89 1541.61 1798.42 1544.71 Q1794.95 1547.79 1788.63 1547.79 Q1786.45 1547.79 1784.19 1547.42 Q1781.94 1547.05 1779.53 1546.31 L1779.53 1541.61 Q1781.62 1542.74 1783.84 1543.3 Q1786.06 1543.86 1788.54 1543.86 Q1792.54 1543.86 1794.88 1541.75 Q1797.22 1539.64 1797.22 1536.03 Q1797.22 1532.42 1794.88 1530.31 Q1792.54 1528.21 1788.54 1528.21 Q1786.66 1528.21 1784.79 1528.62 Q1782.94 1529.04 1780.99 1529.92 L1780.99 1512.56 Z\" fill=\"#000000\" fill-rule=\"evenodd\" fill-opacity=\"1\" /><path clip-path=\"url(#clip850)\" d=\"M 0 0 M2251.97 1543.18 L2268.29 1543.18 L2268.29 1547.12 L2246.34 1547.12 L2246.34 1543.18 Q2249.01 1540.43 2253.59 1535.8 Q2258.2 1531.15 2259.38 1529.81 Q2261.62 1527.28 2262.5 1525.55 Q2263.4 1523.79 2263.4 1522.1 Q2263.4 1519.34 2261.46 1517.61 Q2259.54 1515.87 2256.44 1515.87 Q2254.24 1515.87 2251.78 1516.63 Q2249.35 1517.4 2246.58 1518.95 L2246.58 1514.23 Q2249.4 1513.09 2251.85 1512.51 Q2254.31 1511.93 2256.34 1511.93 Q2261.71 1511.93 2264.91 1514.62 Q2268.1 1517.31 2268.1 1521.8 Q2268.1 1523.93 2267.29 1525.85 Q2266.51 1527.74 2264.4 1530.34 Q2263.82 1531.01 2260.72 1534.23 Q2257.62 1537.42 2251.97 1543.18 Z\" fill=\"#000000\" fill-rule=\"evenodd\" fill-opacity=\"1\" /><path clip-path=\"url(#clip850)\" d=\"M 0 0 M2273.36 1541.24 L2278.24 1541.24 L2278.24 1547.12 L2273.36 1547.12 L2273.36 1541.24 Z\" fill=\"#000000\" fill-rule=\"evenodd\" fill-opacity=\"1\" /><path clip-path=\"url(#clip850)\" d=\"M 0 0 M2293.31 1515.64 Q2289.7 1515.64 2287.87 1519.2 Q2286.07 1522.75 2286.07 1529.87 Q2286.07 1536.98 2287.87 1540.55 Q2289.7 1544.09 2293.31 1544.09 Q2296.95 1544.09 2298.75 1540.55 Q2300.58 1536.98 2300.58 1529.87 Q2300.58 1522.75 2298.75 1519.2 Q2296.95 1515.64 2293.31 1515.64 M2293.31 1511.93 Q2299.12 1511.93 2302.18 1516.54 Q2305.26 1521.12 2305.26 1529.87 Q2305.26 1538.6 2302.18 1543.21 Q2299.12 1547.79 2293.31 1547.79 Q2287.5 1547.79 2284.42 1543.21 Q2281.37 1538.6 2281.37 1529.87 Q2281.37 1521.12 2284.42 1516.54 Q2287.5 1511.93 2293.31 1511.93 Z\" fill=\"#000000\" fill-rule=\"evenodd\" fill-opacity=\"1\" /><path clip-path=\"url(#clip850)\" d=\"M 0 0 M2320.32 1515.64 Q2316.71 1515.64 2314.89 1519.2 Q2313.08 1522.75 2313.08 1529.87 Q2313.08 1536.98 2314.89 1540.55 Q2316.71 1544.09 2320.32 1544.09 Q2323.96 1544.09 2325.76 1540.55 Q2327.59 1536.98 2327.59 1529.87 Q2327.59 1522.75 2325.76 1519.2 Q2323.96 1515.64 2320.32 1515.64 M2320.32 1511.93 Q2326.14 1511.93 2329.19 1516.54 Q2332.27 1521.12 2332.27 1529.87 Q2332.27 1538.6 2329.19 1543.21 Q2326.14 1547.79 2320.32 1547.79 Q2314.51 1547.79 2311.44 1543.21 Q2308.38 1538.6 2308.38 1529.87 Q2308.38 1521.12 2311.44 1516.54 Q2314.51 1511.93 2320.32 1511.93 Z\" fill=\"#000000\" fill-rule=\"evenodd\" fill-opacity=\"1\" /><polyline clip-path=\"url(#clip852)\" style=\"stroke:#000000; stroke-width:2; stroke-opacity:0.1; fill:none\" points=\"\n",
       "  110.881,1448.1 2352.76,1448.1 \n",
       "  \"/>\n",
       "<polyline clip-path=\"url(#clip852)\" style=\"stroke:#000000; stroke-width:2; stroke-opacity:0.1; fill:none\" points=\"\n",
       "  110.881,1086.89 2352.76,1086.89 \n",
       "  \"/>\n",
       "<polyline clip-path=\"url(#clip852)\" style=\"stroke:#000000; stroke-width:2; stroke-opacity:0.1; fill:none\" points=\"\n",
       "  110.881,725.693 2352.76,725.693 \n",
       "  \"/>\n",
       "<polyline clip-path=\"url(#clip852)\" style=\"stroke:#000000; stroke-width:2; stroke-opacity:0.1; fill:none\" points=\"\n",
       "  110.881,364.492 2352.76,364.492 \n",
       "  \"/>\n",
       "<polyline clip-path=\"url(#clip850)\" style=\"stroke:#000000; stroke-width:4; stroke-opacity:1; fill:none\" points=\"\n",
       "  110.881,1486.45 110.881,123.472 \n",
       "  \"/>\n",
       "<polyline clip-path=\"url(#clip850)\" style=\"stroke:#000000; stroke-width:4; stroke-opacity:1; fill:none\" points=\"\n",
       "  110.881,1448.1 137.783,1448.1 \n",
       "  \"/>\n",
       "<polyline clip-path=\"url(#clip850)\" style=\"stroke:#000000; stroke-width:4; stroke-opacity:1; fill:none\" points=\"\n",
       "  110.881,1086.89 137.783,1086.89 \n",
       "  \"/>\n",
       "<polyline clip-path=\"url(#clip850)\" style=\"stroke:#000000; stroke-width:4; stroke-opacity:1; fill:none\" points=\"\n",
       "  110.881,725.693 137.783,725.693 \n",
       "  \"/>\n",
       "<polyline clip-path=\"url(#clip850)\" style=\"stroke:#000000; stroke-width:4; stroke-opacity:1; fill:none\" points=\"\n",
       "  110.881,364.492 137.783,364.492 \n",
       "  \"/>\n",
       "<path clip-path=\"url(#clip850)\" d=\"M 0 0 M62.9365 1433.89 Q59.3254 1433.89 57.4967 1437.46 Q55.6912 1441 55.6912 1448.13 Q55.6912 1455.24 57.4967 1458.8 Q59.3254 1462.34 62.9365 1462.34 Q66.5707 1462.34 68.3763 1458.8 Q70.205 1455.24 70.205 1448.13 Q70.205 1441 68.3763 1437.46 Q66.5707 1433.89 62.9365 1433.89 M62.9365 1430.19 Q68.7467 1430.19 71.8022 1434.8 Q74.8809 1439.38 74.8809 1448.13 Q74.8809 1456.86 71.8022 1461.46 Q68.7467 1466.05 62.9365 1466.05 Q57.1264 1466.05 54.0477 1461.46 Q50.9921 1456.86 50.9921 1448.13 Q50.9921 1439.38 54.0477 1434.8 Q57.1264 1430.19 62.9365 1430.19 Z\" fill=\"#000000\" fill-rule=\"evenodd\" fill-opacity=\"1\" /><path clip-path=\"url(#clip850)\" d=\"M 0 0 M54.9736 1100.24 L62.6124 1100.24 L62.6124 1073.87 L54.3023 1075.54 L54.3023 1071.28 L62.5661 1069.61 L67.242 1069.61 L67.242 1100.24 L74.8809 1100.24 L74.8809 1104.17 L54.9736 1104.17 L54.9736 1100.24 Z\" fill=\"#000000\" fill-rule=\"evenodd\" fill-opacity=\"1\" /><path clip-path=\"url(#clip850)\" d=\"M 0 0 M58.5615 739.038 L74.8809 739.038 L74.8809 742.973 L52.9366 742.973 L52.9366 739.038 Q55.5986 736.284 60.1819 731.654 Q64.7883 727.001 65.9689 725.659 Q68.2143 723.135 69.0939 721.399 Q69.9967 719.64 69.9967 717.95 Q69.9967 715.196 68.0522 713.46 Q66.1309 711.723 63.0291 711.723 Q60.83 711.723 58.3763 712.487 Q55.9458 713.251 53.168 714.802 L53.168 710.08 Q55.9921 708.946 58.4458 708.367 Q60.8995 707.788 62.9365 707.788 Q68.3068 707.788 71.5013 710.473 Q74.6957 713.159 74.6957 717.649 Q74.6957 719.779 73.8855 721.7 Q73.0985 723.598 70.992 726.191 Q70.4133 726.862 67.3115 730.08 Q64.2096 733.274 58.5615 739.038 Z\" fill=\"#000000\" fill-rule=\"evenodd\" fill-opacity=\"1\" /><path clip-path=\"url(#clip850)\" d=\"M 0 0 M67.7513 363.138 Q71.1078 363.856 72.9827 366.124 Q74.8809 368.393 74.8809 371.726 Q74.8809 376.842 71.3624 379.643 Q67.8439 382.444 61.3624 382.444 Q59.1865 382.444 56.8717 382.004 Q54.5801 381.587 52.1264 380.731 L52.1264 376.217 Q54.0708 377.351 56.3856 377.93 Q58.7004 378.509 61.2236 378.509 Q65.6217 378.509 67.9133 376.772 Q70.2281 375.036 70.2281 371.726 Q70.2281 368.671 68.0754 366.958 Q65.9457 365.222 62.1263 365.222 L58.0986 365.222 L58.0986 361.379 L62.3115 361.379 Q65.7606 361.379 67.5893 360.013 Q69.418 358.624 69.418 356.032 Q69.418 353.37 67.5198 351.958 Q65.6448 350.523 62.1263 350.523 Q60.205 350.523 58.006 350.939 Q55.8069 351.356 53.168 352.236 L53.168 348.069 Q55.8301 347.328 58.1449 346.958 Q60.4828 346.587 62.543 346.587 Q67.867 346.587 70.9689 349.018 Q74.0707 351.425 74.0707 355.546 Q74.0707 358.416 72.4272 360.407 Q70.7837 362.374 67.7513 363.138 Z\" fill=\"#000000\" fill-rule=\"evenodd\" fill-opacity=\"1\" /><path clip-path=\"url(#clip850)\" d=\"M 0 0 M860.796 12.096 L868.979 12.096 L868.979 65.6895 L898.429 65.6895 L898.429 72.576 L860.796 72.576 L860.796 12.096 Z\" fill=\"#000000\" fill-rule=\"evenodd\" fill-opacity=\"1\" /><path clip-path=\"url(#clip850)\" d=\"M 0 0 M922.37 32.4315 Q916.374 32.4315 912.891 37.1306 Q909.407 41.7891 909.407 49.9314 Q909.407 58.0738 912.85 62.7728 Q916.334 67.4314 922.37 67.4314 Q928.325 67.4314 931.808 62.7323 Q935.292 58.0333 935.292 49.9314 Q935.292 41.8701 931.808 37.1711 Q928.325 32.4315 922.37 32.4315 M922.37 26.1121 Q932.092 26.1121 937.642 32.4315 Q943.191 38.7509 943.191 49.9314 Q943.191 61.0714 937.642 67.4314 Q932.092 73.7508 922.37 73.7508 Q912.607 73.7508 907.057 67.4314 Q901.548 61.0714 901.548 49.9314 Q901.548 38.7509 907.057 32.4315 Q912.607 26.1121 922.37 26.1121 Z\" fill=\"#000000\" fill-rule=\"evenodd\" fill-opacity=\"1\" /><path clip-path=\"url(#clip850)\" d=\"M 0 0 M979.933 28.5427 L979.933 35.5912 Q976.773 33.9709 973.371 33.1607 Q969.968 32.3505 966.322 32.3505 Q960.772 32.3505 957.977 34.0519 Q955.223 35.7533 955.223 39.156 Q955.223 41.7486 957.208 43.2475 Q959.193 44.7058 965.188 46.0426 L967.74 46.6097 Q975.68 48.3111 979.001 51.4303 Q982.364 54.509 982.364 60.0587 Q982.364 66.3781 977.341 70.0644 Q972.358 73.7508 963.608 73.7508 Q959.962 73.7508 955.992 73.0216 Q952.063 72.3329 947.688 70.9151 L947.688 63.2184 Q951.82 65.3654 955.83 66.4591 Q959.841 67.5124 963.77 67.5124 Q969.036 67.5124 971.872 65.73 Q974.708 63.9071 974.708 60.6258 Q974.708 57.5877 972.642 55.9673 Q970.616 54.3469 963.689 52.8481 L961.096 52.2405 Q954.169 50.7821 951.091 47.7845 Q948.012 44.7463 948.012 39.4801 Q948.012 33.0797 952.549 29.5959 Q957.086 26.1121 965.431 26.1121 Q969.563 26.1121 973.209 26.7198 Q976.854 27.3274 979.933 28.5427 Z\" fill=\"#000000\" fill-rule=\"evenodd\" fill-opacity=\"1\" /><path clip-path=\"url(#clip850)\" d=\"M 0 0 M1019.11 28.5427 L1019.11 35.5912 Q1015.95 33.9709 1012.54 33.1607 Q1009.14 32.3505 1005.49 32.3505 Q999.945 32.3505 997.15 34.0519 Q994.395 35.7533 994.395 39.156 Q994.395 41.7486 996.38 43.2475 Q998.365 44.7058 1004.36 46.0426 L1006.91 46.6097 Q1014.85 48.3111 1018.17 51.4303 Q1021.54 54.509 1021.54 60.0587 Q1021.54 66.3781 1016.51 70.0644 Q1011.53 73.7508 1002.78 73.7508 Q999.134 73.7508 995.165 73.0216 Q991.235 72.3329 986.86 70.9151 L986.86 63.2184 Q990.992 65.3654 995.003 66.4591 Q999.013 67.5124 1002.94 67.5124 Q1008.21 67.5124 1011.04 65.73 Q1013.88 63.9071 1013.88 60.6258 Q1013.88 57.5877 1011.81 55.9673 Q1009.79 54.3469 1002.86 52.8481 L1000.27 52.2405 Q993.342 50.7821 990.263 47.7845 Q987.184 44.7463 987.184 39.4801 Q987.184 33.0797 991.721 29.5959 Q996.258 26.1121 1004.6 26.1121 Q1008.74 26.1121 1012.38 26.7198 Q1016.03 27.3274 1019.11 28.5427 Z\" fill=\"#000000\" fill-rule=\"evenodd\" fill-opacity=\"1\" /><path clip-path=\"url(#clip850)\" d=\"M 0 0 M1078.69 9.54393 L1078.69 15.7418 L1071.56 15.7418 Q1067.55 15.7418 1065.97 17.3622 Q1064.44 18.9825 1064.44 23.1955 L1064.44 27.2059 L1076.71 27.2059 L1076.71 32.9987 L1064.44 32.9987 L1064.44 72.576 L1056.94 72.576 L1056.94 32.9987 L1049.81 32.9987 L1049.81 27.2059 L1056.94 27.2059 L1056.94 24.0462 Q1056.94 16.471 1060.47 13.0277 Q1063.99 9.54393 1071.65 9.54393 L1078.69 9.54393 Z\" fill=\"#000000\" fill-rule=\"evenodd\" fill-opacity=\"1\" /><path clip-path=\"url(#clip850)\" d=\"M 0 0 M1104.09 32.4315 Q1098.1 32.4315 1094.61 37.1306 Q1091.13 41.7891 1091.13 49.9314 Q1091.13 58.0738 1094.57 62.7728 Q1098.06 67.4314 1104.09 67.4314 Q1110.05 67.4314 1113.53 62.7323 Q1117.02 58.0333 1117.02 49.9314 Q1117.02 41.8701 1113.53 37.1711 Q1110.05 32.4315 1104.09 32.4315 M1104.09 26.1121 Q1113.82 26.1121 1119.37 32.4315 Q1124.92 38.7509 1124.92 49.9314 Q1124.92 61.0714 1119.37 67.4314 Q1113.82 73.7508 1104.09 73.7508 Q1094.33 73.7508 1088.78 67.4314 Q1083.27 61.0714 1083.27 49.9314 Q1083.27 38.7509 1088.78 32.4315 Q1094.33 26.1121 1104.09 26.1121 Z\" fill=\"#000000\" fill-rule=\"evenodd\" fill-opacity=\"1\" /><path clip-path=\"url(#clip850)\" d=\"M 0 0 M1159.02 34.1734 Q1157.77 33.4443 1156.27 33.1202 Q1154.81 32.7556 1153.03 32.7556 Q1146.71 32.7556 1143.31 36.8875 Q1139.94 40.9789 1139.94 48.6757 L1139.94 72.576 L1132.45 72.576 L1132.45 27.2059 L1139.94 27.2059 L1139.94 34.2544 Q1142.29 30.1225 1146.06 28.1376 Q1149.83 26.1121 1155.22 26.1121 Q1155.99 26.1121 1156.92 26.2337 Q1157.85 26.3147 1158.98 26.5172 L1159.02 34.1734 Z\" fill=\"#000000\" fill-rule=\"evenodd\" fill-opacity=\"1\" /><path clip-path=\"url(#clip850)\" d=\"M 0 0 M1201.32 65.6895 L1229.87 65.6895 L1229.87 72.576 L1191.47 72.576 L1191.47 65.6895 Q1196.13 60.8689 1204.15 52.7671 Q1212.21 44.6248 1214.28 42.2752 Q1218.21 37.8598 1219.75 34.8216 Q1221.33 31.7429 1221.33 28.7857 Q1221.33 23.9651 1217.92 20.927 Q1214.56 17.8888 1209.13 17.8888 Q1205.28 17.8888 1200.99 19.2256 Q1196.74 20.5624 1191.88 23.2765 L1191.88 15.0127 Q1196.82 13.0277 1201.11 12.015 Q1205.41 11.0023 1208.97 11.0023 Q1218.37 11.0023 1223.96 15.7013 Q1229.55 20.4004 1229.55 28.2591 Q1229.55 31.9859 1228.13 35.3482 Q1226.75 38.6699 1223.07 43.2069 Q1222.06 44.3817 1216.63 50.0125 Q1211.2 55.6027 1201.32 65.6895 Z\" fill=\"#000000\" fill-rule=\"evenodd\" fill-opacity=\"1\" /><path clip-path=\"url(#clip850)\" d=\"M 0 0 M1264.06 27.2059 L1271.52 27.2059 L1271.52 72.576 L1264.06 72.576 L1264.06 27.2059 M1264.06 9.54393 L1271.52 9.54393 L1271.52 18.9825 L1264.06 18.9825 L1264.06 9.54393 Z\" fill=\"#000000\" fill-rule=\"evenodd\" fill-opacity=\"1\" /><path clip-path=\"url(#clip850)\" d=\"M 0 0 M1286.71 14.324 L1286.71 27.2059 L1302.06 27.2059 L1302.06 32.9987 L1286.71 32.9987 L1286.71 57.6282 Q1286.71 63.1779 1288.21 64.7578 Q1289.75 66.3376 1294.4 66.3376 L1302.06 66.3376 L1302.06 72.576 L1294.4 72.576 Q1285.78 72.576 1282.5 69.3758 Q1279.21 66.1351 1279.21 57.6282 L1279.21 32.9987 L1273.75 32.9987 L1273.75 27.2059 L1279.21 27.2059 L1279.21 14.324 L1286.71 14.324 Z\" fill=\"#000000\" fill-rule=\"evenodd\" fill-opacity=\"1\" /><path clip-path=\"url(#clip850)\" d=\"M 0 0 M1348.69 48.0275 L1348.69 51.6733 L1314.42 51.6733 Q1314.9 59.3701 1319.03 63.421 Q1323.21 67.4314 1330.62 67.4314 Q1334.91 67.4314 1338.92 66.3781 Q1342.98 65.3249 1346.95 63.2184 L1346.95 70.267 Q1342.93 71.9684 1338.72 72.8596 Q1334.51 73.7508 1330.17 73.7508 Q1319.32 73.7508 1312.96 67.4314 Q1306.64 61.1119 1306.64 50.3365 Q1306.64 39.1965 1312.63 32.6746 Q1318.67 26.1121 1328.88 26.1121 Q1338.03 26.1121 1343.34 32.0264 Q1348.69 37.9003 1348.69 48.0275 M1341.23 45.84 Q1341.15 39.7232 1337.79 36.0774 Q1334.47 32.4315 1328.96 32.4315 Q1322.72 32.4315 1318.95 35.9558 Q1315.23 39.4801 1314.66 45.8805 L1341.23 45.84 Z\" fill=\"#000000\" fill-rule=\"evenodd\" fill-opacity=\"1\" /><path clip-path=\"url(#clip850)\" d=\"M 0 0 M1382.8 34.1734 Q1381.54 33.4443 1380.04 33.1202 Q1378.58 32.7556 1376.8 32.7556 Q1370.48 32.7556 1367.08 36.8875 Q1363.72 40.9789 1363.72 48.6757 L1363.72 72.576 L1356.22 72.576 L1356.22 27.2059 L1363.72 27.2059 L1363.72 34.2544 Q1366.07 30.1225 1369.83 28.1376 Q1373.6 26.1121 1378.99 26.1121 Q1379.76 26.1121 1380.69 26.2337 Q1381.62 26.3147 1382.76 26.5172 L1382.8 34.1734 Z\" fill=\"#000000\" fill-rule=\"evenodd\" fill-opacity=\"1\" /><path clip-path=\"url(#clip850)\" d=\"M 0 0 M1411.23 49.7694 Q1402.2 49.7694 1398.72 51.8354 Q1395.23 53.9013 1395.23 58.8839 Q1395.23 62.8538 1397.82 65.2034 Q1400.46 67.5124 1404.95 67.5124 Q1411.15 67.5124 1414.88 63.1374 Q1418.65 58.7219 1418.65 51.4303 L1418.65 49.7694 L1411.23 49.7694 M1426.1 46.6907 L1426.1 72.576 L1418.65 72.576 L1418.65 65.6895 Q1416.09 69.8214 1412.29 71.8063 Q1408.48 73.7508 1402.97 73.7508 Q1396 73.7508 1391.87 69.8619 Q1387.78 65.9325 1387.78 59.3701 Q1387.78 51.7138 1392.88 47.825 Q1398.03 43.9361 1408.19 43.9361 L1418.65 43.9361 L1418.65 43.2069 Q1418.65 38.0623 1415.24 35.2672 Q1411.88 32.4315 1405.76 32.4315 Q1401.88 32.4315 1398.19 33.3632 Q1394.5 34.295 1391.1 36.1584 L1391.1 29.2718 Q1395.19 27.692 1399.04 26.9223 Q1402.89 26.1121 1406.53 26.1121 Q1416.38 26.1121 1421.24 31.2163 Q1426.1 36.3204 1426.1 46.6907 Z\" fill=\"#000000\" fill-rule=\"evenodd\" fill-opacity=\"1\" /><path clip-path=\"url(#clip850)\" d=\"M 0 0 M1441.29 14.324 L1441.29 27.2059 L1456.64 27.2059 L1456.64 32.9987 L1441.29 32.9987 L1441.29 57.6282 Q1441.29 63.1779 1442.79 64.7578 Q1444.33 66.3376 1448.99 66.3376 L1456.64 66.3376 L1456.64 72.576 L1448.99 72.576 Q1440.36 72.576 1437.08 69.3758 Q1433.8 66.1351 1433.8 57.6282 L1433.8 32.9987 L1428.33 32.9987 L1428.33 27.2059 L1433.8 27.2059 L1433.8 14.324 L1441.29 14.324 Z\" fill=\"#000000\" fill-rule=\"evenodd\" fill-opacity=\"1\" /><path clip-path=\"url(#clip850)\" d=\"M 0 0 M1464.46 27.2059 L1471.92 27.2059 L1471.92 72.576 L1464.46 72.576 L1464.46 27.2059 M1464.46 9.54393 L1471.92 9.54393 L1471.92 18.9825 L1464.46 18.9825 L1464.46 9.54393 Z\" fill=\"#000000\" fill-rule=\"evenodd\" fill-opacity=\"1\" /><path clip-path=\"url(#clip850)\" d=\"M 0 0 M1497.31 32.4315 Q1491.32 32.4315 1487.84 37.1306 Q1484.35 41.7891 1484.35 49.9314 Q1484.35 58.0738 1487.8 62.7728 Q1491.28 67.4314 1497.31 67.4314 Q1503.27 67.4314 1506.75 62.7323 Q1510.24 58.0333 1510.24 49.9314 Q1510.24 41.8701 1506.75 37.1711 Q1503.27 32.4315 1497.31 32.4315 M1497.31 26.1121 Q1507.04 26.1121 1512.59 32.4315 Q1518.14 38.7509 1518.14 49.9314 Q1518.14 61.0714 1512.59 67.4314 Q1507.04 73.7508 1497.31 73.7508 Q1487.55 73.7508 1482 67.4314 Q1476.49 61.0714 1476.49 49.9314 Q1476.49 38.7509 1482 32.4315 Q1487.55 26.1121 1497.31 26.1121 Z\" fill=\"#000000\" fill-rule=\"evenodd\" fill-opacity=\"1\" /><path clip-path=\"url(#clip850)\" d=\"M 0 0 M1563.67 45.1919 L1563.67 72.576 L1556.21 72.576 L1556.21 45.4349 Q1556.21 38.994 1553.7 35.7938 Q1551.19 32.5936 1546.17 32.5936 Q1540.13 32.5936 1536.65 36.4419 Q1533.17 40.2903 1533.17 46.9338 L1533.17 72.576 L1525.67 72.576 L1525.67 27.2059 L1533.17 27.2059 L1533.17 34.2544 Q1535.84 30.163 1539.44 28.1376 Q1543.09 26.1121 1547.83 26.1121 Q1555.65 26.1121 1559.66 30.9732 Q1563.67 35.7938 1563.67 45.1919 Z\" fill=\"#000000\" fill-rule=\"evenodd\" fill-opacity=\"1\" /><path clip-path=\"url(#clip850)\" d=\"M 0 0 M1600.41 28.5427 L1600.41 35.5912 Q1597.25 33.9709 1593.85 33.1607 Q1590.44 32.3505 1586.8 32.3505 Q1581.25 32.3505 1578.45 34.0519 Q1575.7 35.7533 1575.7 39.156 Q1575.7 41.7486 1577.68 43.2475 Q1579.67 44.7058 1585.66 46.0426 L1588.22 46.6097 Q1596.16 48.3111 1599.48 51.4303 Q1602.84 54.509 1602.84 60.0587 Q1602.84 66.3781 1597.82 70.0644 Q1592.83 73.7508 1584.09 73.7508 Q1580.44 73.7508 1576.47 73.0216 Q1572.54 72.3329 1568.16 70.9151 L1568.16 63.2184 Q1572.3 65.3654 1576.31 66.4591 Q1580.32 67.5124 1584.25 67.5124 Q1589.51 67.5124 1592.35 65.73 Q1595.18 63.9071 1595.18 60.6258 Q1595.18 57.5877 1593.12 55.9673 Q1591.09 54.3469 1584.17 52.8481 L1581.57 52.2405 Q1574.65 50.7821 1571.57 47.7845 Q1568.49 44.7463 1568.49 39.4801 Q1568.49 33.0797 1573.03 29.5959 Q1577.56 26.1121 1585.91 26.1121 Q1590.04 26.1121 1593.69 26.7198 Q1597.33 27.3274 1600.41 28.5427 Z\" fill=\"#000000\" fill-rule=\"evenodd\" fill-opacity=\"1\" /><polyline clip-path=\"url(#clip852)\" style=\"stroke:#009af9; stroke-width:4; stroke-opacity:1; fill:none\" points=\"\n",
       "  174.33,162.047 2289.31,1447.87 \n",
       "  \"/>\n",
       "<path clip-path=\"url(#clip850)\" d=\"\n",
       "M1977.91 289.865 L2278.03 289.865 L2278.03 168.905 L1977.91 168.905  Z\n",
       "  \" fill=\"#ffffff\" fill-rule=\"evenodd\" fill-opacity=\"1\"/>\n",
       "<polyline clip-path=\"url(#clip850)\" style=\"stroke:#000000; stroke-width:4; stroke-opacity:1; fill:none\" points=\"\n",
       "  1977.91,289.865 2278.03,289.865 2278.03,168.905 1977.91,168.905 1977.91,289.865 \n",
       "  \"/>\n",
       "<polyline clip-path=\"url(#clip850)\" style=\"stroke:#009af9; stroke-width:4; stroke-opacity:1; fill:none\" points=\"\n",
       "  2002.82,229.385 2152.28,229.385 \n",
       "  \"/>\n",
       "<path clip-path=\"url(#clip850)\" d=\"M 0 0 M2191.03 249.072 Q2189.23 253.702 2187.51 255.114 Q2185.8 256.526 2182.93 256.526 L2179.53 256.526 L2179.53 252.961 L2182.03 252.961 Q2183.79 252.961 2184.76 252.128 Q2185.73 251.294 2186.91 248.192 L2187.68 246.248 L2177.19 220.739 L2181.7 220.739 L2189.8 241.017 L2197.91 220.739 L2202.42 220.739 L2191.03 249.072 Z\" fill=\"#000000\" fill-rule=\"evenodd\" fill-opacity=\"1\" /><path clip-path=\"url(#clip850)\" d=\"M 0 0 M2208.3 242.729 L2215.94 242.729 L2215.94 216.364 L2207.63 218.031 L2207.63 213.771 L2215.89 212.105 L2220.57 212.105 L2220.57 242.729 L2228.21 242.729 L2228.21 246.665 L2208.3 246.665 L2208.3 242.729 Z\" fill=\"#000000\" fill-rule=\"evenodd\" fill-opacity=\"1\" /></svg>\n"
      ]
     },
     "execution_count": 124,
     "metadata": {},
     "output_type": "execute_result"
    }
   ],
   "source": [
    "x_iter=1:length(lossvalues)\n",
    "plot(x_iter, lossvalues, title=\"Loss for $(length(lossvalues)) iterations\")"
   ]
  },
  {
   "cell_type": "code",
   "execution_count": 125,
   "id": "sporting-prague",
   "metadata": {},
   "outputs": [
    {
     "data": {
      "image/svg+xml": [
       "<?xml version=\"1.0\" encoding=\"utf-8\"?>\n",
       "<svg xmlns=\"http://www.w3.org/2000/svg\" xmlns:xlink=\"http://www.w3.org/1999/xlink\" width=\"600\" height=\"400\" viewBox=\"0 0 2400 1600\">\n",
       "<defs>\n",
       "  <clipPath id=\"clip890\">\n",
       "    <rect x=\"0\" y=\"0\" width=\"2400\" height=\"1600\"/>\n",
       "  </clipPath>\n",
       "</defs>\n",
       "<path clip-path=\"url(#clip890)\" d=\"\n",
       "M0 1600 L2400 1600 L2400 0 L0 0  Z\n",
       "  \" fill=\"#ffffff\" fill-rule=\"evenodd\" fill-opacity=\"1\"/>\n",
       "<defs>\n",
       "  <clipPath id=\"clip891\">\n",
       "    <rect x=\"480\" y=\"0\" width=\"1681\" height=\"1600\"/>\n",
       "  </clipPath>\n",
       "</defs>\n",
       "<path clip-path=\"url(#clip890)\" d=\"\n",
       "M172.918 1486.45 L2352.76 1486.45 L2352.76 123.472 L172.918 123.472  Z\n",
       "  \" fill=\"#ffffff\" fill-rule=\"evenodd\" fill-opacity=\"1\"/>\n",
       "<defs>\n",
       "  <clipPath id=\"clip892\">\n",
       "    <rect x=\"172\" y=\"123\" width=\"2181\" height=\"1364\"/>\n",
       "  </clipPath>\n",
       "</defs>\n",
       "<polyline clip-path=\"url(#clip892)\" style=\"stroke:#000000; stroke-width:2; stroke-opacity:0.1; fill:none\" points=\"\n",
       "  234.611,1486.45 234.611,123.472 \n",
       "  \"/>\n",
       "<polyline clip-path=\"url(#clip892)\" style=\"stroke:#000000; stroke-width:2; stroke-opacity:0.1; fill:none\" points=\"\n",
       "  748.724,1486.45 748.724,123.472 \n",
       "  \"/>\n",
       "<polyline clip-path=\"url(#clip892)\" style=\"stroke:#000000; stroke-width:2; stroke-opacity:0.1; fill:none\" points=\"\n",
       "  1262.84,1486.45 1262.84,123.472 \n",
       "  \"/>\n",
       "<polyline clip-path=\"url(#clip892)\" style=\"stroke:#000000; stroke-width:2; stroke-opacity:0.1; fill:none\" points=\"\n",
       "  1776.95,1486.45 1776.95,123.472 \n",
       "  \"/>\n",
       "<polyline clip-path=\"url(#clip892)\" style=\"stroke:#000000; stroke-width:2; stroke-opacity:0.1; fill:none\" points=\"\n",
       "  2291.06,1486.45 2291.06,123.472 \n",
       "  \"/>\n",
       "<polyline clip-path=\"url(#clip890)\" style=\"stroke:#000000; stroke-width:4; stroke-opacity:1; fill:none\" points=\"\n",
       "  172.918,1486.45 2352.76,1486.45 \n",
       "  \"/>\n",
       "<polyline clip-path=\"url(#clip890)\" style=\"stroke:#000000; stroke-width:4; stroke-opacity:1; fill:none\" points=\"\n",
       "  234.611,1486.45 234.611,1470.09 \n",
       "  \"/>\n",
       "<polyline clip-path=\"url(#clip890)\" style=\"stroke:#000000; stroke-width:4; stroke-opacity:1; fill:none\" points=\"\n",
       "  748.724,1486.45 748.724,1470.09 \n",
       "  \"/>\n",
       "<polyline clip-path=\"url(#clip890)\" style=\"stroke:#000000; stroke-width:4; stroke-opacity:1; fill:none\" points=\"\n",
       "  1262.84,1486.45 1262.84,1470.09 \n",
       "  \"/>\n",
       "<polyline clip-path=\"url(#clip890)\" style=\"stroke:#000000; stroke-width:4; stroke-opacity:1; fill:none\" points=\"\n",
       "  1776.95,1486.45 1776.95,1470.09 \n",
       "  \"/>\n",
       "<polyline clip-path=\"url(#clip890)\" style=\"stroke:#000000; stroke-width:4; stroke-opacity:1; fill:none\" points=\"\n",
       "  2291.06,1486.45 2291.06,1470.09 \n",
       "  \"/>\n",
       "<path clip-path=\"url(#clip890)\" d=\"M 0 0 M193.003 1543.18 L200.641 1543.18 L200.641 1516.82 L192.331 1518.49 L192.331 1514.23 L200.595 1512.56 L205.271 1512.56 L205.271 1543.18 L212.91 1543.18 L212.91 1547.12 L193.003 1547.12 L193.003 1543.18 Z\" fill=\"#000000\" fill-rule=\"evenodd\" fill-opacity=\"1\" /><path clip-path=\"url(#clip890)\" d=\"M 0 0 M217.979 1541.24 L222.864 1541.24 L222.864 1547.12 L217.979 1547.12 L217.979 1541.24 Z\" fill=\"#000000\" fill-rule=\"evenodd\" fill-opacity=\"1\" /><path clip-path=\"url(#clip890)\" d=\"M 0 0 M237.933 1515.64 Q234.322 1515.64 232.493 1519.2 Q230.688 1522.75 230.688 1529.87 Q230.688 1536.98 232.493 1540.55 Q234.322 1544.09 237.933 1544.09 Q241.567 1544.09 243.373 1540.55 Q245.201 1536.98 245.201 1529.87 Q245.201 1522.75 243.373 1519.2 Q241.567 1515.64 237.933 1515.64 M237.933 1511.93 Q243.743 1511.93 246.799 1516.54 Q249.877 1521.12 249.877 1529.87 Q249.877 1538.6 246.799 1543.21 Q243.743 1547.79 237.933 1547.79 Q232.123 1547.79 229.044 1543.21 Q225.988 1538.6 225.988 1529.87 Q225.988 1521.12 229.044 1516.54 Q232.123 1511.93 237.933 1511.93 Z\" fill=\"#000000\" fill-rule=\"evenodd\" fill-opacity=\"1\" /><path clip-path=\"url(#clip890)\" d=\"M 0 0 M264.947 1515.64 Q261.336 1515.64 259.507 1519.2 Q257.701 1522.75 257.701 1529.87 Q257.701 1536.98 259.507 1540.55 Q261.336 1544.09 264.947 1544.09 Q268.581 1544.09 270.386 1540.55 Q272.215 1536.98 272.215 1529.87 Q272.215 1522.75 270.386 1519.2 Q268.581 1515.64 264.947 1515.64 M264.947 1511.93 Q270.757 1511.93 273.812 1516.54 Q276.891 1521.12 276.891 1529.87 Q276.891 1538.6 273.812 1543.21 Q270.757 1547.79 264.947 1547.79 Q259.136 1547.79 256.058 1543.21 Q253.002 1538.6 253.002 1529.87 Q253.002 1521.12 256.058 1516.54 Q259.136 1511.93 264.947 1511.93 Z\" fill=\"#000000\" fill-rule=\"evenodd\" fill-opacity=\"1\" /><path clip-path=\"url(#clip890)\" d=\"M 0 0 M708.412 1543.18 L716.051 1543.18 L716.051 1516.82 L707.74 1518.49 L707.74 1514.23 L716.004 1512.56 L720.68 1512.56 L720.68 1543.18 L728.319 1543.18 L728.319 1547.12 L708.412 1547.12 L708.412 1543.18 Z\" fill=\"#000000\" fill-rule=\"evenodd\" fill-opacity=\"1\" /><path clip-path=\"url(#clip890)\" d=\"M 0 0 M733.388 1541.24 L738.273 1541.24 L738.273 1547.12 L733.388 1547.12 L733.388 1541.24 Z\" fill=\"#000000\" fill-rule=\"evenodd\" fill-opacity=\"1\" /><path clip-path=\"url(#clip890)\" d=\"M 0 0 M747.37 1543.18 L763.689 1543.18 L763.689 1547.12 L741.745 1547.12 L741.745 1543.18 Q744.407 1540.43 748.99 1535.8 Q753.597 1531.15 754.777 1529.81 Q757.023 1527.28 757.902 1525.55 Q758.805 1523.79 758.805 1522.1 Q758.805 1519.34 756.86 1517.61 Q754.939 1515.87 751.837 1515.87 Q749.638 1515.87 747.185 1516.63 Q744.754 1517.4 741.976 1518.95 L741.976 1514.23 Q744.8 1513.09 747.254 1512.51 Q749.708 1511.93 751.745 1511.93 Q757.115 1511.93 760.31 1514.62 Q763.504 1517.31 763.504 1521.8 Q763.504 1523.93 762.694 1525.85 Q761.907 1527.74 759.8 1530.34 Q759.222 1531.01 756.12 1534.23 Q753.018 1537.42 747.37 1543.18 Z\" fill=\"#000000\" fill-rule=\"evenodd\" fill-opacity=\"1\" /><path clip-path=\"url(#clip890)\" d=\"M 0 0 M768.805 1512.56 L787.161 1512.56 L787.161 1516.5 L773.087 1516.5 L773.087 1524.97 Q774.106 1524.62 775.124 1524.46 Q776.143 1524.27 777.161 1524.27 Q782.948 1524.27 786.328 1527.44 Q789.708 1530.62 789.708 1536.03 Q789.708 1541.61 786.235 1544.71 Q782.763 1547.79 776.444 1547.79 Q774.268 1547.79 771.999 1547.42 Q769.754 1547.05 767.347 1546.31 L767.347 1541.61 Q769.43 1542.74 771.652 1543.3 Q773.874 1543.86 776.351 1543.86 Q780.356 1543.86 782.694 1541.75 Q785.032 1539.64 785.032 1536.03 Q785.032 1532.42 782.694 1530.31 Q780.356 1528.21 776.351 1528.21 Q774.476 1528.21 772.601 1528.62 Q770.749 1529.04 768.805 1529.92 L768.805 1512.56 Z\" fill=\"#000000\" fill-rule=\"evenodd\" fill-opacity=\"1\" /><path clip-path=\"url(#clip890)\" d=\"M 0 0 M1221.73 1543.18 L1229.36 1543.18 L1229.36 1516.82 L1221.05 1518.49 L1221.05 1514.23 L1229.32 1512.56 L1233.99 1512.56 L1233.99 1543.18 L1241.63 1543.18 L1241.63 1547.12 L1221.73 1547.12 L1221.73 1543.18 Z\" fill=\"#000000\" fill-rule=\"evenodd\" fill-opacity=\"1\" /><path clip-path=\"url(#clip890)\" d=\"M 0 0 M1246.7 1541.24 L1251.59 1541.24 L1251.59 1547.12 L1246.7 1547.12 L1246.7 1541.24 Z\" fill=\"#000000\" fill-rule=\"evenodd\" fill-opacity=\"1\" /><path clip-path=\"url(#clip890)\" d=\"M 0 0 M1256.7 1512.56 L1275.06 1512.56 L1275.06 1516.5 L1260.98 1516.5 L1260.98 1524.97 Q1262 1524.62 1263.02 1524.46 Q1264.04 1524.27 1265.06 1524.27 Q1270.85 1524.27 1274.23 1527.44 Q1277.61 1530.62 1277.61 1536.03 Q1277.61 1541.61 1274.13 1544.71 Q1270.66 1547.79 1264.34 1547.79 Q1262.17 1547.79 1259.9 1547.42 Q1257.65 1547.05 1255.24 1546.31 L1255.24 1541.61 Q1257.33 1542.74 1259.55 1543.3 Q1261.77 1543.86 1264.25 1543.86 Q1268.25 1543.86 1270.59 1541.75 Q1272.93 1539.64 1272.93 1536.03 Q1272.93 1532.42 1270.59 1530.31 Q1268.25 1528.21 1264.25 1528.21 Q1262.37 1528.21 1260.5 1528.62 Q1258.65 1529.04 1256.7 1529.92 L1256.7 1512.56 Z\" fill=\"#000000\" fill-rule=\"evenodd\" fill-opacity=\"1\" /><path clip-path=\"url(#clip890)\" d=\"M 0 0 M1292.67 1515.64 Q1289.06 1515.64 1287.23 1519.2 Q1285.43 1522.75 1285.43 1529.87 Q1285.43 1536.98 1287.23 1540.55 Q1289.06 1544.09 1292.67 1544.09 Q1296.31 1544.09 1298.11 1540.55 Q1299.94 1536.98 1299.94 1529.87 Q1299.94 1522.75 1298.11 1519.2 Q1296.31 1515.64 1292.67 1515.64 M1292.67 1511.93 Q1298.48 1511.93 1301.54 1516.54 Q1304.62 1521.12 1304.62 1529.87 Q1304.62 1538.6 1301.54 1543.21 Q1298.48 1547.79 1292.67 1547.79 Q1286.86 1547.79 1283.79 1543.21 Q1280.73 1538.6 1280.73 1529.87 Q1280.73 1521.12 1283.79 1516.54 Q1286.86 1511.93 1292.67 1511.93 Z\" fill=\"#000000\" fill-rule=\"evenodd\" fill-opacity=\"1\" /><path clip-path=\"url(#clip890)\" d=\"M 0 0 M1736.29 1543.18 L1743.93 1543.18 L1743.93 1516.82 L1735.62 1518.49 L1735.62 1514.23 L1743.88 1512.56 L1748.56 1512.56 L1748.56 1543.18 L1756.2 1543.18 L1756.2 1547.12 L1736.29 1547.12 L1736.29 1543.18 Z\" fill=\"#000000\" fill-rule=\"evenodd\" fill-opacity=\"1\" /><path clip-path=\"url(#clip890)\" d=\"M 0 0 M1761.27 1541.24 L1766.15 1541.24 L1766.15 1547.12 L1761.27 1547.12 L1761.27 1541.24 Z\" fill=\"#000000\" fill-rule=\"evenodd\" fill-opacity=\"1\" /><path clip-path=\"url(#clip890)\" d=\"M 0 0 M1770.04 1512.56 L1792.26 1512.56 L1792.26 1514.55 L1779.72 1547.12 L1774.83 1547.12 L1786.64 1516.5 L1770.04 1516.5 L1770.04 1512.56 Z\" fill=\"#000000\" fill-rule=\"evenodd\" fill-opacity=\"1\" /><path clip-path=\"url(#clip890)\" d=\"M 0 0 M1797.38 1512.56 L1815.73 1512.56 L1815.73 1516.5 L1801.66 1516.5 L1801.66 1524.97 Q1802.68 1524.62 1803.7 1524.46 Q1804.72 1524.27 1805.73 1524.27 Q1811.52 1524.27 1814.9 1527.44 Q1818.28 1530.62 1818.28 1536.03 Q1818.28 1541.61 1814.81 1544.71 Q1811.34 1547.79 1805.02 1547.79 Q1802.84 1547.79 1800.57 1547.42 Q1798.33 1547.05 1795.92 1546.31 L1795.92 1541.61 Q1798 1542.74 1800.22 1543.3 Q1802.45 1543.86 1804.92 1543.86 Q1808.93 1543.86 1811.27 1541.75 Q1813.6 1539.64 1813.6 1536.03 Q1813.6 1532.42 1811.27 1530.31 Q1808.93 1528.21 1804.92 1528.21 Q1803.05 1528.21 1801.17 1528.62 Q1799.32 1529.04 1797.38 1529.92 L1797.38 1512.56 Z\" fill=\"#000000\" fill-rule=\"evenodd\" fill-opacity=\"1\" /><path clip-path=\"url(#clip890)\" d=\"M 0 0 M2253.72 1543.18 L2270.04 1543.18 L2270.04 1547.12 L2248.1 1547.12 L2248.1 1543.18 Q2250.76 1540.43 2255.34 1535.8 Q2259.95 1531.15 2261.13 1529.81 Q2263.38 1527.28 2264.26 1525.55 Q2265.16 1523.79 2265.16 1522.1 Q2265.16 1519.34 2263.22 1517.61 Q2261.29 1515.87 2258.19 1515.87 Q2255.99 1515.87 2253.54 1516.63 Q2251.11 1517.4 2248.33 1518.95 L2248.33 1514.23 Q2251.16 1513.09 2253.61 1512.51 Q2256.06 1511.93 2258.1 1511.93 Q2263.47 1511.93 2266.66 1514.62 Q2269.86 1517.31 2269.86 1521.8 Q2269.86 1523.93 2269.05 1525.85 Q2268.26 1527.74 2266.16 1530.34 Q2265.58 1531.01 2262.47 1534.23 Q2259.37 1537.42 2253.72 1543.18 Z\" fill=\"#000000\" fill-rule=\"evenodd\" fill-opacity=\"1\" /><path clip-path=\"url(#clip890)\" d=\"M 0 0 M2275.11 1541.24 L2280 1541.24 L2280 1547.12 L2275.11 1547.12 L2275.11 1541.24 Z\" fill=\"#000000\" fill-rule=\"evenodd\" fill-opacity=\"1\" /><path clip-path=\"url(#clip890)\" d=\"M 0 0 M2295.07 1515.64 Q2291.46 1515.64 2289.63 1519.2 Q2287.82 1522.75 2287.82 1529.87 Q2287.82 1536.98 2289.63 1540.55 Q2291.46 1544.09 2295.07 1544.09 Q2298.7 1544.09 2300.51 1540.55 Q2302.34 1536.98 2302.34 1529.87 Q2302.34 1522.75 2300.51 1519.2 Q2298.7 1515.64 2295.07 1515.64 M2295.07 1511.93 Q2300.88 1511.93 2303.93 1516.54 Q2307.01 1521.12 2307.01 1529.87 Q2307.01 1538.6 2303.93 1543.21 Q2300.88 1547.79 2295.07 1547.79 Q2289.26 1547.79 2286.18 1543.21 Q2283.12 1538.6 2283.12 1529.87 Q2283.12 1521.12 2286.18 1516.54 Q2289.26 1511.93 2295.07 1511.93 Z\" fill=\"#000000\" fill-rule=\"evenodd\" fill-opacity=\"1\" /><path clip-path=\"url(#clip890)\" d=\"M 0 0 M2322.08 1515.64 Q2318.47 1515.64 2316.64 1519.2 Q2314.84 1522.75 2314.84 1529.87 Q2314.84 1536.98 2316.64 1540.55 Q2318.47 1544.09 2322.08 1544.09 Q2325.71 1544.09 2327.52 1540.55 Q2329.35 1536.98 2329.35 1529.87 Q2329.35 1522.75 2327.52 1519.2 Q2325.71 1515.64 2322.08 1515.64 M2322.08 1511.93 Q2327.89 1511.93 2330.95 1516.54 Q2334.03 1521.12 2334.03 1529.87 Q2334.03 1538.6 2330.95 1543.21 Q2327.89 1547.79 2322.08 1547.79 Q2316.27 1547.79 2313.19 1543.21 Q2310.14 1538.6 2310.14 1529.87 Q2310.14 1521.12 2313.19 1516.54 Q2316.27 1511.93 2322.08 1511.93 Z\" fill=\"#000000\" fill-rule=\"evenodd\" fill-opacity=\"1\" /><polyline clip-path=\"url(#clip892)\" style=\"stroke:#000000; stroke-width:2; stroke-opacity:0.1; fill:none\" points=\"\n",
       "  172.918,1464.8 2352.76,1464.8 \n",
       "  \"/>\n",
       "<polyline clip-path=\"url(#clip892)\" style=\"stroke:#000000; stroke-width:2; stroke-opacity:0.1; fill:none\" points=\"\n",
       "  172.918,1179.4 2352.76,1179.4 \n",
       "  \"/>\n",
       "<polyline clip-path=\"url(#clip892)\" style=\"stroke:#000000; stroke-width:2; stroke-opacity:0.1; fill:none\" points=\"\n",
       "  172.918,894.005 2352.76,894.005 \n",
       "  \"/>\n",
       "<polyline clip-path=\"url(#clip892)\" style=\"stroke:#000000; stroke-width:2; stroke-opacity:0.1; fill:none\" points=\"\n",
       "  172.918,608.607 2352.76,608.607 \n",
       "  \"/>\n",
       "<polyline clip-path=\"url(#clip892)\" style=\"stroke:#000000; stroke-width:2; stroke-opacity:0.1; fill:none\" points=\"\n",
       "  172.918,323.209 2352.76,323.209 \n",
       "  \"/>\n",
       "<polyline clip-path=\"url(#clip890)\" style=\"stroke:#000000; stroke-width:4; stroke-opacity:1; fill:none\" points=\"\n",
       "  172.918,1486.45 172.918,123.472 \n",
       "  \"/>\n",
       "<polyline clip-path=\"url(#clip890)\" style=\"stroke:#000000; stroke-width:4; stroke-opacity:1; fill:none\" points=\"\n",
       "  172.918,1464.8 199.076,1464.8 \n",
       "  \"/>\n",
       "<polyline clip-path=\"url(#clip890)\" style=\"stroke:#000000; stroke-width:4; stroke-opacity:1; fill:none\" points=\"\n",
       "  172.918,1179.4 199.076,1179.4 \n",
       "  \"/>\n",
       "<polyline clip-path=\"url(#clip890)\" style=\"stroke:#000000; stroke-width:4; stroke-opacity:1; fill:none\" points=\"\n",
       "  172.918,894.005 199.076,894.005 \n",
       "  \"/>\n",
       "<polyline clip-path=\"url(#clip890)\" style=\"stroke:#000000; stroke-width:4; stroke-opacity:1; fill:none\" points=\"\n",
       "  172.918,608.607 199.076,608.607 \n",
       "  \"/>\n",
       "<polyline clip-path=\"url(#clip890)\" style=\"stroke:#000000; stroke-width:4; stroke-opacity:1; fill:none\" points=\"\n",
       "  172.918,323.209 199.076,323.209 \n",
       "  \"/>\n",
       "<path clip-path=\"url(#clip890)\" d=\"M 0 0 M54.0245 1478.15 L61.6634 1478.15 L61.6634 1451.78 L53.3532 1453.45 L53.3532 1449.19 L61.6171 1447.52 L66.293 1447.52 L66.293 1478.15 L73.9318 1478.15 L73.9318 1482.08 L54.0245 1482.08 L54.0245 1478.15 Z\" fill=\"#000000\" fill-rule=\"evenodd\" fill-opacity=\"1\" /><path clip-path=\"url(#clip890)\" d=\"M 0 0 M79.0012 1476.2 L83.8855 1476.2 L83.8855 1482.08 L79.0012 1482.08 L79.0012 1476.2 Z\" fill=\"#000000\" fill-rule=\"evenodd\" fill-opacity=\"1\" /><path clip-path=\"url(#clip890)\" d=\"M 0 0 M89.0012 1447.52 L107.358 1447.52 L107.358 1451.46 L93.2836 1451.46 L93.2836 1459.93 Q94.3021 1459.58 95.3206 1459.42 Q96.3391 1459.23 97.3576 1459.23 Q103.145 1459.23 106.524 1462.41 Q109.904 1465.58 109.904 1470.99 Q109.904 1476.57 106.432 1479.67 Q102.959 1482.75 96.64 1482.75 Q94.4641 1482.75 92.1956 1482.38 Q89.9503 1482.01 87.5429 1481.27 L87.5429 1476.57 Q89.6262 1477.71 91.8484 1478.26 Q94.0706 1478.82 96.5474 1478.82 Q100.552 1478.82 102.89 1476.71 Q105.228 1474.6 105.228 1470.99 Q105.228 1467.38 102.89 1465.28 Q100.552 1463.17 96.5474 1463.17 Q94.6724 1463.17 92.7975 1463.59 Q90.9456 1464 89.0012 1464.88 L89.0012 1447.52 Z\" fill=\"#000000\" fill-rule=\"evenodd\" fill-opacity=\"1\" /><path clip-path=\"url(#clip890)\" d=\"M 0 0 M124.973 1450.6 Q121.362 1450.6 119.533 1454.16 Q117.728 1457.71 117.728 1464.84 Q117.728 1471.94 119.533 1475.51 Q121.362 1479.05 124.973 1479.05 Q128.607 1479.05 130.413 1475.51 Q132.242 1471.94 132.242 1464.84 Q132.242 1457.71 130.413 1454.16 Q128.607 1450.6 124.973 1450.6 M124.973 1446.9 Q130.783 1446.9 133.839 1451.5 Q136.918 1456.09 136.918 1464.84 Q136.918 1473.56 133.839 1478.17 Q130.783 1482.75 124.973 1482.75 Q119.163 1482.75 116.084 1478.17 Q113.029 1473.56 113.029 1464.84 Q113.029 1456.09 116.084 1451.5 Q119.163 1446.9 124.973 1446.9 Z\" fill=\"#000000\" fill-rule=\"evenodd\" fill-opacity=\"1\" /><path clip-path=\"url(#clip890)\" d=\"M 0 0 M54.9273 1192.75 L62.5661 1192.75 L62.5661 1166.38 L54.256 1168.05 L54.256 1163.79 L62.5198 1162.12 L67.1957 1162.12 L67.1957 1192.75 L74.8346 1192.75 L74.8346 1196.68 L54.9273 1196.68 L54.9273 1192.75 Z\" fill=\"#000000\" fill-rule=\"evenodd\" fill-opacity=\"1\" /><path clip-path=\"url(#clip890)\" d=\"M 0 0 M79.904 1190.8 L84.7882 1190.8 L84.7882 1196.68 L79.904 1196.68 L79.904 1190.8 Z\" fill=\"#000000\" fill-rule=\"evenodd\" fill-opacity=\"1\" /><path clip-path=\"url(#clip890)\" d=\"M 0 0 M88.6771 1162.12 L110.899 1162.12 L110.899 1164.11 L98.353 1196.68 L93.4688 1196.68 L105.274 1166.06 L88.6771 1166.06 L88.6771 1162.12 Z\" fill=\"#000000\" fill-rule=\"evenodd\" fill-opacity=\"1\" /><path clip-path=\"url(#clip890)\" d=\"M 0 0 M116.015 1162.12 L134.371 1162.12 L134.371 1166.06 L120.297 1166.06 L120.297 1174.53 Q121.316 1174.18 122.334 1174.02 Q123.353 1173.84 124.371 1173.84 Q130.158 1173.84 133.538 1177.01 Q136.918 1180.18 136.918 1185.6 Q136.918 1191.17 133.445 1194.28 Q129.973 1197.35 123.654 1197.35 Q121.478 1197.35 119.209 1196.98 Q116.964 1196.61 114.557 1195.87 L114.557 1191.17 Q116.64 1192.31 118.862 1192.86 Q121.084 1193.42 123.561 1193.42 Q127.566 1193.42 129.904 1191.31 Q132.242 1189.21 132.242 1185.6 Q132.242 1181.98 129.904 1179.88 Q127.566 1177.77 123.561 1177.77 Q121.686 1177.77 119.811 1178.19 Q117.959 1178.6 116.015 1179.48 L116.015 1162.12 Z\" fill=\"#000000\" fill-rule=\"evenodd\" fill-opacity=\"1\" /><path clip-path=\"url(#clip890)\" d=\"M 0 0 M56.6171 907.35 L72.9365 907.35 L72.9365 911.285 L50.9921 911.285 L50.9921 907.35 Q53.6541 904.595 58.2375 899.966 Q62.8439 895.313 64.0245 893.97 Q66.2698 891.447 67.1494 889.711 Q68.0522 887.952 68.0522 886.262 Q68.0522 883.507 66.1078 881.771 Q64.1865 880.035 61.0847 880.035 Q58.8856 880.035 56.4319 880.799 Q54.0014 881.563 51.2236 883.114 L51.2236 878.392 Q54.0477 877.257 56.5014 876.679 Q58.955 876.1 60.9921 876.1 Q66.3624 876.1 69.5568 878.785 Q72.7513 881.47 72.7513 885.961 Q72.7513 888.091 71.9411 890.012 Q71.1541 891.91 69.0476 894.503 Q68.4689 895.174 65.367 898.392 Q62.2652 901.586 56.6171 907.35 Z\" fill=\"#000000\" fill-rule=\"evenodd\" fill-opacity=\"1\" /><path clip-path=\"url(#clip890)\" d=\"M 0 0 M78.0059 905.405 L82.8901 905.405 L82.8901 911.285 L78.0059 911.285 L78.0059 905.405 Z\" fill=\"#000000\" fill-rule=\"evenodd\" fill-opacity=\"1\" /><path clip-path=\"url(#clip890)\" d=\"M 0 0 M97.9595 879.804 Q94.3484 879.804 92.5197 883.369 Q90.7141 886.91 90.7141 894.04 Q90.7141 901.146 92.5197 904.711 Q94.3484 908.253 97.9595 908.253 Q101.594 908.253 103.399 904.711 Q105.228 901.146 105.228 894.04 Q105.228 886.91 103.399 883.369 Q101.594 879.804 97.9595 879.804 M97.9595 876.1 Q103.77 876.1 106.825 880.706 Q109.904 885.29 109.904 894.04 Q109.904 902.767 106.825 907.373 Q103.77 911.956 97.9595 911.956 Q92.1493 911.956 89.0706 907.373 Q86.0151 902.767 86.0151 894.04 Q86.0151 885.29 89.0706 880.706 Q92.1493 876.1 97.9595 876.1 Z\" fill=\"#000000\" fill-rule=\"evenodd\" fill-opacity=\"1\" /><path clip-path=\"url(#clip890)\" d=\"M 0 0 M124.973 879.804 Q121.362 879.804 119.533 883.369 Q117.728 886.91 117.728 894.04 Q117.728 901.146 119.533 904.711 Q121.362 908.253 124.973 908.253 Q128.607 908.253 130.413 904.711 Q132.242 901.146 132.242 894.04 Q132.242 886.91 130.413 883.369 Q128.607 879.804 124.973 879.804 M124.973 876.1 Q130.783 876.1 133.839 880.706 Q136.918 885.29 136.918 894.04 Q136.918 902.767 133.839 907.373 Q130.783 911.956 124.973 911.956 Q119.163 911.956 116.084 907.373 Q113.029 902.767 113.029 894.04 Q113.029 885.29 116.084 880.706 Q119.163 876.1 124.973 876.1 Z\" fill=\"#000000\" fill-rule=\"evenodd\" fill-opacity=\"1\" /><path clip-path=\"url(#clip890)\" d=\"M 0 0 M59.2097 621.952 L75.529 621.952 L75.529 625.887 L53.5847 625.887 L53.5847 621.952 Q56.2467 619.197 60.83 614.567 Q65.4365 609.915 66.617 608.572 Q68.8624 606.049 69.742 604.313 Q70.6448 602.554 70.6448 600.864 Q70.6448 598.109 68.7004 596.373 Q66.7791 594.637 63.6772 594.637 Q61.4782 594.637 59.0245 595.401 Q56.5939 596.165 53.8162 597.716 L53.8162 592.994 Q56.6402 591.859 59.0939 591.281 Q61.5476 590.702 63.5847 590.702 Q68.955 590.702 72.1494 593.387 Q75.3438 596.072 75.3438 600.563 Q75.3438 602.693 74.5337 604.614 Q73.7466 606.512 71.6402 609.105 Q71.0615 609.776 67.9596 612.993 Q64.8578 616.188 59.2097 621.952 Z\" fill=\"#000000\" fill-rule=\"evenodd\" fill-opacity=\"1\" /><path clip-path=\"url(#clip890)\" d=\"M 0 0 M80.5984 620.007 L85.4827 620.007 L85.4827 625.887 L80.5984 625.887 L80.5984 620.007 Z\" fill=\"#000000\" fill-rule=\"evenodd\" fill-opacity=\"1\" /><path clip-path=\"url(#clip890)\" d=\"M 0 0 M94.5799 621.952 L110.899 621.952 L110.899 625.887 L88.9549 625.887 L88.9549 621.952 Q91.6169 619.197 96.2002 614.567 Q100.807 609.915 101.987 608.572 Q104.233 606.049 105.112 604.313 Q106.015 602.554 106.015 600.864 Q106.015 598.109 104.071 596.373 Q102.149 594.637 99.0474 594.637 Q96.8484 594.637 94.3947 595.401 Q91.9641 596.165 89.1864 597.716 L89.1864 592.994 Q92.0104 591.859 94.4641 591.281 Q96.9178 590.702 98.9548 590.702 Q104.325 590.702 107.52 593.387 Q110.714 596.072 110.714 600.563 Q110.714 602.693 109.904 604.614 Q109.117 606.512 107.01 609.105 Q106.432 609.776 103.33 612.993 Q100.228 616.188 94.5799 621.952 Z\" fill=\"#000000\" fill-rule=\"evenodd\" fill-opacity=\"1\" /><path clip-path=\"url(#clip890)\" d=\"M 0 0 M116.015 591.327 L134.371 591.327 L134.371 595.262 L120.297 595.262 L120.297 603.734 Q121.316 603.387 122.334 603.225 Q123.353 603.04 124.371 603.04 Q130.158 603.04 133.538 606.211 Q136.918 609.382 136.918 614.799 Q136.918 620.378 133.445 623.479 Q129.973 626.558 123.654 626.558 Q121.478 626.558 119.209 626.188 Q116.964 625.817 114.557 625.077 L114.557 620.378 Q116.64 621.512 118.862 622.067 Q121.084 622.623 123.561 622.623 Q127.566 622.623 129.904 620.517 Q132.242 618.41 132.242 614.799 Q132.242 611.188 129.904 609.081 Q127.566 606.975 123.561 606.975 Q121.686 606.975 119.811 607.392 Q117.959 607.808 116.015 608.688 L116.015 591.327 Z\" fill=\"#000000\" fill-rule=\"evenodd\" fill-opacity=\"1\" /><path clip-path=\"url(#clip890)\" d=\"M 0 0 M57.6125 336.554 L73.9318 336.554 L73.9318 340.489 L51.9875 340.489 L51.9875 336.554 Q54.6495 333.799 59.2328 329.169 Q63.8393 324.517 65.0198 323.174 Q67.2652 320.651 68.1448 318.915 Q69.0476 317.155 69.0476 315.466 Q69.0476 312.711 67.1032 310.975 Q65.1819 309.239 62.08 309.239 Q59.881 309.239 57.4273 310.003 Q54.9967 310.767 52.219 312.318 L52.219 307.595 Q55.043 306.461 57.4967 305.882 Q59.9504 305.304 61.9874 305.304 Q67.3578 305.304 70.5522 307.989 Q73.7466 310.674 73.7466 315.165 Q73.7466 317.294 72.9365 319.216 Q72.1494 321.114 70.0429 323.706 Q69.4642 324.378 66.3624 327.595 Q63.2606 330.79 57.6125 336.554 Z\" fill=\"#000000\" fill-rule=\"evenodd\" fill-opacity=\"1\" /><path clip-path=\"url(#clip890)\" d=\"M 0 0 M79.0012 334.609 L83.8855 334.609 L83.8855 340.489 L79.0012 340.489 L79.0012 334.609 Z\" fill=\"#000000\" fill-rule=\"evenodd\" fill-opacity=\"1\" /><path clip-path=\"url(#clip890)\" d=\"M 0 0 M89.0012 305.929 L107.358 305.929 L107.358 309.864 L93.2836 309.864 L93.2836 318.336 Q94.3021 317.989 95.3206 317.827 Q96.3391 317.642 97.3576 317.642 Q103.145 317.642 106.524 320.813 Q109.904 323.984 109.904 329.401 Q109.904 334.979 106.432 338.081 Q102.959 341.16 96.64 341.16 Q94.4641 341.16 92.1956 340.79 Q89.9503 340.419 87.5429 339.679 L87.5429 334.979 Q89.6262 336.114 91.8484 336.669 Q94.0706 337.225 96.5474 337.225 Q100.552 337.225 102.89 335.118 Q105.228 333.012 105.228 329.401 Q105.228 325.79 102.89 323.683 Q100.552 321.577 96.5474 321.577 Q94.6724 321.577 92.7975 321.993 Q90.9456 322.41 89.0012 323.29 L89.0012 305.929 Z\" fill=\"#000000\" fill-rule=\"evenodd\" fill-opacity=\"1\" /><path clip-path=\"url(#clip890)\" d=\"M 0 0 M124.973 309.007 Q121.362 309.007 119.533 312.572 Q117.728 316.114 117.728 323.243 Q117.728 330.35 119.533 333.915 Q121.362 337.456 124.973 337.456 Q128.607 337.456 130.413 333.915 Q132.242 330.35 132.242 323.243 Q132.242 316.114 130.413 312.572 Q128.607 309.007 124.973 309.007 M124.973 305.304 Q130.783 305.304 133.839 309.91 Q136.918 314.493 136.918 323.243 Q136.918 331.97 133.839 336.577 Q130.783 341.16 124.973 341.16 Q119.163 341.16 116.084 336.577 Q113.029 331.97 113.029 323.243 Q113.029 314.493 116.084 309.91 Q119.163 305.304 124.973 305.304 Z\" fill=\"#000000\" fill-rule=\"evenodd\" fill-opacity=\"1\" /><path clip-path=\"url(#clip890)\" d=\"M 0 0 M955.535 35.3077 Q958.006 31.1758 964.123 27.5299 Q966.513 26.1121 973.886 26.1121 Q982.15 26.1121 987.294 32.6746 Q992.479 39.2371 992.479 49.9314 Q992.479 60.6258 987.294 67.1883 Q982.15 73.7508 973.886 73.7508 Q968.903 73.7508 965.298 71.8063 Q961.733 69.8214 959.384 65.7705 L959.384 89.8329 L951.889 89.8329 L951.889 50.3365 Q951.889 40.9789 955.535 35.3077 M984.742 49.9314 Q984.742 41.7081 981.339 37.0496 Q977.977 32.3505 972.063 32.3505 Q966.149 32.3505 962.746 37.0496 Q959.384 41.7081 959.384 49.9314 Q959.384 58.1548 962.746 62.8538 Q966.149 67.5124 972.063 67.5124 Q977.977 67.5124 981.339 62.8538 Q984.742 58.1548 984.742 49.9314 Z\" fill=\"#000000\" fill-rule=\"evenodd\" fill-opacity=\"1\" /><path clip-path=\"url(#clip890)\" d=\"M 0 0 M1049.64 9.54393 L1049.64 15.7418 L1042.51 15.7418 Q1038.5 15.7418 1036.92 17.3622 Q1035.38 18.9825 1035.38 23.1955 L1035.38 27.2059 L1047.65 27.2059 L1047.65 32.9987 L1035.38 32.9987 L1035.38 72.576 L1027.88 72.576 L1027.88 32.9987 L1020.75 32.9987 L1020.75 27.2059 L1027.88 27.2059 L1027.88 24.0462 Q1027.88 16.471 1031.41 13.0277 Q1034.93 9.54393 1042.59 9.54393 L1049.64 9.54393 Z\" fill=\"#000000\" fill-rule=\"evenodd\" fill-opacity=\"1\" /><path clip-path=\"url(#clip890)\" d=\"M 0 0 M1075.04 32.4315 Q1069.04 32.4315 1065.56 37.1306 Q1062.07 41.7891 1062.07 49.9314 Q1062.07 58.0738 1065.52 62.7728 Q1069 67.4314 1075.04 67.4314 Q1080.99 67.4314 1084.48 62.7323 Q1087.96 58.0333 1087.96 49.9314 Q1087.96 41.8701 1084.48 37.1711 Q1080.99 32.4315 1075.04 32.4315 M1075.04 26.1121 Q1084.76 26.1121 1090.31 32.4315 Q1095.86 38.7509 1095.86 49.9314 Q1095.86 61.0714 1090.31 67.4314 Q1084.76 73.7508 1075.04 73.7508 Q1065.27 73.7508 1059.72 67.4314 Q1054.22 61.0714 1054.22 49.9314 Q1054.22 38.7509 1059.72 32.4315 Q1065.27 26.1121 1075.04 26.1121 Z\" fill=\"#000000\" fill-rule=\"evenodd\" fill-opacity=\"1\" /><path clip-path=\"url(#clip890)\" d=\"M 0 0 M1129.97 34.1734 Q1128.71 33.4443 1127.21 33.1202 Q1125.75 32.7556 1123.97 32.7556 Q1117.65 32.7556 1114.25 36.8875 Q1110.89 40.9789 1110.89 48.6757 L1110.89 72.576 L1103.39 72.576 L1103.39 27.2059 L1110.89 27.2059 L1110.89 34.2544 Q1113.24 30.1225 1117 28.1376 Q1120.77 26.1121 1126.16 26.1121 Q1126.93 26.1121 1127.86 26.2337 Q1128.79 26.3147 1129.93 26.5172 L1129.97 34.1734 Z\" fill=\"#000000\" fill-rule=\"evenodd\" fill-opacity=\"1\" /><path clip-path=\"url(#clip890)\" d=\"M 0 0 M1172.26 65.6895 L1200.82 65.6895 L1200.82 72.576 L1162.41 72.576 L1162.41 65.6895 Q1167.07 60.8689 1175.09 52.7671 Q1183.16 44.6248 1185.22 42.2752 Q1189.15 37.8598 1190.69 34.8216 Q1192.27 31.7429 1192.27 28.7857 Q1192.27 23.9651 1188.87 20.927 Q1185.5 17.8888 1180.08 17.8888 Q1176.23 17.8888 1171.93 19.2256 Q1167.68 20.5624 1162.82 23.2765 L1162.82 15.0127 Q1167.76 13.0277 1172.06 12.015 Q1176.35 11.0023 1179.91 11.0023 Q1189.31 11.0023 1194.9 15.7013 Q1200.49 20.4004 1200.49 28.2591 Q1200.49 31.9859 1199.08 35.3482 Q1197.7 38.6699 1194.01 43.2069 Q1193 44.3817 1187.57 50.0125 Q1182.14 55.6027 1172.26 65.6895 Z\" fill=\"#000000\" fill-rule=\"evenodd\" fill-opacity=\"1\" /><path clip-path=\"url(#clip890)\" d=\"M 0 0 M1235.01 27.2059 L1242.46 27.2059 L1242.46 72.576 L1235.01 72.576 L1235.01 27.2059 M1235.01 9.54393 L1242.46 9.54393 L1242.46 18.9825 L1235.01 18.9825 L1235.01 9.54393 Z\" fill=\"#000000\" fill-rule=\"evenodd\" fill-opacity=\"1\" /><path clip-path=\"url(#clip890)\" d=\"M 0 0 M1257.65 14.324 L1257.65 27.2059 L1273 27.2059 L1273 32.9987 L1257.65 32.9987 L1257.65 57.6282 Q1257.65 63.1779 1259.15 64.7578 Q1260.69 66.3376 1265.35 66.3376 L1273 66.3376 L1273 72.576 L1265.35 72.576 Q1256.72 72.576 1253.44 69.3758 Q1250.16 66.1351 1250.16 57.6282 L1250.16 32.9987 L1244.69 32.9987 L1244.69 27.2059 L1250.16 27.2059 L1250.16 14.324 L1257.65 14.324 Z\" fill=\"#000000\" fill-rule=\"evenodd\" fill-opacity=\"1\" /><path clip-path=\"url(#clip890)\" d=\"M 0 0 M1319.63 48.0275 L1319.63 51.6733 L1285.36 51.6733 Q1285.85 59.3701 1289.98 63.421 Q1294.15 67.4314 1301.56 67.4314 Q1305.86 67.4314 1309.87 66.3781 Q1313.92 65.3249 1317.89 63.2184 L1317.89 70.267 Q1313.88 71.9684 1309.67 72.8596 Q1305.45 73.7508 1301.12 73.7508 Q1290.26 73.7508 1283.9 67.4314 Q1277.58 61.1119 1277.58 50.3365 Q1277.58 39.1965 1283.58 32.6746 Q1289.61 26.1121 1299.82 26.1121 Q1308.98 26.1121 1314.28 32.0264 Q1319.63 37.9003 1319.63 48.0275 M1312.18 45.84 Q1312.1 39.7232 1308.73 36.0774 Q1305.41 32.4315 1299.9 32.4315 Q1293.66 32.4315 1289.9 35.9558 Q1286.17 39.4801 1285.6 45.8805 L1312.18 45.84 Z\" fill=\"#000000\" fill-rule=\"evenodd\" fill-opacity=\"1\" /><path clip-path=\"url(#clip890)\" d=\"M 0 0 M1353.74 34.1734 Q1352.48 33.4443 1350.98 33.1202 Q1349.53 32.7556 1347.74 32.7556 Q1341.42 32.7556 1338.02 36.8875 Q1334.66 40.9789 1334.66 48.6757 L1334.66 72.576 L1327.17 72.576 L1327.17 27.2059 L1334.66 27.2059 L1334.66 34.2544 Q1337.01 30.1225 1340.78 28.1376 Q1344.54 26.1121 1349.93 26.1121 Q1350.7 26.1121 1351.63 26.2337 Q1352.56 26.3147 1353.7 26.5172 L1353.74 34.1734 Z\" fill=\"#000000\" fill-rule=\"evenodd\" fill-opacity=\"1\" /><path clip-path=\"url(#clip890)\" d=\"M 0 0 M1382.18 49.7694 Q1373.14 49.7694 1369.66 51.8354 Q1366.18 53.9013 1366.18 58.8839 Q1366.18 62.8538 1368.77 65.2034 Q1371.4 67.5124 1375.9 67.5124 Q1382.1 67.5124 1385.82 63.1374 Q1389.59 58.7219 1389.59 51.4303 L1389.59 49.7694 L1382.18 49.7694 M1397.04 46.6907 L1397.04 72.576 L1389.59 72.576 L1389.59 65.6895 Q1387.04 69.8214 1383.23 71.8063 Q1379.42 73.7508 1373.91 73.7508 Q1366.94 73.7508 1362.81 69.8619 Q1358.72 65.9325 1358.72 59.3701 Q1358.72 51.7138 1363.83 47.825 Q1368.97 43.9361 1379.14 43.9361 L1389.59 43.9361 L1389.59 43.2069 Q1389.59 38.0623 1386.19 35.2672 Q1382.82 32.4315 1376.71 32.4315 Q1372.82 32.4315 1369.13 33.3632 Q1365.45 34.295 1362.04 36.1584 L1362.04 29.2718 Q1366.13 27.692 1369.98 26.9223 Q1373.83 26.1121 1377.48 26.1121 Q1387.32 26.1121 1392.18 31.2163 Q1397.04 36.3204 1397.04 46.6907 Z\" fill=\"#000000\" fill-rule=\"evenodd\" fill-opacity=\"1\" /><path clip-path=\"url(#clip890)\" d=\"M 0 0 M1412.23 14.324 L1412.23 27.2059 L1427.59 27.2059 L1427.59 32.9987 L1412.23 32.9987 L1412.23 57.6282 Q1412.23 63.1779 1413.73 64.7578 Q1415.27 66.3376 1419.93 66.3376 L1427.59 66.3376 L1427.59 72.576 L1419.93 72.576 Q1411.3 72.576 1408.02 69.3758 Q1404.74 66.1351 1404.74 57.6282 L1404.74 32.9987 L1399.27 32.9987 L1399.27 27.2059 L1404.74 27.2059 L1404.74 14.324 L1412.23 14.324 Z\" fill=\"#000000\" fill-rule=\"evenodd\" fill-opacity=\"1\" /><path clip-path=\"url(#clip890)\" d=\"M 0 0 M1435.41 27.2059 L1442.86 27.2059 L1442.86 72.576 L1435.41 72.576 L1435.41 27.2059 M1435.41 9.54393 L1442.86 9.54393 L1442.86 18.9825 L1435.41 18.9825 L1435.41 9.54393 Z\" fill=\"#000000\" fill-rule=\"evenodd\" fill-opacity=\"1\" /><path clip-path=\"url(#clip890)\" d=\"M 0 0 M1468.26 32.4315 Q1462.26 32.4315 1458.78 37.1306 Q1455.3 41.7891 1455.3 49.9314 Q1455.3 58.0738 1458.74 62.7728 Q1462.22 67.4314 1468.26 67.4314 Q1474.21 67.4314 1477.7 62.7323 Q1481.18 58.0333 1481.18 49.9314 Q1481.18 41.8701 1477.7 37.1711 Q1474.21 32.4315 1468.26 32.4315 M1468.26 26.1121 Q1477.98 26.1121 1483.53 32.4315 Q1489.08 38.7509 1489.08 49.9314 Q1489.08 61.0714 1483.53 67.4314 Q1477.98 73.7508 1468.26 73.7508 Q1458.5 73.7508 1452.95 67.4314 Q1447.44 61.0714 1447.44 49.9314 Q1447.44 38.7509 1452.95 32.4315 Q1458.5 26.1121 1468.26 26.1121 Z\" fill=\"#000000\" fill-rule=\"evenodd\" fill-opacity=\"1\" /><path clip-path=\"url(#clip890)\" d=\"M 0 0 M1534.61 45.1919 L1534.61 72.576 L1527.16 72.576 L1527.16 45.4349 Q1527.16 38.994 1524.65 35.7938 Q1522.14 32.5936 1517.11 32.5936 Q1511.08 32.5936 1507.59 36.4419 Q1504.11 40.2903 1504.11 46.9338 L1504.11 72.576 L1496.61 72.576 L1496.61 27.2059 L1504.11 27.2059 L1504.11 34.2544 Q1506.78 30.163 1510.39 28.1376 Q1514.03 26.1121 1518.77 26.1121 Q1526.59 26.1121 1530.6 30.9732 Q1534.61 35.7938 1534.61 45.1919 Z\" fill=\"#000000\" fill-rule=\"evenodd\" fill-opacity=\"1\" /><path clip-path=\"url(#clip890)\" d=\"M 0 0 M1571.35 28.5427 L1571.35 35.5912 Q1568.19 33.9709 1564.79 33.1607 Q1561.39 32.3505 1557.74 32.3505 Q1552.19 32.3505 1549.4 34.0519 Q1546.64 35.7533 1546.64 39.156 Q1546.64 41.7486 1548.63 43.2475 Q1550.61 44.7058 1556.61 46.0426 L1559.16 46.6097 Q1567.1 48.3111 1570.42 51.4303 Q1573.78 54.509 1573.78 60.0587 Q1573.78 66.3781 1568.76 70.0644 Q1563.78 73.7508 1555.03 73.7508 Q1551.38 73.7508 1547.41 73.0216 Q1543.48 72.3329 1539.11 70.9151 L1539.11 63.2184 Q1543.24 65.3654 1547.25 66.4591 Q1551.26 67.5124 1555.19 67.5124 Q1560.46 67.5124 1563.29 65.73 Q1566.13 63.9071 1566.13 60.6258 Q1566.13 57.5877 1564.06 55.9673 Q1562.04 54.3469 1555.11 52.8481 L1552.52 52.2405 Q1545.59 50.7821 1542.51 47.7845 Q1539.43 44.7463 1539.43 39.4801 Q1539.43 33.0797 1543.97 29.5959 Q1548.51 26.1121 1556.85 26.1121 Q1560.98 26.1121 1564.63 26.7198 Q1568.27 27.3274 1571.35 28.5427 Z\" fill=\"#000000\" fill-rule=\"evenodd\" fill-opacity=\"1\" /><polyline clip-path=\"url(#clip892)\" style=\"stroke:#009af9; stroke-width:4; stroke-opacity:1; fill:none\" points=\"\n",
       "  234.611,1447.87 2291.06,162.047 \n",
       "  \"/>\n",
       "<path clip-path=\"url(#clip890)\" d=\"\n",
       "M1986.87 289.865 L2280.09 289.865 L2280.09 168.905 L1986.87 168.905  Z\n",
       "  \" fill=\"#ffffff\" fill-rule=\"evenodd\" fill-opacity=\"1\"/>\n",
       "<polyline clip-path=\"url(#clip890)\" style=\"stroke:#000000; stroke-width:4; stroke-opacity:1; fill:none\" points=\"\n",
       "  1986.87,289.865 2280.09,289.865 2280.09,168.905 1986.87,168.905 1986.87,289.865 \n",
       "  \"/>\n",
       "<polyline clip-path=\"url(#clip890)\" style=\"stroke:#009af9; stroke-width:4; stroke-opacity:1; fill:none\" points=\"\n",
       "  2011.09,229.385 2156.42,229.385 \n",
       "  \"/>\n",
       "<path clip-path=\"url(#clip890)\" d=\"M 0 0 M2194.48 249.072 Q2192.67 253.702 2190.96 255.114 Q2189.25 256.526 2186.38 256.526 L2182.97 256.526 L2182.97 252.961 L2185.47 252.961 Q2187.23 252.961 2188.2 252.128 Q2189.18 251.294 2190.36 248.192 L2191.12 246.248 L2180.64 220.739 L2185.15 220.739 L2193.25 241.017 L2201.35 220.739 L2205.87 220.739 L2194.48 249.072 Z\" fill=\"#000000\" fill-rule=\"evenodd\" fill-opacity=\"1\" /><path clip-path=\"url(#clip890)\" d=\"M 0 0 M2211.75 242.729 L2219.39 242.729 L2219.39 216.364 L2211.08 218.031 L2211.08 213.771 L2219.34 212.105 L2224.01 212.105 L2224.01 242.729 L2231.65 242.729 L2231.65 246.665 L2211.75 246.665 L2211.75 242.729 Z\" fill=\"#000000\" fill-rule=\"evenodd\" fill-opacity=\"1\" /></svg>\n"
      ]
     },
     "execution_count": 125,
     "metadata": {},
     "output_type": "execute_result"
    }
   ],
   "source": [
    "plot(x_iter, ρvalues, title=\"ρ for $(length(lossvalues)) iterations\")"
   ]
  },
  {
   "cell_type": "markdown",
   "id": "terminal-shopper",
   "metadata": {},
   "source": [
    "Interestingly, lambda did not change - we should be expecting it to move around"
   ]
  },
  {
   "cell_type": "code",
   "execution_count": 126,
   "id": "valued-calculation",
   "metadata": {},
   "outputs": [
    {
     "data": {
      "image/svg+xml": [
       "<?xml version=\"1.0\" encoding=\"utf-8\"?>\n",
       "<svg xmlns=\"http://www.w3.org/2000/svg\" xmlns:xlink=\"http://www.w3.org/1999/xlink\" width=\"600\" height=\"400\" viewBox=\"0 0 2400 1600\">\n",
       "<defs>\n",
       "  <clipPath id=\"clip930\">\n",
       "    <rect x=\"0\" y=\"0\" width=\"2400\" height=\"1600\"/>\n",
       "  </clipPath>\n",
       "</defs>\n",
       "<path clip-path=\"url(#clip930)\" d=\"\n",
       "M0 1600 L2400 1600 L2400 0 L0 0  Z\n",
       "  \" fill=\"#ffffff\" fill-rule=\"evenodd\" fill-opacity=\"1\"/>\n",
       "<defs>\n",
       "  <clipPath id=\"clip931\">\n",
       "    <rect x=\"480\" y=\"0\" width=\"1681\" height=\"1600\"/>\n",
       "  </clipPath>\n",
       "</defs>\n",
       "<path clip-path=\"url(#clip930)\" d=\"\n",
       "M296.667 1486.45 L2352.76 1486.45 L2352.76 123.472 L296.667 123.472  Z\n",
       "  \" fill=\"#ffffff\" fill-rule=\"evenodd\" fill-opacity=\"1\"/>\n",
       "<defs>\n",
       "  <clipPath id=\"clip932\">\n",
       "    <rect x=\"296\" y=\"123\" width=\"2057\" height=\"1364\"/>\n",
       "  </clipPath>\n",
       "</defs>\n",
       "<polyline clip-path=\"url(#clip932)\" style=\"stroke:#000000; stroke-width:2; stroke-opacity:0.1; fill:none\" points=\"\n",
       "  354.858,1486.45 354.858,123.472 \n",
       "  \"/>\n",
       "<polyline clip-path=\"url(#clip932)\" style=\"stroke:#000000; stroke-width:2; stroke-opacity:0.1; fill:none\" points=\"\n",
       "  839.785,1486.45 839.785,123.472 \n",
       "  \"/>\n",
       "<polyline clip-path=\"url(#clip932)\" style=\"stroke:#000000; stroke-width:2; stroke-opacity:0.1; fill:none\" points=\"\n",
       "  1324.71,1486.45 1324.71,123.472 \n",
       "  \"/>\n",
       "<polyline clip-path=\"url(#clip932)\" style=\"stroke:#000000; stroke-width:2; stroke-opacity:0.1; fill:none\" points=\"\n",
       "  1809.64,1486.45 1809.64,123.472 \n",
       "  \"/>\n",
       "<polyline clip-path=\"url(#clip932)\" style=\"stroke:#000000; stroke-width:2; stroke-opacity:0.1; fill:none\" points=\"\n",
       "  2294.56,1486.45 2294.56,123.472 \n",
       "  \"/>\n",
       "<polyline clip-path=\"url(#clip930)\" style=\"stroke:#000000; stroke-width:4; stroke-opacity:1; fill:none\" points=\"\n",
       "  296.667,1486.45 2352.76,1486.45 \n",
       "  \"/>\n",
       "<polyline clip-path=\"url(#clip930)\" style=\"stroke:#000000; stroke-width:4; stroke-opacity:1; fill:none\" points=\"\n",
       "  354.858,1486.45 354.858,1470.09 \n",
       "  \"/>\n",
       "<polyline clip-path=\"url(#clip930)\" style=\"stroke:#000000; stroke-width:4; stroke-opacity:1; fill:none\" points=\"\n",
       "  839.785,1486.45 839.785,1470.09 \n",
       "  \"/>\n",
       "<polyline clip-path=\"url(#clip930)\" style=\"stroke:#000000; stroke-width:4; stroke-opacity:1; fill:none\" points=\"\n",
       "  1324.71,1486.45 1324.71,1470.09 \n",
       "  \"/>\n",
       "<polyline clip-path=\"url(#clip930)\" style=\"stroke:#000000; stroke-width:4; stroke-opacity:1; fill:none\" points=\"\n",
       "  1809.64,1486.45 1809.64,1470.09 \n",
       "  \"/>\n",
       "<polyline clip-path=\"url(#clip930)\" style=\"stroke:#000000; stroke-width:4; stroke-opacity:1; fill:none\" points=\"\n",
       "  2294.56,1486.45 2294.56,1470.09 \n",
       "  \"/>\n",
       "<path clip-path=\"url(#clip930)\" d=\"M 0 0 M313.25 1543.18 L320.888 1543.18 L320.888 1516.82 L312.578 1518.49 L312.578 1514.23 L320.842 1512.56 L325.518 1512.56 L325.518 1543.18 L333.157 1543.18 L333.157 1547.12 L313.25 1547.12 L313.25 1543.18 Z\" fill=\"#000000\" fill-rule=\"evenodd\" fill-opacity=\"1\" /><path clip-path=\"url(#clip930)\" d=\"M 0 0 M338.226 1541.24 L343.111 1541.24 L343.111 1547.12 L338.226 1547.12 L338.226 1541.24 Z\" fill=\"#000000\" fill-rule=\"evenodd\" fill-opacity=\"1\" /><path clip-path=\"url(#clip930)\" d=\"M 0 0 M358.18 1515.64 Q354.569 1515.64 352.74 1519.2 Q350.935 1522.75 350.935 1529.87 Q350.935 1536.98 352.74 1540.55 Q354.569 1544.09 358.18 1544.09 Q361.814 1544.09 363.62 1540.55 Q365.448 1536.98 365.448 1529.87 Q365.448 1522.75 363.62 1519.2 Q361.814 1515.64 358.18 1515.64 M358.18 1511.93 Q363.99 1511.93 367.046 1516.54 Q370.124 1521.12 370.124 1529.87 Q370.124 1538.6 367.046 1543.21 Q363.99 1547.79 358.18 1547.79 Q352.37 1547.79 349.291 1543.21 Q346.235 1538.6 346.235 1529.87 Q346.235 1521.12 349.291 1516.54 Q352.37 1511.93 358.18 1511.93 Z\" fill=\"#000000\" fill-rule=\"evenodd\" fill-opacity=\"1\" /><path clip-path=\"url(#clip930)\" d=\"M 0 0 M385.194 1515.64 Q381.583 1515.64 379.754 1519.2 Q377.948 1522.75 377.948 1529.87 Q377.948 1536.98 379.754 1540.55 Q381.583 1544.09 385.194 1544.09 Q388.828 1544.09 390.633 1540.55 Q392.462 1536.98 392.462 1529.87 Q392.462 1522.75 390.633 1519.2 Q388.828 1515.64 385.194 1515.64 M385.194 1511.93 Q391.004 1511.93 394.059 1516.54 Q397.138 1521.12 397.138 1529.87 Q397.138 1538.6 394.059 1543.21 Q391.004 1547.79 385.194 1547.79 Q379.383 1547.79 376.305 1543.21 Q373.249 1538.6 373.249 1529.87 Q373.249 1521.12 376.305 1516.54 Q379.383 1511.93 385.194 1511.93 Z\" fill=\"#000000\" fill-rule=\"evenodd\" fill-opacity=\"1\" /><path clip-path=\"url(#clip930)\" d=\"M 0 0 M799.472 1543.18 L807.111 1543.18 L807.111 1516.82 L798.801 1518.49 L798.801 1514.23 L807.065 1512.56 L811.741 1512.56 L811.741 1543.18 L819.38 1543.18 L819.38 1547.12 L799.472 1547.12 L799.472 1543.18 Z\" fill=\"#000000\" fill-rule=\"evenodd\" fill-opacity=\"1\" /><path clip-path=\"url(#clip930)\" d=\"M 0 0 M824.449 1541.24 L829.333 1541.24 L829.333 1547.12 L824.449 1547.12 L824.449 1541.24 Z\" fill=\"#000000\" fill-rule=\"evenodd\" fill-opacity=\"1\" /><path clip-path=\"url(#clip930)\" d=\"M 0 0 M838.431 1543.18 L854.75 1543.18 L854.75 1547.12 L832.806 1547.12 L832.806 1543.18 Q835.468 1540.43 840.051 1535.8 Q844.657 1531.15 845.838 1529.81 Q848.083 1527.28 848.963 1525.55 Q849.866 1523.79 849.866 1522.1 Q849.866 1519.34 847.921 1517.61 Q846 1515.87 842.898 1515.87 Q840.699 1515.87 838.245 1516.63 Q835.815 1517.4 833.037 1518.95 L833.037 1514.23 Q835.861 1513.09 838.315 1512.51 Q840.769 1511.93 842.806 1511.93 Q848.176 1511.93 851.37 1514.62 Q854.565 1517.31 854.565 1521.8 Q854.565 1523.93 853.755 1525.85 Q852.968 1527.74 850.861 1530.34 Q850.282 1531.01 847.181 1534.23 Q844.079 1537.42 838.431 1543.18 Z\" fill=\"#000000\" fill-rule=\"evenodd\" fill-opacity=\"1\" /><path clip-path=\"url(#clip930)\" d=\"M 0 0 M859.866 1512.56 L878.222 1512.56 L878.222 1516.5 L864.148 1516.5 L864.148 1524.97 Q865.167 1524.62 866.185 1524.46 Q867.204 1524.27 868.222 1524.27 Q874.009 1524.27 877.389 1527.44 Q880.768 1530.62 880.768 1536.03 Q880.768 1541.61 877.296 1544.71 Q873.824 1547.79 867.505 1547.79 Q865.329 1547.79 863.06 1547.42 Q860.815 1547.05 858.407 1546.31 L858.407 1541.61 Q860.491 1542.74 862.713 1543.3 Q864.935 1543.86 867.412 1543.86 Q871.417 1543.86 873.754 1541.75 Q876.092 1539.64 876.092 1536.03 Q876.092 1532.42 873.754 1530.31 Q871.417 1528.21 867.412 1528.21 Q865.537 1528.21 863.662 1528.62 Q861.81 1529.04 859.866 1529.92 L859.866 1512.56 Z\" fill=\"#000000\" fill-rule=\"evenodd\" fill-opacity=\"1\" /><path clip-path=\"url(#clip930)\" d=\"M 0 0 M1283.6 1543.18 L1291.24 1543.18 L1291.24 1516.82 L1282.93 1518.49 L1282.93 1514.23 L1291.19 1512.56 L1295.87 1512.56 L1295.87 1543.18 L1303.51 1543.18 L1303.51 1547.12 L1283.6 1547.12 L1283.6 1543.18 Z\" fill=\"#000000\" fill-rule=\"evenodd\" fill-opacity=\"1\" /><path clip-path=\"url(#clip930)\" d=\"M 0 0 M1308.58 1541.24 L1313.46 1541.24 L1313.46 1547.12 L1308.58 1547.12 L1308.58 1541.24 Z\" fill=\"#000000\" fill-rule=\"evenodd\" fill-opacity=\"1\" /><path clip-path=\"url(#clip930)\" d=\"M 0 0 M1318.58 1512.56 L1336.93 1512.56 L1336.93 1516.5 L1322.86 1516.5 L1322.86 1524.97 Q1323.88 1524.62 1324.9 1524.46 Q1325.92 1524.27 1326.93 1524.27 Q1332.72 1524.27 1336.1 1527.44 Q1339.48 1530.62 1339.48 1536.03 Q1339.48 1541.61 1336.01 1544.71 Q1332.54 1547.79 1326.22 1547.79 Q1324.04 1547.79 1321.77 1547.42 Q1319.53 1547.05 1317.12 1546.31 L1317.12 1541.61 Q1319.2 1542.74 1321.42 1543.3 Q1323.65 1543.86 1326.12 1543.86 Q1330.13 1543.86 1332.47 1541.75 Q1334.8 1539.64 1334.8 1536.03 Q1334.8 1532.42 1332.47 1530.31 Q1330.13 1528.21 1326.12 1528.21 Q1324.25 1528.21 1322.37 1528.62 Q1320.52 1529.04 1318.58 1529.92 L1318.58 1512.56 Z\" fill=\"#000000\" fill-rule=\"evenodd\" fill-opacity=\"1\" /><path clip-path=\"url(#clip930)\" d=\"M 0 0 M1354.55 1515.64 Q1350.94 1515.64 1349.11 1519.2 Q1347.3 1522.75 1347.3 1529.87 Q1347.3 1536.98 1349.11 1540.55 Q1350.94 1544.09 1354.55 1544.09 Q1358.18 1544.09 1359.99 1540.55 Q1361.82 1536.98 1361.82 1529.87 Q1361.82 1522.75 1359.99 1519.2 Q1358.18 1515.64 1354.55 1515.64 M1354.55 1511.93 Q1360.36 1511.93 1363.41 1516.54 Q1366.49 1521.12 1366.49 1529.87 Q1366.49 1538.6 1363.41 1543.21 Q1360.36 1547.79 1354.55 1547.79 Q1348.74 1547.79 1345.66 1543.21 Q1342.6 1538.6 1342.6 1529.87 Q1342.6 1521.12 1345.66 1516.54 Q1348.74 1511.93 1354.55 1511.93 Z\" fill=\"#000000\" fill-rule=\"evenodd\" fill-opacity=\"1\" /><path clip-path=\"url(#clip930)\" d=\"M 0 0 M1768.98 1543.18 L1776.62 1543.18 L1776.62 1516.82 L1768.31 1518.49 L1768.31 1514.23 L1776.57 1512.56 L1781.25 1512.56 L1781.25 1543.18 L1788.89 1543.18 L1788.89 1547.12 L1768.98 1547.12 L1768.98 1543.18 Z\" fill=\"#000000\" fill-rule=\"evenodd\" fill-opacity=\"1\" /><path clip-path=\"url(#clip930)\" d=\"M 0 0 M1793.96 1541.24 L1798.84 1541.24 L1798.84 1547.12 L1793.96 1547.12 L1793.96 1541.24 Z\" fill=\"#000000\" fill-rule=\"evenodd\" fill-opacity=\"1\" /><path clip-path=\"url(#clip930)\" d=\"M 0 0 M1802.73 1512.56 L1824.95 1512.56 L1824.95 1514.55 L1812.4 1547.12 L1807.52 1547.12 L1819.33 1516.5 L1802.73 1516.5 L1802.73 1512.56 Z\" fill=\"#000000\" fill-rule=\"evenodd\" fill-opacity=\"1\" /><path clip-path=\"url(#clip930)\" d=\"M 0 0 M1830.07 1512.56 L1848.42 1512.56 L1848.42 1516.5 L1834.35 1516.5 L1834.35 1524.97 Q1835.37 1524.62 1836.39 1524.46 Q1837.4 1524.27 1838.42 1524.27 Q1844.21 1524.27 1847.59 1527.44 Q1850.97 1530.62 1850.97 1536.03 Q1850.97 1541.61 1847.5 1544.71 Q1844.02 1547.79 1837.71 1547.79 Q1835.53 1547.79 1833.26 1547.42 Q1831.02 1547.05 1828.61 1546.31 L1828.61 1541.61 Q1830.69 1542.74 1832.91 1543.3 Q1835.14 1543.86 1837.61 1543.86 Q1841.62 1543.86 1843.96 1541.75 Q1846.29 1539.64 1846.29 1536.03 Q1846.29 1532.42 1843.96 1530.31 Q1841.62 1528.21 1837.61 1528.21 Q1835.74 1528.21 1833.86 1528.62 Q1832.01 1529.04 1830.07 1529.92 L1830.07 1512.56 Z\" fill=\"#000000\" fill-rule=\"evenodd\" fill-opacity=\"1\" /><path clip-path=\"url(#clip930)\" d=\"M 0 0 M2257.23 1543.18 L2273.55 1543.18 L2273.55 1547.12 L2251.6 1547.12 L2251.6 1543.18 Q2254.26 1540.43 2258.85 1535.8 Q2263.45 1531.15 2264.63 1529.81 Q2266.88 1527.28 2267.76 1525.55 Q2268.66 1523.79 2268.66 1522.1 Q2268.66 1519.34 2266.72 1517.61 Q2264.8 1515.87 2261.69 1515.87 Q2259.5 1515.87 2257.04 1516.63 Q2254.61 1517.4 2251.83 1518.95 L2251.83 1514.23 Q2254.66 1513.09 2257.11 1512.51 Q2259.56 1511.93 2261.6 1511.93 Q2266.97 1511.93 2270.17 1514.62 Q2273.36 1517.31 2273.36 1521.8 Q2273.36 1523.93 2272.55 1525.85 Q2271.76 1527.74 2269.66 1530.34 Q2269.08 1531.01 2265.98 1534.23 Q2262.88 1537.42 2257.23 1543.18 Z\" fill=\"#000000\" fill-rule=\"evenodd\" fill-opacity=\"1\" /><path clip-path=\"url(#clip930)\" d=\"M 0 0 M2278.62 1541.24 L2283.5 1541.24 L2283.5 1547.12 L2278.62 1547.12 L2278.62 1541.24 Z\" fill=\"#000000\" fill-rule=\"evenodd\" fill-opacity=\"1\" /><path clip-path=\"url(#clip930)\" d=\"M 0 0 M2298.57 1515.64 Q2294.96 1515.64 2293.13 1519.2 Q2291.32 1522.75 2291.32 1529.87 Q2291.32 1536.98 2293.13 1540.55 Q2294.96 1544.09 2298.57 1544.09 Q2302.2 1544.09 2304.01 1540.55 Q2305.84 1536.98 2305.84 1529.87 Q2305.84 1522.75 2304.01 1519.2 Q2302.2 1515.64 2298.57 1515.64 M2298.57 1511.93 Q2304.38 1511.93 2307.44 1516.54 Q2310.51 1521.12 2310.51 1529.87 Q2310.51 1538.6 2307.44 1543.21 Q2304.38 1547.79 2298.57 1547.79 Q2292.76 1547.79 2289.68 1543.21 Q2286.62 1538.6 2286.62 1529.87 Q2286.62 1521.12 2289.68 1516.54 Q2292.76 1511.93 2298.57 1511.93 Z\" fill=\"#000000\" fill-rule=\"evenodd\" fill-opacity=\"1\" /><path clip-path=\"url(#clip930)\" d=\"M 0 0 M2325.58 1515.64 Q2321.97 1515.64 2320.14 1519.2 Q2318.34 1522.75 2318.34 1529.87 Q2318.34 1536.98 2320.14 1540.55 Q2321.97 1544.09 2325.58 1544.09 Q2329.22 1544.09 2331.02 1540.55 Q2332.85 1536.98 2332.85 1529.87 Q2332.85 1522.75 2331.02 1519.2 Q2329.22 1515.64 2325.58 1515.64 M2325.58 1511.93 Q2331.39 1511.93 2334.45 1516.54 Q2337.53 1521.12 2337.53 1529.87 Q2337.53 1538.6 2334.45 1543.21 Q2331.39 1547.79 2325.58 1547.79 Q2319.77 1547.79 2316.69 1543.21 Q2313.64 1538.6 2313.64 1529.87 Q2313.64 1521.12 2316.69 1516.54 Q2319.77 1511.93 2325.58 1511.93 Z\" fill=\"#000000\" fill-rule=\"evenodd\" fill-opacity=\"1\" /><polyline clip-path=\"url(#clip932)\" style=\"stroke:#000000; stroke-width:2; stroke-opacity:0.1; fill:none\" points=\"\n",
       "  296.667,1447.87 2352.76,1447.87 \n",
       "  \"/>\n",
       "<polyline clip-path=\"url(#clip932)\" style=\"stroke:#000000; stroke-width:2; stroke-opacity:0.1; fill:none\" points=\"\n",
       "  296.667,1126.42 2352.76,1126.42 \n",
       "  \"/>\n",
       "<polyline clip-path=\"url(#clip932)\" style=\"stroke:#000000; stroke-width:2; stroke-opacity:0.1; fill:none\" points=\"\n",
       "  296.667,804.96 2352.76,804.96 \n",
       "  \"/>\n",
       "<polyline clip-path=\"url(#clip932)\" style=\"stroke:#000000; stroke-width:2; stroke-opacity:0.1; fill:none\" points=\"\n",
       "  296.667,483.503 2352.76,483.503 \n",
       "  \"/>\n",
       "<polyline clip-path=\"url(#clip932)\" style=\"stroke:#000000; stroke-width:2; stroke-opacity:0.1; fill:none\" points=\"\n",
       "  296.667,162.047 2352.76,162.047 \n",
       "  \"/>\n",
       "<polyline clip-path=\"url(#clip930)\" style=\"stroke:#000000; stroke-width:4; stroke-opacity:1; fill:none\" points=\"\n",
       "  296.667,1486.45 296.667,123.472 \n",
       "  \"/>\n",
       "<polyline clip-path=\"url(#clip930)\" style=\"stroke:#000000; stroke-width:4; stroke-opacity:1; fill:none\" points=\"\n",
       "  296.667,1447.87 321.34,1447.87 \n",
       "  \"/>\n",
       "<polyline clip-path=\"url(#clip930)\" style=\"stroke:#000000; stroke-width:4; stroke-opacity:1; fill:none\" points=\"\n",
       "  296.667,1126.42 321.34,1126.42 \n",
       "  \"/>\n",
       "<polyline clip-path=\"url(#clip930)\" style=\"stroke:#000000; stroke-width:4; stroke-opacity:1; fill:none\" points=\"\n",
       "  296.667,804.96 321.34,804.96 \n",
       "  \"/>\n",
       "<polyline clip-path=\"url(#clip930)\" style=\"stroke:#000000; stroke-width:4; stroke-opacity:1; fill:none\" points=\"\n",
       "  296.667,483.503 321.34,483.503 \n",
       "  \"/>\n",
       "<polyline clip-path=\"url(#clip930)\" style=\"stroke:#000000; stroke-width:4; stroke-opacity:1; fill:none\" points=\"\n",
       "  296.667,162.047 321.34,162.047 \n",
       "  \"/>\n",
       "<path clip-path=\"url(#clip930)\" d=\"M 0 0 M51.6634 1461.22 L59.3023 1461.22 L59.3023 1434.85 L50.9921 1436.52 L50.9921 1432.26 L59.256 1430.59 L63.9319 1430.59 L63.9319 1461.22 L71.5707 1461.22 L71.5707 1465.15 L51.6634 1465.15 L51.6634 1461.22 Z\" fill=\"#000000\" fill-rule=\"evenodd\" fill-opacity=\"1\" /><path clip-path=\"url(#clip930)\" d=\"M 0 0 M86.6401 1433.67 Q83.029 1433.67 81.2003 1437.24 Q79.3948 1440.78 79.3948 1447.91 Q79.3948 1455.01 81.2003 1458.58 Q83.029 1462.12 86.6401 1462.12 Q90.2743 1462.12 92.0799 1458.58 Q93.9086 1455.01 93.9086 1447.91 Q93.9086 1440.78 92.0799 1437.24 Q90.2743 1433.67 86.6401 1433.67 M86.6401 1429.97 Q92.4502 1429.97 95.5058 1434.57 Q98.5845 1439.16 98.5845 1447.91 Q98.5845 1456.63 95.5058 1461.24 Q92.4502 1465.82 86.6401 1465.82 Q80.8299 1465.82 77.7512 1461.24 Q74.6957 1456.63 74.6957 1447.91 Q74.6957 1439.16 77.7512 1434.57 Q80.8299 1429.97 86.6401 1429.97 Z\" fill=\"#000000\" fill-rule=\"evenodd\" fill-opacity=\"1\" /><path clip-path=\"url(#clip930)\" d=\"M 0 0 M113.654 1433.67 Q110.043 1433.67 108.214 1437.24 Q106.408 1440.78 106.408 1447.91 Q106.408 1455.01 108.214 1458.58 Q110.043 1462.12 113.654 1462.12 Q117.288 1462.12 119.094 1458.58 Q120.922 1455.01 120.922 1447.91 Q120.922 1440.78 119.094 1437.24 Q117.288 1433.67 113.654 1433.67 M113.654 1429.97 Q119.464 1429.97 122.52 1434.57 Q125.598 1439.16 125.598 1447.91 Q125.598 1456.63 122.52 1461.24 Q119.464 1465.82 113.654 1465.82 Q107.844 1465.82 104.765 1461.24 Q101.709 1456.63 101.709 1447.91 Q101.709 1439.16 104.765 1434.57 Q107.844 1429.97 113.654 1429.97 Z\" fill=\"#000000\" fill-rule=\"evenodd\" fill-opacity=\"1\" /><path clip-path=\"url(#clip930)\" d=\"M 0 0 M140.668 1433.67 Q137.056 1433.67 135.228 1437.24 Q133.422 1440.78 133.422 1447.91 Q133.422 1455.01 135.228 1458.58 Q137.056 1462.12 140.668 1462.12 Q144.302 1462.12 146.107 1458.58 Q147.936 1455.01 147.936 1447.91 Q147.936 1440.78 146.107 1437.24 Q144.302 1433.67 140.668 1433.67 M140.668 1429.97 Q146.478 1429.97 149.533 1434.57 Q152.612 1439.16 152.612 1447.91 Q152.612 1456.63 149.533 1461.24 Q146.478 1465.82 140.668 1465.82 Q134.857 1465.82 131.779 1461.24 Q128.723 1456.63 128.723 1447.91 Q128.723 1439.16 131.779 1434.57 Q134.857 1429.97 140.668 1429.97 Z\" fill=\"#000000\" fill-rule=\"evenodd\" fill-opacity=\"1\" /><path clip-path=\"url(#clip930)\" d=\"M 0 0 M167.681 1433.67 Q164.07 1433.67 162.242 1437.24 Q160.436 1440.78 160.436 1447.91 Q160.436 1455.01 162.242 1458.58 Q164.07 1462.12 167.681 1462.12 Q171.316 1462.12 173.121 1458.58 Q174.95 1455.01 174.95 1447.91 Q174.95 1440.78 173.121 1437.24 Q171.316 1433.67 167.681 1433.67 M167.681 1429.97 Q173.491 1429.97 176.547 1434.57 Q179.626 1439.16 179.626 1447.91 Q179.626 1456.63 176.547 1461.24 Q173.491 1465.82 167.681 1465.82 Q161.871 1465.82 158.792 1461.24 Q155.737 1456.63 155.737 1447.91 Q155.737 1439.16 158.792 1434.57 Q161.871 1429.97 167.681 1429.97 Z\" fill=\"#000000\" fill-rule=\"evenodd\" fill-opacity=\"1\" /><path clip-path=\"url(#clip930)\" d=\"M 0 0 M194.695 1433.67 Q191.084 1433.67 189.255 1437.24 Q187.45 1440.78 187.45 1447.91 Q187.45 1455.01 189.255 1458.58 Q191.084 1462.12 194.695 1462.12 Q198.329 1462.12 200.135 1458.58 Q201.964 1455.01 201.964 1447.91 Q201.964 1440.78 200.135 1437.24 Q198.329 1433.67 194.695 1433.67 M194.695 1429.97 Q200.505 1429.97 203.561 1434.57 Q206.639 1439.16 206.639 1447.91 Q206.639 1456.63 203.561 1461.24 Q200.505 1465.82 194.695 1465.82 Q188.885 1465.82 185.806 1461.24 Q182.751 1456.63 182.751 1447.91 Q182.751 1439.16 185.806 1434.57 Q188.885 1429.97 194.695 1429.97 Z\" fill=\"#000000\" fill-rule=\"evenodd\" fill-opacity=\"1\" /><path clip-path=\"url(#clip930)\" d=\"M 0 0 M221.709 1433.67 Q218.098 1433.67 216.269 1437.24 Q214.463 1440.78 214.463 1447.91 Q214.463 1455.01 216.269 1458.58 Q218.098 1462.12 221.709 1462.12 Q225.343 1462.12 227.149 1458.58 Q228.977 1455.01 228.977 1447.91 Q228.977 1440.78 227.149 1437.24 Q225.343 1433.67 221.709 1433.67 M221.709 1429.97 Q227.519 1429.97 230.574 1434.57 Q233.653 1439.16 233.653 1447.91 Q233.653 1456.63 230.574 1461.24 Q227.519 1465.82 221.709 1465.82 Q215.899 1465.82 212.82 1461.24 Q209.764 1456.63 209.764 1447.91 Q209.764 1439.16 212.82 1434.57 Q215.899 1429.97 221.709 1429.97 Z\" fill=\"#000000\" fill-rule=\"evenodd\" fill-opacity=\"1\" /><path clip-path=\"url(#clip930)\" d=\"M 0 0 M248.723 1433.67 Q245.111 1433.67 243.283 1437.24 Q241.477 1440.78 241.477 1447.91 Q241.477 1455.01 243.283 1458.58 Q245.111 1462.12 248.723 1462.12 Q252.357 1462.12 254.162 1458.58 Q255.991 1455.01 255.991 1447.91 Q255.991 1440.78 254.162 1437.24 Q252.357 1433.67 248.723 1433.67 M248.723 1429.97 Q254.533 1429.97 257.588 1434.57 Q260.667 1439.16 260.667 1447.91 Q260.667 1456.63 257.588 1461.24 Q254.533 1465.82 248.723 1465.82 Q242.912 1465.82 239.834 1461.24 Q236.778 1456.63 236.778 1447.91 Q236.778 1439.16 239.834 1434.57 Q242.912 1429.97 248.723 1429.97 Z\" fill=\"#000000\" fill-rule=\"evenodd\" fill-opacity=\"1\" /><path clip-path=\"url(#clip930)\" d=\"M 0 0 M51.6634 1139.76 L59.3023 1139.76 L59.3023 1113.4 L50.9921 1115.06 L50.9921 1110.8 L59.256 1109.14 L63.9319 1109.14 L63.9319 1139.76 L71.5707 1139.76 L71.5707 1143.7 L51.6634 1143.7 L51.6634 1139.76 Z\" fill=\"#000000\" fill-rule=\"evenodd\" fill-opacity=\"1\" /><path clip-path=\"url(#clip930)\" d=\"M 0 0 M86.6401 1112.22 Q83.029 1112.22 81.2003 1115.78 Q79.3948 1119.32 79.3948 1126.45 Q79.3948 1133.56 81.2003 1137.12 Q83.029 1140.66 86.6401 1140.66 Q90.2743 1140.66 92.0799 1137.12 Q93.9086 1133.56 93.9086 1126.45 Q93.9086 1119.32 92.0799 1115.78 Q90.2743 1112.22 86.6401 1112.22 M86.6401 1108.51 Q92.4502 1108.51 95.5058 1113.12 Q98.5845 1117.7 98.5845 1126.45 Q98.5845 1135.18 95.5058 1139.78 Q92.4502 1144.37 86.6401 1144.37 Q80.8299 1144.37 77.7512 1139.78 Q74.6957 1135.18 74.6957 1126.45 Q74.6957 1117.7 77.7512 1113.12 Q80.8299 1108.51 86.6401 1108.51 Z\" fill=\"#000000\" fill-rule=\"evenodd\" fill-opacity=\"1\" /><path clip-path=\"url(#clip930)\" d=\"M 0 0 M113.654 1112.22 Q110.043 1112.22 108.214 1115.78 Q106.408 1119.32 106.408 1126.45 Q106.408 1133.56 108.214 1137.12 Q110.043 1140.66 113.654 1140.66 Q117.288 1140.66 119.094 1137.12 Q120.922 1133.56 120.922 1126.45 Q120.922 1119.32 119.094 1115.78 Q117.288 1112.22 113.654 1112.22 M113.654 1108.51 Q119.464 1108.51 122.52 1113.12 Q125.598 1117.7 125.598 1126.45 Q125.598 1135.18 122.52 1139.78 Q119.464 1144.37 113.654 1144.37 Q107.844 1144.37 104.765 1139.78 Q101.709 1135.18 101.709 1126.45 Q101.709 1117.7 104.765 1113.12 Q107.844 1108.51 113.654 1108.51 Z\" fill=\"#000000\" fill-rule=\"evenodd\" fill-opacity=\"1\" /><path clip-path=\"url(#clip930)\" d=\"M 0 0 M140.668 1112.22 Q137.056 1112.22 135.228 1115.78 Q133.422 1119.32 133.422 1126.45 Q133.422 1133.56 135.228 1137.12 Q137.056 1140.66 140.668 1140.66 Q144.302 1140.66 146.107 1137.12 Q147.936 1133.56 147.936 1126.45 Q147.936 1119.32 146.107 1115.78 Q144.302 1112.22 140.668 1112.22 M140.668 1108.51 Q146.478 1108.51 149.533 1113.12 Q152.612 1117.7 152.612 1126.45 Q152.612 1135.18 149.533 1139.78 Q146.478 1144.37 140.668 1144.37 Q134.857 1144.37 131.779 1139.78 Q128.723 1135.18 128.723 1126.45 Q128.723 1117.7 131.779 1113.12 Q134.857 1108.51 140.668 1108.51 Z\" fill=\"#000000\" fill-rule=\"evenodd\" fill-opacity=\"1\" /><path clip-path=\"url(#clip930)\" d=\"M 0 0 M167.681 1112.22 Q164.07 1112.22 162.242 1115.78 Q160.436 1119.32 160.436 1126.45 Q160.436 1133.56 162.242 1137.12 Q164.07 1140.66 167.681 1140.66 Q171.316 1140.66 173.121 1137.12 Q174.95 1133.56 174.95 1126.45 Q174.95 1119.32 173.121 1115.78 Q171.316 1112.22 167.681 1112.22 M167.681 1108.51 Q173.491 1108.51 176.547 1113.12 Q179.626 1117.7 179.626 1126.45 Q179.626 1135.18 176.547 1139.78 Q173.491 1144.37 167.681 1144.37 Q161.871 1144.37 158.792 1139.78 Q155.737 1135.18 155.737 1126.45 Q155.737 1117.7 158.792 1113.12 Q161.871 1108.51 167.681 1108.51 Z\" fill=\"#000000\" fill-rule=\"evenodd\" fill-opacity=\"1\" /><path clip-path=\"url(#clip930)\" d=\"M 0 0 M194.695 1112.22 Q191.084 1112.22 189.255 1115.78 Q187.45 1119.32 187.45 1126.45 Q187.45 1133.56 189.255 1137.12 Q191.084 1140.66 194.695 1140.66 Q198.329 1140.66 200.135 1137.12 Q201.964 1133.56 201.964 1126.45 Q201.964 1119.32 200.135 1115.78 Q198.329 1112.22 194.695 1112.22 M194.695 1108.51 Q200.505 1108.51 203.561 1113.12 Q206.639 1117.7 206.639 1126.45 Q206.639 1135.18 203.561 1139.78 Q200.505 1144.37 194.695 1144.37 Q188.885 1144.37 185.806 1139.78 Q182.751 1135.18 182.751 1126.45 Q182.751 1117.7 185.806 1113.12 Q188.885 1108.51 194.695 1108.51 Z\" fill=\"#000000\" fill-rule=\"evenodd\" fill-opacity=\"1\" /><path clip-path=\"url(#clip930)\" d=\"M 0 0 M221.709 1112.22 Q218.098 1112.22 216.269 1115.78 Q214.463 1119.32 214.463 1126.45 Q214.463 1133.56 216.269 1137.12 Q218.098 1140.66 221.709 1140.66 Q225.343 1140.66 227.149 1137.12 Q228.977 1133.56 228.977 1126.45 Q228.977 1119.32 227.149 1115.78 Q225.343 1112.22 221.709 1112.22 M221.709 1108.51 Q227.519 1108.51 230.574 1113.12 Q233.653 1117.7 233.653 1126.45 Q233.653 1135.18 230.574 1139.78 Q227.519 1144.37 221.709 1144.37 Q215.899 1144.37 212.82 1139.78 Q209.764 1135.18 209.764 1126.45 Q209.764 1117.7 212.82 1113.12 Q215.899 1108.51 221.709 1108.51 Z\" fill=\"#000000\" fill-rule=\"evenodd\" fill-opacity=\"1\" /><path clip-path=\"url(#clip930)\" d=\"M 0 0 M248.723 1112.22 Q245.111 1112.22 243.283 1115.78 Q241.477 1119.32 241.477 1126.45 Q241.477 1133.56 243.283 1137.12 Q245.111 1140.66 248.723 1140.66 Q252.357 1140.66 254.162 1137.12 Q255.991 1133.56 255.991 1126.45 Q255.991 1119.32 254.162 1115.78 Q252.357 1112.22 248.723 1112.22 M248.723 1108.51 Q254.533 1108.51 257.588 1113.12 Q260.667 1117.7 260.667 1126.45 Q260.667 1135.18 257.588 1139.78 Q254.533 1144.37 248.723 1144.37 Q242.912 1144.37 239.834 1139.78 Q236.778 1135.18 236.778 1126.45 Q236.778 1117.7 239.834 1113.12 Q242.912 1108.51 248.723 1108.51 Z\" fill=\"#000000\" fill-rule=\"evenodd\" fill-opacity=\"1\" /><path clip-path=\"url(#clip930)\" d=\"M 0 0 M52.8903 818.305 L60.5291 818.305 L60.5291 791.939 L52.219 793.606 L52.219 789.347 L60.4828 787.68 L65.1587 787.68 L65.1587 818.305 L72.7976 818.305 L72.7976 822.24 L52.8903 822.24 L52.8903 818.305 Z\" fill=\"#000000\" fill-rule=\"evenodd\" fill-opacity=\"1\" /><path clip-path=\"url(#clip930)\" d=\"M 0 0 M87.8669 790.759 Q84.2558 790.759 82.4271 794.323 Q80.6216 797.865 80.6216 804.995 Q80.6216 812.101 82.4271 815.666 Q84.2558 819.208 87.8669 819.208 Q91.5012 819.208 93.3067 815.666 Q95.1354 812.101 95.1354 804.995 Q95.1354 797.865 93.3067 794.323 Q91.5012 790.759 87.8669 790.759 M87.8669 787.055 Q93.6771 787.055 96.7326 791.661 Q99.8113 796.245 99.8113 804.995 Q99.8113 813.722 96.7326 818.328 Q93.6771 822.911 87.8669 822.911 Q82.0568 822.911 78.9781 818.328 Q75.9225 813.722 75.9225 804.995 Q75.9225 796.245 78.9781 791.661 Q82.0568 787.055 87.8669 787.055 Z\" fill=\"#000000\" fill-rule=\"evenodd\" fill-opacity=\"1\" /><path clip-path=\"url(#clip930)\" d=\"M 0 0 M114.881 790.759 Q111.27 790.759 109.441 794.323 Q107.635 797.865 107.635 804.995 Q107.635 812.101 109.441 815.666 Q111.27 819.208 114.881 819.208 Q118.515 819.208 120.32 815.666 Q122.149 812.101 122.149 804.995 Q122.149 797.865 120.32 794.323 Q118.515 790.759 114.881 790.759 M114.881 787.055 Q120.691 787.055 123.746 791.661 Q126.825 796.245 126.825 804.995 Q126.825 813.722 123.746 818.328 Q120.691 822.911 114.881 822.911 Q109.071 822.911 105.992 818.328 Q102.936 813.722 102.936 804.995 Q102.936 796.245 105.992 791.661 Q109.071 787.055 114.881 787.055 Z\" fill=\"#000000\" fill-rule=\"evenodd\" fill-opacity=\"1\" /><path clip-path=\"url(#clip930)\" d=\"M 0 0 M141.894 790.759 Q138.283 790.759 136.455 794.323 Q134.649 797.865 134.649 804.995 Q134.649 812.101 136.455 815.666 Q138.283 819.208 141.894 819.208 Q145.529 819.208 147.334 815.666 Q149.163 812.101 149.163 804.995 Q149.163 797.865 147.334 794.323 Q145.529 790.759 141.894 790.759 M141.894 787.055 Q147.705 787.055 150.76 791.661 Q153.839 796.245 153.839 804.995 Q153.839 813.722 150.76 818.328 Q147.705 822.911 141.894 822.911 Q136.084 822.911 133.006 818.328 Q129.95 813.722 129.95 804.995 Q129.95 796.245 133.006 791.661 Q136.084 787.055 141.894 787.055 Z\" fill=\"#000000\" fill-rule=\"evenodd\" fill-opacity=\"1\" /><path clip-path=\"url(#clip930)\" d=\"M 0 0 M168.908 790.759 Q165.297 790.759 163.468 794.323 Q161.663 797.865 161.663 804.995 Q161.663 812.101 163.468 815.666 Q165.297 819.208 168.908 819.208 Q172.542 819.208 174.348 815.666 Q176.177 812.101 176.177 804.995 Q176.177 797.865 174.348 794.323 Q172.542 790.759 168.908 790.759 M168.908 787.055 Q174.718 787.055 177.774 791.661 Q180.853 796.245 180.853 804.995 Q180.853 813.722 177.774 818.328 Q174.718 822.911 168.908 822.911 Q163.098 822.911 160.019 818.328 Q156.964 813.722 156.964 804.995 Q156.964 796.245 160.019 791.661 Q163.098 787.055 168.908 787.055 Z\" fill=\"#000000\" fill-rule=\"evenodd\" fill-opacity=\"1\" /><path clip-path=\"url(#clip930)\" d=\"M 0 0 M195.922 790.759 Q192.311 790.759 190.482 794.323 Q188.677 797.865 188.677 804.995 Q188.677 812.101 190.482 815.666 Q192.311 819.208 195.922 819.208 Q199.556 819.208 201.362 815.666 Q203.19 812.101 203.19 804.995 Q203.19 797.865 201.362 794.323 Q199.556 790.759 195.922 790.759 M195.922 787.055 Q201.732 787.055 204.788 791.661 Q207.866 796.245 207.866 804.995 Q207.866 813.722 204.788 818.328 Q201.732 822.911 195.922 822.911 Q190.112 822.911 187.033 818.328 Q183.978 813.722 183.978 804.995 Q183.978 796.245 187.033 791.661 Q190.112 787.055 195.922 787.055 Z\" fill=\"#000000\" fill-rule=\"evenodd\" fill-opacity=\"1\" /><path clip-path=\"url(#clip930)\" d=\"M 0 0 M222.936 790.759 Q219.325 790.759 217.496 794.323 Q215.69 797.865 215.69 804.995 Q215.69 812.101 217.496 815.666 Q219.325 819.208 222.936 819.208 Q226.57 819.208 228.375 815.666 Q230.204 812.101 230.204 804.995 Q230.204 797.865 228.375 794.323 Q226.57 790.759 222.936 790.759 M222.936 787.055 Q228.746 787.055 231.801 791.661 Q234.88 796.245 234.88 804.995 Q234.88 813.722 231.801 818.328 Q228.746 822.911 222.936 822.911 Q217.125 822.911 214.047 818.328 Q210.991 813.722 210.991 804.995 Q210.991 796.245 214.047 791.661 Q217.125 787.055 222.936 787.055 Z\" fill=\"#000000\" fill-rule=\"evenodd\" fill-opacity=\"1\" /><path clip-path=\"url(#clip930)\" d=\"M 0 0 M240.76 818.305 L248.398 818.305 L248.398 791.939 L240.088 793.606 L240.088 789.347 L248.352 787.68 L253.028 787.68 L253.028 818.305 L260.667 818.305 L260.667 822.24 L240.76 822.24 L240.76 818.305 Z\" fill=\"#000000\" fill-rule=\"evenodd\" fill-opacity=\"1\" /><path clip-path=\"url(#clip930)\" d=\"M 0 0 M52.8903 496.848 L60.5291 496.848 L60.5291 470.483 L52.219 472.149 L52.219 467.89 L60.4828 466.223 L65.1587 466.223 L65.1587 496.848 L72.7976 496.848 L72.7976 500.783 L52.8903 500.783 L52.8903 496.848 Z\" fill=\"#000000\" fill-rule=\"evenodd\" fill-opacity=\"1\" /><path clip-path=\"url(#clip930)\" d=\"M 0 0 M87.8669 469.302 Q84.2558 469.302 82.4271 472.867 Q80.6216 476.409 80.6216 483.538 Q80.6216 490.645 82.4271 494.209 Q84.2558 497.751 87.8669 497.751 Q91.5012 497.751 93.3067 494.209 Q95.1354 490.645 95.1354 483.538 Q95.1354 476.409 93.3067 472.867 Q91.5012 469.302 87.8669 469.302 M87.8669 465.598 Q93.6771 465.598 96.7326 470.205 Q99.8113 474.788 99.8113 483.538 Q99.8113 492.265 96.7326 496.871 Q93.6771 501.455 87.8669 501.455 Q82.0568 501.455 78.9781 496.871 Q75.9225 492.265 75.9225 483.538 Q75.9225 474.788 78.9781 470.205 Q82.0568 465.598 87.8669 465.598 Z\" fill=\"#000000\" fill-rule=\"evenodd\" fill-opacity=\"1\" /><path clip-path=\"url(#clip930)\" d=\"M 0 0 M114.881 469.302 Q111.27 469.302 109.441 472.867 Q107.635 476.409 107.635 483.538 Q107.635 490.645 109.441 494.209 Q111.27 497.751 114.881 497.751 Q118.515 497.751 120.32 494.209 Q122.149 490.645 122.149 483.538 Q122.149 476.409 120.32 472.867 Q118.515 469.302 114.881 469.302 M114.881 465.598 Q120.691 465.598 123.746 470.205 Q126.825 474.788 126.825 483.538 Q126.825 492.265 123.746 496.871 Q120.691 501.455 114.881 501.455 Q109.071 501.455 105.992 496.871 Q102.936 492.265 102.936 483.538 Q102.936 474.788 105.992 470.205 Q109.071 465.598 114.881 465.598 Z\" fill=\"#000000\" fill-rule=\"evenodd\" fill-opacity=\"1\" /><path clip-path=\"url(#clip930)\" d=\"M 0 0 M141.894 469.302 Q138.283 469.302 136.455 472.867 Q134.649 476.409 134.649 483.538 Q134.649 490.645 136.455 494.209 Q138.283 497.751 141.894 497.751 Q145.529 497.751 147.334 494.209 Q149.163 490.645 149.163 483.538 Q149.163 476.409 147.334 472.867 Q145.529 469.302 141.894 469.302 M141.894 465.598 Q147.705 465.598 150.76 470.205 Q153.839 474.788 153.839 483.538 Q153.839 492.265 150.76 496.871 Q147.705 501.455 141.894 501.455 Q136.084 501.455 133.006 496.871 Q129.95 492.265 129.95 483.538 Q129.95 474.788 133.006 470.205 Q136.084 465.598 141.894 465.598 Z\" fill=\"#000000\" fill-rule=\"evenodd\" fill-opacity=\"1\" /><path clip-path=\"url(#clip930)\" d=\"M 0 0 M168.908 469.302 Q165.297 469.302 163.468 472.867 Q161.663 476.409 161.663 483.538 Q161.663 490.645 163.468 494.209 Q165.297 497.751 168.908 497.751 Q172.542 497.751 174.348 494.209 Q176.177 490.645 176.177 483.538 Q176.177 476.409 174.348 472.867 Q172.542 469.302 168.908 469.302 M168.908 465.598 Q174.718 465.598 177.774 470.205 Q180.853 474.788 180.853 483.538 Q180.853 492.265 177.774 496.871 Q174.718 501.455 168.908 501.455 Q163.098 501.455 160.019 496.871 Q156.964 492.265 156.964 483.538 Q156.964 474.788 160.019 470.205 Q163.098 465.598 168.908 465.598 Z\" fill=\"#000000\" fill-rule=\"evenodd\" fill-opacity=\"1\" /><path clip-path=\"url(#clip930)\" d=\"M 0 0 M195.922 469.302 Q192.311 469.302 190.482 472.867 Q188.677 476.409 188.677 483.538 Q188.677 490.645 190.482 494.209 Q192.311 497.751 195.922 497.751 Q199.556 497.751 201.362 494.209 Q203.19 490.645 203.19 483.538 Q203.19 476.409 201.362 472.867 Q199.556 469.302 195.922 469.302 M195.922 465.598 Q201.732 465.598 204.788 470.205 Q207.866 474.788 207.866 483.538 Q207.866 492.265 204.788 496.871 Q201.732 501.455 195.922 501.455 Q190.112 501.455 187.033 496.871 Q183.978 492.265 183.978 483.538 Q183.978 474.788 187.033 470.205 Q190.112 465.598 195.922 465.598 Z\" fill=\"#000000\" fill-rule=\"evenodd\" fill-opacity=\"1\" /><path clip-path=\"url(#clip930)\" d=\"M 0 0 M222.936 469.302 Q219.325 469.302 217.496 472.867 Q215.69 476.409 215.69 483.538 Q215.69 490.645 217.496 494.209 Q219.325 497.751 222.936 497.751 Q226.57 497.751 228.375 494.209 Q230.204 490.645 230.204 483.538 Q230.204 476.409 228.375 472.867 Q226.57 469.302 222.936 469.302 M222.936 465.598 Q228.746 465.598 231.801 470.205 Q234.88 474.788 234.88 483.538 Q234.88 492.265 231.801 496.871 Q228.746 501.455 222.936 501.455 Q217.125 501.455 214.047 496.871 Q210.991 492.265 210.991 483.538 Q210.991 474.788 214.047 470.205 Q217.125 465.598 222.936 465.598 Z\" fill=\"#000000\" fill-rule=\"evenodd\" fill-opacity=\"1\" /><path clip-path=\"url(#clip930)\" d=\"M 0 0 M240.76 496.848 L248.398 496.848 L248.398 470.483 L240.088 472.149 L240.088 467.89 L248.352 466.223 L253.028 466.223 L253.028 496.848 L260.667 496.848 L260.667 500.783 L240.76 500.783 L240.76 496.848 Z\" fill=\"#000000\" fill-rule=\"evenodd\" fill-opacity=\"1\" /><path clip-path=\"url(#clip930)\" d=\"M 0 0 M52.8903 175.392 L60.5291 175.392 L60.5291 149.026 L52.219 150.693 L52.219 146.434 L60.4828 144.767 L65.1587 144.767 L65.1587 175.392 L72.7976 175.392 L72.7976 179.327 L52.8903 179.327 L52.8903 175.392 Z\" fill=\"#000000\" fill-rule=\"evenodd\" fill-opacity=\"1\" /><path clip-path=\"url(#clip930)\" d=\"M 0 0 M87.8669 147.846 Q84.2558 147.846 82.4271 151.41 Q80.6216 154.952 80.6216 162.082 Q80.6216 169.188 82.4271 172.753 Q84.2558 176.295 87.8669 176.295 Q91.5012 176.295 93.3067 172.753 Q95.1354 169.188 95.1354 162.082 Q95.1354 154.952 93.3067 151.41 Q91.5012 147.846 87.8669 147.846 M87.8669 144.142 Q93.6771 144.142 96.7326 148.748 Q99.8113 153.332 99.8113 162.082 Q99.8113 170.808 96.7326 175.415 Q93.6771 179.998 87.8669 179.998 Q82.0568 179.998 78.9781 175.415 Q75.9225 170.808 75.9225 162.082 Q75.9225 153.332 78.9781 148.748 Q82.0568 144.142 87.8669 144.142 Z\" fill=\"#000000\" fill-rule=\"evenodd\" fill-opacity=\"1\" /><path clip-path=\"url(#clip930)\" d=\"M 0 0 M114.881 147.846 Q111.27 147.846 109.441 151.41 Q107.635 154.952 107.635 162.082 Q107.635 169.188 109.441 172.753 Q111.27 176.295 114.881 176.295 Q118.515 176.295 120.32 172.753 Q122.149 169.188 122.149 162.082 Q122.149 154.952 120.32 151.41 Q118.515 147.846 114.881 147.846 M114.881 144.142 Q120.691 144.142 123.746 148.748 Q126.825 153.332 126.825 162.082 Q126.825 170.808 123.746 175.415 Q120.691 179.998 114.881 179.998 Q109.071 179.998 105.992 175.415 Q102.936 170.808 102.936 162.082 Q102.936 153.332 105.992 148.748 Q109.071 144.142 114.881 144.142 Z\" fill=\"#000000\" fill-rule=\"evenodd\" fill-opacity=\"1\" /><path clip-path=\"url(#clip930)\" d=\"M 0 0 M141.894 147.846 Q138.283 147.846 136.455 151.41 Q134.649 154.952 134.649 162.082 Q134.649 169.188 136.455 172.753 Q138.283 176.295 141.894 176.295 Q145.529 176.295 147.334 172.753 Q149.163 169.188 149.163 162.082 Q149.163 154.952 147.334 151.41 Q145.529 147.846 141.894 147.846 M141.894 144.142 Q147.705 144.142 150.76 148.748 Q153.839 153.332 153.839 162.082 Q153.839 170.808 150.76 175.415 Q147.705 179.998 141.894 179.998 Q136.084 179.998 133.006 175.415 Q129.95 170.808 129.95 162.082 Q129.95 153.332 133.006 148.748 Q136.084 144.142 141.894 144.142 Z\" fill=\"#000000\" fill-rule=\"evenodd\" fill-opacity=\"1\" /><path clip-path=\"url(#clip930)\" d=\"M 0 0 M168.908 147.846 Q165.297 147.846 163.468 151.41 Q161.663 154.952 161.663 162.082 Q161.663 169.188 163.468 172.753 Q165.297 176.295 168.908 176.295 Q172.542 176.295 174.348 172.753 Q176.177 169.188 176.177 162.082 Q176.177 154.952 174.348 151.41 Q172.542 147.846 168.908 147.846 M168.908 144.142 Q174.718 144.142 177.774 148.748 Q180.853 153.332 180.853 162.082 Q180.853 170.808 177.774 175.415 Q174.718 179.998 168.908 179.998 Q163.098 179.998 160.019 175.415 Q156.964 170.808 156.964 162.082 Q156.964 153.332 160.019 148.748 Q163.098 144.142 168.908 144.142 Z\" fill=\"#000000\" fill-rule=\"evenodd\" fill-opacity=\"1\" /><path clip-path=\"url(#clip930)\" d=\"M 0 0 M195.922 147.846 Q192.311 147.846 190.482 151.41 Q188.677 154.952 188.677 162.082 Q188.677 169.188 190.482 172.753 Q192.311 176.295 195.922 176.295 Q199.556 176.295 201.362 172.753 Q203.19 169.188 203.19 162.082 Q203.19 154.952 201.362 151.41 Q199.556 147.846 195.922 147.846 M195.922 144.142 Q201.732 144.142 204.788 148.748 Q207.866 153.332 207.866 162.082 Q207.866 170.808 204.788 175.415 Q201.732 179.998 195.922 179.998 Q190.112 179.998 187.033 175.415 Q183.978 170.808 183.978 162.082 Q183.978 153.332 187.033 148.748 Q190.112 144.142 195.922 144.142 Z\" fill=\"#000000\" fill-rule=\"evenodd\" fill-opacity=\"1\" /><path clip-path=\"url(#clip930)\" d=\"M 0 0 M222.936 147.846 Q219.325 147.846 217.496 151.41 Q215.69 154.952 215.69 162.082 Q215.69 169.188 217.496 172.753 Q219.325 176.295 222.936 176.295 Q226.57 176.295 228.375 172.753 Q230.204 169.188 230.204 162.082 Q230.204 154.952 228.375 151.41 Q226.57 147.846 222.936 147.846 M222.936 144.142 Q228.746 144.142 231.801 148.748 Q234.88 153.332 234.88 162.082 Q234.88 170.808 231.801 175.415 Q228.746 179.998 222.936 179.998 Q217.125 179.998 214.047 175.415 Q210.991 170.808 210.991 162.082 Q210.991 153.332 214.047 148.748 Q217.125 144.142 222.936 144.142 Z\" fill=\"#000000\" fill-rule=\"evenodd\" fill-opacity=\"1\" /><path clip-path=\"url(#clip930)\" d=\"M 0 0 M240.76 175.392 L248.398 175.392 L248.398 149.026 L240.088 150.693 L240.088 146.434 L248.352 144.767 L253.028 144.767 L253.028 175.392 L260.667 175.392 L260.667 179.327 L240.76 179.327 L240.76 175.392 Z\" fill=\"#000000\" fill-rule=\"evenodd\" fill-opacity=\"1\" /><path clip-path=\"url(#clip930)\" d=\"M 0 0 M1035.19 16.633 L1056.14 72.576 L1048.24 72.576 L1035.52 39.0345 L1019.88 72.576 L1011.98 72.576 L1031.87 29.0693 L1028.87 21.0485 Q1026.97 15.9444 1022.64 15.9444 L1018.75 15.9444 L1018.75 9.54393 L1023.49 9.62495 Q1032.64 9.74648 1035.19 16.633 Z\" fill=\"#000000\" fill-rule=\"evenodd\" fill-opacity=\"1\" /><path clip-path=\"url(#clip930)\" d=\"M 0 0 M1113.29 9.54393 L1113.29 15.7418 L1106.17 15.7418 Q1102.15 15.7418 1100.57 17.3622 Q1099.04 18.9825 1099.04 23.1955 L1099.04 27.2059 L1111.31 27.2059 L1111.31 32.9987 L1099.04 32.9987 L1099.04 72.576 L1091.54 72.576 L1091.54 32.9987 L1084.41 32.9987 L1084.41 27.2059 L1091.54 27.2059 L1091.54 24.0462 Q1091.54 16.471 1095.07 13.0277 Q1098.59 9.54393 1106.25 9.54393 L1113.29 9.54393 Z\" fill=\"#000000\" fill-rule=\"evenodd\" fill-opacity=\"1\" /><path clip-path=\"url(#clip930)\" d=\"M 0 0 M1138.69 32.4315 Q1132.7 32.4315 1129.21 37.1306 Q1125.73 41.7891 1125.73 49.9314 Q1125.73 58.0738 1129.17 62.7728 Q1132.66 67.4314 1138.69 67.4314 Q1144.65 67.4314 1148.13 62.7323 Q1151.62 58.0333 1151.62 49.9314 Q1151.62 41.8701 1148.13 37.1711 Q1144.65 32.4315 1138.69 32.4315 M1138.69 26.1121 Q1148.42 26.1121 1153.97 32.4315 Q1159.52 38.7509 1159.52 49.9314 Q1159.52 61.0714 1153.97 67.4314 Q1148.42 73.7508 1138.69 73.7508 Q1128.93 73.7508 1123.38 67.4314 Q1117.87 61.0714 1117.87 49.9314 Q1117.87 38.7509 1123.38 32.4315 Q1128.93 26.1121 1138.69 26.1121 Z\" fill=\"#000000\" fill-rule=\"evenodd\" fill-opacity=\"1\" /><path clip-path=\"url(#clip930)\" d=\"M 0 0 M1193.62 34.1734 Q1192.37 33.4443 1190.87 33.1202 Q1189.41 32.7556 1187.63 32.7556 Q1181.31 32.7556 1177.91 36.8875 Q1174.54 40.9789 1174.54 48.6757 L1174.54 72.576 L1167.05 72.576 L1167.05 27.2059 L1174.54 27.2059 L1174.54 34.2544 Q1176.89 30.1225 1180.66 28.1376 Q1184.43 26.1121 1189.82 26.1121 Q1190.59 26.1121 1191.52 26.2337 Q1192.45 26.3147 1193.58 26.5172 L1193.62 34.1734 Z\" fill=\"#000000\" fill-rule=\"evenodd\" fill-opacity=\"1\" /><path clip-path=\"url(#clip930)\" d=\"M 0 0 M1235.92 65.6895 L1264.47 65.6895 L1264.47 72.576 L1226.07 72.576 L1226.07 65.6895 Q1230.73 60.8689 1238.75 52.7671 Q1246.81 44.6248 1248.88 42.2752 Q1252.81 37.8598 1254.35 34.8216 Q1255.93 31.7429 1255.93 28.7857 Q1255.93 23.9651 1252.52 20.927 Q1249.16 17.8888 1243.73 17.8888 Q1239.89 17.8888 1235.59 19.2256 Q1231.34 20.5624 1226.48 23.2765 L1226.48 15.0127 Q1231.42 13.0277 1235.71 12.015 Q1240.01 11.0023 1243.57 11.0023 Q1252.97 11.0023 1258.56 15.7013 Q1264.15 20.4004 1264.15 28.2591 Q1264.15 31.9859 1262.73 35.3482 Q1261.36 38.6699 1257.67 43.2069 Q1256.66 44.3817 1251.23 50.0125 Q1245.8 55.6027 1235.92 65.6895 Z\" fill=\"#000000\" fill-rule=\"evenodd\" fill-opacity=\"1\" /><path clip-path=\"url(#clip930)\" d=\"M 0 0 M1298.66 27.2059 L1306.12 27.2059 L1306.12 72.576 L1298.66 72.576 L1298.66 27.2059 M1298.66 9.54393 L1306.12 9.54393 L1306.12 18.9825 L1298.66 18.9825 L1298.66 9.54393 Z\" fill=\"#000000\" fill-rule=\"evenodd\" fill-opacity=\"1\" /><path clip-path=\"url(#clip930)\" d=\"M 0 0 M1321.31 14.324 L1321.31 27.2059 L1336.66 27.2059 L1336.66 32.9987 L1321.31 32.9987 L1321.31 57.6282 Q1321.31 63.1779 1322.81 64.7578 Q1324.35 66.3376 1329.01 66.3376 L1336.66 66.3376 L1336.66 72.576 L1329.01 72.576 Q1320.38 72.576 1317.1 69.3758 Q1313.81 66.1351 1313.81 57.6282 L1313.81 32.9987 L1308.35 32.9987 L1308.35 27.2059 L1313.81 27.2059 L1313.81 14.324 L1321.31 14.324 Z\" fill=\"#000000\" fill-rule=\"evenodd\" fill-opacity=\"1\" /><path clip-path=\"url(#clip930)\" d=\"M 0 0 M1383.29 48.0275 L1383.29 51.6733 L1349.02 51.6733 Q1349.5 59.3701 1353.63 63.421 Q1357.81 67.4314 1365.22 67.4314 Q1369.51 67.4314 1373.52 66.3781 Q1377.58 65.3249 1381.55 63.2184 L1381.55 70.267 Q1377.54 71.9684 1373.32 72.8596 Q1369.11 73.7508 1364.77 73.7508 Q1353.92 73.7508 1347.56 67.4314 Q1341.24 61.1119 1341.24 50.3365 Q1341.24 39.1965 1347.23 32.6746 Q1353.27 26.1121 1363.48 26.1121 Q1372.63 26.1121 1377.94 32.0264 Q1383.29 37.9003 1383.29 48.0275 M1375.83 45.84 Q1375.75 39.7232 1372.39 36.0774 Q1369.07 32.4315 1363.56 32.4315 Q1357.32 32.4315 1353.55 35.9558 Q1349.83 39.4801 1349.26 45.8805 L1375.83 45.84 Z\" fill=\"#000000\" fill-rule=\"evenodd\" fill-opacity=\"1\" /><path clip-path=\"url(#clip930)\" d=\"M 0 0 M1417.4 34.1734 Q1416.14 33.4443 1414.64 33.1202 Q1413.18 32.7556 1411.4 32.7556 Q1405.08 32.7556 1401.68 36.8875 Q1398.32 40.9789 1398.32 48.6757 L1398.32 72.576 L1390.82 72.576 L1390.82 27.2059 L1398.32 27.2059 L1398.32 34.2544 Q1400.67 30.1225 1404.43 28.1376 Q1408.2 26.1121 1413.59 26.1121 Q1414.36 26.1121 1415.29 26.2337 Q1416.22 26.3147 1417.36 26.5172 L1417.4 34.1734 Z\" fill=\"#000000\" fill-rule=\"evenodd\" fill-opacity=\"1\" /><path clip-path=\"url(#clip930)\" d=\"M 0 0 M1445.83 49.7694 Q1436.8 49.7694 1433.32 51.8354 Q1429.83 53.9013 1429.83 58.8839 Q1429.83 62.8538 1432.42 65.2034 Q1435.06 67.5124 1439.55 67.5124 Q1445.75 67.5124 1449.48 63.1374 Q1453.25 58.7219 1453.25 51.4303 L1453.25 49.7694 L1445.83 49.7694 M1460.7 46.6907 L1460.7 72.576 L1453.25 72.576 L1453.25 65.6895 Q1450.69 69.8214 1446.89 71.8063 Q1443.08 73.7508 1437.57 73.7508 Q1430.6 73.7508 1426.47 69.8619 Q1422.38 65.9325 1422.38 59.3701 Q1422.38 51.7138 1427.48 47.825 Q1432.63 43.9361 1442.8 43.9361 L1453.25 43.9361 L1453.25 43.2069 Q1453.25 38.0623 1449.84 35.2672 Q1446.48 32.4315 1440.36 32.4315 Q1436.48 32.4315 1432.79 33.3632 Q1429.1 34.295 1425.7 36.1584 L1425.7 29.2718 Q1429.79 27.692 1433.64 26.9223 Q1437.49 26.1121 1441.13 26.1121 Q1450.98 26.1121 1455.84 31.2163 Q1460.7 36.3204 1460.7 46.6907 Z\" fill=\"#000000\" fill-rule=\"evenodd\" fill-opacity=\"1\" /><path clip-path=\"url(#clip930)\" d=\"M 0 0 M1475.89 14.324 L1475.89 27.2059 L1491.24 27.2059 L1491.24 32.9987 L1475.89 32.9987 L1475.89 57.6282 Q1475.89 63.1779 1477.39 64.7578 Q1478.93 66.3376 1483.59 66.3376 L1491.24 66.3376 L1491.24 72.576 L1483.59 72.576 Q1474.96 72.576 1471.68 69.3758 Q1468.4 66.1351 1468.4 57.6282 L1468.4 32.9987 L1462.93 32.9987 L1462.93 27.2059 L1468.4 27.2059 L1468.4 14.324 L1475.89 14.324 Z\" fill=\"#000000\" fill-rule=\"evenodd\" fill-opacity=\"1\" /><path clip-path=\"url(#clip930)\" d=\"M 0 0 M1499.06 27.2059 L1506.52 27.2059 L1506.52 72.576 L1499.06 72.576 L1499.06 27.2059 M1499.06 9.54393 L1506.52 9.54393 L1506.52 18.9825 L1499.06 18.9825 L1499.06 9.54393 Z\" fill=\"#000000\" fill-rule=\"evenodd\" fill-opacity=\"1\" /><path clip-path=\"url(#clip930)\" d=\"M 0 0 M1531.92 32.4315 Q1525.92 32.4315 1522.44 37.1306 Q1518.95 41.7891 1518.95 49.9314 Q1518.95 58.0738 1522.4 62.7728 Q1525.88 67.4314 1531.92 67.4314 Q1537.87 67.4314 1541.35 62.7323 Q1544.84 58.0333 1544.84 49.9314 Q1544.84 41.8701 1541.35 37.1711 Q1537.87 32.4315 1531.92 32.4315 M1531.92 26.1121 Q1541.64 26.1121 1547.19 32.4315 Q1552.74 38.7509 1552.74 49.9314 Q1552.74 61.0714 1547.19 67.4314 Q1541.64 73.7508 1531.92 73.7508 Q1522.15 73.7508 1516.6 67.4314 Q1511.09 61.0714 1511.09 49.9314 Q1511.09 38.7509 1516.6 32.4315 Q1522.15 26.1121 1531.92 26.1121 Z\" fill=\"#000000\" fill-rule=\"evenodd\" fill-opacity=\"1\" /><path clip-path=\"url(#clip930)\" d=\"M 0 0 M1598.27 45.1919 L1598.27 72.576 L1590.82 72.576 L1590.82 45.4349 Q1590.82 38.994 1588.3 35.7938 Q1585.79 32.5936 1580.77 32.5936 Q1574.73 32.5936 1571.25 36.4419 Q1567.77 40.2903 1567.77 46.9338 L1567.77 72.576 L1560.27 72.576 L1560.27 27.2059 L1567.77 27.2059 L1567.77 34.2544 Q1570.44 30.163 1574.04 28.1376 Q1577.69 26.1121 1582.43 26.1121 Q1590.25 26.1121 1594.26 30.9732 Q1598.27 35.7938 1598.27 45.1919 Z\" fill=\"#000000\" fill-rule=\"evenodd\" fill-opacity=\"1\" /><path clip-path=\"url(#clip930)\" d=\"M 0 0 M1635.01 28.5427 L1635.01 35.5912 Q1631.85 33.9709 1628.45 33.1607 Q1625.05 32.3505 1621.4 32.3505 Q1615.85 32.3505 1613.05 34.0519 Q1610.3 35.7533 1610.3 39.156 Q1610.3 41.7486 1612.29 43.2475 Q1614.27 44.7058 1620.27 46.0426 L1622.82 46.6097 Q1630.76 48.3111 1634.08 51.4303 Q1637.44 54.509 1637.44 60.0587 Q1637.44 66.3781 1632.42 70.0644 Q1627.44 73.7508 1618.69 73.7508 Q1615.04 73.7508 1611.07 73.0216 Q1607.14 72.3329 1602.77 70.9151 L1602.77 63.2184 Q1606.9 65.3654 1610.91 66.4591 Q1614.92 67.5124 1618.85 67.5124 Q1624.11 67.5124 1626.95 65.73 Q1629.79 63.9071 1629.79 60.6258 Q1629.79 57.5877 1627.72 55.9673 Q1625.69 54.3469 1618.77 52.8481 L1616.17 52.2405 Q1609.25 50.7821 1606.17 47.7845 Q1603.09 44.7463 1603.09 39.4801 Q1603.09 33.0797 1607.63 29.5959 Q1612.16 26.1121 1620.51 26.1121 Q1624.64 26.1121 1628.29 26.7198 Q1631.93 27.3274 1635.01 28.5427 Z\" fill=\"#000000\" fill-rule=\"evenodd\" fill-opacity=\"1\" /><polyline clip-path=\"url(#clip932)\" style=\"stroke:#009af9; stroke-width:4; stroke-opacity:1; fill:none\" points=\"\n",
       "  354.858,1447.87 2294.56,1447.87 \n",
       "  \"/>\n",
       "<path clip-path=\"url(#clip930)\" d=\"\n",
       "M2004.75 289.865 L2284.22 289.865 L2284.22 168.905 L2004.75 168.905  Z\n",
       "  \" fill=\"#ffffff\" fill-rule=\"evenodd\" fill-opacity=\"1\"/>\n",
       "<polyline clip-path=\"url(#clip930)\" style=\"stroke:#000000; stroke-width:4; stroke-opacity:1; fill:none\" points=\"\n",
       "  2004.75,289.865 2284.22,289.865 2284.22,168.905 2004.75,168.905 2004.75,289.865 \n",
       "  \"/>\n",
       "<polyline clip-path=\"url(#clip930)\" style=\"stroke:#009af9; stroke-width:4; stroke-opacity:1; fill:none\" points=\"\n",
       "  2027.59,229.385 2164.67,229.385 \n",
       "  \"/>\n",
       "<path clip-path=\"url(#clip930)\" d=\"M 0 0 M2201.35 249.072 Q2199.55 253.702 2197.83 255.114 Q2196.12 256.526 2193.25 256.526 L2189.85 256.526 L2189.85 252.961 L2192.35 252.961 Q2194.11 252.961 2195.08 252.128 Q2196.05 251.294 2197.23 248.192 L2198 246.248 L2187.51 220.739 L2192.02 220.739 L2200.13 241.017 L2208.23 220.739 L2212.74 220.739 L2201.35 249.072 Z\" fill=\"#000000\" fill-rule=\"evenodd\" fill-opacity=\"1\" /><path clip-path=\"url(#clip930)\" d=\"M 0 0 M2218.62 242.729 L2226.26 242.729 L2226.26 216.364 L2217.95 218.031 L2217.95 213.771 L2226.21 212.105 L2230.89 212.105 L2230.89 242.729 L2238.53 242.729 L2238.53 246.665 L2218.62 246.665 L2218.62 242.729 Z\" fill=\"#000000\" fill-rule=\"evenodd\" fill-opacity=\"1\" /></svg>\n"
      ]
     },
     "execution_count": 126,
     "metadata": {},
     "output_type": "execute_result"
    }
   ],
   "source": [
    "plot(x_iter, λvalues, title=\"λ for $(length(lossvalues)) iterations\")"
   ]
  },
  {
   "cell_type": "markdown",
   "id": "intense-damages",
   "metadata": {},
   "source": [
    "# Fitted parameters against the data, not great!"
   ]
  },
  {
   "cell_type": "code",
   "execution_count": 127,
   "id": "robust-moment",
   "metadata": {},
   "outputs": [
    {
     "data": {
      "image/svg+xml": [
       "<?xml version=\"1.0\" encoding=\"utf-8\"?>\n",
       "<svg xmlns=\"http://www.w3.org/2000/svg\" xmlns:xlink=\"http://www.w3.org/1999/xlink\" width=\"600\" height=\"400\" viewBox=\"0 0 2400 1600\">\n",
       "<defs>\n",
       "  <clipPath id=\"clip970\">\n",
       "    <rect x=\"0\" y=\"0\" width=\"2400\" height=\"1600\"/>\n",
       "  </clipPath>\n",
       "</defs>\n",
       "<path clip-path=\"url(#clip970)\" d=\"\n",
       "M0 1600 L2400 1600 L2400 0 L0 0  Z\n",
       "  \" fill=\"#ffffff\" fill-rule=\"evenodd\" fill-opacity=\"1\"/>\n",
       "<defs>\n",
       "  <clipPath id=\"clip971\">\n",
       "    <rect x=\"480\" y=\"0\" width=\"1681\" height=\"1600\"/>\n",
       "  </clipPath>\n",
       "</defs>\n",
       "<path clip-path=\"url(#clip970)\" d=\"\n",
       "M148.334 1486.45 L2352.76 1486.45 L2352.76 47.2441 L148.334 47.2441  Z\n",
       "  \" fill=\"#ffffff\" fill-rule=\"evenodd\" fill-opacity=\"1\"/>\n",
       "<defs>\n",
       "  <clipPath id=\"clip972\">\n",
       "    <rect x=\"148\" y=\"47\" width=\"2205\" height=\"1440\"/>\n",
       "  </clipPath>\n",
       "</defs>\n",
       "<polyline clip-path=\"url(#clip972)\" style=\"stroke:#000000; stroke-width:2; stroke-opacity:0.1; fill:none\" points=\"\n",
       "  210.724,1486.45 210.724,47.2441 \n",
       "  \"/>\n",
       "<polyline clip-path=\"url(#clip972)\" style=\"stroke:#000000; stroke-width:2; stroke-opacity:0.1; fill:none\" points=\"\n",
       "  730.634,1486.45 730.634,47.2441 \n",
       "  \"/>\n",
       "<polyline clip-path=\"url(#clip972)\" style=\"stroke:#000000; stroke-width:2; stroke-opacity:0.1; fill:none\" points=\"\n",
       "  1250.55,1486.45 1250.55,47.2441 \n",
       "  \"/>\n",
       "<polyline clip-path=\"url(#clip972)\" style=\"stroke:#000000; stroke-width:2; stroke-opacity:0.1; fill:none\" points=\"\n",
       "  1770.46,1486.45 1770.46,47.2441 \n",
       "  \"/>\n",
       "<polyline clip-path=\"url(#clip972)\" style=\"stroke:#000000; stroke-width:2; stroke-opacity:0.1; fill:none\" points=\"\n",
       "  2290.37,1486.45 2290.37,47.2441 \n",
       "  \"/>\n",
       "<polyline clip-path=\"url(#clip970)\" style=\"stroke:#000000; stroke-width:4; stroke-opacity:1; fill:none\" points=\"\n",
       "  148.334,1486.45 2352.76,1486.45 \n",
       "  \"/>\n",
       "<polyline clip-path=\"url(#clip970)\" style=\"stroke:#000000; stroke-width:4; stroke-opacity:1; fill:none\" points=\"\n",
       "  210.724,1486.45 210.724,1469.18 \n",
       "  \"/>\n",
       "<polyline clip-path=\"url(#clip970)\" style=\"stroke:#000000; stroke-width:4; stroke-opacity:1; fill:none\" points=\"\n",
       "  730.634,1486.45 730.634,1469.18 \n",
       "  \"/>\n",
       "<polyline clip-path=\"url(#clip970)\" style=\"stroke:#000000; stroke-width:4; stroke-opacity:1; fill:none\" points=\"\n",
       "  1250.55,1486.45 1250.55,1469.18 \n",
       "  \"/>\n",
       "<polyline clip-path=\"url(#clip970)\" style=\"stroke:#000000; stroke-width:4; stroke-opacity:1; fill:none\" points=\"\n",
       "  1770.46,1486.45 1770.46,1469.18 \n",
       "  \"/>\n",
       "<polyline clip-path=\"url(#clip970)\" style=\"stroke:#000000; stroke-width:4; stroke-opacity:1; fill:none\" points=\"\n",
       "  2290.37,1486.45 2290.37,1469.18 \n",
       "  \"/>\n",
       "<path clip-path=\"url(#clip970)\" d=\"M 0 0 M210.724 1515.64 Q207.113 1515.64 205.284 1519.2 Q203.478 1522.75 203.478 1529.87 Q203.478 1536.98 205.284 1540.55 Q207.113 1544.09 210.724 1544.09 Q214.358 1544.09 216.163 1540.55 Q217.992 1536.98 217.992 1529.87 Q217.992 1522.75 216.163 1519.2 Q214.358 1515.64 210.724 1515.64 M210.724 1511.93 Q216.534 1511.93 219.589 1516.54 Q222.668 1521.12 222.668 1529.87 Q222.668 1538.6 219.589 1543.21 Q216.534 1547.79 210.724 1547.79 Q204.914 1547.79 201.835 1543.21 Q198.779 1538.6 198.779 1529.87 Q198.779 1521.12 201.835 1516.54 Q204.914 1511.93 210.724 1511.93 Z\" fill=\"#000000\" fill-rule=\"evenodd\" fill-opacity=\"1\" /><path clip-path=\"url(#clip970)\" d=\"M 0 0 M720.912 1512.56 L739.269 1512.56 L739.269 1516.5 L725.195 1516.5 L725.195 1524.97 Q726.213 1524.62 727.232 1524.46 Q728.25 1524.27 729.269 1524.27 Q735.056 1524.27 738.435 1527.44 Q741.815 1530.62 741.815 1536.03 Q741.815 1541.61 738.343 1544.71 Q734.871 1547.79 728.551 1547.79 Q726.375 1547.79 724.107 1547.42 Q721.861 1547.05 719.454 1546.31 L719.454 1541.61 Q721.537 1542.74 723.759 1543.3 Q725.982 1543.86 728.458 1543.86 Q732.463 1543.86 734.801 1541.75 Q737.139 1539.64 737.139 1536.03 Q737.139 1532.42 734.801 1530.31 Q732.463 1528.21 728.458 1528.21 Q726.584 1528.21 724.709 1528.62 Q722.857 1529.04 720.912 1529.92 L720.912 1512.56 Z\" fill=\"#000000\" fill-rule=\"evenodd\" fill-opacity=\"1\" /><path clip-path=\"url(#clip970)\" d=\"M 0 0 M1227.42 1543.18 L1235.06 1543.18 L1235.06 1516.82 L1226.75 1518.49 L1226.75 1514.23 L1235.01 1512.56 L1239.69 1512.56 L1239.69 1543.18 L1247.33 1543.18 L1247.33 1547.12 L1227.42 1547.12 L1227.42 1543.18 Z\" fill=\"#000000\" fill-rule=\"evenodd\" fill-opacity=\"1\" /><path clip-path=\"url(#clip970)\" d=\"M 0 0 M1262.4 1515.64 Q1258.79 1515.64 1256.96 1519.2 Q1255.15 1522.75 1255.15 1529.87 Q1255.15 1536.98 1256.96 1540.55 Q1258.79 1544.09 1262.4 1544.09 Q1266.03 1544.09 1267.84 1540.55 Q1269.67 1536.98 1269.67 1529.87 Q1269.67 1522.75 1267.84 1519.2 Q1266.03 1515.64 1262.4 1515.64 M1262.4 1511.93 Q1268.21 1511.93 1271.26 1516.54 Q1274.34 1521.12 1274.34 1529.87 Q1274.34 1538.6 1271.26 1543.21 Q1268.21 1547.79 1262.4 1547.79 Q1256.59 1547.79 1253.51 1543.21 Q1250.45 1538.6 1250.45 1529.87 Q1250.45 1521.12 1253.51 1516.54 Q1256.59 1511.93 1262.4 1511.93 Z\" fill=\"#000000\" fill-rule=\"evenodd\" fill-opacity=\"1\" /><path clip-path=\"url(#clip970)\" d=\"M 0 0 M1747.83 1543.18 L1755.47 1543.18 L1755.47 1516.82 L1747.16 1518.49 L1747.16 1514.23 L1755.42 1512.56 L1760.1 1512.56 L1760.1 1543.18 L1767.74 1543.18 L1767.74 1547.12 L1747.83 1547.12 L1747.83 1543.18 Z\" fill=\"#000000\" fill-rule=\"evenodd\" fill-opacity=\"1\" /><path clip-path=\"url(#clip970)\" d=\"M 0 0 M1772.85 1512.56 L1791.21 1512.56 L1791.21 1516.5 L1777.13 1516.5 L1777.13 1524.97 Q1778.15 1524.62 1779.17 1524.46 Q1780.19 1524.27 1781.21 1524.27 Q1787 1524.27 1790.37 1527.44 Q1793.75 1530.62 1793.75 1536.03 Q1793.75 1541.61 1790.28 1544.71 Q1786.81 1547.79 1780.49 1547.79 Q1778.31 1547.79 1776.05 1547.42 Q1773.8 1547.05 1771.39 1546.31 L1771.39 1541.61 Q1773.48 1542.74 1775.7 1543.3 Q1777.92 1543.86 1780.4 1543.86 Q1784.4 1543.86 1786.74 1541.75 Q1789.08 1539.64 1789.08 1536.03 Q1789.08 1532.42 1786.74 1530.31 Q1784.4 1528.21 1780.4 1528.21 Q1778.52 1528.21 1776.65 1528.62 Q1774.8 1529.04 1772.85 1529.92 L1772.85 1512.56 Z\" fill=\"#000000\" fill-rule=\"evenodd\" fill-opacity=\"1\" /><path clip-path=\"url(#clip970)\" d=\"M 0 0 M2271.51 1543.18 L2287.83 1543.18 L2287.83 1547.12 L2265.89 1547.12 L2265.89 1543.18 Q2268.55 1540.43 2273.13 1535.8 Q2277.74 1531.15 2278.92 1529.81 Q2281.17 1527.28 2282.04 1525.55 Q2282.95 1523.79 2282.95 1522.1 Q2282.95 1519.34 2281 1517.61 Q2279.08 1515.87 2275.98 1515.87 Q2273.78 1515.87 2271.33 1516.63 Q2268.9 1517.4 2266.12 1518.95 L2266.12 1514.23 Q2268.94 1513.09 2271.4 1512.51 Q2273.85 1511.93 2275.89 1511.93 Q2281.26 1511.93 2284.45 1514.62 Q2287.65 1517.31 2287.65 1521.8 Q2287.65 1523.93 2286.84 1525.85 Q2286.05 1527.74 2283.94 1530.34 Q2283.36 1531.01 2280.26 1534.23 Q2277.16 1537.42 2271.51 1543.18 Z\" fill=\"#000000\" fill-rule=\"evenodd\" fill-opacity=\"1\" /><path clip-path=\"url(#clip970)\" d=\"M 0 0 M2302.9 1515.64 Q2299.29 1515.64 2297.46 1519.2 Q2295.66 1522.75 2295.66 1529.87 Q2295.66 1536.98 2297.46 1540.55 Q2299.29 1544.09 2302.9 1544.09 Q2306.54 1544.09 2308.34 1540.55 Q2310.17 1536.98 2310.17 1529.87 Q2310.17 1522.75 2308.34 1519.2 Q2306.54 1515.64 2302.9 1515.64 M2302.9 1511.93 Q2308.71 1511.93 2311.77 1516.54 Q2314.85 1521.12 2314.85 1529.87 Q2314.85 1538.6 2311.77 1543.21 Q2308.71 1547.79 2302.9 1547.79 Q2297.09 1547.79 2294.01 1543.21 Q2290.96 1538.6 2290.96 1529.87 Q2290.96 1521.12 2294.01 1516.54 Q2297.09 1511.93 2302.9 1511.93 Z\" fill=\"#000000\" fill-rule=\"evenodd\" fill-opacity=\"1\" /><polyline clip-path=\"url(#clip972)\" style=\"stroke:#000000; stroke-width:2; stroke-opacity:0.1; fill:none\" points=\"\n",
       "  148.334,1444.61 2352.76,1444.61 \n",
       "  \"/>\n",
       "<polyline clip-path=\"url(#clip972)\" style=\"stroke:#000000; stroke-width:2; stroke-opacity:0.1; fill:none\" points=\"\n",
       "  148.334,1129.42 2352.76,1129.42 \n",
       "  \"/>\n",
       "<polyline clip-path=\"url(#clip972)\" style=\"stroke:#000000; stroke-width:2; stroke-opacity:0.1; fill:none\" points=\"\n",
       "  148.334,814.225 2352.76,814.225 \n",
       "  \"/>\n",
       "<polyline clip-path=\"url(#clip972)\" style=\"stroke:#000000; stroke-width:2; stroke-opacity:0.1; fill:none\" points=\"\n",
       "  148.334,499.032 2352.76,499.032 \n",
       "  \"/>\n",
       "<polyline clip-path=\"url(#clip972)\" style=\"stroke:#000000; stroke-width:2; stroke-opacity:0.1; fill:none\" points=\"\n",
       "  148.334,183.838 2352.76,183.838 \n",
       "  \"/>\n",
       "<polyline clip-path=\"url(#clip970)\" style=\"stroke:#000000; stroke-width:4; stroke-opacity:1; fill:none\" points=\"\n",
       "  148.334,1486.45 148.334,47.2441 \n",
       "  \"/>\n",
       "<polyline clip-path=\"url(#clip970)\" style=\"stroke:#000000; stroke-width:4; stroke-opacity:1; fill:none\" points=\"\n",
       "  148.334,1444.61 174.787,1444.61 \n",
       "  \"/>\n",
       "<polyline clip-path=\"url(#clip970)\" style=\"stroke:#000000; stroke-width:4; stroke-opacity:1; fill:none\" points=\"\n",
       "  148.334,1129.42 174.787,1129.42 \n",
       "  \"/>\n",
       "<polyline clip-path=\"url(#clip970)\" style=\"stroke:#000000; stroke-width:4; stroke-opacity:1; fill:none\" points=\"\n",
       "  148.334,814.225 174.787,814.225 \n",
       "  \"/>\n",
       "<polyline clip-path=\"url(#clip970)\" style=\"stroke:#000000; stroke-width:4; stroke-opacity:1; fill:none\" points=\"\n",
       "  148.334,499.032 174.787,499.032 \n",
       "  \"/>\n",
       "<polyline clip-path=\"url(#clip970)\" style=\"stroke:#000000; stroke-width:4; stroke-opacity:1; fill:none\" points=\"\n",
       "  148.334,183.838 174.787,183.838 \n",
       "  \"/>\n",
       "<path clip-path=\"url(#clip970)\" d=\"M 0 0 M62.9365 1430.41 Q59.3254 1430.41 57.4967 1433.98 Q55.6912 1437.52 55.6912 1444.65 Q55.6912 1451.75 57.4967 1455.32 Q59.3254 1458.86 62.9365 1458.86 Q66.5707 1458.86 68.3763 1455.32 Q70.205 1451.75 70.205 1444.65 Q70.205 1437.52 68.3763 1433.98 Q66.5707 1430.41 62.9365 1430.41 M62.9365 1426.71 Q68.7467 1426.71 71.8022 1431.31 Q74.8809 1435.9 74.8809 1444.65 Q74.8809 1453.37 71.8022 1457.98 Q68.7467 1462.56 62.9365 1462.56 Q57.1264 1462.56 54.0477 1457.98 Q50.9921 1453.37 50.9921 1444.65 Q50.9921 1435.9 54.0477 1431.31 Q57.1264 1426.71 62.9365 1426.71 Z\" fill=\"#000000\" fill-rule=\"evenodd\" fill-opacity=\"1\" /><path clip-path=\"url(#clip970)\" d=\"M 0 0 M79.9503 1456.01 L84.8345 1456.01 L84.8345 1461.89 L79.9503 1461.89 L79.9503 1456.01 Z\" fill=\"#000000\" fill-rule=\"evenodd\" fill-opacity=\"1\" /><path clip-path=\"url(#clip970)\" d=\"M 0 0 M102.751 1431.41 L90.9456 1449.86 L102.751 1449.86 L102.751 1431.41 M101.524 1427.33 L107.404 1427.33 L107.404 1449.86 L112.334 1449.86 L112.334 1453.74 L107.404 1453.74 L107.404 1461.89 L102.751 1461.89 L102.751 1453.74 L87.1493 1453.74 L87.1493 1449.23 L101.524 1427.33 Z\" fill=\"#000000\" fill-rule=\"evenodd\" fill-opacity=\"1\" /><path clip-path=\"url(#clip970)\" d=\"M 0 0 M64.418 1115.22 Q60.8069 1115.22 58.9782 1118.78 Q57.1726 1122.32 57.1726 1129.45 Q57.1726 1136.56 58.9782 1140.12 Q60.8069 1143.67 64.418 1143.67 Q68.0522 1143.67 69.8578 1140.12 Q71.6865 1136.56 71.6865 1129.45 Q71.6865 1122.32 69.8578 1118.78 Q68.0522 1115.22 64.418 1115.22 M64.418 1111.51 Q70.2281 1111.51 73.2837 1116.12 Q76.3624 1120.7 76.3624 1129.45 Q76.3624 1138.18 73.2837 1142.79 Q70.2281 1147.37 64.418 1147.37 Q58.6078 1147.37 55.5291 1142.79 Q52.4736 1138.18 52.4736 1129.45 Q52.4736 1120.7 55.5291 1116.12 Q58.6078 1111.51 64.418 1111.51 Z\" fill=\"#000000\" fill-rule=\"evenodd\" fill-opacity=\"1\" /><path clip-path=\"url(#clip970)\" d=\"M 0 0 M81.4318 1140.82 L86.316 1140.82 L86.316 1146.7 L81.4318 1146.7 L81.4318 1140.82 Z\" fill=\"#000000\" fill-rule=\"evenodd\" fill-opacity=\"1\" /><path clip-path=\"url(#clip970)\" d=\"M 0 0 M91.4317 1112.14 L109.788 1112.14 L109.788 1116.07 L95.7141 1116.07 L95.7141 1124.55 Q96.7326 1124.2 97.7511 1124.04 Q98.7696 1123.85 99.7882 1123.85 Q105.575 1123.85 108.955 1127.02 Q112.334 1130.19 112.334 1135.61 Q112.334 1141.19 108.862 1144.29 Q105.39 1147.37 99.0706 1147.37 Q96.8947 1147.37 94.6262 1147 Q92.3808 1146.63 89.9734 1145.89 L89.9734 1141.19 Q92.0567 1142.32 94.2789 1142.88 Q96.5011 1143.43 98.978 1143.43 Q102.983 1143.43 105.321 1141.33 Q107.658 1139.22 107.658 1135.61 Q107.658 1132 105.321 1129.89 Q102.983 1127.79 98.978 1127.79 Q97.103 1127.79 95.228 1128.2 Q93.3762 1128.62 91.4317 1129.5 L91.4317 1112.14 Z\" fill=\"#000000\" fill-rule=\"evenodd\" fill-opacity=\"1\" /><path clip-path=\"url(#clip970)\" d=\"M 0 0 M63.2606 800.024 Q59.6495 800.024 57.8208 803.589 Q56.0152 807.13 56.0152 814.26 Q56.0152 821.366 57.8208 824.931 Q59.6495 828.473 63.2606 828.473 Q66.8948 828.473 68.7004 824.931 Q70.5291 821.366 70.5291 814.26 Q70.5291 807.13 68.7004 803.589 Q66.8948 800.024 63.2606 800.024 M63.2606 796.32 Q69.0707 796.32 72.1263 800.927 Q75.205 805.51 75.205 814.26 Q75.205 822.987 72.1263 827.593 Q69.0707 832.176 63.2606 832.176 Q57.4504 832.176 54.3717 827.593 Q51.3162 822.987 51.3162 814.26 Q51.3162 805.51 54.3717 800.927 Q57.4504 796.32 63.2606 796.32 Z\" fill=\"#000000\" fill-rule=\"evenodd\" fill-opacity=\"1\" /><path clip-path=\"url(#clip970)\" d=\"M 0 0 M80.2744 825.625 L85.1586 825.625 L85.1586 831.505 L80.2744 831.505 L80.2744 825.625 Z\" fill=\"#000000\" fill-rule=\"evenodd\" fill-opacity=\"1\" /><path clip-path=\"url(#clip970)\" d=\"M 0 0 M100.807 812.362 Q97.6585 812.362 95.8067 814.514 Q93.978 816.667 93.978 820.417 Q93.978 824.144 95.8067 826.32 Q97.6585 828.473 100.807 828.473 Q103.955 828.473 105.783 826.32 Q107.635 824.144 107.635 820.417 Q107.635 816.667 105.783 814.514 Q103.955 812.362 100.807 812.362 M110.089 797.709 L110.089 801.968 Q108.33 801.135 106.524 800.695 Q104.742 800.255 102.983 800.255 Q98.353 800.255 95.8993 803.38 Q93.4688 806.505 93.1215 812.825 Q94.4873 810.811 96.5474 809.746 Q98.6076 808.658 101.084 808.658 Q106.293 808.658 109.302 811.829 Q112.334 814.977 112.334 820.417 Q112.334 825.741 109.186 828.959 Q106.038 832.176 100.807 832.176 Q94.8113 832.176 91.6401 827.593 Q88.4688 822.987 88.4688 814.26 Q88.4688 806.065 92.3576 801.204 Q96.2465 796.32 102.797 796.32 Q104.557 796.32 106.339 796.667 Q108.145 797.015 110.089 797.709 Z\" fill=\"#000000\" fill-rule=\"evenodd\" fill-opacity=\"1\" /><path clip-path=\"url(#clip970)\" d=\"M 0 0 M64.3254 484.83 Q60.7143 484.83 58.8856 488.395 Q57.0801 491.937 57.0801 499.066 Q57.0801 506.173 58.8856 509.738 Q60.7143 513.279 64.3254 513.279 Q67.9596 513.279 69.7652 509.738 Q71.5939 506.173 71.5939 499.066 Q71.5939 491.937 69.7652 488.395 Q67.9596 484.83 64.3254 484.83 M64.3254 481.127 Q70.1355 481.127 73.1911 485.733 Q76.2698 490.316 76.2698 499.066 Q76.2698 507.793 73.1911 512.4 Q70.1355 516.983 64.3254 516.983 Q58.5152 516.983 55.4365 512.4 Q52.381 507.793 52.381 499.066 Q52.381 490.316 55.4365 485.733 Q58.5152 481.127 64.3254 481.127 Z\" fill=\"#000000\" fill-rule=\"evenodd\" fill-opacity=\"1\" /><path clip-path=\"url(#clip970)\" d=\"M 0 0 M81.3392 510.432 L86.2234 510.432 L86.2234 516.312 L81.3392 516.312 L81.3392 510.432 Z\" fill=\"#000000\" fill-rule=\"evenodd\" fill-opacity=\"1\" /><path clip-path=\"url(#clip970)\" d=\"M 0 0 M90.1123 481.752 L112.334 481.752 L112.334 483.742 L99.7882 516.312 L94.9039 516.312 L106.709 485.687 L90.1123 485.687 L90.1123 481.752 Z\" fill=\"#000000\" fill-rule=\"evenodd\" fill-opacity=\"1\" /><path clip-path=\"url(#clip970)\" d=\"M 0 0 M63.5152 169.637 Q59.9041 169.637 58.0754 173.202 Q56.2699 176.743 56.2699 183.873 Q56.2699 190.979 58.0754 194.544 Q59.9041 198.086 63.5152 198.086 Q67.1494 198.086 68.955 194.544 Q70.7837 190.979 70.7837 183.873 Q70.7837 176.743 68.955 173.202 Q67.1494 169.637 63.5152 169.637 M63.5152 165.933 Q69.3254 165.933 72.3809 170.54 Q75.4596 175.123 75.4596 183.873 Q75.4596 192.6 72.3809 197.206 Q69.3254 201.789 63.5152 201.789 Q57.7051 201.789 54.6264 197.206 Q51.5708 192.6 51.5708 183.873 Q51.5708 175.123 54.6264 170.54 Q57.7051 165.933 63.5152 165.933 Z\" fill=\"#000000\" fill-rule=\"evenodd\" fill-opacity=\"1\" /><path clip-path=\"url(#clip970)\" d=\"M 0 0 M80.529 195.239 L85.4132 195.239 L85.4132 201.118 L80.529 201.118 L80.529 195.239 Z\" fill=\"#000000\" fill-rule=\"evenodd\" fill-opacity=\"1\" /><path clip-path=\"url(#clip970)\" d=\"M 0 0 M100.483 184.706 Q97.1493 184.706 95.228 186.489 Q93.3299 188.271 93.3299 191.396 Q93.3299 194.521 95.228 196.303 Q97.1493 198.086 100.483 198.086 Q103.816 198.086 105.737 196.303 Q107.658 194.498 107.658 191.396 Q107.658 188.271 105.737 186.489 Q103.839 184.706 100.483 184.706 M95.8067 182.715 Q92.7975 181.975 91.1077 179.915 Q89.441 177.854 89.441 174.891 Q89.441 170.748 92.3808 168.341 Q95.3437 165.933 100.483 165.933 Q105.645 165.933 108.584 168.341 Q111.524 170.748 111.524 174.891 Q111.524 177.854 109.834 179.915 Q108.168 181.975 105.182 182.715 Q108.561 183.502 110.436 185.794 Q112.334 188.086 112.334 191.396 Q112.334 196.419 109.256 199.104 Q106.2 201.789 100.483 201.789 Q94.765 201.789 91.6864 199.104 Q88.6308 196.419 88.6308 191.396 Q88.6308 188.086 90.529 185.794 Q92.4271 183.502 95.8067 182.715 M94.0937 175.331 Q94.0937 178.016 95.7604 179.521 Q97.4502 181.026 100.483 181.026 Q103.492 181.026 105.182 179.521 Q106.895 178.016 106.895 175.331 Q106.895 172.646 105.182 171.141 Q103.492 169.637 100.483 169.637 Q97.4502 169.637 95.7604 171.141 Q94.0937 172.646 94.0937 175.331 Z\" fill=\"#000000\" fill-rule=\"evenodd\" fill-opacity=\"1\" /><polyline clip-path=\"url(#clip972)\" style=\"stroke:#009af9; stroke-width:4; stroke-opacity:1; fill:none\" points=\"\n",
       "  210.724,116.722 221.122,262.157 231.52,405.567 241.918,542.375 252.317,669.65 262.715,785.712 273.113,889.804 283.511,981.834 293.909,1062.18 304.308,1131.52 \n",
       "  314.706,1190.74 325.104,1240.79 335.502,1282.69 345.9,1317.43 356.299,1345.95 366.697,1369.13 377.095,1387.77 387.493,1402.6 397.892,1414.26 408.29,1423.28 \n",
       "  418.688,1430.17 429.086,1435.32 439.484,1439.09 449.883,1441.76 460.281,1443.58 470.679,1444.74 481.077,1445.4 491.475,1445.69 501.874,1445.72 512.272,1445.56 \n",
       "  522.67,1445.28 533.068,1444.92 543.467,1444.53 553.865,1444.12 564.263,1443.73 574.661,1443.34 585.059,1442.99 595.458,1442.67 605.856,1442.38 616.254,1442.12 \n",
       "  626.652,1441.9 637.05,1441.71 647.449,1441.54 657.847,1441.4 668.245,1441.29 678.643,1441.19 689.042,1441.11 699.44,1441.05 709.838,1441 720.236,1440.96 \n",
       "  730.634,1440.92 741.033,1440.9 751.431,1440.88 761.829,1440.87 772.227,1440.86 782.625,1440.85 793.024,1440.84 803.422,1440.84 813.82,1440.84 824.218,1440.84 \n",
       "  834.617,1440.84 845.015,1440.84 855.413,1440.84 865.811,1440.84 876.209,1440.84 886.608,1440.84 897.006,1440.84 907.404,1440.84 917.802,1440.84 928.2,1440.85 \n",
       "  938.599,1440.85 948.997,1440.85 959.395,1440.85 969.793,1440.85 980.192,1440.85 990.59,1440.85 1000.99,1440.85 1011.39,1440.85 1021.78,1440.85 1032.18,1440.85 \n",
       "  1042.58,1440.85 1052.98,1440.85 1063.38,1440.85 1073.78,1440.85 1084.17,1440.85 1094.57,1440.85 1104.97,1440.85 1115.37,1440.85 1125.77,1440.85 1136.16,1440.85 \n",
       "  1146.56,1440.85 1156.96,1440.85 1167.36,1440.85 1177.76,1440.85 1188.16,1440.85 1198.55,1440.85 1208.95,1440.85 1219.35,1440.85 1229.75,1440.85 1240.15,1440.85 \n",
       "  1250.55,1440.85 1260.94,1440.85 1271.34,1440.85 1281.74,1440.85 1292.14,1440.85 1302.54,1440.85 1312.93,1440.85 1323.33,1440.85 1333.73,1440.85 1344.13,1440.85 \n",
       "  1354.53,1440.85 1364.93,1440.85 1375.32,1440.85 1385.72,1440.85 1396.12,1440.85 1406.52,1440.85 1416.92,1440.85 1427.31,1440.85 1437.71,1440.85 1448.11,1440.85 \n",
       "  1458.51,1440.85 1468.91,1440.85 1479.31,1440.85 1489.7,1440.85 1500.1,1440.85 1510.5,1440.85 1520.9,1440.85 1531.3,1440.85 1541.7,1440.85 1552.09,1440.85 \n",
       "  1562.49,1440.85 1572.89,1440.85 1583.29,1440.85 1593.69,1440.85 1604.08,1440.85 1614.48,1440.85 1624.88,1440.85 1635.28,1440.85 1645.68,1440.85 1656.08,1440.85 \n",
       "  1666.47,1440.85 1676.87,1440.85 1687.27,1440.85 1697.67,1440.85 1708.07,1440.85 1718.46,1440.85 1728.86,1440.85 1739.26,1440.85 1749.66,1440.85 1760.06,1440.85 \n",
       "  1770.46,1440.85 1780.85,1440.85 1791.25,1440.85 1801.65,1440.85 1812.05,1440.85 1822.45,1440.85 1832.85,1440.85 1843.24,1440.85 1853.64,1440.85 1864.04,1440.85 \n",
       "  1874.44,1440.85 1884.84,1440.85 1895.23,1440.85 1905.63,1440.85 1916.03,1440.85 1926.43,1440.85 1936.83,1440.85 1947.23,1440.85 1957.62,1440.85 1968.02,1440.85 \n",
       "  1978.42,1440.85 1988.82,1440.85 1999.22,1440.85 2009.61,1440.85 2020.01,1440.85 2030.41,1440.85 2040.81,1440.85 2051.21,1440.85 2061.61,1440.85 2072,1440.85 \n",
       "  2082.4,1440.85 2092.8,1440.85 2103.2,1440.85 2113.6,1440.85 2124,1440.85 2134.39,1440.85 2144.79,1440.85 2155.19,1440.85 2165.59,1440.85 2175.99,1440.85 \n",
       "  2186.38,1440.85 2196.78,1440.85 2207.18,1440.85 2217.58,1440.85 2227.98,1440.85 2238.38,1440.85 2248.77,1440.85 2259.17,1440.85 2269.57,1440.85 2279.97,1440.85 \n",
       "  2290.37,1440.85 \n",
       "  \"/>\n",
       "<polyline clip-path=\"url(#clip972)\" style=\"stroke:#e26f46; stroke-width:4; stroke-opacity:1; fill:none\" points=\"\n",
       "  210.724,87.9763 221.122,256.185 231.52,413.459 241.918,557.512 252.317,687.306 262.715,802.679 273.113,904.064 283.511,992.274 293.909,1068.35 304.308,1133.44 \n",
       "  314.706,1188.73 325.104,1235.37 335.502,1274.48 345.9,1307.07 356.299,1334.06 366.697,1356.3 377.095,1374.52 387.493,1389.35 397.892,1401.37 408.29,1411.04 \n",
       "  418.688,1418.78 429.086,1424.94 439.484,1429.8 449.883,1433.62 460.281,1436.59 470.679,1438.88 481.077,1440.63 491.475,1441.95 501.874,1442.94 512.272,1443.66 \n",
       "  522.67,1444.18 533.068,1444.55 543.467,1444.8 553.865,1444.95 564.263,1445.05 574.661,1445.09 585.059,1445.11 595.458,1445.1 605.856,1445.07 616.254,1445.04 \n",
       "  626.652,1445 637.05,1444.96 647.449,1444.92 657.847,1444.88 668.245,1444.85 678.643,1444.81 689.042,1444.78 699.44,1444.76 709.838,1444.73 720.236,1444.71 \n",
       "  730.634,1444.7 741.033,1444.68 751.431,1444.67 761.829,1444.66 772.227,1444.65 782.625,1444.64 793.024,1444.64 803.422,1444.63 813.82,1444.63 824.218,1444.62 \n",
       "  834.617,1444.62 845.015,1444.62 855.413,1444.62 865.811,1444.62 876.209,1444.62 886.608,1444.61 897.006,1444.61 907.404,1444.61 917.802,1444.61 928.2,1444.61 \n",
       "  938.599,1444.61 948.997,1444.61 959.395,1444.61 969.793,1444.61 980.192,1444.61 990.59,1444.61 1000.99,1444.61 1011.39,1444.61 1021.78,1444.61 1032.18,1444.61 \n",
       "  1042.58,1444.61 1052.98,1444.61 1063.38,1444.61 1073.78,1444.61 1084.17,1444.61 1094.57,1444.61 1104.97,1444.61 1115.37,1444.61 1125.77,1444.61 1136.16,1444.61 \n",
       "  1146.56,1444.61 1156.96,1444.61 1167.36,1444.61 1177.76,1444.61 1188.16,1444.61 1198.55,1444.61 1208.95,1444.61 1219.35,1444.61 1229.75,1444.61 1240.15,1444.61 \n",
       "  1250.55,1444.61 1260.94,1444.61 1271.34,1444.61 1281.74,1444.61 1292.14,1444.61 1302.54,1444.61 1312.93,1444.61 1323.33,1444.61 1333.73,1444.61 1344.13,1444.61 \n",
       "  1354.53,1444.61 1364.93,1444.61 1375.32,1444.61 1385.72,1444.61 1396.12,1444.61 1406.52,1444.61 1416.92,1444.61 1427.31,1444.61 1437.71,1444.61 1448.11,1444.61 \n",
       "  1458.51,1444.61 1468.91,1444.61 1479.31,1444.61 1489.7,1444.61 1500.1,1444.61 1510.5,1444.61 1520.9,1444.61 1531.3,1444.61 1541.7,1444.61 1552.09,1444.61 \n",
       "  1562.49,1444.61 1572.89,1444.61 1583.29,1444.61 1593.69,1444.61 1604.08,1444.61 1614.48,1444.61 1624.88,1444.61 1635.28,1444.61 1645.68,1444.61 1656.08,1444.61 \n",
       "  1666.47,1444.61 1676.87,1444.61 1687.27,1444.61 1697.67,1444.61 1708.07,1444.61 1718.46,1444.61 1728.86,1444.61 1739.26,1444.61 1749.66,1444.61 1760.06,1444.61 \n",
       "  1770.46,1444.61 1780.85,1444.61 1791.25,1444.61 1801.65,1444.61 1812.05,1444.61 1822.45,1444.61 1832.85,1444.61 1843.24,1444.61 1853.64,1444.61 1864.04,1444.61 \n",
       "  1874.44,1444.61 1884.84,1444.61 1895.23,1444.61 1905.63,1444.61 1916.03,1444.61 1926.43,1444.61 1936.83,1444.61 1947.23,1444.61 1957.62,1444.61 1968.02,1444.61 \n",
       "  1978.42,1444.61 1988.82,1444.61 1999.22,1444.61 2009.61,1444.61 2020.01,1444.61 2030.41,1444.61 2040.81,1444.61 2051.21,1444.61 2061.61,1444.61 2072,1444.61 \n",
       "  2082.4,1444.61 2092.8,1444.61 2103.2,1444.61 2113.6,1444.61 2124,1444.61 2134.39,1444.61 2144.79,1444.61 2155.19,1444.61 2165.59,1444.61 2175.99,1444.61 \n",
       "  2186.38,1444.61 2196.78,1444.61 2207.18,1444.61 2217.58,1444.61 2227.98,1444.61 2238.38,1444.61 2248.77,1444.61 2259.17,1444.61 2269.57,1444.61 2279.97,1444.61 \n",
       "  2290.37,1444.61 \n",
       "  \"/>\n",
       "<path clip-path=\"url(#clip970)\" d=\"\n",
       "M1724.53 276.658 L2279.28 276.658 L2279.28 95.2176 L1724.53 95.2176  Z\n",
       "  \" fill=\"#ffffff\" fill-rule=\"evenodd\" fill-opacity=\"1\"/>\n",
       "<polyline clip-path=\"url(#clip970)\" style=\"stroke:#000000; stroke-width:4; stroke-opacity:1; fill:none\" points=\"\n",
       "  1724.53,276.658 2279.28,276.658 2279.28,95.2176 1724.53,95.2176 1724.53,276.658 \n",
       "  \"/>\n",
       "<polyline clip-path=\"url(#clip970)\" style=\"stroke:#009af9; stroke-width:4; stroke-opacity:1; fill:none\" points=\"\n",
       "  1749.02,155.698 1895.98,155.698 \n",
       "  \"/>\n",
       "<path clip-path=\"url(#clip970)\" d=\"M 0 0 M1925.15 142.26 L1925.15 155.246 L1931.03 155.246 Q1934.29 155.246 1936.08 153.556 Q1937.86 151.867 1937.86 148.742 Q1937.86 145.64 1936.08 143.95 Q1934.29 142.26 1931.03 142.26 L1925.15 142.26 M1920.47 138.418 L1931.03 138.418 Q1936.84 138.418 1939.8 141.056 Q1942.79 143.672 1942.79 148.742 Q1942.79 153.857 1939.8 156.473 Q1936.84 159.089 1931.03 159.089 L1925.15 159.089 L1925.15 172.978 L1920.47 172.978 L1920.47 138.418 Z\" fill=\"#000000\" fill-rule=\"evenodd\" fill-opacity=\"1\" /><path clip-path=\"url(#clip970)\" d=\"M 0 0 M1961.45 151.033 Q1960.73 150.617 1959.87 150.431 Q1959.04 150.223 1958.02 150.223 Q1954.41 150.223 1952.47 152.584 Q1950.54 154.922 1950.54 159.32 L1950.54 172.978 L1946.26 172.978 L1946.26 147.052 L1950.54 147.052 L1950.54 151.08 Q1951.89 148.718 1954.04 147.584 Q1956.19 146.427 1959.27 146.427 Q1959.71 146.427 1960.24 146.496 Q1960.78 146.543 1961.42 146.658 L1961.45 151.033 Z\" fill=\"#000000\" fill-rule=\"evenodd\" fill-opacity=\"1\" /><path clip-path=\"url(#clip970)\" d=\"M 0 0 M1987.05 158.95 L1987.05 161.033 L1967.47 161.033 Q1967.74 165.431 1970.1 167.746 Q1972.49 170.038 1976.72 170.038 Q1979.18 170.038 1981.47 169.436 Q1983.78 168.834 1986.05 167.63 L1986.05 171.658 Q1983.76 172.63 1981.35 173.14 Q1978.95 173.649 1976.47 173.649 Q1970.27 173.649 1966.63 170.038 Q1963.02 166.427 1963.02 160.269 Q1963.02 153.904 1966.45 150.177 Q1969.9 146.427 1975.73 146.427 Q1980.96 146.427 1983.99 149.806 Q1987.05 153.163 1987.05 158.95 M1982.79 157.7 Q1982.74 154.205 1980.82 152.121 Q1978.92 150.038 1975.78 150.038 Q1972.21 150.038 1970.06 152.052 Q1967.93 154.066 1967.6 157.723 L1982.79 157.7 Z\" fill=\"#000000\" fill-rule=\"evenodd\" fill-opacity=\"1\" /><path clip-path=\"url(#clip970)\" d=\"M 0 0 M2008.58 150.987 L2008.58 136.959 L2012.84 136.959 L2012.84 172.978 L2008.58 172.978 L2008.58 169.089 Q2007.23 171.403 2005.17 172.538 Q2003.14 173.649 2000.27 173.649 Q1995.57 173.649 1992.6 169.899 Q1989.66 166.149 1989.66 160.038 Q1989.66 153.927 1992.6 150.177 Q1995.57 146.427 2000.27 146.427 Q2003.14 146.427 2005.17 147.561 Q2007.23 148.672 2008.58 150.987 M1994.06 160.038 Q1994.06 164.737 1995.98 167.422 Q1997.93 170.084 2001.31 170.084 Q2004.69 170.084 2006.63 167.422 Q2008.58 164.737 2008.58 160.038 Q2008.58 155.339 2006.63 152.677 Q2004.69 149.992 2001.31 149.992 Q1997.93 149.992 1995.98 152.677 Q1994.06 155.339 1994.06 160.038 Z\" fill=\"#000000\" fill-rule=\"evenodd\" fill-opacity=\"1\" /><path clip-path=\"url(#clip970)\" d=\"M 0 0 M2017.3 147.052 L2021.56 147.052 L2021.56 172.978 L2017.3 172.978 L2017.3 147.052 M2017.3 136.959 L2021.56 136.959 L2021.56 142.353 L2017.3 142.353 L2017.3 136.959 Z\" fill=\"#000000\" fill-rule=\"evenodd\" fill-opacity=\"1\" /><path clip-path=\"url(#clip970)\" d=\"M 0 0 M2044.69 148.047 L2044.69 152.029 Q2042.88 151.033 2041.05 150.547 Q2039.25 150.038 2037.4 150.038 Q2033.25 150.038 2030.96 152.677 Q2028.67 155.292 2028.67 160.038 Q2028.67 164.783 2030.96 167.422 Q2033.25 170.038 2037.4 170.038 Q2039.25 170.038 2041.05 169.552 Q2042.88 169.042 2044.69 168.047 L2044.69 171.982 Q2042.9 172.816 2040.98 173.232 Q2039.09 173.649 2036.93 173.649 Q2031.08 173.649 2027.63 169.968 Q2024.18 166.288 2024.18 160.038 Q2024.18 153.695 2027.65 150.061 Q2031.15 146.427 2037.21 146.427 Q2039.18 146.427 2041.05 146.843 Q2042.93 147.237 2044.69 148.047 Z\" fill=\"#000000\" fill-rule=\"evenodd\" fill-opacity=\"1\" /><path clip-path=\"url(#clip970)\" d=\"M 0 0 M2053.37 139.691 L2053.37 147.052 L2062.14 147.052 L2062.14 150.362 L2053.37 150.362 L2053.37 164.436 Q2053.37 167.607 2054.22 168.51 Q2055.1 169.413 2057.77 169.413 L2062.14 169.413 L2062.14 172.978 L2057.77 172.978 Q2052.84 172.978 2050.96 171.149 Q2049.09 169.297 2049.09 164.436 L2049.09 150.362 L2045.96 150.362 L2045.96 147.052 L2049.09 147.052 L2049.09 139.691 L2053.37 139.691 Z\" fill=\"#000000\" fill-rule=\"evenodd\" fill-opacity=\"1\" /><path clip-path=\"url(#clip970)\" d=\"M 0 0 M2088.78 158.95 L2088.78 161.033 L2069.2 161.033 Q2069.48 165.431 2071.84 167.746 Q2074.22 170.038 2078.46 170.038 Q2080.91 170.038 2083.21 169.436 Q2085.52 168.834 2087.79 167.63 L2087.79 171.658 Q2085.5 172.63 2083.09 173.14 Q2080.68 173.649 2078.21 173.649 Q2072 173.649 2068.37 170.038 Q2064.76 166.427 2064.76 160.269 Q2064.76 153.904 2068.18 150.177 Q2071.63 146.427 2077.46 146.427 Q2082.7 146.427 2085.73 149.806 Q2088.78 153.163 2088.78 158.95 M2084.52 157.7 Q2084.48 154.205 2082.56 152.121 Q2080.66 150.038 2077.51 150.038 Q2073.95 150.038 2071.79 152.052 Q2069.66 154.066 2069.34 157.723 L2084.52 157.7 Z\" fill=\"#000000\" fill-rule=\"evenodd\" fill-opacity=\"1\" /><path clip-path=\"url(#clip970)\" d=\"M 0 0 M2110.31 150.987 L2110.31 136.959 L2114.57 136.959 L2114.57 172.978 L2110.31 172.978 L2110.31 169.089 Q2108.97 171.403 2106.91 172.538 Q2104.87 173.649 2102 173.649 Q2097.3 173.649 2094.34 169.899 Q2091.4 166.149 2091.4 160.038 Q2091.4 153.927 2094.34 150.177 Q2097.3 146.427 2102 146.427 Q2104.87 146.427 2106.91 147.561 Q2108.97 148.672 2110.31 150.987 M2095.8 160.038 Q2095.8 164.737 2097.72 167.422 Q2099.66 170.084 2103.04 170.084 Q2106.42 170.084 2108.37 167.422 Q2110.31 164.737 2110.31 160.038 Q2110.31 155.339 2108.37 152.677 Q2106.42 149.992 2103.04 149.992 Q2099.66 149.992 2097.72 152.677 Q2095.8 155.339 2095.8 160.038 Z\" fill=\"#000000\" fill-rule=\"evenodd\" fill-opacity=\"1\" /><path clip-path=\"url(#clip970)\" d=\"M 0 0 M2138.97 142.26 L2138.97 169.135 L2144.62 169.135 Q2151.77 169.135 2155.08 165.894 Q2158.41 162.654 2158.41 155.663 Q2158.41 148.718 2155.08 145.501 Q2151.77 142.26 2144.62 142.26 L2138.97 142.26 M2134.29 138.418 L2143.9 138.418 Q2153.95 138.418 2158.64 142.607 Q2163.34 146.774 2163.34 155.663 Q2163.34 164.598 2158.62 168.788 Q2153.9 172.978 2143.9 172.978 L2134.29 172.978 L2134.29 138.418 Z\" fill=\"#000000\" fill-rule=\"evenodd\" fill-opacity=\"1\" /><path clip-path=\"url(#clip970)\" d=\"M 0 0 M2179.59 159.945 Q2174.43 159.945 2172.44 161.126 Q2170.45 162.306 2170.45 165.154 Q2170.45 167.422 2171.93 168.765 Q2173.44 170.084 2176.01 170.084 Q2179.55 170.084 2181.68 167.584 Q2183.83 165.061 2183.83 160.894 L2183.83 159.945 L2179.59 159.945 M2188.09 158.186 L2188.09 172.978 L2183.83 172.978 L2183.83 169.042 Q2182.37 171.403 2180.2 172.538 Q2178.02 173.649 2174.87 173.649 Q2170.89 173.649 2168.53 171.427 Q2166.19 169.181 2166.19 165.431 Q2166.19 161.056 2169.11 158.834 Q2172.05 156.612 2177.86 156.612 L2183.83 156.612 L2183.83 156.195 Q2183.83 153.255 2181.89 151.658 Q2179.96 150.038 2176.47 150.038 Q2174.25 150.038 2172.14 150.57 Q2170.03 151.103 2168.09 152.167 L2168.09 148.232 Q2170.43 147.33 2172.63 146.89 Q2174.83 146.427 2176.91 146.427 Q2182.53 146.427 2185.31 149.343 Q2188.09 152.26 2188.09 158.186 Z\" fill=\"#000000\" fill-rule=\"evenodd\" fill-opacity=\"1\" /><path clip-path=\"url(#clip970)\" d=\"M 0 0 M2196.77 139.691 L2196.77 147.052 L2205.54 147.052 L2205.54 150.362 L2196.77 150.362 L2196.77 164.436 Q2196.77 167.607 2197.63 168.51 Q2198.51 169.413 2201.17 169.413 L2205.54 169.413 L2205.54 172.978 L2201.17 172.978 Q2196.24 172.978 2194.36 171.149 Q2192.49 169.297 2192.49 164.436 L2192.49 150.362 L2189.36 150.362 L2189.36 147.052 L2192.49 147.052 L2192.49 139.691 L2196.77 139.691 Z\" fill=\"#000000\" fill-rule=\"evenodd\" fill-opacity=\"1\" /><path clip-path=\"url(#clip970)\" d=\"M 0 0 M2221.79 159.945 Q2216.63 159.945 2214.64 161.126 Q2212.65 162.306 2212.65 165.154 Q2212.65 167.422 2214.13 168.765 Q2215.64 170.084 2218.2 170.084 Q2221.75 170.084 2223.88 167.584 Q2226.03 165.061 2226.03 160.894 L2226.03 159.945 L2221.79 159.945 M2230.29 158.186 L2230.29 172.978 L2226.03 172.978 L2226.03 169.042 Q2224.57 171.403 2222.39 172.538 Q2220.22 173.649 2217.07 173.649 Q2213.09 173.649 2210.73 171.427 Q2208.39 169.181 2208.39 165.431 Q2208.39 161.056 2211.31 158.834 Q2214.25 156.612 2220.06 156.612 L2226.03 156.612 L2226.03 156.195 Q2226.03 153.255 2224.08 151.658 Q2222.16 150.038 2218.67 150.038 Q2216.45 150.038 2214.34 150.57 Q2212.23 151.103 2210.29 152.167 L2210.29 148.232 Q2212.63 147.33 2214.83 146.89 Q2217.02 146.427 2219.11 146.427 Q2224.73 146.427 2227.51 149.343 Q2230.29 152.26 2230.29 158.186 Z\" fill=\"#000000\" fill-rule=\"evenodd\" fill-opacity=\"1\" /><polyline clip-path=\"url(#clip970)\" style=\"stroke:#e26f46; stroke-width:4; stroke-opacity:1; fill:none\" points=\"\n",
       "  1749.02,216.178 1895.98,216.178 \n",
       "  \"/>\n",
       "<path clip-path=\"url(#clip970)\" d=\"M 0 0 M1936.31 203.504 L1929.97 220.703 L1942.67 220.703 L1936.31 203.504 M1933.67 198.898 L1938.97 198.898 L1952.14 233.458 L1947.28 233.458 L1944.13 224.592 L1928.55 224.592 L1925.41 233.458 L1920.47 233.458 L1933.67 198.898 Z\" fill=\"#000000\" fill-rule=\"evenodd\" fill-opacity=\"1\" /><path clip-path=\"url(#clip970)\" d=\"M 0 0 M1974.43 208.527 L1974.43 212.509 Q1972.63 211.513 1970.8 211.027 Q1968.99 210.518 1967.14 210.518 Q1963 210.518 1960.71 213.157 Q1958.41 215.772 1958.41 220.518 Q1958.41 225.263 1960.71 227.902 Q1963 230.518 1967.14 230.518 Q1968.99 230.518 1970.8 230.032 Q1972.63 229.522 1974.43 228.527 L1974.43 232.462 Q1972.65 233.296 1970.73 233.712 Q1968.83 234.129 1966.68 234.129 Q1960.82 234.129 1957.37 230.448 Q1953.92 226.768 1953.92 220.518 Q1953.92 214.175 1957.4 210.541 Q1960.89 206.907 1966.96 206.907 Q1968.92 206.907 1970.8 207.323 Q1972.67 207.717 1974.43 208.527 Z\" fill=\"#000000\" fill-rule=\"evenodd\" fill-opacity=\"1\" /><path clip-path=\"url(#clip970)\" d=\"M 0 0 M1983.11 200.171 L1983.11 207.532 L1991.89 207.532 L1991.89 210.842 L1983.11 210.842 L1983.11 224.916 Q1983.11 228.087 1983.97 228.99 Q1984.85 229.893 1987.51 229.893 L1991.89 229.893 L1991.89 233.458 L1987.51 233.458 Q1982.58 233.458 1980.71 231.629 Q1978.83 229.777 1978.83 224.916 L1978.83 210.842 L1975.71 210.842 L1975.71 207.532 L1978.83 207.532 L1978.83 200.171 L1983.11 200.171 Z\" fill=\"#000000\" fill-rule=\"evenodd\" fill-opacity=\"1\" /><path clip-path=\"url(#clip970)\" d=\"M 0 0 M1995.91 223.226 L1995.91 207.532 L2000.17 207.532 L2000.17 223.064 Q2000.17 226.745 2001.61 228.596 Q2003.04 230.425 2005.91 230.425 Q2009.36 230.425 2011.35 228.226 Q2013.37 226.027 2013.37 222.231 L2013.37 207.532 L2017.63 207.532 L2017.63 233.458 L2013.37 233.458 L2013.37 229.476 Q2011.82 231.837 2009.76 232.995 Q2007.72 234.129 2005.01 234.129 Q2000.54 234.129 1998.23 231.351 Q1995.91 228.573 1995.91 223.226 M2006.63 206.907 L2006.63 206.907 Z\" fill=\"#000000\" fill-rule=\"evenodd\" fill-opacity=\"1\" /><path clip-path=\"url(#clip970)\" d=\"M 0 0 M2033.88 220.425 Q2028.72 220.425 2026.72 221.606 Q2024.73 222.786 2024.73 225.634 Q2024.73 227.902 2026.22 229.245 Q2027.72 230.564 2030.29 230.564 Q2033.83 230.564 2035.96 228.064 Q2038.11 225.541 2038.11 221.374 L2038.11 220.425 L2033.88 220.425 M2042.37 218.666 L2042.37 233.458 L2038.11 233.458 L2038.11 229.522 Q2036.65 231.883 2034.48 233.018 Q2032.3 234.129 2029.15 234.129 Q2025.17 234.129 2022.81 231.907 Q2020.47 229.661 2020.47 225.911 Q2020.47 221.536 2023.39 219.314 Q2026.33 217.092 2032.14 217.092 L2038.11 217.092 L2038.11 216.675 Q2038.11 213.735 2036.17 212.138 Q2034.25 210.518 2030.75 210.518 Q2028.53 210.518 2026.42 211.05 Q2024.32 211.583 2022.37 212.647 L2022.37 208.712 Q2024.71 207.81 2026.91 207.37 Q2029.11 206.907 2031.19 206.907 Q2036.82 206.907 2039.59 209.823 Q2042.37 212.74 2042.37 218.666 Z\" fill=\"#000000\" fill-rule=\"evenodd\" fill-opacity=\"1\" /><path clip-path=\"url(#clip970)\" d=\"M 0 0 M2046.84 197.439 L2051.1 197.439 L2051.1 233.458 L2046.84 233.458 L2046.84 197.439 Z\" fill=\"#000000\" fill-rule=\"evenodd\" fill-opacity=\"1\" /><path clip-path=\"url(#clip970)\" d=\"M 0 0 M2075.5 202.74 L2075.5 229.615 L2081.15 229.615 Q2088.3 229.615 2091.61 226.374 Q2094.94 223.134 2094.94 216.143 Q2094.94 209.198 2091.61 205.981 Q2088.3 202.74 2081.15 202.74 L2075.5 202.74 M2070.82 198.898 L2080.43 198.898 Q2090.47 198.898 2095.17 203.087 Q2099.87 207.254 2099.87 216.143 Q2099.87 225.078 2095.15 229.268 Q2090.43 233.458 2080.43 233.458 L2070.82 233.458 L2070.82 198.898 Z\" fill=\"#000000\" fill-rule=\"evenodd\" fill-opacity=\"1\" /><path clip-path=\"url(#clip970)\" d=\"M 0 0 M2116.12 220.425 Q2110.96 220.425 2108.97 221.606 Q2106.98 222.786 2106.98 225.634 Q2106.98 227.902 2108.46 229.245 Q2109.96 230.564 2112.53 230.564 Q2116.08 230.564 2118.21 228.064 Q2120.36 225.541 2120.36 221.374 L2120.36 220.425 L2116.12 220.425 M2124.62 218.666 L2124.62 233.458 L2120.36 233.458 L2120.36 229.522 Q2118.9 231.883 2116.72 233.018 Q2114.55 234.129 2111.4 234.129 Q2107.42 234.129 2105.06 231.907 Q2102.72 229.661 2102.72 225.911 Q2102.72 221.536 2105.64 219.314 Q2108.58 217.092 2114.39 217.092 L2120.36 217.092 L2120.36 216.675 Q2120.36 213.735 2118.41 212.138 Q2116.49 210.518 2113 210.518 Q2110.77 210.518 2108.67 211.05 Q2106.56 211.583 2104.62 212.647 L2104.62 208.712 Q2106.96 207.81 2109.15 207.37 Q2111.35 206.907 2113.44 206.907 Q2119.06 206.907 2121.84 209.823 Q2124.62 212.74 2124.62 218.666 Z\" fill=\"#000000\" fill-rule=\"evenodd\" fill-opacity=\"1\" /><path clip-path=\"url(#clip970)\" d=\"M 0 0 M2133.3 200.171 L2133.3 207.532 L2142.07 207.532 L2142.07 210.842 L2133.3 210.842 L2133.3 224.916 Q2133.3 228.087 2134.15 228.99 Q2135.03 229.893 2137.7 229.893 L2142.07 229.893 L2142.07 233.458 L2137.7 233.458 Q2132.77 233.458 2130.89 231.629 Q2129.02 229.777 2129.02 224.916 L2129.02 210.842 L2125.89 210.842 L2125.89 207.532 L2129.02 207.532 L2129.02 200.171 L2133.3 200.171 Z\" fill=\"#000000\" fill-rule=\"evenodd\" fill-opacity=\"1\" /><path clip-path=\"url(#clip970)\" d=\"M 0 0 M2158.32 220.425 Q2153.16 220.425 2151.17 221.606 Q2149.18 222.786 2149.18 225.634 Q2149.18 227.902 2150.66 229.245 Q2152.16 230.564 2154.73 230.564 Q2158.27 230.564 2160.4 228.064 Q2162.56 225.541 2162.56 221.374 L2162.56 220.425 L2158.32 220.425 M2166.82 218.666 L2166.82 233.458 L2162.56 233.458 L2162.56 229.522 Q2161.1 231.883 2158.92 233.018 Q2156.75 234.129 2153.6 234.129 Q2149.62 234.129 2147.26 231.907 Q2144.92 229.661 2144.92 225.911 Q2144.92 221.536 2147.83 219.314 Q2150.77 217.092 2156.58 217.092 L2162.56 217.092 L2162.56 216.675 Q2162.56 213.735 2160.61 212.138 Q2158.69 210.518 2155.2 210.518 Q2152.97 210.518 2150.87 211.05 Q2148.76 211.583 2146.82 212.647 L2146.82 208.712 Q2149.15 207.81 2151.35 207.37 Q2153.55 206.907 2155.64 206.907 Q2161.26 206.907 2164.04 209.823 Q2166.82 212.74 2166.82 218.666 Z\" fill=\"#000000\" fill-rule=\"evenodd\" fill-opacity=\"1\" /></svg>\n"
      ]
     },
     "execution_count": 127,
     "metadata": {},
     "output_type": "execute_result"
    }
   ],
   "source": [
    "ŷ = f(x, newparameters...)\n",
    "plot([x, x], [ŷ, y], label=[\"Predicted Data\" \"Actual Data\"])"
   ]
  },
  {
   "cell_type": "markdown",
   "id": "measured-payment",
   "metadata": {},
   "source": [
    "# Try a larger iteration to see if we can beat the loss"
   ]
  },
  {
   "cell_type": "code",
   "execution_count": 70,
   "id": "blessed-filing",
   "metadata": {},
   "outputs": [
    {
     "name": "stdout",
     "output_type": "stream",
     "text": [
      "Iterations: 100000, Loss: 0.025171947699427412"
     ]
    },
    {
     "data": {
      "text/plain": [
       "5-element Array{Float64,1}:\n",
       " 0.40630008944965806\n",
       " 0.4130416869947689\n",
       " 1.1500785697535834\n",
       " 0.9458429878071659\n",
       " 1.1246721936555848"
      ]
     },
     "execution_count": 70,
     "metadata": {},
     "output_type": "execute_result"
    }
   ],
   "source": [
    "newparameters = step(f, collect(x), y, p, ϵ=1e-5, maxiters=99999, lossvalues=lossvalues, ρvalues=ρvalues, λvalues=λvalues)"
   ]
  },
  {
   "cell_type": "markdown",
   "id": "korean-basket",
   "metadata": {},
   "source": [
    "# Check function is \"Type stable\"\n",
    "\n",
    "This macro expands into a list of the types Julia infers from the function, if they're all highlighted blue, then we're good!"
   ]
  },
  {
   "cell_type": "code",
   "execution_count": 67,
   "id": "trained-server",
   "metadata": {},
   "outputs": [
    {
     "name": "stdout",
     "output_type": "stream",
     "text": [
      "Variables\n",
      "  #self#\u001b[36m::Core.Compiler.Const(step, false)\u001b[39m\n",
      "  f\u001b[36m::Core.Compiler.Const(f, false)\u001b[39m\n",
      "  x\u001b[36m::Array{Float64,1}\u001b[39m\n",
      "  y\u001b[36m::Array{Float64,1}\u001b[39m\n",
      "  parameters\u001b[36m::Array{Float64,1}\u001b[39m\n",
      "  #51\u001b[36m::var\"#51#53\"\u001b[39m\n",
      "\n",
      "Body\u001b[36m::Array{Float64,1}\u001b[39m\n",
      "\u001b[90m1 ─\u001b[39m      (#51 = %new(Main.:(var\"#51#53\")))\n",
      "\u001b[90m│  \u001b[39m %2 = #51\u001b[36m::Core.Compiler.Const(var\"#51#53\"(), false)\u001b[39m\n",
      "\u001b[90m│  \u001b[39m %3 = Base.vect()\u001b[36m::Array{Any,1}\u001b[39m\n",
      "\u001b[90m│  \u001b[39m %4 = Base.vect()\u001b[36m::Array{Any,1}\u001b[39m\n",
      "\u001b[90m│  \u001b[39m %5 = Base.vect()\u001b[36m::Array{Any,1}\u001b[39m\n",
      "\u001b[90m│  \u001b[39m %6 = Main.:(var\"#step#50\")(0.01, %2, %3, %4, %5, #self#, f, x, y, parameters)\u001b[36m::Array{Float64,1}\u001b[39m\n",
      "\u001b[90m└──\u001b[39m      return %6\n"
     ]
    }
   ],
   "source": [
    "@code_warntype step(f, collect(x), y, p)"
   ]
  }
 ],
 "metadata": {
  "kernelspec": {
   "display_name": "Julia 1.4.1",
   "language": "julia",
   "name": "julia-1.4"
  },
  "language_info": {
   "file_extension": ".jl",
   "mimetype": "application/julia",
   "name": "julia",
   "version": "1.4.1"
  }
 },
 "nbformat": 4,
 "nbformat_minor": 5
}
