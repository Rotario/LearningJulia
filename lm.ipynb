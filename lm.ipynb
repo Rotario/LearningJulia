{
 "cells": [
  {
   "cell_type": "markdown",
   "id": "attractive-flesh",
   "metadata": {},
   "source": [
    "# Nonlinear Least Squares curve fitting\n",
    "Trying to put together a minimal implementation of the Levenberg-Marquardt algorithm for nonlinear least squares curve fitting.\n",
    "This is mostly for my own learning, but it was also requested on [my blog](https://workyourtech.com/2020/04/05/fitting-curves-to-data-with-an-arduino/#comment-28)\n",
    "\n",
    "## Following these papers: [this](http://people.duke.edu/~hpgavin/ce281/lm.pdf) and [this](https://www.eecs189.org/static/notes/n12.pdf)\n",
    "\n",
    "# Nomenclature\n",
    "x - x-values (probably time)\n",
    "f(x) - function we're modelling the data as, this takes parameters p\n",
    "y - f(x) data we're fitting the function to\n",
    "p - parameters"
   ]
  },
  {
   "cell_type": "code",
   "execution_count": 1,
   "id": "continent-dance",
   "metadata": {},
   "outputs": [],
   "source": [
    "using Plots\n",
    "using LinearAlgebra # For I"
   ]
  },
  {
   "cell_type": "markdown",
   "id": "amino-college",
   "metadata": {},
   "source": [
    "## Chi square measure of goodness of fit (used for λ measure in LM algo)"
   ]
  },
  {
   "cell_type": "code",
   "execution_count": 2,
   "id": "intensive-worcester",
   "metadata": {},
   "outputs": [
    {
     "data": {
      "text/plain": [
       "chisquare (generic function with 1 method)"
      ]
     },
     "execution_count": 2,
     "metadata": {},
     "output_type": "execute_result"
    }
   ],
   "source": [
    "function chisquare(O, E)\n",
    "    return sum(((O .- E).^2) ./ E)\n",
    "end"
   ]
  },
  {
   "cell_type": "markdown",
   "id": "alpha-feature",
   "metadata": {},
   "source": [
    "## Parameter delta helper for Jacobian calculator (Forward differences)\n",
    "The nicest way I've found to calculate the jacobian matrix is by generating a square matrix with each parameter perturbation in a row like this, then map each row of the perturbation matrix to get mxn matrix"
   ]
  },
  {
   "cell_type": "code",
   "execution_count": 16,
   "id": "brown-alert",
   "metadata": {},
   "outputs": [
    {
     "data": {
      "text/plain": [
       "3×3 Array{Float64,2}:\n",
       " 1.001  1.0    1.0\n",
       " 2.0    2.002  2.0\n",
       " 3.0    3.0    3.003"
      ]
     },
     "execution_count": 16,
     "metadata": {},
     "output_type": "execute_result"
    }
   ],
   "source": [
    "function perturbparameters(parameters, perturbation)\n",
    "    return parameters .* (ones(length(parameters), length(parameters)) + perturbation * I)\n",
    "end\n",
    "perturbparameters([1, 2, 3], 0.001)"
   ]
  },
  {
   "cell_type": "code",
   "execution_count": 12,
   "id": "deadly-recording",
   "metadata": {},
   "outputs": [
    {
     "data": {
      "text/plain": [
       "3×3 Array{Float64,2}:\n",
       " 1.001  1.0    1.0\n",
       " 2.0    2.002  2.0\n",
       " 3.0    3.0    3.003"
      ]
     },
     "execution_count": 12,
     "metadata": {},
     "output_type": "execute_result"
    }
   ],
   "source": []
  },
  {
   "cell_type": "markdown",
   "id": "controlled-illustration",
   "metadata": {},
   "source": [
    "## Jacobian function\n",
    "The functions we're working with here take a vector of datapoints of **m** length and return a vector of the function applied to each of those datapoints.\n",
    "\n",
    "The function takes **n** parameters.\n",
    "\n",
    "The jacobian is an **m**x**n** matrix that gives the gradient of each parameter if all the others are fixed, for all **n** datapoints."
   ]
  },
  {
   "cell_type": "code",
   "execution_count": 17,
   "id": "parliamentary-injury",
   "metadata": {},
   "outputs": [
    {
     "data": {
      "text/plain": [
       "jacobian (generic function with 2 methods)"
      ]
     },
     "execution_count": 17,
     "metadata": {},
     "output_type": "execute_result"
    }
   ],
   "source": [
    "function jacobian(f, x::Vector{Float64}, parameters, perturbation=0.0001)::Array{Float64, 2}\n",
    "    return cat(\n",
    "        map(row -> (f(x, row...) - f(x, parameters...)) / perturbation,\n",
    "            eachrow(perturbparameters(parameters, perturbation)))...,\n",
    "        dims=2)\n",
    "end"
   ]
  },
  {
   "cell_type": "markdown",
   "id": "stylish-convertible",
   "metadata": {},
   "source": [
    "## Meat of the algo, two different update functions, gradient descent and gauss-newton"
   ]
  },
  {
   "cell_type": "code",
   "execution_count": 14,
   "id": "atmospheric-forestry",
   "metadata": {},
   "outputs": [
    {
     "ename": "UndefVarError",
     "evalue": "\u001b[91mUndefVarError: loss not defined\u001b[39m",
     "output_type": "error",
     "traceback": [
      "\u001b[91mUndefVarError: loss not defined\u001b[39m",
      "",
      "Stacktrace:",
      " [1] top-level scope at In[14]:1"
     ]
    }
   ],
   "source": [
    "loss"
   ]
  },
  {
   "cell_type": "code",
   "execution_count": 20,
   "id": "frequent-division",
   "metadata": {},
   "outputs": [
    {
     "data": {
      "text/plain": [
       "1"
      ]
     },
     "execution_count": 20,
     "metadata": {},
     "output_type": "execute_result"
    }
   ],
   "source": [
    "min(1, 2, 3)"
   ]
  },
  {
   "cell_type": "code",
   "execution_count": 103,
   "id": "corporate-electric",
   "metadata": {},
   "outputs": [
    {
     "data": {
      "text/plain": [
       "step (generic function with 2 methods)"
      ]
     },
     "execution_count": 103,
     "metadata": {},
     "output_type": "execute_result"
    }
   ],
   "source": [
    "function gradient(y, ŷ, J, W=I)\n",
    "    return transpose(J)*W*(y-ŷ)\n",
    "end\n",
    "\n",
    "function gaussnewton(y, ŷ, J, W=I)\n",
    "    return inv(transpose(J)*W*J)*transpose(J)*W*(y-ŷ)\n",
    "end\n",
    "\n",
    "function lm(y, ŷ, J, λ, W=I)\n",
    "    grad = transpose(J)*W*(y-ŷ)\n",
    "    second = transpose(J)*W*J + λ*Diagonal(transpose(J)*W*J)\n",
    "    return  inv(second) * grad\n",
    "end\n",
    "\n",
    "# symbol ρᵢ in first paper, this is compared to a user-given measure ϵ\n",
    "function lmmetric(f, x, y, p, h, λ, J, W=I)\n",
    "    yold = f(x, p...)\n",
    "    ynew = f(x, (p .+ h)...)\n",
    "    return (chisquare(y, yold) - chisquare(y, ynew)) /\n",
    "        (transpose(h) * (λ * Diagonal(transpose(J)*W*J) * h + transpose(J)*W*(y-yold)))\n",
    "end\n",
    "\n",
    "# Todo: Use Broyden rank-1 update for updating jacobian in certain conditions\n",
    "# http://people.duke.edu/~hpgavin/ce281/lm.pdf\n",
    "# https://www.eecs189.org/static/notes/n12.pdf\n",
    "\n",
    "function step(f, x::Vector{Float64}, y::Vector{Float64}, parameters, ϵ=1e-2; loss=(y, ŷ)->(sum((y-ŷ).^2)))\n",
    "    p = copy(parameters)\n",
    "    \n",
    "    λfactordown = 9\n",
    "    λfactorup = 11\n",
    "    λ = 1e-2\n",
    "    \n",
    "    iterations = 1\n",
    "    while true\n",
    "        ŷ = f(x, p...)\n",
    "        J = jacobian(f, x, parameters)\n",
    "        \n",
    "        h = lm(y, ŷ, J, λ)\n",
    "        ρ =lmmetric(f, x, y, parameters, h, λ, J)\n",
    "        \n",
    "        if ρ > ϵ\n",
    "            p = p + h\n",
    "            λ = max(λ / λfactordown, 10^7)\n",
    "        else\n",
    "            λ = min(λ * λfactorup, 10^7)\n",
    "        end\n",
    "\n",
    "        \n",
    "        sumsquares = loss(y, ŷ)\n",
    "        println(\"Experiment new parameters $(p) loss: $(sumsquares)\")\n",
    "        sumsquares > 1 || break\n",
    "        iterations = iterations + 1\n",
    "        iterations > 50 && break\n",
    "    end\n",
    "    return p\n",
    "end"
   ]
  },
  {
   "cell_type": "code",
   "execution_count": 104,
   "id": "naval-driving",
   "metadata": {},
   "outputs": [
    {
     "data": {
      "text/plain": [
       "5-element Array{Int64,1}:\n",
       " 1\n",
       " 1\n",
       " 1\n",
       " 1\n",
       " 1"
      ]
     },
     "execution_count": 104,
     "metadata": {},
     "output_type": "execute_result"
    }
   ],
   "source": [
    "α = 0.01\n",
    "f(x, a, b, c, d, e) = a.+b.*exp.(-c.*x) .* sin.(d.*x.+e)\n",
    "x = collect(0:0.1:3)\n",
    "y = f(x, 5, 6, 7, 8, 9)\n",
    "p = [1, 1, 1, 1, 1]"
   ]
  },
  {
   "cell_type": "code",
   "execution_count": 105,
   "id": "portable-climb",
   "metadata": {},
   "outputs": [
    {
     "name": "stdout",
     "output_type": "stream",
     "text": [
      "Experiment new parameters [4.038690106598693, 1.7658279188291317, 2.299034303500676, -3.4260640373760847, 1.2302353205116248] loss: 444.6852156779073\n",
      "Experiment new parameters [4.038690194553941, 1.7658280307888727, 2.299034023075169, -3.4260644748660742, 1.2302350700891729] loss: 34.26140894252938\n",
      "Experiment new parameters [4.038690282509185, 1.7658281427486238, 2.2990337426496614, -3.426064912356015, 1.2302348196667634] loss: 34.26140547003026\n",
      "Experiment new parameters [4.038690370464424, 1.765828254708385, 2.2990334622241524, -3.426065349845907, 1.2302345692443961] loss: 34.261401997531365\n",
      "Experiment new parameters [4.03869045841966, 1.7658283666681565, 2.299033181798642, -3.42606578733575, 1.2302343188220712] loss: 34.2613985250327\n",
      "Experiment new parameters [4.038690546374893, 1.765828478627938, 2.2990329013731308, -3.426066224825544, 1.2302340683997885] loss: 34.26139505253424\n",
      "Experiment new parameters [4.038690634330121, 1.7658285905877296, 2.299032620947618, -3.4260666623152893, 1.2302338179775483] loss: 34.26139158003597\n",
      "Experiment new parameters [4.038690722285345, 1.7658287025475312, 2.2990323405221047, -3.426067099804986, 1.2302335675553502] loss: 34.26138810753793\n",
      "Experiment new parameters [4.038690810240566, 1.765828814507343, 2.29903206009659, -3.4260675372946334, 1.2302333171331945] loss: 34.2613846350401\n",
      "Experiment new parameters [4.0386908981957825, 1.7658289264671652, 2.2990317796710737, -3.426067974784232, 1.2302330667110812] loss: 34.26138116254246\n",
      "Experiment new parameters [4.038690986150995, 1.7658290384269972, 2.2990314992455567, -3.426068412273782, 1.2302328162890102] loss: 34.26137769004508\n",
      "Experiment new parameters [4.038691074106204, 1.7658291503868395, 2.2990312188200384, -3.426068849763283, 1.2302325658669815] loss: 34.26137421754789\n",
      "Experiment new parameters [4.038691162061409, 1.7658292623466918, 2.299030938394519, -3.426069287252735, 1.230232315444995] loss: 34.26137074505093\n",
      "Experiment new parameters [4.03869125001661, 1.7658293743065543, 2.2990306579689985, -3.426069724742138, 1.230232065023051] loss: 34.26136727255417\n",
      "Experiment new parameters [4.038691337971807, 1.765829486266427, 2.2990303775434766, -3.426070162231492, 1.230231814601149] loss: 34.261363800057595\n",
      "Experiment new parameters [4.038691425927, 1.7658295982263097, 2.299030097117954, -3.426070599720797, 1.2302315641792896] loss: 34.261360327561285\n",
      "Experiment new parameters [4.03869151388219, 1.7658297101862026, 2.2990298166924297, -3.4260710372100536, 1.2302313137574723] loss: 34.26135685506516\n",
      "Experiment new parameters [4.0386916018373755, 1.7658298221461055, 2.299029536266904, -3.426071474699261, 1.2302310633356974] loss: 34.261353382569226\n",
      "Experiment new parameters [4.038691689792557, 1.7658299341060186, 2.299029255841378, -3.4260719121884198, 1.230230812913965] loss: 34.261349910073555\n",
      "Experiment new parameters [4.038691777747735, 1.765830046065942, 2.29902897541585, -3.4260723496775296, 1.2302305624922747] loss: 34.26134643757806\n",
      "Experiment new parameters [4.0386918657029085, 1.7658301580258753, 2.2990286949903216, -3.4260727871665906, 1.2302303120706268] loss: 34.261342965082804\n",
      "Experiment new parameters [4.038691953658079, 1.7658302699858188, 2.2990284145647917, -3.4260732246556027, 1.2302300616490212] loss: 34.261339492587766\n",
      "Experiment new parameters [4.038692041613245, 1.7658303819457724, 2.2990281341392604, -3.426073662144566, 1.230229811227458] loss: 34.26133602009291\n",
      "Experiment new parameters [4.038692129568407, 1.765830493905736, 2.2990278537137283, -3.4260740996334804, 1.2302295608059368] loss: 34.2613325475983\n",
      "Experiment new parameters [4.0386922175235656, 1.7658306058657098, 2.299027573288195, -3.426074537122346, 1.2302293103844582] loss: 34.26132907510388\n",
      "Experiment new parameters [4.03869230547872, 1.7658307178256938, 2.2990272928626605, -3.4260749746111623, 1.230229059963022] loss: 34.261325602609666\n",
      "Experiment new parameters [4.0386923934338705, 1.765830829785688, 2.299027012437125, -3.4260754120999297, 1.2302288095416278] loss: 34.26132213011569\n",
      "Experiment new parameters [4.038692481389017, 1.765830941745692, 2.299026732011588, -3.4260758495886483, 1.2302285591202762] loss: 34.261318657621906\n",
      "Experiment new parameters [4.0386925693441595, 1.7658310537057065, 2.29902645158605, -3.426076287077318, 1.2302283086989667] loss: 34.26131518512836\n",
      "Experiment new parameters [4.038692657299299, 1.7658311656657308, 2.2990261711605107, -3.426076724565939, 1.2302280582776997] loss: 34.26131171263502\n",
      "Experiment new parameters [4.0386927452544334, 1.7658312776257654, 2.29902589073497, -3.426077162054511, 1.2302278078564748] loss: 34.26130824014187\n",
      "Experiment new parameters [4.038692833209565, 1.7658313895858102, 2.2990256103094286, -3.426077599543034, 1.2302275574352923] loss: 34.26130476764898\n",
      "Experiment new parameters [4.038692921164691, 1.765831501545865, 2.299025329883886, -3.4260780370315085, 1.230227307014152] loss: 34.26130129515627\n",
      "Experiment new parameters [4.0386930091198145, 1.76583161350593, 2.299025049458342, -3.426078474519934, 1.2302270565930542] loss: 34.2612978226638\n",
      "Experiment new parameters [4.038693097074934, 1.765831725466005, 2.299024769032797, -3.4260789120083106, 1.2302268061719988] loss: 34.261294350171546\n",
      "Experiment new parameters [4.038693185030049, 1.7658318374260902, 2.299024488607251, -3.4260793494966384, 1.2302265557509855] loss: 34.26129087767947\n",
      "Experiment new parameters [4.038693272985161, 1.7658319493861856, 2.2990242081817036, -3.4260797869849173, 1.2302263053300146] loss: 34.26128740518764\n",
      "Experiment new parameters [4.038693360940269, 1.765832061346291, 2.299023927756155, -3.4260802244731474, 1.230226054909086] loss: 34.261283932696\n",
      "Experiment new parameters [4.038693448895373, 1.7658321733064066, 2.2990236473306056, -3.426080661961328, 1.2302258044881997] loss: 34.26128046020457\n",
      "Experiment new parameters [4.038693536850473, 1.7658322852665322, 2.299023366905055, -3.42608109944946, 1.2302255540673557] loss: 34.261276987713366\n",
      "Experiment new parameters [4.0386936248055685, 1.765832397226668, 2.2990230864795027, -3.4260815369375432, 1.230225303646554] loss: 34.26127351522237\n",
      "Experiment new parameters [4.038693712760661, 1.7658325091868141, 2.2990228060539497, -3.4260819744255775, 1.2302250532257948] loss: 34.261270042731624\n",
      "Experiment new parameters [4.038693800715749, 1.7658326211469701, 2.2990225256283954, -3.426082411913563, 1.2302248028050777] loss: 34.261266570241055\n",
      "Experiment new parameters [4.038693888670833, 1.7658327331071364, 2.29902224520284, -3.4260828494014994, 1.230224552384403] loss: 34.26126309775069\n",
      "Experiment new parameters [4.038693976625914, 1.7658328450673126, 2.2990219647772836, -3.426083286889387, 1.2302243019637706] loss: 34.26125962526058\n",
      "Experiment new parameters [4.038694064580991, 1.765832957027499, 2.2990216843517257, -3.426083724377226, 1.2302240515431806] loss: 34.26125615277065\n",
      "Experiment new parameters [4.038694152536063, 1.7658330689876958, 2.299021403926167, -3.426084161865016, 1.2302238011226327] loss: 34.26125268028092\n",
      "Experiment new parameters [4.038694240491132, 1.7658331809479024, 2.299021123500607, -3.426084599352757, 1.2302235507021273] loss: 34.26124920779143\n",
      "Experiment new parameters [4.038694328446197, 1.7658332929081193, 2.2990208430750454, -3.4260850368404494, 1.2302233002816643] loss: 34.26124573530214\n",
      "Experiment new parameters [4.038694416401258, 1.7658334048683462, 2.299020562649483, -3.426085474328093, 1.2302230498612434] loss: 34.26124226281309\n"
     ]
    },
    {
     "data": {
      "image/svg+xml": [
       "<?xml version=\"1.0\" encoding=\"utf-8\"?>\n",
       "<svg xmlns=\"http://www.w3.org/2000/svg\" xmlns:xlink=\"http://www.w3.org/1999/xlink\" width=\"600\" height=\"400\" viewBox=\"0 0 2400 1600\">\n",
       "<defs>\n",
       "  <clipPath id=\"clip390\">\n",
       "    <rect x=\"0\" y=\"0\" width=\"2400\" height=\"1600\"/>\n",
       "  </clipPath>\n",
       "</defs>\n",
       "<path clip-path=\"url(#clip390)\" d=\"\n",
       "M0 1600 L2400 1600 L2400 0 L0 0  Z\n",
       "  \" fill=\"#ffffff\" fill-rule=\"evenodd\" fill-opacity=\"1\"/>\n",
       "<defs>\n",
       "  <clipPath id=\"clip391\">\n",
       "    <rect x=\"480\" y=\"0\" width=\"1681\" height=\"1600\"/>\n",
       "  </clipPath>\n",
       "</defs>\n",
       "<path clip-path=\"url(#clip390)\" d=\"\n",
       "M112.177 1486.45 L2352.76 1486.45 L2352.76 47.2441 L112.177 47.2441  Z\n",
       "  \" fill=\"#ffffff\" fill-rule=\"evenodd\" fill-opacity=\"1\"/>\n",
       "<defs>\n",
       "  <clipPath id=\"clip392\">\n",
       "    <rect x=\"112\" y=\"47\" width=\"2242\" height=\"1440\"/>\n",
       "  </clipPath>\n",
       "</defs>\n",
       "<polyline clip-path=\"url(#clip392)\" style=\"stroke:#000000; stroke-width:2; stroke-opacity:0.1; fill:none\" points=\"\n",
       "  175.59,1486.45 175.59,47.2441 \n",
       "  \"/>\n",
       "<polyline clip-path=\"url(#clip392)\" style=\"stroke:#000000; stroke-width:2; stroke-opacity:0.1; fill:none\" points=\"\n",
       "  880.174,1486.45 880.174,47.2441 \n",
       "  \"/>\n",
       "<polyline clip-path=\"url(#clip392)\" style=\"stroke:#000000; stroke-width:2; stroke-opacity:0.1; fill:none\" points=\"\n",
       "  1584.76,1486.45 1584.76,47.2441 \n",
       "  \"/>\n",
       "<polyline clip-path=\"url(#clip392)\" style=\"stroke:#000000; stroke-width:2; stroke-opacity:0.1; fill:none\" points=\"\n",
       "  2289.34,1486.45 2289.34,47.2441 \n",
       "  \"/>\n",
       "<polyline clip-path=\"url(#clip390)\" style=\"stroke:#000000; stroke-width:4; stroke-opacity:1; fill:none\" points=\"\n",
       "  112.177,1486.45 2352.76,1486.45 \n",
       "  \"/>\n",
       "<polyline clip-path=\"url(#clip390)\" style=\"stroke:#000000; stroke-width:4; stroke-opacity:1; fill:none\" points=\"\n",
       "  175.59,1486.45 175.59,1469.18 \n",
       "  \"/>\n",
       "<polyline clip-path=\"url(#clip390)\" style=\"stroke:#000000; stroke-width:4; stroke-opacity:1; fill:none\" points=\"\n",
       "  880.174,1486.45 880.174,1469.18 \n",
       "  \"/>\n",
       "<polyline clip-path=\"url(#clip390)\" style=\"stroke:#000000; stroke-width:4; stroke-opacity:1; fill:none\" points=\"\n",
       "  1584.76,1486.45 1584.76,1469.18 \n",
       "  \"/>\n",
       "<polyline clip-path=\"url(#clip390)\" style=\"stroke:#000000; stroke-width:4; stroke-opacity:1; fill:none\" points=\"\n",
       "  2289.34,1486.45 2289.34,1469.18 \n",
       "  \"/>\n",
       "<path clip-path=\"url(#clip390)\" d=\"M 0 0 M175.59 1515.64 Q171.979 1515.64 170.15 1519.2 Q168.344 1522.75 168.344 1529.87 Q168.344 1536.98 170.15 1540.55 Q171.979 1544.09 175.59 1544.09 Q179.224 1544.09 181.03 1540.55 Q182.858 1536.98 182.858 1529.87 Q182.858 1522.75 181.03 1519.2 Q179.224 1515.64 175.59 1515.64 M175.59 1511.93 Q181.4 1511.93 184.455 1516.54 Q187.534 1521.12 187.534 1529.87 Q187.534 1538.6 184.455 1543.21 Q181.4 1547.79 175.59 1547.79 Q169.78 1547.79 166.701 1543.21 Q163.645 1538.6 163.645 1529.87 Q163.645 1521.12 166.701 1516.54 Q169.78 1511.93 175.59 1511.93 Z\" fill=\"#000000\" fill-rule=\"evenodd\" fill-opacity=\"1\" /><path clip-path=\"url(#clip390)\" d=\"M 0 0 M870.556 1543.18 L878.195 1543.18 L878.195 1516.82 L869.885 1518.49 L869.885 1514.23 L878.149 1512.56 L882.825 1512.56 L882.825 1543.18 L890.464 1543.18 L890.464 1547.12 L870.556 1547.12 L870.556 1543.18 Z\" fill=\"#000000\" fill-rule=\"evenodd\" fill-opacity=\"1\" /><path clip-path=\"url(#clip390)\" d=\"M 0 0 M1579.41 1543.18 L1595.73 1543.18 L1595.73 1547.12 L1573.79 1547.12 L1573.79 1543.18 Q1576.45 1540.43 1581.03 1535.8 Q1585.64 1531.15 1586.82 1529.81 Q1589.06 1527.28 1589.94 1525.55 Q1590.85 1523.79 1590.85 1522.1 Q1590.85 1519.34 1588.9 1517.61 Q1586.98 1515.87 1583.88 1515.87 Q1581.68 1515.87 1579.23 1516.63 Q1576.8 1517.4 1574.02 1518.95 L1574.02 1514.23 Q1576.84 1513.09 1579.3 1512.51 Q1581.75 1511.93 1583.79 1511.93 Q1589.16 1511.93 1592.35 1514.62 Q1595.55 1517.31 1595.55 1521.8 Q1595.55 1523.93 1594.74 1525.85 Q1593.95 1527.74 1591.84 1530.34 Q1591.26 1531.01 1588.16 1534.23 Q1585.06 1537.42 1579.41 1543.18 Z\" fill=\"#000000\" fill-rule=\"evenodd\" fill-opacity=\"1\" /><path clip-path=\"url(#clip390)\" d=\"M 0 0 M2293.59 1528.49 Q2296.95 1529.2 2298.82 1531.47 Q2300.72 1533.74 2300.72 1537.07 Q2300.72 1542.19 2297.2 1544.99 Q2293.68 1547.79 2287.2 1547.79 Q2285.03 1547.79 2282.71 1547.35 Q2280.42 1546.93 2277.97 1546.08 L2277.97 1541.56 Q2279.91 1542.7 2282.23 1543.28 Q2284.54 1543.86 2287.06 1543.86 Q2291.46 1543.86 2293.75 1542.12 Q2296.07 1540.38 2296.07 1537.07 Q2296.07 1534.02 2293.92 1532.31 Q2291.79 1530.57 2287.97 1530.57 L2283.94 1530.57 L2283.94 1526.73 L2288.15 1526.73 Q2291.6 1526.73 2293.43 1525.36 Q2295.26 1523.97 2295.26 1521.38 Q2295.26 1518.72 2293.36 1517.31 Q2291.48 1515.87 2287.97 1515.87 Q2286.04 1515.87 2283.85 1516.29 Q2281.65 1516.7 2279.01 1517.58 L2279.01 1513.42 Q2281.67 1512.68 2283.98 1512.31 Q2286.32 1511.93 2288.38 1511.93 Q2293.71 1511.93 2296.81 1514.37 Q2299.91 1516.77 2299.91 1520.89 Q2299.91 1523.76 2298.27 1525.75 Q2296.62 1527.72 2293.59 1528.49 Z\" fill=\"#000000\" fill-rule=\"evenodd\" fill-opacity=\"1\" /><polyline clip-path=\"url(#clip392)\" style=\"stroke:#000000; stroke-width:2; stroke-opacity:0.1; fill:none\" points=\"\n",
       "  112.177,1316.48 2352.76,1316.48 \n",
       "  \"/>\n",
       "<polyline clip-path=\"url(#clip392)\" style=\"stroke:#000000; stroke-width:2; stroke-opacity:0.1; fill:none\" points=\"\n",
       "  112.177,962.721 2352.76,962.721 \n",
       "  \"/>\n",
       "<polyline clip-path=\"url(#clip392)\" style=\"stroke:#000000; stroke-width:2; stroke-opacity:0.1; fill:none\" points=\"\n",
       "  112.177,608.961 2352.76,608.961 \n",
       "  \"/>\n",
       "<polyline clip-path=\"url(#clip392)\" style=\"stroke:#000000; stroke-width:2; stroke-opacity:0.1; fill:none\" points=\"\n",
       "  112.177,255.202 2352.76,255.202 \n",
       "  \"/>\n",
       "<polyline clip-path=\"url(#clip390)\" style=\"stroke:#000000; stroke-width:4; stroke-opacity:1; fill:none\" points=\"\n",
       "  112.177,1486.45 112.177,47.2441 \n",
       "  \"/>\n",
       "<polyline clip-path=\"url(#clip390)\" style=\"stroke:#000000; stroke-width:4; stroke-opacity:1; fill:none\" points=\"\n",
       "  112.177,1316.48 139.064,1316.48 \n",
       "  \"/>\n",
       "<polyline clip-path=\"url(#clip390)\" style=\"stroke:#000000; stroke-width:4; stroke-opacity:1; fill:none\" points=\"\n",
       "  112.177,962.721 139.064,962.721 \n",
       "  \"/>\n",
       "<polyline clip-path=\"url(#clip390)\" style=\"stroke:#000000; stroke-width:4; stroke-opacity:1; fill:none\" points=\"\n",
       "  112.177,608.961 139.064,608.961 \n",
       "  \"/>\n",
       "<polyline clip-path=\"url(#clip390)\" style=\"stroke:#000000; stroke-width:4; stroke-opacity:1; fill:none\" points=\"\n",
       "  112.177,255.202 139.064,255.202 \n",
       "  \"/>\n",
       "<path clip-path=\"url(#clip390)\" d=\"M 0 0 M66.5939 1303.27 L54.7884 1321.72 L66.5939 1321.72 L66.5939 1303.27 M65.367 1299.2 L71.2466 1299.2 L71.2466 1321.72 L76.1772 1321.72 L76.1772 1325.61 L71.2466 1325.61 L71.2466 1333.76 L66.5939 1333.76 L66.5939 1325.61 L50.9921 1325.61 L50.9921 1321.1 L65.367 1299.2 Z\" fill=\"#000000\" fill-rule=\"evenodd\" fill-opacity=\"1\" /><path clip-path=\"url(#clip390)\" d=\"M 0 0 M55.2745 945.441 L73.6309 945.441 L73.6309 949.376 L59.5569 949.376 L59.5569 957.848 Q60.5754 957.501 61.5939 957.339 Q62.6124 957.153 63.6309 957.153 Q69.418 957.153 72.7976 960.325 Q76.1772 963.496 76.1772 968.913 Q76.1772 974.491 72.705 977.593 Q69.2328 980.672 62.9134 980.672 Q60.7374 980.672 58.4689 980.301 Q56.2236 979.931 53.8162 979.19 L53.8162 974.491 Q55.8995 975.626 58.1217 976.181 Q60.3439 976.737 62.8208 976.737 Q66.8254 976.737 69.1633 974.63 Q71.5013 972.524 71.5013 968.913 Q71.5013 965.302 69.1633 963.195 Q66.8254 961.089 62.8208 961.089 Q60.9458 961.089 59.0708 961.505 Q57.2189 961.922 55.2745 962.802 L55.2745 945.441 Z\" fill=\"#000000\" fill-rule=\"evenodd\" fill-opacity=\"1\" /><path clip-path=\"url(#clip390)\" d=\"M 0 0 M64.6495 607.098 Q61.5013 607.098 59.6495 609.251 Q57.8208 611.403 57.8208 615.153 Q57.8208 618.88 59.6495 621.056 Q61.5013 623.209 64.6495 623.209 Q67.7976 623.209 69.6263 621.056 Q71.4781 618.88 71.4781 615.153 Q71.4781 611.403 69.6263 609.251 Q67.7976 607.098 64.6495 607.098 M73.9318 592.445 L73.9318 596.704 Q72.1726 595.871 70.367 595.431 Q68.5846 594.992 66.8254 594.992 Q62.1958 594.992 59.7421 598.116 Q57.3115 601.241 56.9643 607.561 Q58.33 605.547 60.3902 604.482 Q62.4504 603.394 64.9272 603.394 Q70.1355 603.394 73.1448 606.566 Q76.1772 609.714 76.1772 615.153 Q76.1772 620.477 73.029 623.695 Q69.8809 626.913 64.6495 626.913 Q58.6541 626.913 55.4828 622.329 Q52.3116 617.723 52.3116 608.996 Q52.3116 600.802 56.2004 595.941 Q60.0893 591.056 66.6402 591.056 Q68.3994 591.056 70.1818 591.404 Q71.9874 591.751 73.9318 592.445 Z\" fill=\"#000000\" fill-rule=\"evenodd\" fill-opacity=\"1\" /><path clip-path=\"url(#clip390)\" d=\"M 0 0 M53.9551 237.922 L76.1772 237.922 L76.1772 239.913 L63.6309 272.482 L58.7467 272.482 L70.5522 241.857 L53.9551 241.857 L53.9551 237.922 Z\" fill=\"#000000\" fill-rule=\"evenodd\" fill-opacity=\"1\" /><polyline clip-path=\"url(#clip392)\" style=\"stroke:#009af9; stroke-width:4; stroke-opacity:1; fill:none\" points=\"\n",
       "  175.59,713.991 246.048,917.817 316.507,1098.31 386.965,1239.79 457.424,1337.6 527.882,1394.67 598.34,1418.34 668.799,1417.74 739.257,1401.9 809.716,1378.56 \n",
       "  880.174,1353.63 950.633,1331.05 1021.09,1312.99 1091.55,1300.21 1162.01,1292.49 1232.47,1289 1302.92,1288.66 1373.38,1290.34 1443.84,1293.08 1514.3,1296.11 \n",
       "  1584.76,1298.93 1655.22,1301.23 1725.68,1302.89 1796.13,1303.92 1866.59,1304.42 1937.05,1304.52 2007.51,1304.35 2077.97,1304.03 2148.43,1303.66 2218.88,1303.31 \n",
       "  2289.34,1303.02 \n",
       "  \"/>\n",
       "<polyline clip-path=\"url(#clip392)\" style=\"stroke:#e26f46; stroke-width:4; stroke-opacity:1; fill:none\" points=\"\n",
       "  175.59,87.9763 246.048,1349 316.507,1445.72 386.965,1201.67 457.424,1008.96 527.882,935.79 598.34,932.684 668.799,948.578 739.257,960.341 809.716,964.562 \n",
       "  880.174,964.581 950.633,963.554 1021.09,962.838 1091.55,962.597 1162.01,962.606 1232.47,962.672 1302.92,962.715 1373.38,962.729 1443.84,962.728 1514.3,962.723 \n",
       "  1584.76,962.721 1655.22,962.72 1725.68,962.72 1796.13,962.72 1866.59,962.721 1937.05,962.721 2007.51,962.721 2077.97,962.721 2148.43,962.721 2218.88,962.721 \n",
       "  2289.34,962.721 \n",
       "  \"/>\n",
       "<path clip-path=\"url(#clip390)\" d=\"\n",
       "M1978.1 276.658 L2278.07 276.658 L2278.07 95.2176 L1978.1 95.2176  Z\n",
       "  \" fill=\"#ffffff\" fill-rule=\"evenodd\" fill-opacity=\"1\"/>\n",
       "<polyline clip-path=\"url(#clip390)\" style=\"stroke:#000000; stroke-width:4; stroke-opacity:1; fill:none\" points=\"\n",
       "  1978.1,276.658 2278.07,276.658 2278.07,95.2176 1978.1,95.2176 1978.1,276.658 \n",
       "  \"/>\n",
       "<polyline clip-path=\"url(#clip390)\" style=\"stroke:#009af9; stroke-width:4; stroke-opacity:1; fill:none\" points=\"\n",
       "  2002.99,155.698 2152.37,155.698 \n",
       "  \"/>\n",
       "<path clip-path=\"url(#clip390)\" d=\"M 0 0 M2191.1 175.385 Q2189.3 180.015 2187.59 181.427 Q2185.87 182.839 2183 182.839 L2179.6 182.839 L2179.6 179.274 L2182.1 179.274 Q2183.86 179.274 2184.83 178.44 Q2185.8 177.607 2186.98 174.505 L2187.75 172.561 L2177.26 147.052 L2181.77 147.052 L2189.88 167.329 L2197.98 147.052 L2202.49 147.052 L2191.1 175.385 Z\" fill=\"#000000\" fill-rule=\"evenodd\" fill-opacity=\"1\" /><path clip-path=\"url(#clip390)\" d=\"M 0 0 M2208.37 169.042 L2216.01 169.042 L2216.01 142.677 L2207.7 144.343 L2207.7 140.084 L2215.96 138.418 L2220.64 138.418 L2220.64 169.042 L2228.28 169.042 L2228.28 172.978 L2208.37 172.978 L2208.37 169.042 Z\" fill=\"#000000\" fill-rule=\"evenodd\" fill-opacity=\"1\" /><polyline clip-path=\"url(#clip390)\" style=\"stroke:#e26f46; stroke-width:4; stroke-opacity:1; fill:none\" points=\"\n",
       "  2002.99,216.178 2152.37,216.178 \n",
       "  \"/>\n",
       "<path clip-path=\"url(#clip390)\" d=\"M 0 0 M2191.1 235.865 Q2189.3 240.495 2187.59 241.907 Q2185.87 243.319 2183 243.319 L2179.6 243.319 L2179.6 239.754 L2182.1 239.754 Q2183.86 239.754 2184.83 238.92 Q2185.8 238.087 2186.98 234.985 L2187.75 233.041 L2177.26 207.532 L2181.77 207.532 L2189.88 227.809 L2197.98 207.532 L2202.49 207.532 L2191.1 235.865 Z\" fill=\"#000000\" fill-rule=\"evenodd\" fill-opacity=\"1\" /><path clip-path=\"url(#clip390)\" d=\"M 0 0 M2211.59 229.522 L2227.91 229.522 L2227.91 233.458 L2205.96 233.458 L2205.96 229.522 Q2208.63 226.768 2213.21 222.138 Q2217.82 217.485 2219 216.143 Q2221.24 213.62 2222.12 211.884 Q2223.02 210.124 2223.02 208.435 Q2223.02 205.68 2221.08 203.944 Q2219.16 202.208 2216.06 202.208 Q2213.86 202.208 2211.4 202.972 Q2208.97 203.735 2206.2 205.286 L2206.2 200.564 Q2209.02 199.43 2211.47 198.851 Q2213.93 198.273 2215.96 198.273 Q2221.33 198.273 2224.53 200.958 Q2227.72 203.643 2227.72 208.134 Q2227.72 210.263 2226.91 212.185 Q2226.13 214.083 2224.02 216.675 Q2223.44 217.347 2220.34 220.564 Q2217.24 223.759 2211.59 229.522 Z\" fill=\"#000000\" fill-rule=\"evenodd\" fill-opacity=\"1\" /></svg>\n"
      ]
     },
     "execution_count": 105,
     "metadata": {},
     "output_type": "execute_result"
    }
   ],
   "source": [
    "newparameters = step(f, collect(x), y, p)\n",
    "ŷ = f(x, newparameters...)\n",
    "plot([x, x], [ŷ, y])"
   ]
  },
  {
   "cell_type": "code",
   "execution_count": 96,
   "id": "adopted-notice",
   "metadata": {},
   "outputs": [
    {
     "data": {
      "text/plain": [
       "383.6712276372895"
      ]
     },
     "execution_count": 96,
     "metadata": {},
     "output_type": "execute_result"
    }
   ],
   "source": [
    "chisquare(y, ŷ)"
   ]
  },
  {
   "cell_type": "code",
   "execution_count": 97,
   "id": "forbidden-syntax",
   "metadata": {},
   "outputs": [
    {
     "ename": "UndefVarError",
     "evalue": "\u001b[91mUndefVarError: newparameters not defined\u001b[39m",
     "output_type": "error",
     "traceback": [
      "\u001b[91mUndefVarError: newparameters not defined\u001b[39m",
      "",
      "Stacktrace:",
      " [1] top-level scope at In[97]:1"
     ]
    }
   ],
   "source": [
    "print(newparameters)"
   ]
  },
  {
   "cell_type": "code",
   "execution_count": null,
   "id": "hollow-surrey",
   "metadata": {},
   "outputs": [],
   "source": []
  }
 ],
 "metadata": {
  "kernelspec": {
   "display_name": "Julia 1.4.1",
   "language": "julia",
   "name": "julia-1.4"
  },
  "language_info": {
   "file_extension": ".jl",
   "mimetype": "application/julia",
   "name": "julia",
   "version": "1.4.1"
  }
 },
 "nbformat": 4,
 "nbformat_minor": 5
}
