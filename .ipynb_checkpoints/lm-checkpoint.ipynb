{
 "cells": [
  {
   "cell_type": "markdown",
   "id": "adaptive-dallas",
   "metadata": {},
   "source": [
    "# Nonlinear Least Squares curve fitting\n",
    "Trying to put together a minimal implementation of the Levenberg-Marquardt algorithm for nonlinear least squares curve fitting.\n",
    "This is mostly for my own learning, but it was also requested on [my blog](https://workyourtech.com/2020/04/05/fitting-curves-to-data-with-an-arduino/#comment-28)\n",
    "\n",
    "## Following these papers: [this](http://people.duke.edu/~hpgavin/ce281/lm.pdf) and [this](https://www.eecs189.org/static/notes/n12.pdf)\n",
    "\n",
    "# Nomenclature\n",
    " - x - x-values (probably time)\n",
    " - f(x) - function we're modelling the data as, this takes parameters p\n",
    " - y - f(x) data we're fitting the function to\n",
    " - p - parameters\n",
    " \n",
    "- λ - LM factor that weights for either Gauss-Newton at high values, or Grad descent for low values"
   ]
  },
  {
   "cell_type": "code",
   "execution_count": 1,
   "id": "continent-dance",
   "metadata": {},
   "outputs": [
    {
     "name": "stderr",
     "output_type": "stream",
     "text": [
      "\u001b[32m\u001b[1m   Updating\u001b[22m\u001b[39m registry at `~/.julia/registries/General`\n"
     ]
    },
    {
     "name": "stdout",
     "output_type": "stream",
     "text": [
      "\u001b[?25l    "
     ]
    },
    {
     "name": "stderr",
     "output_type": "stream",
     "text": [
      "\u001b[32m\u001b[1m   Updating\u001b[22m\u001b[39m git-repo `https://github.com/JuliaRegistries/General.git`\n"
     ]
    },
    {
     "name": "stdout",
     "output_type": "stream",
     "text": [
      "\u001b[36m\u001b[1mFetching:\u001b[22m\u001b[39m [>                                        ]  0.0 %\r",
      "    \u001b[36m\u001b[1mFetching:\u001b[22m\u001b[39m [===>                                     ]  7.1 %\r",
      "    \u001b[36m\u001b[1mFetching:\u001b[22m\u001b[39m [======>                                  ]  14.3 %\r",
      "    \u001b[36m\u001b[1mFetching:\u001b[22m\u001b[39m [=========>                               ]  21.4 %\r",
      "    \u001b[36m\u001b[1mFetching:\u001b[22m\u001b[39m [============>                            ]  28.6 %\r",
      "    \u001b[36m\u001b[1mFetching:\u001b[22m\u001b[39m [===============>                         ]  35.7 %\r",
      "    \u001b[36m\u001b[1mFetching:\u001b[22m\u001b[39m [==================>                      ]  42.9 %\r",
      "    \u001b[36m\u001b[1mFetching:\u001b[22m\u001b[39m [====================>                    ]  50.0 %\r",
      "    \u001b[36m\u001b[1mFetching:\u001b[22m\u001b[39m [=======================>                 ]  57.1 %\r",
      "    \u001b[36m\u001b[1mFetching:\u001b[22m\u001b[39m [==========================>              ]  64.3 %\r",
      "    \u001b[36m\u001b[1mFetching:\u001b[22m\u001b[39m [=============================>           ]  71.4 %\r",
      "    \u001b[36m\u001b[1mFetching:\u001b[22m\u001b[39m [================================>        ]  78.6 %\r",
      "    \u001b[36m\u001b[1mFetching:\u001b[22m\u001b[39m [===================================>     ]  85.7 %\r",
      "    \u001b[36m\u001b[1mFetching:\u001b[22m\u001b[39m [======================================>  ]  92.9 %\r",
      "    \u001b[36m\u001b[1mFetching:\u001b[22m\u001b[39m [========================================>]  100.0 %\r",
      "\u001b[2K\u001b[?25h"
     ]
    },
    {
     "name": "stderr",
     "output_type": "stream",
     "text": [
      "\u001b[32m\u001b[1m  Resolving\u001b[22m\u001b[39m package versions...\n",
      "\u001b[32m\u001b[1m   Updating\u001b[22m\u001b[39m `/mnt/hdd/docs/MATLAB/MatlabFiles/SolarArray/data/nonlinearcurvefitting/Project.toml`\n",
      " \u001b[90m [91a5bcdd]\u001b[39m\u001b[92m + Plots v1.6.12\u001b[39m\n",
      "\u001b[32m\u001b[1m   Updating\u001b[22m\u001b[39m `/mnt/hdd/docs/MATLAB/MatlabFiles/SolarArray/data/nonlinearcurvefitting/Manifest.toml`\n",
      " \u001b[90m [79e6a3ab]\u001b[39m\u001b[92m + Adapt v3.3.0\u001b[39m\n",
      " \u001b[90m [56f22d72]\u001b[39m\u001b[92m + Artifacts v1.3.0\u001b[39m\n",
      " \u001b[90m [6e34b625]\u001b[39m\u001b[92m + Bzip2_jll v1.0.6+5\u001b[39m\n",
      " \u001b[90m [35d6a980]\u001b[39m\u001b[92m + ColorSchemes v3.11.0\u001b[39m\n",
      " \u001b[90m [3da002f7]\u001b[39m\u001b[92m + ColorTypes v0.10.12\u001b[39m\n",
      " \u001b[90m [5ae59095]\u001b[39m\u001b[92m + Colors v0.12.7\u001b[39m\n",
      " \u001b[90m [34da2185]\u001b[39m\u001b[92m + Compat v3.27.0\u001b[39m\n",
      " \u001b[90m [d38c429a]\u001b[39m\u001b[92m + Contour v0.5.7\u001b[39m\n",
      " \u001b[90m [9a962f9c]\u001b[39m\u001b[92m + DataAPI v1.6.0\u001b[39m\n",
      " \u001b[90m [864edb3b]\u001b[39m\u001b[92m + DataStructures v0.18.9\u001b[39m\n",
      " \u001b[90m [e2d170a0]\u001b[39m\u001b[92m + DataValueInterfaces v1.0.0\u001b[39m\n",
      " \u001b[90m [5ae413db]\u001b[39m\u001b[92m + EarCut_jll v2.1.5+1\u001b[39m\n",
      " \u001b[90m [c87230d0]\u001b[39m\u001b[92m + FFMPEG v0.4.0\u001b[39m\n",
      " \u001b[90m [b22a6f82]\u001b[39m\u001b[92m + FFMPEG_jll v4.3.1+4\u001b[39m\n",
      " \u001b[90m [53c48c17]\u001b[39m\u001b[92m + FixedPointNumbers v0.8.4\u001b[39m\n",
      " \u001b[90m [59287772]\u001b[39m\u001b[92m + Formatting v0.4.2\u001b[39m\n",
      " \u001b[90m [d7e528f0]\u001b[39m\u001b[92m + FreeType2_jll v2.10.1+5\u001b[39m\n",
      " \u001b[90m [559328eb]\u001b[39m\u001b[92m + FriBidi_jll v1.0.5+6\u001b[39m\n",
      " \u001b[90m [28b8d3ca]\u001b[39m\u001b[92m + GR v0.52.0\u001b[39m\n",
      " \u001b[90m [5c1252a2]\u001b[39m\u001b[92m + GeometryBasics v0.3.12\u001b[39m\n",
      " \u001b[90m [4d00f742]\u001b[39m\u001b[92m + GeometryTypes v0.8.4\u001b[39m\n",
      " \u001b[90m [42e2da0e]\u001b[39m\u001b[92m + Grisu v1.0.0\u001b[39m\n",
      " \u001b[90m [cd3eb016]\u001b[39m\u001b[92m + HTTP v0.8.19\u001b[39m\n",
      " \u001b[90m [83e8ac13]\u001b[39m\u001b[92m + IniFile v0.5.0\u001b[39m\n",
      " \u001b[90m [c8e1da08]\u001b[39m\u001b[92m + IterTools v1.3.0\u001b[39m\n",
      " \u001b[90m [82899510]\u001b[39m\u001b[92m + IteratorInterfaceExtensions v1.0.0\u001b[39m\n",
      " \u001b[90m [692b3bcd]\u001b[39m\u001b[92m + JLLWrappers v1.2.0\u001b[39m\n",
      " \u001b[90m [682c06a0]\u001b[39m\u001b[92m + JSON v0.21.1\u001b[39m\n",
      " \u001b[90m [c1c5ebd0]\u001b[39m\u001b[92m + LAME_jll v3.100.0+3\u001b[39m\n",
      " \u001b[90m [b964fa9f]\u001b[39m\u001b[92m + LaTeXStrings v1.2.1\u001b[39m\n",
      " \u001b[90m [23fbe1c1]\u001b[39m\u001b[92m + Latexify v0.14.12\u001b[39m\n",
      " \u001b[90m [dd192d2f]\u001b[39m\u001b[92m + LibVPX_jll v1.9.0+1\u001b[39m\n",
      " \u001b[90m [1914dd2f]\u001b[39m\u001b[92m + MacroTools v0.5.6\u001b[39m\n",
      " \u001b[90m [739be429]\u001b[39m\u001b[92m + MbedTLS v1.0.3\u001b[39m\n",
      " \u001b[90m [c8ffd9c3]\u001b[39m\u001b[92m + MbedTLS_jll v2.16.8+1\u001b[39m\n",
      " \u001b[90m [442fdcdd]\u001b[39m\u001b[92m + Measures v0.3.1\u001b[39m\n",
      " \u001b[90m [e1d29d7a]\u001b[39m\u001b[92m + Missings v0.4.5\u001b[39m\n",
      " \u001b[90m [77ba4419]\u001b[39m\u001b[92m + NaNMath v0.3.5\u001b[39m\n",
      " \u001b[90m [e7412a2a]\u001b[39m\u001b[92m + Ogg_jll v1.3.4+2\u001b[39m\n",
      " \u001b[90m [458c3c95]\u001b[39m\u001b[92m + OpenSSL_jll v1.1.1+6\u001b[39m\n",
      " \u001b[90m [91d4177d]\u001b[39m\u001b[92m + Opus_jll v1.3.1+3\u001b[39m\n",
      " \u001b[90m [bac558e1]\u001b[39m\u001b[92m + OrderedCollections v1.4.0\u001b[39m\n",
      " \u001b[90m [69de0a69]\u001b[39m\u001b[92m + Parsers v1.1.0\u001b[39m\n",
      " \u001b[90m [ccf2f8ad]\u001b[39m\u001b[92m + PlotThemes v2.0.1\u001b[39m\n",
      " \u001b[90m [995b91a9]\u001b[39m\u001b[92m + PlotUtils v1.0.10\u001b[39m\n",
      " \u001b[90m [91a5bcdd]\u001b[39m\u001b[92m + Plots v1.6.12\u001b[39m\n",
      " \u001b[90m [3cdcf5f2]\u001b[39m\u001b[92m + RecipesBase v1.1.1\u001b[39m\n",
      " \u001b[90m [01d81517]\u001b[39m\u001b[92m + RecipesPipeline v0.1.13\u001b[39m\n",
      " \u001b[90m [189a3867]\u001b[39m\u001b[92m + Reexport v0.2.0\u001b[39m\n",
      " \u001b[90m [ae029012]\u001b[39m\u001b[92m + Requires v1.1.3\u001b[39m\n",
      " \u001b[90m [992d4aef]\u001b[39m\u001b[92m + Showoff v0.3.2\u001b[39m\n",
      " \u001b[90m [a2af1166]\u001b[39m\u001b[92m + SortingAlgorithms v0.3.1\u001b[39m\n",
      " \u001b[90m [90137ffa]\u001b[39m\u001b[92m + StaticArrays v1.1.0\u001b[39m\n",
      " \u001b[90m [2913bbd2]\u001b[39m\u001b[92m + StatsBase v0.33.5\u001b[39m\n",
      " \u001b[90m [09ab397b]\u001b[39m\u001b[92m + StructArrays v0.5.1\u001b[39m\n",
      " \u001b[90m [3783bdb8]\u001b[39m\u001b[92m + TableTraits v1.0.1\u001b[39m\n",
      " \u001b[90m [bd369af6]\u001b[39m\u001b[92m + Tables v1.4.2\u001b[39m\n",
      " \u001b[90m [83775a58]\u001b[39m\u001b[92m + Zlib_jll v1.2.11+18\u001b[39m\n",
      " \u001b[90m [0ac62f75]\u001b[39m\u001b[92m + libass_jll v0.14.0+4\u001b[39m\n",
      " \u001b[90m [f638f0a6]\u001b[39m\u001b[92m + libfdk_aac_jll v0.1.6+4\u001b[39m\n",
      " \u001b[90m [f27f6e37]\u001b[39m\u001b[92m + libvorbis_jll v1.3.6+6\u001b[39m\n",
      " \u001b[90m [1270edf5]\u001b[39m\u001b[92m + x264_jll v2020.7.14+2\u001b[39m\n",
      " \u001b[90m [dfaa095f]\u001b[39m\u001b[92m + x265_jll v3.0.0+3\u001b[39m\n",
      " \u001b[90m [2a0f44e3]\u001b[39m\u001b[92m + Base64 \u001b[39m\n",
      " \u001b[90m [ade2ca70]\u001b[39m\u001b[92m + Dates \u001b[39m\n",
      " \u001b[90m [8bb1440f]\u001b[39m\u001b[92m + DelimitedFiles \u001b[39m\n",
      " \u001b[90m [8ba89e20]\u001b[39m\u001b[92m + Distributed \u001b[39m\n",
      " \u001b[90m [b77e0a4c]\u001b[39m\u001b[92m + InteractiveUtils \u001b[39m\n",
      " \u001b[90m [76f85450]\u001b[39m\u001b[92m + LibGit2 \u001b[39m\n",
      " \u001b[90m [8f399da3]\u001b[39m\u001b[92m + Libdl \u001b[39m\n",
      " \u001b[90m [37e2e46d]\u001b[39m\u001b[92m + LinearAlgebra \u001b[39m\n",
      " \u001b[90m [56ddb016]\u001b[39m\u001b[92m + Logging \u001b[39m\n",
      " \u001b[90m [d6f4376e]\u001b[39m\u001b[92m + Markdown \u001b[39m\n",
      " \u001b[90m [a63ad114]\u001b[39m\u001b[92m + Mmap \u001b[39m\n",
      " \u001b[90m [44cfe95a]\u001b[39m\u001b[92m + Pkg \u001b[39m\n",
      " \u001b[90m [de0858da]\u001b[39m\u001b[92m + Printf \u001b[39m\n",
      " \u001b[90m [3fa0cd96]\u001b[39m\u001b[92m + REPL \u001b[39m\n",
      " \u001b[90m [9a3f8284]\u001b[39m\u001b[92m + Random \u001b[39m\n",
      " \u001b[90m [ea8e919c]\u001b[39m\u001b[92m + SHA \u001b[39m\n",
      " \u001b[90m [9e88b42a]\u001b[39m\u001b[92m + Serialization \u001b[39m\n",
      " \u001b[90m [1a1011a3]\u001b[39m\u001b[92m + SharedArrays \u001b[39m\n",
      " \u001b[90m [6462fe0b]\u001b[39m\u001b[92m + Sockets \u001b[39m\n",
      " \u001b[90m [2f01184e]\u001b[39m\u001b[92m + SparseArrays \u001b[39m\n",
      " \u001b[90m [10745b16]\u001b[39m\u001b[92m + Statistics \u001b[39m\n",
      " \u001b[90m [8dfed614]\u001b[39m\u001b[92m + Test \u001b[39m\n",
      " \u001b[90m [cf7118a7]\u001b[39m\u001b[92m + UUIDs \u001b[39m\n",
      " \u001b[90m [4ec0a83e]\u001b[39m\u001b[92m + Unicode \u001b[39m\n",
      "┌ Info: Precompiling Plots [91a5bcdd-55d7-5caf-9e0b-520d859cae80]\n",
      "└ @ Base loading.jl:1260\n"
     ]
    }
   ],
   "source": [
    "using Plots\n",
    "using LinearAlgebra # For I"
   ]
  },
  {
   "cell_type": "markdown",
   "id": "furnished-copper",
   "metadata": {},
   "source": [
    "## Chi square measure of goodness of fit (used for λ measure in LM algo)"
   ]
  },
  {
   "cell_type": "code",
   "execution_count": 2,
   "id": "useful-yield",
   "metadata": {},
   "outputs": [
    {
     "data": {
      "text/plain": [
       "chisquare (generic function with 1 method)"
      ]
     },
     "execution_count": 2,
     "metadata": {},
     "output_type": "execute_result"
    }
   ],
   "source": [
    "function chisquare(O, E)\n",
    "    return sum(((O .- E).^2) ./ E)\n",
    "end"
   ]
  },
  {
   "cell_type": "markdown",
   "id": "brilliant-header",
   "metadata": {},
   "source": [
    "## Parameter delta helper for Jacobian calculator (Forward differences)\n",
    "The nicest way I've found to calculate the jacobian matrix is by generating a square matrix with each parameter perturbation in a row like this, then map each row of the perturbation matrix to get mxn matrix"
   ]
  },
  {
   "cell_type": "code",
   "execution_count": 92,
   "id": "acoustic-responsibility",
   "metadata": {},
   "outputs": [
    {
     "data": {
      "text/plain": [
       "3×3 Array{Float64,2}:\n",
       " 1.0001  1.0     1.0\n",
       " 2.0     2.0001  2.0\n",
       " 3.0     3.0     3.0001"
      ]
     },
     "execution_count": 92,
     "metadata": {},
     "output_type": "execute_result"
    }
   ],
   "source": [
    "function perturbparameters(parameters, perturbation)\n",
    "    parametermatrix = hcat([copy(parameters) for i=1:length(parameters)]...)\n",
    "    return parametermatrix + perturbation * I\n",
    "end\n",
    "perturbparameters([1, 2, 3], 0.0001)"
   ]
  },
  {
   "cell_type": "markdown",
   "id": "valuable-receptor",
   "metadata": {},
   "source": [
    "## Jacobian function\n",
    "The functions we're working with here take a vector of datapoints of **m** length and return a vector of the function applied to each of those datapoints.\n",
    "\n",
    "The function takes **n** parameters.\n",
    "\n",
    "The jacobian is an **m**x**n** matrix that gives the gradient of each parameter if all the others are fixed, for all **n** datapoints."
   ]
  },
  {
   "cell_type": "code",
   "execution_count": 110,
   "id": "african-teacher",
   "metadata": {},
   "outputs": [
    {
     "data": {
      "text/plain": [
       "jacobian (generic function with 4 methods)"
      ]
     },
     "execution_count": 110,
     "metadata": {},
     "output_type": "execute_result"
    }
   ],
   "source": [
    "function jacobian(f, x::Vector{Float64}, parameters, perturbation=1)::Array{Float64, 2}\n",
    "    return cat(\n",
    "        map(row -> (f(x, row...) - f(x, parameters...)) / perturbation,\n",
    "            eachcol(perturbparameters(parameters, perturbation)))...,\n",
    "        dims=2)\n",
    "end"
   ]
  },
  {
   "cell_type": "markdown",
   "id": "pressing-sample",
   "metadata": {},
   "source": [
    "## Meat of the algo, two different update functions, gradient descent and gauss-newton"
   ]
  },
  {
   "cell_type": "code",
   "execution_count": 155,
   "id": "corporate-electric",
   "metadata": {},
   "outputs": [
    {
     "data": {
      "text/plain": [
       "step (generic function with 1 method)"
      ]
     },
     "execution_count": 155,
     "metadata": {},
     "output_type": "execute_result"
    }
   ],
   "source": [
    "function gradient(y, ŷ, J, W=I)\n",
    "    return transpose(J)*W*(y-ŷ)\n",
    "end\n",
    "\n",
    "function gaussnewton(y, ŷ, J, W=I)\n",
    "    return inv(transpose(J)*W*J)*transpose(J)*W*(y-ŷ)\n",
    "end\n",
    "\n",
    "function lm(y, ŷ, J, λ, W=I)\n",
    "    grad = transpose(J)*W*(y-ŷ)\n",
    "    gaussnewton = transpose(J)*W*J + λ*Diagonal(transpose(J)*W*J)\n",
    "    return  inv(gaussnewton) * grad\n",
    "end\n",
    "\n",
    "# symbol ρᵢ in first paper, this is compared to a user-given measure ϵ\n",
    "function lmmetric(f, x, y, p, h, λ, J, W=I)\n",
    "    yold = f(x, p...)\n",
    "    ynew = f(x, (p .+ h)...)\n",
    "    return (chisquare(y, yold) - chisquare(y, ynew)) /\n",
    "        (transpose(h) * (λ * Diagonal(transpose(J)*W*J) * h + transpose(J)*W*(y-yold)))\n",
    "end\n",
    "\n",
    "# Todo: Use Broyden rank-1 update for updating jacobian in certain conditions\n",
    "# http://people.duke.edu/~hpgavin/ce281/lm.pdf\n",
    "# https://www.eecs189.org/static/notes/n12.pdf\n",
    "\n",
    "function step(f, x::Vector{Float64}, y::Vector{Float64}, parameters;\n",
    "        ϵ₁=1e-3, ϵ₂=1e-3, ϵ₄=1e-2, loss=(y, ŷ)->(sum((y-ŷ).^2)), maxiters=5000, lossvalues=[], ρvalues=[], λvalues=[])\n",
    "    p = copy(parameters)\n",
    "    \n",
    "    λfactordown = 9\n",
    "    λfactorup = 11\n",
    "    λ = 1e-2\n",
    "    \n",
    "    iterations = 1\n",
    "    # Initialise tso we can access it after while loop\n",
    "    lossvalue = 2\n",
    "    while true\n",
    "        ŷ = f(x, p...)        \n",
    "        \n",
    "        J = jacobian(f, x, parameters)\n",
    "        \n",
    "        # Convergence criteria\n",
    "        max(gradient(y, ŷ, J)...) < ϵ₁ || break\n",
    "        chisquare(y, ŷ)/(length(y) - length(parameters) - 1) < ϵ₂ || break\n",
    "        \n",
    "\n",
    "        h = lm(y, ŷ, J, λ)\n",
    "        ρ =lmmetric(f, x, y, parameters, h, λ, J)\n",
    "\n",
    "        if ρ > ϵ₄\n",
    "            p = p + h\n",
    "            λ = max(λ / λfactordown, 10^-7)\n",
    "        else\n",
    "            λ = min(λ * λfactorup, 10^7)\n",
    "        end\n",
    "        \n",
    "        lossvalue = loss(y, ŷ)\n",
    "        push!(lossvalues, lossvalue)\n",
    "        push!(ρvalues, ρ)\n",
    "        push!(λvalues, λ)\n",
    "        iterations = iterations + 1\n",
    "        iterations > maxiters && break\n",
    "    end\n",
    "    print(\"Iterations: $(iterations), Loss: $(lossvalue)\")\n",
    "    return p\n",
    "end"
   ]
  },
  {
   "cell_type": "markdown",
   "id": "several-endorsement",
   "metadata": {},
   "source": [
    "Define our function as one that takes a vector x and gives us back a vector y"
   ]
  },
  {
   "cell_type": "code",
   "execution_count": 156,
   "id": "moral-placement",
   "metadata": {},
   "outputs": [
    {
     "name": "stdout",
     "output_type": "stream",
     "text": [
      "Iterations: 1, Loss: 2"
     ]
    }
   ],
   "source": [
    "f(x, a, b, c, d, e) = a.+b.*exp.(-c.*x) .* sin.(d.*x.+e)\n",
    "x = collect(0:0.1:20)\n",
    "actualparameters = [0.4, 0.6, 2, 0.75, 0.8]\n",
    "y = f(x, actualparameters...)\n",
    "p = [1.0, 1.0, 1.0, 1.0, 1.0]\n",
    "\n",
    "lossvalues = Float64[]\n",
    "ρvalues = Float64[]\n",
    "λvalues = Float64[]\n",
    "\n",
    "newparameters = step(f, collect(x), y, p, lossvalues=lossvalues, ρvalues=ρvalues, λvalues=λvalues)\n",
    "ŷ = f(x, newparameters...);"
   ]
  },
  {
   "cell_type": "markdown",
   "id": "built-template",
   "metadata": {},
   "source": [
    "As we can see, the new parameters are close enough"
   ]
  },
  {
   "cell_type": "code",
   "execution_count": 154,
   "id": "ruled-network",
   "metadata": {},
   "outputs": [
    {
     "name": "stdout",
     "output_type": "stream",
     "text": [
      "[1.0, 1.0, 1.0, 1.0, 1.0]"
     ]
    }
   ],
   "source": [
    "print(newparameters)"
   ]
  },
  {
   "cell_type": "markdown",
   "id": "small-cloud",
   "metadata": {},
   "source": [
    "vs"
   ]
  },
  {
   "cell_type": "code",
   "execution_count": 142,
   "id": "understanding-contribution",
   "metadata": {},
   "outputs": [
    {
     "name": "stdout",
     "output_type": "stream",
     "text": [
      "[0.4, 0.6, 2.0, 0.75, 0.8]"
     ]
    }
   ],
   "source": [
    "print(actualparameters)"
   ]
  },
  {
   "cell_type": "markdown",
   "id": "classified-maldives",
   "metadata": {},
   "source": [
    "Here we see the loss dropped significantly (Probably from the low lambda = gradient descent method)\n",
    "\n",
    "But it pretty much flatlined as soon as it was low enough"
   ]
  },
  {
   "cell_type": "code",
   "execution_count": 137,
   "id": "stretch-moscow",
   "metadata": {},
   "outputs": [
    {
     "data": {
      "image/svg+xml": [
       "<?xml version=\"1.0\" encoding=\"utf-8\"?>\n",
       "<svg xmlns=\"http://www.w3.org/2000/svg\" xmlns:xlink=\"http://www.w3.org/1999/xlink\" width=\"600\" height=\"400\" viewBox=\"0 0 2400 1600\">\n",
       "<defs>\n",
       "  <clipPath id=\"clip010\">\n",
       "    <rect x=\"0\" y=\"0\" width=\"2400\" height=\"1600\"/>\n",
       "  </clipPath>\n",
       "</defs>\n",
       "<path clip-path=\"url(#clip010)\" d=\"\n",
       "M0 1600 L2400 1600 L2400 0 L0 0  Z\n",
       "  \" fill=\"#ffffff\" fill-rule=\"evenodd\" fill-opacity=\"1\"/>\n",
       "<defs>\n",
       "  <clipPath id=\"clip011\">\n",
       "    <rect x=\"480\" y=\"0\" width=\"1681\" height=\"1600\"/>\n",
       "  </clipPath>\n",
       "</defs>\n",
       "<path clip-path=\"url(#clip010)\" d=\"\n",
       "M139.191 1486.45 L2352.76 1486.45 L2352.76 123.472 L139.191 123.472  Z\n",
       "  \" fill=\"#ffffff\" fill-rule=\"evenodd\" fill-opacity=\"1\"/>\n",
       "<defs>\n",
       "  <clipPath id=\"clip012\">\n",
       "    <rect x=\"139\" y=\"123\" width=\"2215\" height=\"1364\"/>\n",
       "  </clipPath>\n",
       "</defs>\n",
       "<polyline clip-path=\"url(#clip012)\" style=\"stroke:#000000; stroke-width:2; stroke-opacity:0.1; fill:none\" points=\"\n",
       "  166.445,1486.45 166.445,123.472 \n",
       "  \"/>\n",
       "<polyline clip-path=\"url(#clip012)\" style=\"stroke:#000000; stroke-width:2; stroke-opacity:0.1; fill:none\" points=\"\n",
       "  520.388,1486.45 520.388,123.472 \n",
       "  \"/>\n",
       "<polyline clip-path=\"url(#clip012)\" style=\"stroke:#000000; stroke-width:2; stroke-opacity:0.1; fill:none\" points=\"\n",
       "  874.332,1486.45 874.332,123.472 \n",
       "  \"/>\n",
       "<polyline clip-path=\"url(#clip012)\" style=\"stroke:#000000; stroke-width:2; stroke-opacity:0.1; fill:none\" points=\"\n",
       "  1228.28,1486.45 1228.28,123.472 \n",
       "  \"/>\n",
       "<polyline clip-path=\"url(#clip012)\" style=\"stroke:#000000; stroke-width:2; stroke-opacity:0.1; fill:none\" points=\"\n",
       "  1582.22,1486.45 1582.22,123.472 \n",
       "  \"/>\n",
       "<polyline clip-path=\"url(#clip012)\" style=\"stroke:#000000; stroke-width:2; stroke-opacity:0.1; fill:none\" points=\"\n",
       "  1936.16,1486.45 1936.16,123.472 \n",
       "  \"/>\n",
       "<polyline clip-path=\"url(#clip012)\" style=\"stroke:#000000; stroke-width:2; stroke-opacity:0.1; fill:none\" points=\"\n",
       "  2290.11,1486.45 2290.11,123.472 \n",
       "  \"/>\n",
       "<polyline clip-path=\"url(#clip010)\" style=\"stroke:#000000; stroke-width:4; stroke-opacity:1; fill:none\" points=\"\n",
       "  139.191,1486.45 2352.76,1486.45 \n",
       "  \"/>\n",
       "<polyline clip-path=\"url(#clip010)\" style=\"stroke:#000000; stroke-width:4; stroke-opacity:1; fill:none\" points=\"\n",
       "  166.445,1486.45 166.445,1470.09 \n",
       "  \"/>\n",
       "<polyline clip-path=\"url(#clip010)\" style=\"stroke:#000000; stroke-width:4; stroke-opacity:1; fill:none\" points=\"\n",
       "  520.388,1486.45 520.388,1470.09 \n",
       "  \"/>\n",
       "<polyline clip-path=\"url(#clip010)\" style=\"stroke:#000000; stroke-width:4; stroke-opacity:1; fill:none\" points=\"\n",
       "  874.332,1486.45 874.332,1470.09 \n",
       "  \"/>\n",
       "<polyline clip-path=\"url(#clip010)\" style=\"stroke:#000000; stroke-width:4; stroke-opacity:1; fill:none\" points=\"\n",
       "  1228.28,1486.45 1228.28,1470.09 \n",
       "  \"/>\n",
       "<polyline clip-path=\"url(#clip010)\" style=\"stroke:#000000; stroke-width:4; stroke-opacity:1; fill:none\" points=\"\n",
       "  1582.22,1486.45 1582.22,1470.09 \n",
       "  \"/>\n",
       "<polyline clip-path=\"url(#clip010)\" style=\"stroke:#000000; stroke-width:4; stroke-opacity:1; fill:none\" points=\"\n",
       "  1936.16,1486.45 1936.16,1470.09 \n",
       "  \"/>\n",
       "<polyline clip-path=\"url(#clip010)\" style=\"stroke:#000000; stroke-width:4; stroke-opacity:1; fill:none\" points=\"\n",
       "  2290.11,1486.45 2290.11,1470.09 \n",
       "  \"/>\n",
       "<path clip-path=\"url(#clip010)\" d=\"M 0 0 M166.445 1515.64 Q162.834 1515.64 161.005 1519.2 Q159.199 1522.75 159.199 1529.87 Q159.199 1536.98 161.005 1540.55 Q162.834 1544.09 166.445 1544.09 Q170.079 1544.09 171.884 1540.55 Q173.713 1536.98 173.713 1529.87 Q173.713 1522.75 171.884 1519.2 Q170.079 1515.64 166.445 1515.64 M166.445 1511.93 Q172.255 1511.93 175.31 1516.54 Q178.389 1521.12 178.389 1529.87 Q178.389 1538.6 175.31 1543.21 Q172.255 1547.79 166.445 1547.79 Q160.634 1547.79 157.556 1543.21 Q154.5 1538.6 154.5 1529.87 Q154.5 1521.12 157.556 1516.54 Q160.634 1511.93 166.445 1511.93 Z\" fill=\"#000000\" fill-rule=\"evenodd\" fill-opacity=\"1\" /><path clip-path=\"url(#clip010)\" d=\"M 0 0 M497.264 1543.18 L504.902 1543.18 L504.902 1516.82 L496.592 1518.49 L496.592 1514.23 L504.856 1512.56 L509.532 1512.56 L509.532 1543.18 L517.171 1543.18 L517.171 1547.12 L497.264 1547.12 L497.264 1543.18 Z\" fill=\"#000000\" fill-rule=\"evenodd\" fill-opacity=\"1\" /><path clip-path=\"url(#clip010)\" d=\"M 0 0 M532.24 1515.64 Q528.629 1515.64 526.8 1519.2 Q524.995 1522.75 524.995 1529.87 Q524.995 1536.98 526.8 1540.55 Q528.629 1544.09 532.24 1544.09 Q535.875 1544.09 537.68 1540.55 Q539.509 1536.98 539.509 1529.87 Q539.509 1522.75 537.68 1519.2 Q535.875 1515.64 532.24 1515.64 M532.24 1511.93 Q538.05 1511.93 541.106 1516.54 Q544.185 1521.12 544.185 1529.87 Q544.185 1538.6 541.106 1543.21 Q538.05 1547.79 532.24 1547.79 Q526.43 1547.79 523.351 1543.21 Q520.296 1538.6 520.296 1529.87 Q520.296 1521.12 523.351 1516.54 Q526.43 1511.93 532.24 1511.93 Z\" fill=\"#000000\" fill-rule=\"evenodd\" fill-opacity=\"1\" /><path clip-path=\"url(#clip010)\" d=\"M 0 0 M855.478 1543.18 L871.798 1543.18 L871.798 1547.12 L849.853 1547.12 L849.853 1543.18 Q852.515 1540.43 857.099 1535.8 Q861.705 1531.15 862.886 1529.81 Q865.131 1527.28 866.011 1525.55 Q866.913 1523.79 866.913 1522.1 Q866.913 1519.34 864.969 1517.61 Q863.048 1515.87 859.946 1515.87 Q857.747 1515.87 855.293 1516.63 Q852.863 1517.4 850.085 1518.95 L850.085 1514.23 Q852.909 1513.09 855.363 1512.51 Q857.816 1511.93 859.853 1511.93 Q865.224 1511.93 868.418 1514.62 Q871.612 1517.31 871.612 1521.8 Q871.612 1523.93 870.802 1525.85 Q870.015 1527.74 867.909 1530.34 Q867.33 1531.01 864.228 1534.23 Q861.126 1537.42 855.478 1543.18 Z\" fill=\"#000000\" fill-rule=\"evenodd\" fill-opacity=\"1\" /><path clip-path=\"url(#clip010)\" d=\"M 0 0 M886.867 1515.64 Q883.256 1515.64 881.427 1519.2 Q879.622 1522.75 879.622 1529.87 Q879.622 1536.98 881.427 1540.55 Q883.256 1544.09 886.867 1544.09 Q890.501 1544.09 892.307 1540.55 Q894.135 1536.98 894.135 1529.87 Q894.135 1522.75 892.307 1519.2 Q890.501 1515.64 886.867 1515.64 M886.867 1511.93 Q892.677 1511.93 895.733 1516.54 Q898.811 1521.12 898.811 1529.87 Q898.811 1538.6 895.733 1543.21 Q892.677 1547.79 886.867 1547.79 Q881.057 1547.79 877.978 1543.21 Q874.923 1538.6 874.923 1529.87 Q874.923 1521.12 877.978 1516.54 Q881.057 1511.93 886.867 1511.93 Z\" fill=\"#000000\" fill-rule=\"evenodd\" fill-opacity=\"1\" /><path clip-path=\"url(#clip010)\" d=\"M 0 0 M1219.02 1528.49 Q1222.37 1529.2 1224.25 1531.47 Q1226.15 1533.74 1226.15 1537.07 Q1226.15 1542.19 1222.63 1544.99 Q1219.11 1547.79 1212.63 1547.79 Q1210.45 1547.79 1208.14 1547.35 Q1205.85 1546.93 1203.39 1546.08 L1203.39 1541.56 Q1205.34 1542.7 1207.65 1543.28 Q1209.97 1543.86 1212.49 1543.86 Q1216.89 1543.86 1219.18 1542.12 Q1221.49 1540.38 1221.49 1537.07 Q1221.49 1534.02 1219.34 1532.31 Q1217.21 1530.57 1213.39 1530.57 L1209.36 1530.57 L1209.36 1526.73 L1213.58 1526.73 Q1217.03 1526.73 1218.85 1525.36 Q1220.68 1523.97 1220.68 1521.38 Q1220.68 1518.72 1218.79 1517.31 Q1216.91 1515.87 1213.39 1515.87 Q1211.47 1515.87 1209.27 1516.29 Q1207.07 1516.7 1204.43 1517.58 L1204.43 1513.42 Q1207.1 1512.68 1209.41 1512.31 Q1211.75 1511.93 1213.81 1511.93 Q1219.13 1511.93 1222.23 1514.37 Q1225.34 1516.77 1225.34 1520.89 Q1225.34 1523.76 1223.69 1525.75 Q1222.05 1527.72 1219.02 1528.49 Z\" fill=\"#000000\" fill-rule=\"evenodd\" fill-opacity=\"1\" /><path clip-path=\"url(#clip010)\" d=\"M 0 0 M1241.22 1515.64 Q1237.6 1515.64 1235.78 1519.2 Q1233.97 1522.75 1233.97 1529.87 Q1233.97 1536.98 1235.78 1540.55 Q1237.6 1544.09 1241.22 1544.09 Q1244.85 1544.09 1246.66 1540.55 Q1248.48 1536.98 1248.48 1529.87 Q1248.48 1522.75 1246.66 1519.2 Q1244.85 1515.64 1241.22 1515.64 M1241.22 1511.93 Q1247.03 1511.93 1250.08 1516.54 Q1253.16 1521.12 1253.16 1529.87 Q1253.16 1538.6 1250.08 1543.21 Q1247.03 1547.79 1241.22 1547.79 Q1235.41 1547.79 1232.33 1543.21 Q1229.27 1538.6 1229.27 1529.87 Q1229.27 1521.12 1232.33 1516.54 Q1235.41 1511.93 1241.22 1511.93 Z\" fill=\"#000000\" fill-rule=\"evenodd\" fill-opacity=\"1\" /><path clip-path=\"url(#clip010)\" d=\"M 0 0 M1571.72 1516.63 L1559.92 1535.08 L1571.72 1535.08 L1571.72 1516.63 M1570.5 1512.56 L1576.38 1512.56 L1576.38 1535.08 L1581.31 1535.08 L1581.31 1538.97 L1576.38 1538.97 L1576.38 1547.12 L1571.72 1547.12 L1571.72 1538.97 L1556.12 1538.97 L1556.12 1534.46 L1570.5 1512.56 Z\" fill=\"#000000\" fill-rule=\"evenodd\" fill-opacity=\"1\" /><path clip-path=\"url(#clip010)\" d=\"M 0 0 M1596.38 1515.64 Q1592.76 1515.64 1590.94 1519.2 Q1589.13 1522.75 1589.13 1529.87 Q1589.13 1536.98 1590.94 1540.55 Q1592.76 1544.09 1596.38 1544.09 Q1600.01 1544.09 1601.81 1540.55 Q1603.64 1536.98 1603.64 1529.87 Q1603.64 1522.75 1601.81 1519.2 Q1600.01 1515.64 1596.38 1515.64 M1596.38 1511.93 Q1602.19 1511.93 1605.24 1516.54 Q1608.32 1521.12 1608.32 1529.87 Q1608.32 1538.6 1605.24 1543.21 Q1602.19 1547.79 1596.38 1547.79 Q1590.56 1547.79 1587.49 1543.21 Q1584.43 1538.6 1584.43 1529.87 Q1584.43 1521.12 1587.49 1516.54 Q1590.56 1511.93 1596.38 1511.93 Z\" fill=\"#000000\" fill-rule=\"evenodd\" fill-opacity=\"1\" /><path clip-path=\"url(#clip010)\" d=\"M 0 0 M1912.93 1512.56 L1931.29 1512.56 L1931.29 1516.5 L1917.22 1516.5 L1917.22 1524.97 Q1918.24 1524.62 1919.25 1524.46 Q1920.27 1524.27 1921.29 1524.27 Q1927.08 1524.27 1930.46 1527.44 Q1933.84 1530.62 1933.84 1536.03 Q1933.84 1541.61 1930.37 1544.71 Q1926.89 1547.79 1920.57 1547.79 Q1918.4 1547.79 1916.13 1547.42 Q1913.88 1547.05 1911.48 1546.31 L1911.48 1541.61 Q1913.56 1542.74 1915.78 1543.3 Q1918 1543.86 1920.48 1543.86 Q1924.49 1543.86 1926.82 1541.75 Q1929.16 1539.64 1929.16 1536.03 Q1929.16 1532.42 1926.82 1530.31 Q1924.49 1528.21 1920.48 1528.21 Q1918.61 1528.21 1916.73 1528.62 Q1914.88 1529.04 1912.93 1529.92 L1912.93 1512.56 Z\" fill=\"#000000\" fill-rule=\"evenodd\" fill-opacity=\"1\" /><path clip-path=\"url(#clip010)\" d=\"M 0 0 M1948.91 1515.64 Q1945.3 1515.64 1943.47 1519.2 Q1941.66 1522.75 1941.66 1529.87 Q1941.66 1536.98 1943.47 1540.55 Q1945.3 1544.09 1948.91 1544.09 Q1952.54 1544.09 1954.35 1540.55 Q1956.18 1536.98 1956.18 1529.87 Q1956.18 1522.75 1954.35 1519.2 Q1952.54 1515.64 1948.91 1515.64 M1948.91 1511.93 Q1954.72 1511.93 1957.77 1516.54 Q1960.85 1521.12 1960.85 1529.87 Q1960.85 1538.6 1957.77 1543.21 Q1954.72 1547.79 1948.91 1547.79 Q1943.1 1547.79 1940.02 1543.21 Q1936.96 1538.6 1936.96 1529.87 Q1936.96 1521.12 1940.02 1516.54 Q1943.1 1511.93 1948.91 1511.93 Z\" fill=\"#000000\" fill-rule=\"evenodd\" fill-opacity=\"1\" /><path clip-path=\"url(#clip010)\" d=\"M 0 0 M2277.01 1527.98 Q2273.86 1527.98 2272.01 1530.13 Q2270.18 1532.28 2270.18 1536.03 Q2270.18 1539.76 2272.01 1541.93 Q2273.86 1544.09 2277.01 1544.09 Q2280.15 1544.09 2281.98 1541.93 Q2283.83 1539.76 2283.83 1536.03 Q2283.83 1532.28 2281.98 1530.13 Q2280.15 1527.98 2277.01 1527.98 M2286.29 1513.32 L2286.29 1517.58 Q2284.53 1516.75 2282.72 1516.31 Q2280.94 1515.87 2279.18 1515.87 Q2274.55 1515.87 2272.1 1519 Q2269.67 1522.12 2269.32 1528.44 Q2270.69 1526.43 2272.75 1525.36 Q2274.81 1524.27 2277.28 1524.27 Q2282.49 1524.27 2285.5 1527.44 Q2288.53 1530.59 2288.53 1536.03 Q2288.53 1541.36 2285.39 1544.57 Q2282.24 1547.79 2277.01 1547.79 Q2271.01 1547.79 2267.84 1543.21 Q2264.67 1538.6 2264.67 1529.87 Q2264.67 1521.68 2268.56 1516.82 Q2272.45 1511.93 2279 1511.93 Q2280.76 1511.93 2282.54 1512.28 Q2284.34 1512.63 2286.29 1513.32 Z\" fill=\"#000000\" fill-rule=\"evenodd\" fill-opacity=\"1\" /><path clip-path=\"url(#clip010)\" d=\"M 0 0 M2303.6 1515.64 Q2299.99 1515.64 2298.16 1519.2 Q2296.36 1522.75 2296.36 1529.87 Q2296.36 1536.98 2298.16 1540.55 Q2299.99 1544.09 2303.6 1544.09 Q2307.24 1544.09 2309.04 1540.55 Q2310.87 1536.98 2310.87 1529.87 Q2310.87 1522.75 2309.04 1519.2 Q2307.24 1515.64 2303.6 1515.64 M2303.6 1511.93 Q2309.41 1511.93 2312.47 1516.54 Q2315.55 1521.12 2315.55 1529.87 Q2315.55 1538.6 2312.47 1543.21 Q2309.41 1547.79 2303.6 1547.79 Q2297.79 1547.79 2294.71 1543.21 Q2291.66 1538.6 2291.66 1529.87 Q2291.66 1521.12 2294.71 1516.54 Q2297.79 1511.93 2303.6 1511.93 Z\" fill=\"#000000\" fill-rule=\"evenodd\" fill-opacity=\"1\" /><polyline clip-path=\"url(#clip012)\" style=\"stroke:#000000; stroke-width:2; stroke-opacity:0.1; fill:none\" points=\"\n",
       "  139.191,1447.87 2352.76,1447.87 \n",
       "  \"/>\n",
       "<polyline clip-path=\"url(#clip012)\" style=\"stroke:#000000; stroke-width:2; stroke-opacity:0.1; fill:none\" points=\"\n",
       "  139.191,1124.62 2352.76,1124.62 \n",
       "  \"/>\n",
       "<polyline clip-path=\"url(#clip012)\" style=\"stroke:#000000; stroke-width:2; stroke-opacity:0.1; fill:none\" points=\"\n",
       "  139.191,801.361 2352.76,801.361 \n",
       "  \"/>\n",
       "<polyline clip-path=\"url(#clip012)\" style=\"stroke:#000000; stroke-width:2; stroke-opacity:0.1; fill:none\" points=\"\n",
       "  139.191,478.105 2352.76,478.105 \n",
       "  \"/>\n",
       "<polyline clip-path=\"url(#clip012)\" style=\"stroke:#000000; stroke-width:2; stroke-opacity:0.1; fill:none\" points=\"\n",
       "  139.191,154.849 2352.76,154.849 \n",
       "  \"/>\n",
       "<polyline clip-path=\"url(#clip010)\" style=\"stroke:#000000; stroke-width:4; stroke-opacity:1; fill:none\" points=\"\n",
       "  139.191,1486.45 139.191,123.472 \n",
       "  \"/>\n",
       "<polyline clip-path=\"url(#clip010)\" style=\"stroke:#000000; stroke-width:4; stroke-opacity:1; fill:none\" points=\"\n",
       "  139.191,1447.87 165.754,1447.87 \n",
       "  \"/>\n",
       "<polyline clip-path=\"url(#clip010)\" style=\"stroke:#000000; stroke-width:4; stroke-opacity:1; fill:none\" points=\"\n",
       "  139.191,1124.62 165.754,1124.62 \n",
       "  \"/>\n",
       "<polyline clip-path=\"url(#clip010)\" style=\"stroke:#000000; stroke-width:4; stroke-opacity:1; fill:none\" points=\"\n",
       "  139.191,801.361 165.754,801.361 \n",
       "  \"/>\n",
       "<polyline clip-path=\"url(#clip010)\" style=\"stroke:#000000; stroke-width:4; stroke-opacity:1; fill:none\" points=\"\n",
       "  139.191,478.105 165.754,478.105 \n",
       "  \"/>\n",
       "<polyline clip-path=\"url(#clip010)\" style=\"stroke:#000000; stroke-width:4; stroke-opacity:1; fill:none\" points=\"\n",
       "  139.191,154.849 165.754,154.849 \n",
       "  \"/>\n",
       "<path clip-path=\"url(#clip010)\" d=\"M 0 0 M91.2465 1433.67 Q87.6354 1433.67 85.8068 1437.24 Q84.0012 1440.78 84.0012 1447.91 Q84.0012 1455.01 85.8068 1458.58 Q87.6354 1462.12 91.2465 1462.12 Q94.8808 1462.12 96.6863 1458.58 Q98.515 1455.01 98.515 1447.91 Q98.515 1440.78 96.6863 1437.24 Q94.8808 1433.67 91.2465 1433.67 M91.2465 1429.97 Q97.0567 1429.97 100.112 1434.57 Q103.191 1439.16 103.191 1447.91 Q103.191 1456.63 100.112 1461.24 Q97.0567 1465.82 91.2465 1465.82 Q85.4364 1465.82 82.3577 1461.24 Q79.3022 1456.63 79.3022 1447.91 Q79.3022 1439.16 82.3577 1434.57 Q85.4364 1429.97 91.2465 1429.97 Z\" fill=\"#000000\" fill-rule=\"evenodd\" fill-opacity=\"1\" /><path clip-path=\"url(#clip010)\" d=\"M 0 0 M59.8578 1137.96 L76.1772 1137.96 L76.1772 1141.9 L54.2328 1141.9 L54.2328 1137.96 Q56.8949 1135.21 61.4782 1130.58 Q66.0846 1125.93 67.2652 1124.58 Q69.5105 1122.06 70.3902 1120.32 Q71.2929 1118.56 71.2929 1116.87 Q71.2929 1114.12 69.3485 1112.38 Q67.4272 1110.65 64.3254 1110.65 Q62.1263 1110.65 59.6726 1111.41 Q57.2421 1112.18 54.4643 1113.73 L54.4643 1109 Q57.2884 1107.87 59.7421 1107.29 Q62.1958 1106.71 64.2328 1106.71 Q69.6031 1106.71 72.7976 1109.4 Q75.992 1112.08 75.992 1116.57 Q75.992 1118.7 75.1818 1120.62 Q74.3948 1122.52 72.2883 1125.11 Q71.7096 1125.79 68.6078 1129 Q65.5059 1132.2 59.8578 1137.96 Z\" fill=\"#000000\" fill-rule=\"evenodd\" fill-opacity=\"1\" /><path clip-path=\"url(#clip010)\" d=\"M 0 0 M91.2465 1110.42 Q87.6354 1110.42 85.8068 1113.98 Q84.0012 1117.52 84.0012 1124.65 Q84.0012 1131.76 85.8068 1135.32 Q87.6354 1138.86 91.2465 1138.86 Q94.8808 1138.86 96.6863 1135.32 Q98.515 1131.76 98.515 1124.65 Q98.515 1117.52 96.6863 1113.98 Q94.8808 1110.42 91.2465 1110.42 M91.2465 1106.71 Q97.0567 1106.71 100.112 1111.32 Q103.191 1115.9 103.191 1124.65 Q103.191 1133.38 100.112 1137.99 Q97.0567 1142.57 91.2465 1142.57 Q85.4364 1142.57 82.3577 1137.99 Q79.3022 1133.38 79.3022 1124.65 Q79.3022 1115.9 82.3577 1111.32 Q85.4364 1106.71 91.2465 1106.71 Z\" fill=\"#000000\" fill-rule=\"evenodd\" fill-opacity=\"1\" /><path clip-path=\"url(#clip010)\" d=\"M 0 0 M66.5939 788.155 L54.7884 806.604 L66.5939 806.604 L66.5939 788.155 M65.367 784.081 L71.2466 784.081 L71.2466 806.604 L76.1772 806.604 L76.1772 810.493 L71.2466 810.493 L71.2466 818.641 L66.5939 818.641 L66.5939 810.493 L50.9921 810.493 L50.9921 805.979 L65.367 784.081 Z\" fill=\"#000000\" fill-rule=\"evenodd\" fill-opacity=\"1\" /><path clip-path=\"url(#clip010)\" d=\"M 0 0 M91.2465 787.16 Q87.6354 787.16 85.8068 790.725 Q84.0012 794.266 84.0012 801.396 Q84.0012 808.502 85.8068 812.067 Q87.6354 815.609 91.2465 815.609 Q94.8808 815.609 96.6863 812.067 Q98.515 808.502 98.515 801.396 Q98.515 794.266 96.6863 790.725 Q94.8808 787.16 91.2465 787.16 M91.2465 783.456 Q97.0567 783.456 100.112 788.063 Q103.191 792.646 103.191 801.396 Q103.191 810.123 100.112 814.729 Q97.0567 819.312 91.2465 819.312 Q85.4364 819.312 82.3577 814.729 Q79.3022 810.123 79.3022 801.396 Q79.3022 792.646 82.3577 788.063 Q85.4364 783.456 91.2465 783.456 Z\" fill=\"#000000\" fill-rule=\"evenodd\" fill-opacity=\"1\" /><path clip-path=\"url(#clip010)\" d=\"M 0 0 M64.6495 476.242 Q61.5013 476.242 59.6495 478.394 Q57.8208 480.547 57.8208 484.297 Q57.8208 488.024 59.6495 490.2 Q61.5013 492.353 64.6495 492.353 Q67.7976 492.353 69.6263 490.2 Q71.4781 488.024 71.4781 484.297 Q71.4781 480.547 69.6263 478.394 Q67.7976 476.242 64.6495 476.242 M73.9318 461.589 L73.9318 465.848 Q72.1726 465.015 70.367 464.575 Q68.5846 464.135 66.8254 464.135 Q62.1958 464.135 59.7421 467.26 Q57.3115 470.385 56.9643 476.705 Q58.33 474.691 60.3902 473.626 Q62.4504 472.538 64.9272 472.538 Q70.1355 472.538 73.1448 475.709 Q76.1772 478.857 76.1772 484.297 Q76.1772 489.621 73.029 492.839 Q69.8809 496.056 64.6495 496.056 Q58.6541 496.056 55.4828 491.473 Q52.3116 486.867 52.3116 478.14 Q52.3116 469.945 56.2004 465.084 Q60.0893 460.2 66.6402 460.2 Q68.3994 460.2 70.1818 460.547 Q71.9874 460.894 73.9318 461.589 Z\" fill=\"#000000\" fill-rule=\"evenodd\" fill-opacity=\"1\" /><path clip-path=\"url(#clip010)\" d=\"M 0 0 M91.2465 463.904 Q87.6354 463.904 85.8068 467.469 Q84.0012 471.01 84.0012 478.14 Q84.0012 485.246 85.8068 488.811 Q87.6354 492.353 91.2465 492.353 Q94.8808 492.353 96.6863 488.811 Q98.515 485.246 98.515 478.14 Q98.515 471.01 96.6863 467.469 Q94.8808 463.904 91.2465 463.904 M91.2465 460.2 Q97.0567 460.2 100.112 464.806 Q103.191 469.39 103.191 478.14 Q103.191 486.867 100.112 491.473 Q97.0567 496.056 91.2465 496.056 Q85.4364 496.056 82.3577 491.473 Q79.3022 486.867 79.3022 478.14 Q79.3022 469.39 82.3577 464.806 Q85.4364 460.2 91.2465 460.2 Z\" fill=\"#000000\" fill-rule=\"evenodd\" fill-opacity=\"1\" /><path clip-path=\"url(#clip010)\" d=\"M 0 0 M64.3254 155.717 Q60.9921 155.717 59.0708 157.499 Q57.1726 159.282 57.1726 162.407 Q57.1726 165.532 59.0708 167.314 Q60.9921 169.097 64.3254 169.097 Q67.6587 169.097 69.58 167.314 Q71.5013 165.509 71.5013 162.407 Q71.5013 159.282 69.58 157.499 Q67.6819 155.717 64.3254 155.717 M59.6495 153.726 Q56.6402 152.986 54.9504 150.925 Q53.2838 148.865 53.2838 145.902 Q53.2838 141.759 56.2236 139.351 Q59.1865 136.944 64.3254 136.944 Q69.4874 136.944 72.4272 139.351 Q75.367 141.759 75.367 145.902 Q75.367 148.865 73.6772 150.925 Q72.0105 152.986 69.0244 153.726 Q72.404 154.513 74.279 156.805 Q76.1772 159.097 76.1772 162.407 Q76.1772 167.43 73.0985 170.115 Q70.0429 172.8 64.3254 172.8 Q58.6078 172.8 55.5291 170.115 Q52.4736 167.43 52.4736 162.407 Q52.4736 159.097 54.3717 156.805 Q56.2699 154.513 59.6495 153.726 M57.9365 146.342 Q57.9365 149.027 59.6032 150.532 Q61.293 152.036 64.3254 152.036 Q67.3346 152.036 69.0244 150.532 Q70.7374 149.027 70.7374 146.342 Q70.7374 143.657 69.0244 142.152 Q67.3346 140.648 64.3254 140.648 Q61.293 140.648 59.6032 142.152 Q57.9365 143.657 57.9365 146.342 Z\" fill=\"#000000\" fill-rule=\"evenodd\" fill-opacity=\"1\" /><path clip-path=\"url(#clip010)\" d=\"M 0 0 M91.2465 140.648 Q87.6354 140.648 85.8068 144.212 Q84.0012 147.754 84.0012 154.884 Q84.0012 161.99 85.8068 165.555 Q87.6354 169.097 91.2465 169.097 Q94.8808 169.097 96.6863 165.555 Q98.515 161.99 98.515 154.884 Q98.515 147.754 96.6863 144.212 Q94.8808 140.648 91.2465 140.648 M91.2465 136.944 Q97.0567 136.944 100.112 141.55 Q103.191 146.134 103.191 154.884 Q103.191 163.61 100.112 168.217 Q97.0567 172.8 91.2465 172.8 Q85.4364 172.8 82.3577 168.217 Q79.3022 163.61 79.3022 154.884 Q79.3022 146.134 82.3577 141.55 Q85.4364 136.944 91.2465 136.944 Z\" fill=\"#000000\" fill-rule=\"evenodd\" fill-opacity=\"1\" /><path clip-path=\"url(#clip010)\" d=\"M 0 0 M849.775 12.096 L857.958 12.096 L857.958 65.6895 L887.408 65.6895 L887.408 72.576 L849.775 72.576 L849.775 12.096 Z\" fill=\"#000000\" fill-rule=\"evenodd\" fill-opacity=\"1\" /><path clip-path=\"url(#clip010)\" d=\"M 0 0 M911.348 32.4315 Q905.353 32.4315 901.869 37.1306 Q898.386 41.7891 898.386 49.9314 Q898.386 58.0738 901.829 62.7728 Q905.313 67.4314 911.348 67.4314 Q917.303 67.4314 920.787 62.7323 Q924.271 58.0333 924.271 49.9314 Q924.271 41.8701 920.787 37.1711 Q917.303 32.4315 911.348 32.4315 M911.348 26.1121 Q921.071 26.1121 926.62 32.4315 Q932.17 38.7509 932.17 49.9314 Q932.17 61.0714 926.62 67.4314 Q921.071 73.7508 911.348 73.7508 Q901.586 73.7508 896.036 67.4314 Q890.527 61.0714 890.527 49.9314 Q890.527 38.7509 896.036 32.4315 Q901.586 26.1121 911.348 26.1121 Z\" fill=\"#000000\" fill-rule=\"evenodd\" fill-opacity=\"1\" /><path clip-path=\"url(#clip010)\" d=\"M 0 0 M968.912 28.5427 L968.912 35.5912 Q965.752 33.9709 962.349 33.1607 Q958.947 32.3505 955.301 32.3505 Q949.751 32.3505 946.956 34.0519 Q944.201 35.7533 944.201 39.156 Q944.201 41.7486 946.186 43.2475 Q948.171 44.7058 954.167 46.0426 L956.719 46.6097 Q964.658 48.3111 967.98 51.4303 Q971.342 54.509 971.342 60.0587 Q971.342 66.3781 966.319 70.0644 Q961.337 73.7508 952.587 73.7508 Q948.941 73.7508 944.971 73.0216 Q941.042 72.3329 936.667 70.9151 L936.667 63.2184 Q940.799 65.3654 944.809 66.4591 Q948.819 67.5124 952.749 67.5124 Q958.015 67.5124 960.851 65.73 Q963.686 63.9071 963.686 60.6258 Q963.686 57.5877 961.62 55.9673 Q959.595 54.3469 952.668 52.8481 L950.075 52.2405 Q943.148 50.7821 940.069 47.7845 Q936.991 44.7463 936.991 39.4801 Q936.991 33.0797 941.528 29.5959 Q946.065 26.1121 954.41 26.1121 Q958.542 26.1121 962.187 26.7198 Q965.833 27.3274 968.912 28.5427 Z\" fill=\"#000000\" fill-rule=\"evenodd\" fill-opacity=\"1\" /><path clip-path=\"url(#clip010)\" d=\"M 0 0 M1008.08 28.5427 L1008.08 35.5912 Q1004.92 33.9709 1001.52 33.1607 Q998.119 32.3505 994.473 32.3505 Q988.923 32.3505 986.128 34.0519 Q983.374 35.7533 983.374 39.156 Q983.374 41.7486 985.358 43.2475 Q987.343 44.7058 993.339 46.0426 L995.891 46.6097 Q1003.83 48.3111 1007.15 51.4303 Q1010.51 54.509 1010.51 60.0587 Q1010.51 66.3781 1005.49 70.0644 Q1000.51 73.7508 991.759 73.7508 Q988.113 73.7508 984.143 73.0216 Q980.214 72.3329 975.839 70.9151 L975.839 63.2184 Q979.971 65.3654 983.981 66.4591 Q987.992 67.5124 991.921 67.5124 Q997.187 67.5124 1000.02 65.73 Q1002.86 63.9071 1002.86 60.6258 Q1002.86 57.5877 1000.79 55.9673 Q998.767 54.3469 991.84 52.8481 L989.247 52.2405 Q982.32 50.7821 979.242 47.7845 Q976.163 44.7463 976.163 39.4801 Q976.163 33.0797 980.7 29.5959 Q985.237 26.1121 993.582 26.1121 Q997.714 26.1121 1001.36 26.7198 Q1005.01 27.3274 1008.08 28.5427 Z\" fill=\"#000000\" fill-rule=\"evenodd\" fill-opacity=\"1\" /><path clip-path=\"url(#clip010)\" d=\"M 0 0 M1067.67 9.54393 L1067.67 15.7418 L1060.54 15.7418 Q1056.53 15.7418 1054.95 17.3622 Q1053.41 18.9825 1053.41 23.1955 L1053.41 27.2059 L1065.69 27.2059 L1065.69 32.9987 L1053.41 32.9987 L1053.41 72.576 L1045.92 72.576 L1045.92 32.9987 L1038.79 32.9987 L1038.79 27.2059 L1045.92 27.2059 L1045.92 24.0462 Q1045.92 16.471 1049.44 13.0277 Q1052.97 9.54393 1060.62 9.54393 L1067.67 9.54393 Z\" fill=\"#000000\" fill-rule=\"evenodd\" fill-opacity=\"1\" /><path clip-path=\"url(#clip010)\" d=\"M 0 0 M1093.07 32.4315 Q1087.08 32.4315 1083.59 37.1306 Q1080.11 41.7891 1080.11 49.9314 Q1080.11 58.0738 1083.55 62.7728 Q1087.04 67.4314 1093.07 67.4314 Q1099.03 67.4314 1102.51 62.7323 Q1105.99 58.0333 1105.99 49.9314 Q1105.99 41.8701 1102.51 37.1711 Q1099.03 32.4315 1093.07 32.4315 M1093.07 26.1121 Q1102.79 26.1121 1108.34 32.4315 Q1113.89 38.7509 1113.89 49.9314 Q1113.89 61.0714 1108.34 67.4314 Q1102.79 73.7508 1093.07 73.7508 Q1083.31 73.7508 1077.76 67.4314 Q1072.25 61.0714 1072.25 49.9314 Q1072.25 38.7509 1077.76 32.4315 Q1083.31 26.1121 1093.07 26.1121 Z\" fill=\"#000000\" fill-rule=\"evenodd\" fill-opacity=\"1\" /><path clip-path=\"url(#clip010)\" d=\"M 0 0 M1148 34.1734 Q1146.75 33.4443 1145.25 33.1202 Q1143.79 32.7556 1142.01 32.7556 Q1135.69 32.7556 1132.28 36.8875 Q1128.92 40.9789 1128.92 48.6757 L1128.92 72.576 L1121.43 72.576 L1121.43 27.2059 L1128.92 27.2059 L1128.92 34.2544 Q1131.27 30.1225 1135.04 28.1376 Q1138.81 26.1121 1144.19 26.1121 Q1144.96 26.1121 1145.9 26.2337 Q1146.83 26.3147 1147.96 26.5172 L1148 34.1734 Z\" fill=\"#000000\" fill-rule=\"evenodd\" fill-opacity=\"1\" /><path clip-path=\"url(#clip010)\" d=\"M 0 0 M1201.76 39.075 Q1196.25 39.075 1193.01 42.8424 Q1189.81 46.6097 1189.81 53.1722 Q1189.81 59.6941 1193.01 63.502 Q1196.25 67.2693 1201.76 67.2693 Q1207.27 67.2693 1210.47 63.502 Q1213.71 59.6941 1213.71 53.1722 Q1213.71 46.6097 1210.47 42.8424 Q1207.27 39.075 1201.76 39.075 M1218 13.4328 L1218 20.8865 Q1214.92 19.4281 1211.76 18.6585 Q1208.64 17.8888 1205.57 17.8888 Q1197.46 17.8888 1193.17 23.3575 Q1188.92 28.8262 1188.31 39.8852 Q1190.7 36.3609 1194.3 34.4975 Q1197.91 32.5936 1202.24 32.5936 Q1211.36 32.5936 1216.62 38.1433 Q1221.93 43.6525 1221.93 53.1722 Q1221.93 62.4892 1216.42 68.12 Q1210.91 73.7508 1201.76 73.7508 Q1191.27 73.7508 1185.72 65.73 Q1180.17 57.6687 1180.17 42.3968 Q1180.17 28.0566 1186.97 19.5497 Q1193.78 11.0023 1205.24 11.0023 Q1208.32 11.0023 1211.44 11.6099 Q1214.6 12.2175 1218 13.4328 Z\" fill=\"#000000\" fill-rule=\"evenodd\" fill-opacity=\"1\" /><path clip-path=\"url(#clip010)\" d=\"M 0 0 M1248.3 17.4837 Q1241.98 17.4837 1238.78 23.7221 Q1235.62 29.92 1235.62 42.3968 Q1235.62 54.833 1238.78 61.0714 Q1241.98 67.2693 1248.3 67.2693 Q1254.66 67.2693 1257.82 61.0714 Q1261.02 54.833 1261.02 42.3968 Q1261.02 29.92 1257.82 23.7221 Q1254.66 17.4837 1248.3 17.4837 M1248.3 11.0023 Q1258.47 11.0023 1263.82 19.0636 Q1269.21 27.0843 1269.21 42.3968 Q1269.21 57.6687 1263.82 65.73 Q1258.47 73.7508 1248.3 73.7508 Q1238.13 73.7508 1232.75 65.73 Q1227.4 57.6687 1227.4 42.3968 Q1227.4 27.0843 1232.75 19.0636 Q1238.13 11.0023 1248.3 11.0023 Z\" fill=\"#000000\" fill-rule=\"evenodd\" fill-opacity=\"1\" /><path clip-path=\"url(#clip010)\" d=\"M 0 0 M1303.39 27.2059 L1310.85 27.2059 L1310.85 72.576 L1303.39 72.576 L1303.39 27.2059 M1303.39 9.54393 L1310.85 9.54393 L1310.85 18.9825 L1303.39 18.9825 L1303.39 9.54393 Z\" fill=\"#000000\" fill-rule=\"evenodd\" fill-opacity=\"1\" /><path clip-path=\"url(#clip010)\" d=\"M 0 0 M1326.04 14.324 L1326.04 27.2059 L1341.39 27.2059 L1341.39 32.9987 L1326.04 32.9987 L1326.04 57.6282 Q1326.04 63.1779 1327.54 64.7578 Q1329.08 66.3376 1333.74 66.3376 L1341.39 66.3376 L1341.39 72.576 L1333.74 72.576 Q1325.11 72.576 1321.83 69.3758 Q1318.55 66.1351 1318.55 57.6282 L1318.55 32.9987 L1313.08 32.9987 L1313.08 27.2059 L1318.55 27.2059 L1318.55 14.324 L1326.04 14.324 Z\" fill=\"#000000\" fill-rule=\"evenodd\" fill-opacity=\"1\" /><path clip-path=\"url(#clip010)\" d=\"M 0 0 M1388.02 48.0275 L1388.02 51.6733 L1353.75 51.6733 Q1354.23 59.3701 1358.37 63.421 Q1362.54 67.4314 1369.95 67.4314 Q1374.25 67.4314 1378.26 66.3781 Q1382.31 65.3249 1386.28 63.2184 L1386.28 70.267 Q1382.27 71.9684 1378.05 72.8596 Q1373.84 73.7508 1369.51 73.7508 Q1358.65 73.7508 1352.29 67.4314 Q1345.97 61.1119 1345.97 50.3365 Q1345.97 39.1965 1351.97 32.6746 Q1358 26.1121 1368.21 26.1121 Q1377.36 26.1121 1382.67 32.0264 Q1388.02 37.9003 1388.02 48.0275 M1380.56 45.84 Q1380.48 39.7232 1377.12 36.0774 Q1373.8 32.4315 1368.29 32.4315 Q1362.05 32.4315 1358.28 35.9558 Q1354.56 39.4801 1353.99 45.8805 L1380.56 45.84 Z\" fill=\"#000000\" fill-rule=\"evenodd\" fill-opacity=\"1\" /><path clip-path=\"url(#clip010)\" d=\"M 0 0 M1422.13 34.1734 Q1420.87 33.4443 1419.37 33.1202 Q1417.91 32.7556 1416.13 32.7556 Q1409.81 32.7556 1406.41 36.8875 Q1403.05 40.9789 1403.05 48.6757 L1403.05 72.576 L1395.55 72.576 L1395.55 27.2059 L1403.05 27.2059 L1403.05 34.2544 Q1405.4 30.1225 1409.16 28.1376 Q1412.93 26.1121 1418.32 26.1121 Q1419.09 26.1121 1420.02 26.2337 Q1420.95 26.3147 1422.09 26.5172 L1422.13 34.1734 Z\" fill=\"#000000\" fill-rule=\"evenodd\" fill-opacity=\"1\" /><path clip-path=\"url(#clip010)\" d=\"M 0 0 M1450.56 49.7694 Q1441.53 49.7694 1438.05 51.8354 Q1434.56 53.9013 1434.56 58.8839 Q1434.56 62.8538 1437.16 65.2034 Q1439.79 67.5124 1444.29 67.5124 Q1450.48 67.5124 1454.21 63.1374 Q1457.98 58.7219 1457.98 51.4303 L1457.98 49.7694 L1450.56 49.7694 M1465.43 46.6907 L1465.43 72.576 L1457.98 72.576 L1457.98 65.6895 Q1455.43 69.8214 1451.62 71.8063 Q1447.81 73.7508 1442.3 73.7508 Q1435.33 73.7508 1431.2 69.8619 Q1427.11 65.9325 1427.11 59.3701 Q1427.11 51.7138 1432.21 47.825 Q1437.36 43.9361 1447.53 43.9361 L1457.98 43.9361 L1457.98 43.2069 Q1457.98 38.0623 1454.57 35.2672 Q1451.21 32.4315 1445.1 32.4315 Q1441.21 32.4315 1437.52 33.3632 Q1433.83 34.295 1430.43 36.1584 L1430.43 29.2718 Q1434.52 27.692 1438.37 26.9223 Q1442.22 26.1121 1445.87 26.1121 Q1455.71 26.1121 1460.57 31.2163 Q1465.43 36.3204 1465.43 46.6907 Z\" fill=\"#000000\" fill-rule=\"evenodd\" fill-opacity=\"1\" /><path clip-path=\"url(#clip010)\" d=\"M 0 0 M1480.62 14.324 L1480.62 27.2059 L1495.97 27.2059 L1495.97 32.9987 L1480.62 32.9987 L1480.62 57.6282 Q1480.62 63.1779 1482.12 64.7578 Q1483.66 66.3376 1488.32 66.3376 L1495.97 66.3376 L1495.97 72.576 L1488.32 72.576 Q1479.69 72.576 1476.41 69.3758 Q1473.13 66.1351 1473.13 57.6282 L1473.13 32.9987 L1467.66 32.9987 L1467.66 27.2059 L1473.13 27.2059 L1473.13 14.324 L1480.62 14.324 Z\" fill=\"#000000\" fill-rule=\"evenodd\" fill-opacity=\"1\" /><path clip-path=\"url(#clip010)\" d=\"M 0 0 M1503.79 27.2059 L1511.25 27.2059 L1511.25 72.576 L1503.79 72.576 L1503.79 27.2059 M1503.79 9.54393 L1511.25 9.54393 L1511.25 18.9825 L1503.79 18.9825 L1503.79 9.54393 Z\" fill=\"#000000\" fill-rule=\"evenodd\" fill-opacity=\"1\" /><path clip-path=\"url(#clip010)\" d=\"M 0 0 M1536.65 32.4315 Q1530.65 32.4315 1527.17 37.1306 Q1523.68 41.7891 1523.68 49.9314 Q1523.68 58.0738 1527.13 62.7728 Q1530.61 67.4314 1536.65 67.4314 Q1542.6 67.4314 1546.08 62.7323 Q1549.57 58.0333 1549.57 49.9314 Q1549.57 41.8701 1546.08 37.1711 Q1542.6 32.4315 1536.65 32.4315 M1536.65 26.1121 Q1546.37 26.1121 1551.92 32.4315 Q1557.47 38.7509 1557.47 49.9314 Q1557.47 61.0714 1551.92 67.4314 Q1546.37 73.7508 1536.65 73.7508 Q1526.88 73.7508 1521.33 67.4314 Q1515.82 61.0714 1515.82 49.9314 Q1515.82 38.7509 1521.33 32.4315 Q1526.88 26.1121 1536.65 26.1121 Z\" fill=\"#000000\" fill-rule=\"evenodd\" fill-opacity=\"1\" /><path clip-path=\"url(#clip010)\" d=\"M 0 0 M1603 45.1919 L1603 72.576 L1595.55 72.576 L1595.55 45.4349 Q1595.55 38.994 1593.03 35.7938 Q1590.52 32.5936 1585.5 32.5936 Q1579.46 32.5936 1575.98 36.4419 Q1572.5 40.2903 1572.5 46.9338 L1572.5 72.576 L1565 72.576 L1565 27.2059 L1572.5 27.2059 L1572.5 34.2544 Q1575.17 30.163 1578.78 28.1376 Q1582.42 26.1121 1587.16 26.1121 Q1594.98 26.1121 1598.99 30.9732 Q1603 35.7938 1603 45.1919 Z\" fill=\"#000000\" fill-rule=\"evenodd\" fill-opacity=\"1\" /><path clip-path=\"url(#clip010)\" d=\"M 0 0 M1639.74 28.5427 L1639.74 35.5912 Q1636.58 33.9709 1633.18 33.1607 Q1629.78 32.3505 1626.13 32.3505 Q1620.58 32.3505 1617.79 34.0519 Q1615.03 35.7533 1615.03 39.156 Q1615.03 41.7486 1617.02 43.2475 Q1619 44.7058 1625 46.0426 L1627.55 46.6097 Q1635.49 48.3111 1638.81 51.4303 Q1642.17 54.509 1642.17 60.0587 Q1642.17 66.3781 1637.15 70.0644 Q1632.17 73.7508 1623.42 73.7508 Q1619.77 73.7508 1615.8 73.0216 Q1611.87 72.3329 1607.5 70.9151 L1607.5 63.2184 Q1611.63 65.3654 1615.64 66.4591 Q1619.65 67.5124 1623.58 67.5124 Q1628.84 67.5124 1631.68 65.73 Q1634.52 63.9071 1634.52 60.6258 Q1634.52 57.5877 1632.45 55.9673 Q1630.42 54.3469 1623.5 52.8481 L1620.9 52.2405 Q1613.98 50.7821 1610.9 47.7845 Q1607.82 44.7463 1607.82 39.4801 Q1607.82 33.0797 1612.36 29.5959 Q1616.89 26.1121 1625.24 26.1121 Q1629.37 26.1121 1633.02 26.7198 Q1636.66 27.3274 1639.74 28.5427 Z\" fill=\"#000000\" fill-rule=\"evenodd\" fill-opacity=\"1\" /><polyline clip-path=\"url(#clip012)\" style=\"stroke:#009af9; stroke-width:4; stroke-opacity:1; fill:none\" points=\"\n",
       "  201.839,162.047 237.233,1447.32 272.628,1447.84 308.022,1447.87 343.417,1447.87 378.811,1447.87 414.205,1447.87 449.6,1447.87 484.994,1447.87 520.388,1447.87 \n",
       "  555.783,1447.87 591.177,1447.87 626.572,1447.87 661.966,1447.87 697.36,1447.87 732.755,1447.87 768.149,1447.87 803.544,1447.87 838.938,1447.87 874.332,1447.86 \n",
       "  909.727,1447.86 945.121,1447.86 980.516,1447.86 1015.91,1447.86 1051.3,1447.86 1086.7,1447.86 1122.09,1447.87 1157.49,1447.87 1192.88,1447.87 1228.28,1447.87 \n",
       "  1263.67,1447.87 1299.06,1447.87 1334.46,1447.87 1369.85,1447.87 1405.25,1447.87 1440.64,1447.87 1476.04,1447.87 1511.43,1447.87 1546.83,1447.87 1582.22,1447.87 \n",
       "  1617.61,1447.87 1653.01,1447.87 1688.4,1447.87 1723.8,1447.87 1759.19,1447.87 1794.59,1447.87 1829.98,1447.87 1865.38,1447.87 1900.77,1447.87 1936.16,1447.87 \n",
       "  1971.56,1447.87 2006.95,1447.87 2042.35,1447.87 2077.74,1447.87 2113.14,1447.87 2148.53,1447.87 2183.92,1447.87 2219.32,1447.87 2254.71,1447.87 2290.11,1447.87 \n",
       "  \n",
       "  \"/>\n",
       "<path clip-path=\"url(#clip010)\" d=\"\n",
       "M1982 289.865 L2278.97 289.865 L2278.97 168.905 L1982 168.905  Z\n",
       "  \" fill=\"#ffffff\" fill-rule=\"evenodd\" fill-opacity=\"1\"/>\n",
       "<polyline clip-path=\"url(#clip010)\" style=\"stroke:#000000; stroke-width:4; stroke-opacity:1; fill:none\" points=\"\n",
       "  1982,289.865 2278.97,289.865 2278.97,168.905 1982,168.905 1982,289.865 \n",
       "  \"/>\n",
       "<polyline clip-path=\"url(#clip010)\" style=\"stroke:#009af9; stroke-width:4; stroke-opacity:1; fill:none\" points=\"\n",
       "  2006.6,229.385 2154.17,229.385 \n",
       "  \"/>\n",
       "<path clip-path=\"url(#clip010)\" d=\"M 0 0 M2192.6 249.072 Q2190.8 253.702 2189.09 255.114 Q2187.37 256.526 2184.5 256.526 L2181.1 256.526 L2181.1 252.961 L2183.6 252.961 Q2185.36 252.961 2186.33 252.128 Q2187.3 251.294 2188.48 248.192 L2189.25 246.248 L2178.76 220.739 L2183.28 220.739 L2191.38 241.017 L2199.48 220.739 L2203.99 220.739 L2192.6 249.072 Z\" fill=\"#000000\" fill-rule=\"evenodd\" fill-opacity=\"1\" /><path clip-path=\"url(#clip010)\" d=\"M 0 0 M2209.87 242.729 L2217.51 242.729 L2217.51 216.364 L2209.2 218.031 L2209.2 213.771 L2217.47 212.105 L2222.14 212.105 L2222.14 242.729 L2229.78 242.729 L2229.78 246.665 L2209.87 246.665 L2209.87 242.729 Z\" fill=\"#000000\" fill-rule=\"evenodd\" fill-opacity=\"1\" /></svg>\n"
      ]
     },
     "execution_count": 137,
     "metadata": {},
     "output_type": "execute_result"
    }
   ],
   "source": [
    "x_iter=1:length(lossvalues)\n",
    "plot(x_iter, lossvalues, title=\"Loss for $(length(lossvalues)) iterations\")"
   ]
  },
  {
   "cell_type": "code",
   "execution_count": 138,
   "id": "sporting-prague",
   "metadata": {},
   "outputs": [
    {
     "data": {
      "image/svg+xml": [
       "<?xml version=\"1.0\" encoding=\"utf-8\"?>\n",
       "<svg xmlns=\"http://www.w3.org/2000/svg\" xmlns:xlink=\"http://www.w3.org/1999/xlink\" width=\"600\" height=\"400\" viewBox=\"0 0 2400 1600\">\n",
       "<defs>\n",
       "  <clipPath id=\"clip050\">\n",
       "    <rect x=\"0\" y=\"0\" width=\"2400\" height=\"1600\"/>\n",
       "  </clipPath>\n",
       "</defs>\n",
       "<path clip-path=\"url(#clip050)\" d=\"\n",
       "M0 1600 L2400 1600 L2400 0 L0 0  Z\n",
       "  \" fill=\"#ffffff\" fill-rule=\"evenodd\" fill-opacity=\"1\"/>\n",
       "<defs>\n",
       "  <clipPath id=\"clip051\">\n",
       "    <rect x=\"480\" y=\"0\" width=\"1681\" height=\"1600\"/>\n",
       "  </clipPath>\n",
       "</defs>\n",
       "<path clip-path=\"url(#clip050)\" d=\"\n",
       "M134.584 1486.45 L2352.76 1486.45 L2352.76 123.472 L134.584 123.472  Z\n",
       "  \" fill=\"#ffffff\" fill-rule=\"evenodd\" fill-opacity=\"1\"/>\n",
       "<defs>\n",
       "  <clipPath id=\"clip052\">\n",
       "    <rect x=\"134\" y=\"123\" width=\"2219\" height=\"1364\"/>\n",
       "  </clipPath>\n",
       "</defs>\n",
       "<polyline clip-path=\"url(#clip052)\" style=\"stroke:#000000; stroke-width:2; stroke-opacity:0.1; fill:none\" points=\"\n",
       "  161.895,1486.45 161.895,123.472 \n",
       "  \"/>\n",
       "<polyline clip-path=\"url(#clip052)\" style=\"stroke:#000000; stroke-width:2; stroke-opacity:0.1; fill:none\" points=\"\n",
       "  516.575,1486.45 516.575,123.472 \n",
       "  \"/>\n",
       "<polyline clip-path=\"url(#clip052)\" style=\"stroke:#000000; stroke-width:2; stroke-opacity:0.1; fill:none\" points=\"\n",
       "  871.256,1486.45 871.256,123.472 \n",
       "  \"/>\n",
       "<polyline clip-path=\"url(#clip052)\" style=\"stroke:#000000; stroke-width:2; stroke-opacity:0.1; fill:none\" points=\"\n",
       "  1225.94,1486.45 1225.94,123.472 \n",
       "  \"/>\n",
       "<polyline clip-path=\"url(#clip052)\" style=\"stroke:#000000; stroke-width:2; stroke-opacity:0.1; fill:none\" points=\"\n",
       "  1580.62,1486.45 1580.62,123.472 \n",
       "  \"/>\n",
       "<polyline clip-path=\"url(#clip052)\" style=\"stroke:#000000; stroke-width:2; stroke-opacity:0.1; fill:none\" points=\"\n",
       "  1935.3,1486.45 1935.3,123.472 \n",
       "  \"/>\n",
       "<polyline clip-path=\"url(#clip052)\" style=\"stroke:#000000; stroke-width:2; stroke-opacity:0.1; fill:none\" points=\"\n",
       "  2289.98,1486.45 2289.98,123.472 \n",
       "  \"/>\n",
       "<polyline clip-path=\"url(#clip050)\" style=\"stroke:#000000; stroke-width:4; stroke-opacity:1; fill:none\" points=\"\n",
       "  134.584,1486.45 2352.76,1486.45 \n",
       "  \"/>\n",
       "<polyline clip-path=\"url(#clip050)\" style=\"stroke:#000000; stroke-width:4; stroke-opacity:1; fill:none\" points=\"\n",
       "  161.895,1486.45 161.895,1470.09 \n",
       "  \"/>\n",
       "<polyline clip-path=\"url(#clip050)\" style=\"stroke:#000000; stroke-width:4; stroke-opacity:1; fill:none\" points=\"\n",
       "  516.575,1486.45 516.575,1470.09 \n",
       "  \"/>\n",
       "<polyline clip-path=\"url(#clip050)\" style=\"stroke:#000000; stroke-width:4; stroke-opacity:1; fill:none\" points=\"\n",
       "  871.256,1486.45 871.256,1470.09 \n",
       "  \"/>\n",
       "<polyline clip-path=\"url(#clip050)\" style=\"stroke:#000000; stroke-width:4; stroke-opacity:1; fill:none\" points=\"\n",
       "  1225.94,1486.45 1225.94,1470.09 \n",
       "  \"/>\n",
       "<polyline clip-path=\"url(#clip050)\" style=\"stroke:#000000; stroke-width:4; stroke-opacity:1; fill:none\" points=\"\n",
       "  1580.62,1486.45 1580.62,1470.09 \n",
       "  \"/>\n",
       "<polyline clip-path=\"url(#clip050)\" style=\"stroke:#000000; stroke-width:4; stroke-opacity:1; fill:none\" points=\"\n",
       "  1935.3,1486.45 1935.3,1470.09 \n",
       "  \"/>\n",
       "<polyline clip-path=\"url(#clip050)\" style=\"stroke:#000000; stroke-width:4; stroke-opacity:1; fill:none\" points=\"\n",
       "  2289.98,1486.45 2289.98,1470.09 \n",
       "  \"/>\n",
       "<path clip-path=\"url(#clip050)\" d=\"M 0 0 M161.895 1515.64 Q158.284 1515.64 156.455 1519.2 Q154.65 1522.75 154.65 1529.87 Q154.65 1536.98 156.455 1540.55 Q158.284 1544.09 161.895 1544.09 Q165.529 1544.09 167.335 1540.55 Q169.163 1536.98 169.163 1529.87 Q169.163 1522.75 167.335 1519.2 Q165.529 1515.64 161.895 1515.64 M161.895 1511.93 Q167.705 1511.93 170.761 1516.54 Q173.839 1521.12 173.839 1529.87 Q173.839 1538.6 170.761 1543.21 Q167.705 1547.79 161.895 1547.79 Q156.085 1547.79 153.006 1543.21 Q149.95 1538.6 149.95 1529.87 Q149.95 1521.12 153.006 1516.54 Q156.085 1511.93 161.895 1511.93 Z\" fill=\"#000000\" fill-rule=\"evenodd\" fill-opacity=\"1\" /><path clip-path=\"url(#clip050)\" d=\"M 0 0 M493.45 1543.18 L501.089 1543.18 L501.089 1516.82 L492.779 1518.49 L492.779 1514.23 L501.043 1512.56 L505.719 1512.56 L505.719 1543.18 L513.358 1543.18 L513.358 1547.12 L493.45 1547.12 L493.45 1543.18 Z\" fill=\"#000000\" fill-rule=\"evenodd\" fill-opacity=\"1\" /><path clip-path=\"url(#clip050)\" d=\"M 0 0 M528.427 1515.64 Q524.816 1515.64 522.987 1519.2 Q521.182 1522.75 521.182 1529.87 Q521.182 1536.98 522.987 1540.55 Q524.816 1544.09 528.427 1544.09 Q532.061 1544.09 533.867 1540.55 Q535.696 1536.98 535.696 1529.87 Q535.696 1522.75 533.867 1519.2 Q532.061 1515.64 528.427 1515.64 M528.427 1511.93 Q534.237 1511.93 537.293 1516.54 Q540.371 1521.12 540.371 1529.87 Q540.371 1538.6 537.293 1543.21 Q534.237 1547.79 528.427 1547.79 Q522.617 1547.79 519.538 1543.21 Q516.483 1538.6 516.483 1529.87 Q516.483 1521.12 519.538 1516.54 Q522.617 1511.93 528.427 1511.93 Z\" fill=\"#000000\" fill-rule=\"evenodd\" fill-opacity=\"1\" /><path clip-path=\"url(#clip050)\" d=\"M 0 0 M852.402 1543.18 L868.721 1543.18 L868.721 1547.12 L846.777 1547.12 L846.777 1543.18 Q849.439 1540.43 854.022 1535.8 Q858.628 1531.15 859.809 1529.81 Q862.054 1527.28 862.934 1525.55 Q863.837 1523.79 863.837 1522.1 Q863.837 1519.34 861.892 1517.61 Q859.971 1515.87 856.869 1515.87 Q854.67 1515.87 852.216 1516.63 Q849.786 1517.4 847.008 1518.95 L847.008 1514.23 Q849.832 1513.09 852.286 1512.51 Q854.74 1511.93 856.777 1511.93 Q862.147 1511.93 865.341 1514.62 Q868.536 1517.31 868.536 1521.8 Q868.536 1523.93 867.726 1525.85 Q866.939 1527.74 864.832 1530.34 Q864.253 1531.01 861.152 1534.23 Q858.05 1537.42 852.402 1543.18 Z\" fill=\"#000000\" fill-rule=\"evenodd\" fill-opacity=\"1\" /><path clip-path=\"url(#clip050)\" d=\"M 0 0 M883.79 1515.64 Q880.179 1515.64 878.351 1519.2 Q876.545 1522.75 876.545 1529.87 Q876.545 1536.98 878.351 1540.55 Q880.179 1544.09 883.79 1544.09 Q887.425 1544.09 889.23 1540.55 Q891.059 1536.98 891.059 1529.87 Q891.059 1522.75 889.23 1519.2 Q887.425 1515.64 883.79 1515.64 M883.79 1511.93 Q889.601 1511.93 892.656 1516.54 Q895.735 1521.12 895.735 1529.87 Q895.735 1538.6 892.656 1543.21 Q889.601 1547.79 883.79 1547.79 Q877.98 1547.79 874.902 1543.21 Q871.846 1538.6 871.846 1529.87 Q871.846 1521.12 874.902 1516.54 Q877.98 1511.93 883.79 1511.93 Z\" fill=\"#000000\" fill-rule=\"evenodd\" fill-opacity=\"1\" /><path clip-path=\"url(#clip050)\" d=\"M 0 0 M1216.68 1528.49 Q1220.03 1529.2 1221.91 1531.47 Q1223.81 1533.74 1223.81 1537.07 Q1223.81 1542.19 1220.29 1544.99 Q1216.77 1547.79 1210.29 1547.79 Q1208.11 1547.79 1205.8 1547.35 Q1203.51 1546.93 1201.05 1546.08 L1201.05 1541.56 Q1203 1542.7 1205.31 1543.28 Q1207.63 1543.86 1210.15 1543.86 Q1214.55 1543.86 1216.84 1542.12 Q1219.15 1540.38 1219.15 1537.07 Q1219.15 1534.02 1217 1532.31 Q1214.87 1530.57 1211.05 1530.57 L1207.02 1530.57 L1207.02 1526.73 L1211.24 1526.73 Q1214.69 1526.73 1216.51 1525.36 Q1218.34 1523.97 1218.34 1521.38 Q1218.34 1518.72 1216.45 1517.31 Q1214.57 1515.87 1211.05 1515.87 Q1209.13 1515.87 1206.93 1516.29 Q1204.73 1516.7 1202.09 1517.58 L1202.09 1513.42 Q1204.76 1512.68 1207.07 1512.31 Q1209.41 1511.93 1211.47 1511.93 Q1216.79 1511.93 1219.89 1514.37 Q1223 1516.77 1223 1520.89 Q1223 1523.76 1221.35 1525.75 Q1219.71 1527.72 1216.68 1528.49 Z\" fill=\"#000000\" fill-rule=\"evenodd\" fill-opacity=\"1\" /><path clip-path=\"url(#clip050)\" d=\"M 0 0 M1238.88 1515.64 Q1235.26 1515.64 1233.44 1519.2 Q1231.63 1522.75 1231.63 1529.87 Q1231.63 1536.98 1233.44 1540.55 Q1235.26 1544.09 1238.88 1544.09 Q1242.51 1544.09 1244.32 1540.55 Q1246.14 1536.98 1246.14 1529.87 Q1246.14 1522.75 1244.32 1519.2 Q1242.51 1515.64 1238.88 1515.64 M1238.88 1511.93 Q1244.69 1511.93 1247.74 1516.54 Q1250.82 1521.12 1250.82 1529.87 Q1250.82 1538.6 1247.74 1543.21 Q1244.69 1547.79 1238.88 1547.79 Q1233.07 1547.79 1229.99 1543.21 Q1226.93 1538.6 1226.93 1529.87 Q1226.93 1521.12 1229.99 1516.54 Q1233.07 1511.93 1238.88 1511.93 Z\" fill=\"#000000\" fill-rule=\"evenodd\" fill-opacity=\"1\" /><path clip-path=\"url(#clip050)\" d=\"M 0 0 M1570.12 1516.63 L1558.31 1535.08 L1570.12 1535.08 L1570.12 1516.63 M1568.89 1512.56 L1574.77 1512.56 L1574.77 1535.08 L1579.7 1535.08 L1579.7 1538.97 L1574.77 1538.97 L1574.77 1547.12 L1570.12 1547.12 L1570.12 1538.97 L1554.52 1538.97 L1554.52 1534.46 L1568.89 1512.56 Z\" fill=\"#000000\" fill-rule=\"evenodd\" fill-opacity=\"1\" /><path clip-path=\"url(#clip050)\" d=\"M 0 0 M1594.77 1515.64 Q1591.16 1515.64 1589.33 1519.2 Q1587.53 1522.75 1587.53 1529.87 Q1587.53 1536.98 1589.33 1540.55 Q1591.16 1544.09 1594.77 1544.09 Q1598.41 1544.09 1600.21 1540.55 Q1602.04 1536.98 1602.04 1529.87 Q1602.04 1522.75 1600.21 1519.2 Q1598.41 1515.64 1594.77 1515.64 M1594.77 1511.93 Q1600.58 1511.93 1603.64 1516.54 Q1606.72 1521.12 1606.72 1529.87 Q1606.72 1538.6 1603.64 1543.21 Q1600.58 1547.79 1594.77 1547.79 Q1588.96 1547.79 1585.88 1543.21 Q1582.83 1538.6 1582.83 1529.87 Q1582.83 1521.12 1585.88 1516.54 Q1588.96 1511.93 1594.77 1511.93 Z\" fill=\"#000000\" fill-rule=\"evenodd\" fill-opacity=\"1\" /><path clip-path=\"url(#clip050)\" d=\"M 0 0 M1912.07 1512.56 L1930.42 1512.56 L1930.42 1516.5 L1916.35 1516.5 L1916.35 1524.97 Q1917.37 1524.62 1918.39 1524.46 Q1919.41 1524.27 1920.42 1524.27 Q1926.21 1524.27 1929.59 1527.44 Q1932.97 1530.62 1932.97 1536.03 Q1932.97 1541.61 1929.5 1544.71 Q1926.03 1547.79 1919.71 1547.79 Q1917.53 1547.79 1915.26 1547.42 Q1913.02 1547.05 1910.61 1546.31 L1910.61 1541.61 Q1912.69 1542.74 1914.92 1543.3 Q1917.14 1543.86 1919.61 1543.86 Q1923.62 1543.86 1925.96 1541.75 Q1928.29 1539.64 1928.29 1536.03 Q1928.29 1532.42 1925.96 1530.31 Q1923.62 1528.21 1919.61 1528.21 Q1917.74 1528.21 1915.86 1528.62 Q1914.01 1529.04 1912.07 1529.92 L1912.07 1512.56 Z\" fill=\"#000000\" fill-rule=\"evenodd\" fill-opacity=\"1\" /><path clip-path=\"url(#clip050)\" d=\"M 0 0 M1948.04 1515.64 Q1944.43 1515.64 1942.6 1519.2 Q1940.79 1522.75 1940.79 1529.87 Q1940.79 1536.98 1942.6 1540.55 Q1944.43 1544.09 1948.04 1544.09 Q1951.67 1544.09 1953.48 1540.55 Q1955.31 1536.98 1955.31 1529.87 Q1955.31 1522.75 1953.48 1519.2 Q1951.67 1515.64 1948.04 1515.64 M1948.04 1511.93 Q1953.85 1511.93 1956.91 1516.54 Q1959.98 1521.12 1959.98 1529.87 Q1959.98 1538.6 1956.91 1543.21 Q1953.85 1547.79 1948.04 1547.79 Q1942.23 1547.79 1939.15 1543.21 Q1936.1 1538.6 1936.1 1529.87 Q1936.1 1521.12 1939.15 1516.54 Q1942.23 1511.93 1948.04 1511.93 Z\" fill=\"#000000\" fill-rule=\"evenodd\" fill-opacity=\"1\" /><path clip-path=\"url(#clip050)\" d=\"M 0 0 M2276.88 1527.98 Q2273.73 1527.98 2271.88 1530.13 Q2270.05 1532.28 2270.05 1536.03 Q2270.05 1539.76 2271.88 1541.93 Q2273.73 1544.09 2276.88 1544.09 Q2280.02 1544.09 2281.85 1541.93 Q2283.7 1539.76 2283.7 1536.03 Q2283.7 1532.28 2281.85 1530.13 Q2280.02 1527.98 2276.88 1527.98 M2286.16 1513.32 L2286.16 1517.58 Q2284.4 1516.75 2282.59 1516.31 Q2280.81 1515.87 2279.05 1515.87 Q2274.42 1515.87 2271.97 1519 Q2269.54 1522.12 2269.19 1528.44 Q2270.56 1526.43 2272.62 1525.36 Q2274.68 1524.27 2277.15 1524.27 Q2282.36 1524.27 2285.37 1527.44 Q2288.4 1530.59 2288.4 1536.03 Q2288.4 1541.36 2285.26 1544.57 Q2282.11 1547.79 2276.88 1547.79 Q2270.88 1547.79 2267.71 1543.21 Q2264.54 1538.6 2264.54 1529.87 Q2264.54 1521.68 2268.43 1516.82 Q2272.32 1511.93 2278.87 1511.93 Q2280.63 1511.93 2282.41 1512.28 Q2284.21 1512.63 2286.16 1513.32 Z\" fill=\"#000000\" fill-rule=\"evenodd\" fill-opacity=\"1\" /><path clip-path=\"url(#clip050)\" d=\"M 0 0 M2303.47 1515.64 Q2299.86 1515.64 2298.03 1519.2 Q2296.23 1522.75 2296.23 1529.87 Q2296.23 1536.98 2298.03 1540.55 Q2299.86 1544.09 2303.47 1544.09 Q2307.11 1544.09 2308.91 1540.55 Q2310.74 1536.98 2310.74 1529.87 Q2310.74 1522.75 2308.91 1519.2 Q2307.11 1515.64 2303.47 1515.64 M2303.47 1511.93 Q2309.28 1511.93 2312.34 1516.54 Q2315.42 1521.12 2315.42 1529.87 Q2315.42 1538.6 2312.34 1543.21 Q2309.28 1547.79 2303.47 1547.79 Q2297.66 1547.79 2294.58 1543.21 Q2291.53 1538.6 2291.53 1529.87 Q2291.53 1521.12 2294.58 1516.54 Q2297.66 1511.93 2303.47 1511.93 Z\" fill=\"#000000\" fill-rule=\"evenodd\" fill-opacity=\"1\" /><polyline clip-path=\"url(#clip052)\" style=\"stroke:#000000; stroke-width:2; stroke-opacity:0.1; fill:none\" points=\"\n",
       "  134.584,1290.34 2352.76,1290.34 \n",
       "  \"/>\n",
       "<polyline clip-path=\"url(#clip052)\" style=\"stroke:#000000; stroke-width:2; stroke-opacity:0.1; fill:none\" points=\"\n",
       "  134.584,960.201 2352.76,960.201 \n",
       "  \"/>\n",
       "<polyline clip-path=\"url(#clip052)\" style=\"stroke:#000000; stroke-width:2; stroke-opacity:0.1; fill:none\" points=\"\n",
       "  134.584,630.058 2352.76,630.058 \n",
       "  \"/>\n",
       "<polyline clip-path=\"url(#clip052)\" style=\"stroke:#000000; stroke-width:2; stroke-opacity:0.1; fill:none\" points=\"\n",
       "  134.584,299.914 2352.76,299.914 \n",
       "  \"/>\n",
       "<polyline clip-path=\"url(#clip050)\" style=\"stroke:#000000; stroke-width:4; stroke-opacity:1; fill:none\" points=\"\n",
       "  134.584,1486.45 134.584,123.472 \n",
       "  \"/>\n",
       "<polyline clip-path=\"url(#clip050)\" style=\"stroke:#000000; stroke-width:4; stroke-opacity:1; fill:none\" points=\"\n",
       "  134.584,1290.34 161.203,1290.34 \n",
       "  \"/>\n",
       "<polyline clip-path=\"url(#clip050)\" style=\"stroke:#000000; stroke-width:4; stroke-opacity:1; fill:none\" points=\"\n",
       "  134.584,960.201 161.203,960.201 \n",
       "  \"/>\n",
       "<polyline clip-path=\"url(#clip050)\" style=\"stroke:#000000; stroke-width:4; stroke-opacity:1; fill:none\" points=\"\n",
       "  134.584,630.058 161.203,630.058 \n",
       "  \"/>\n",
       "<polyline clip-path=\"url(#clip050)\" style=\"stroke:#000000; stroke-width:4; stroke-opacity:1; fill:none\" points=\"\n",
       "  134.584,299.914 161.203,299.914 \n",
       "  \"/>\n",
       "<path clip-path=\"url(#clip050)\" d=\"M 0 0 M86.6401 1276.14 Q83.029 1276.14 81.2003 1279.71 Q79.3948 1283.25 79.3948 1290.38 Q79.3948 1297.49 81.2003 1301.05 Q83.029 1304.59 86.6401 1304.59 Q90.2743 1304.59 92.0799 1301.05 Q93.9086 1297.49 93.9086 1290.38 Q93.9086 1283.25 92.0799 1279.71 Q90.2743 1276.14 86.6401 1276.14 M86.6401 1272.44 Q92.4502 1272.44 95.5058 1277.05 Q98.5845 1281.63 98.5845 1290.38 Q98.5845 1299.11 95.5058 1303.71 Q92.4502 1308.3 86.6401 1308.3 Q80.8299 1308.3 77.7512 1303.71 Q74.6957 1299.11 74.6957 1290.38 Q74.6957 1281.63 77.7512 1277.05 Q80.8299 1272.44 86.6401 1272.44 Z\" fill=\"#000000\" fill-rule=\"evenodd\" fill-opacity=\"1\" /><path clip-path=\"url(#clip050)\" d=\"M 0 0 M77.6818 942.921 L96.0382 942.921 L96.0382 946.856 L81.9642 946.856 L81.9642 955.328 Q82.9827 954.981 84.0012 954.819 Q85.0197 954.634 86.0382 954.634 Q91.8252 954.634 95.2049 957.805 Q98.5845 960.977 98.5845 966.393 Q98.5845 971.972 95.1123 975.074 Q91.6401 978.152 85.3206 978.152 Q83.1447 978.152 80.8762 977.782 Q78.6309 977.412 76.2235 976.671 L76.2235 971.972 Q78.3068 973.106 80.529 973.662 Q82.7512 974.217 85.2281 974.217 Q89.2327 974.217 91.5706 972.111 Q93.9086 970.004 93.9086 966.393 Q93.9086 962.782 91.5706 960.676 Q89.2327 958.569 85.2281 958.569 Q83.3531 958.569 81.4781 958.986 Q79.6262 959.402 77.6818 960.282 L77.6818 942.921 Z\" fill=\"#000000\" fill-rule=\"evenodd\" fill-opacity=\"1\" /><path clip-path=\"url(#clip050)\" d=\"M 0 0 M51.6634 643.403 L59.3023 643.403 L59.3023 617.037 L50.9921 618.704 L50.9921 614.444 L59.256 612.778 L63.9319 612.778 L63.9319 643.403 L71.5707 643.403 L71.5707 647.338 L51.6634 647.338 L51.6634 643.403 Z\" fill=\"#000000\" fill-rule=\"evenodd\" fill-opacity=\"1\" /><path clip-path=\"url(#clip050)\" d=\"M 0 0 M86.6401 615.856 Q83.029 615.856 81.2003 619.421 Q79.3948 622.963 79.3948 630.092 Q79.3948 637.199 81.2003 640.764 Q83.029 644.305 86.6401 644.305 Q90.2743 644.305 92.0799 640.764 Q93.9086 637.199 93.9086 630.092 Q93.9086 622.963 92.0799 619.421 Q90.2743 615.856 86.6401 615.856 M86.6401 612.153 Q92.4502 612.153 95.5058 616.759 Q98.5845 621.343 98.5845 630.092 Q98.5845 638.819 95.5058 643.426 Q92.4502 648.009 86.6401 648.009 Q80.8299 648.009 77.7512 643.426 Q74.6957 638.819 74.6957 630.092 Q74.6957 621.343 77.7512 616.759 Q80.8299 612.153 86.6401 612.153 Z\" fill=\"#000000\" fill-rule=\"evenodd\" fill-opacity=\"1\" /><path clip-path=\"url(#clip050)\" d=\"M 0 0 M52.6588 313.259 L60.2976 313.259 L60.2976 286.894 L51.9875 288.56 L51.9875 284.301 L60.2513 282.634 L64.9272 282.634 L64.9272 313.259 L72.5661 313.259 L72.5661 317.194 L52.6588 317.194 L52.6588 313.259 Z\" fill=\"#000000\" fill-rule=\"evenodd\" fill-opacity=\"1\" /><path clip-path=\"url(#clip050)\" d=\"M 0 0 M77.6818 282.634 L96.0382 282.634 L96.0382 286.57 L81.9642 286.57 L81.9642 295.042 Q82.9827 294.695 84.0012 294.533 Q85.0197 294.347 86.0382 294.347 Q91.8252 294.347 95.2049 297.519 Q98.5845 300.69 98.5845 306.107 Q98.5845 311.685 95.1123 314.787 Q91.6401 317.866 85.3206 317.866 Q83.1447 317.866 80.8762 317.495 Q78.6309 317.125 76.2235 316.384 L76.2235 311.685 Q78.3068 312.819 80.529 313.375 Q82.7512 313.931 85.2281 313.931 Q89.2327 313.931 91.5706 311.824 Q93.9086 309.718 93.9086 306.107 Q93.9086 302.495 91.5706 300.389 Q89.2327 298.283 85.2281 298.283 Q83.3531 298.283 81.4781 298.699 Q79.6262 299.116 77.6818 299.995 L77.6818 282.634 Z\" fill=\"#000000\" fill-rule=\"evenodd\" fill-opacity=\"1\" /><path clip-path=\"url(#clip050)\" d=\"M 0 0 M911.192 35.3077 Q913.663 31.1758 919.78 27.5299 Q922.17 26.1121 929.543 26.1121 Q937.807 26.1121 942.951 32.6746 Q948.136 39.2371 948.136 49.9314 Q948.136 60.6258 942.951 67.1883 Q937.807 73.7508 929.543 73.7508 Q924.56 73.7508 920.955 71.8063 Q917.39 69.8214 915.041 65.7705 L915.041 89.8329 L907.546 89.8329 L907.546 50.3365 Q907.546 40.9789 911.192 35.3077 M940.399 49.9314 Q940.399 41.7081 936.996 37.0496 Q933.634 32.3505 927.72 32.3505 Q921.806 32.3505 918.403 37.0496 Q915.041 41.7081 915.041 49.9314 Q915.041 58.1548 918.403 62.8538 Q921.806 67.5124 927.72 67.5124 Q933.634 67.5124 936.996 62.8538 Q940.399 58.1548 940.399 49.9314 Z\" fill=\"#000000\" fill-rule=\"evenodd\" fill-opacity=\"1\" /><path clip-path=\"url(#clip050)\" d=\"M 0 0 M1005.29 9.54393 L1005.29 15.7418 L998.165 15.7418 Q994.155 15.7418 992.575 17.3622 Q991.036 18.9825 991.036 23.1955 L991.036 27.2059 L1003.31 27.2059 L1003.31 32.9987 L991.036 32.9987 L991.036 72.576 L983.541 72.576 L983.541 32.9987 L976.412 32.9987 L976.412 27.2059 L983.541 27.2059 L983.541 24.0462 Q983.541 16.471 987.066 13.0277 Q990.59 9.54393 998.246 9.54393 L1005.29 9.54393 Z\" fill=\"#000000\" fill-rule=\"evenodd\" fill-opacity=\"1\" /><path clip-path=\"url(#clip050)\" d=\"M 0 0 M1030.69 32.4315 Q1024.7 32.4315 1021.21 37.1306 Q1017.73 41.7891 1017.73 49.9314 Q1017.73 58.0738 1021.17 62.7728 Q1024.66 67.4314 1030.69 67.4314 Q1036.65 67.4314 1040.13 62.7323 Q1043.62 58.0333 1043.62 49.9314 Q1043.62 41.8701 1040.13 37.1711 Q1036.65 32.4315 1030.69 32.4315 M1030.69 26.1121 Q1040.42 26.1121 1045.97 32.4315 Q1051.52 38.7509 1051.52 49.9314 Q1051.52 61.0714 1045.97 67.4314 Q1040.42 73.7508 1030.69 73.7508 Q1020.93 73.7508 1015.38 67.4314 Q1009.87 61.0714 1009.87 49.9314 Q1009.87 38.7509 1015.38 32.4315 Q1020.93 26.1121 1030.69 26.1121 Z\" fill=\"#000000\" fill-rule=\"evenodd\" fill-opacity=\"1\" /><path clip-path=\"url(#clip050)\" d=\"M 0 0 M1085.62 34.1734 Q1084.37 33.4443 1082.87 33.1202 Q1081.41 32.7556 1079.63 32.7556 Q1073.31 32.7556 1069.91 36.8875 Q1066.54 40.9789 1066.54 48.6757 L1066.54 72.576 L1059.05 72.576 L1059.05 27.2059 L1066.54 27.2059 L1066.54 34.2544 Q1068.89 30.1225 1072.66 28.1376 Q1076.43 26.1121 1081.82 26.1121 Q1082.59 26.1121 1083.52 26.2337 Q1084.45 26.3147 1085.58 26.5172 L1085.62 34.1734 Z\" fill=\"#000000\" fill-rule=\"evenodd\" fill-opacity=\"1\" /><path clip-path=\"url(#clip050)\" d=\"M 0 0 M1139.38 39.075 Q1133.87 39.075 1130.63 42.8424 Q1127.43 46.6097 1127.43 53.1722 Q1127.43 59.6941 1130.63 63.502 Q1133.87 67.2693 1139.38 67.2693 Q1144.89 67.2693 1148.09 63.502 Q1151.33 59.6941 1151.33 53.1722 Q1151.33 46.6097 1148.09 42.8424 Q1144.89 39.075 1139.38 39.075 M1155.62 13.4328 L1155.62 20.8865 Q1152.55 19.4281 1149.39 18.6585 Q1146.27 17.8888 1143.19 17.8888 Q1135.09 17.8888 1130.79 23.3575 Q1126.54 28.8262 1125.93 39.8852 Q1128.32 36.3609 1131.93 34.4975 Q1135.53 32.5936 1139.87 32.5936 Q1148.98 32.5936 1154.25 38.1433 Q1159.55 43.6525 1159.55 53.1722 Q1159.55 62.4892 1154.04 68.12 Q1148.53 73.7508 1139.38 73.7508 Q1128.89 73.7508 1123.34 65.73 Q1117.79 57.6687 1117.79 42.3968 Q1117.79 28.0566 1124.59 19.5497 Q1131.4 11.0023 1142.86 11.0023 Q1145.94 11.0023 1149.06 11.6099 Q1152.22 12.2175 1155.62 13.4328 Z\" fill=\"#000000\" fill-rule=\"evenodd\" fill-opacity=\"1\" /><path clip-path=\"url(#clip050)\" d=\"M 0 0 M1185.92 17.4837 Q1179.61 17.4837 1176.4 23.7221 Q1173.25 29.92 1173.25 42.3968 Q1173.25 54.833 1176.4 61.0714 Q1179.61 67.2693 1185.92 67.2693 Q1192.28 67.2693 1195.44 61.0714 Q1198.64 54.833 1198.64 42.3968 Q1198.64 29.92 1195.44 23.7221 Q1192.28 17.4837 1185.92 17.4837 M1185.92 11.0023 Q1196.09 11.0023 1201.44 19.0636 Q1206.83 27.0843 1206.83 42.3968 Q1206.83 57.6687 1201.44 65.73 Q1196.09 73.7508 1185.92 73.7508 Q1175.76 73.7508 1170.37 65.73 Q1165.02 57.6687 1165.02 42.3968 Q1165.02 27.0843 1170.37 19.0636 Q1175.76 11.0023 1185.92 11.0023 Z\" fill=\"#000000\" fill-rule=\"evenodd\" fill-opacity=\"1\" /><path clip-path=\"url(#clip050)\" d=\"M 0 0 M1241.02 27.2059 L1248.47 27.2059 L1248.47 72.576 L1241.02 72.576 L1241.02 27.2059 M1241.02 9.54393 L1248.47 9.54393 L1248.47 18.9825 L1241.02 18.9825 L1241.02 9.54393 Z\" fill=\"#000000\" fill-rule=\"evenodd\" fill-opacity=\"1\" /><path clip-path=\"url(#clip050)\" d=\"M 0 0 M1263.66 14.324 L1263.66 27.2059 L1279.01 27.2059 L1279.01 32.9987 L1263.66 32.9987 L1263.66 57.6282 Q1263.66 63.1779 1265.16 64.7578 Q1266.7 66.3376 1271.36 66.3376 L1279.01 66.3376 L1279.01 72.576 L1271.36 72.576 Q1262.73 72.576 1259.45 69.3758 Q1256.17 66.1351 1256.17 57.6282 L1256.17 32.9987 L1250.7 32.9987 L1250.7 27.2059 L1256.17 27.2059 L1256.17 14.324 L1263.66 14.324 Z\" fill=\"#000000\" fill-rule=\"evenodd\" fill-opacity=\"1\" /><path clip-path=\"url(#clip050)\" d=\"M 0 0 M1325.64 48.0275 L1325.64 51.6733 L1291.37 51.6733 Q1291.86 59.3701 1295.99 63.421 Q1300.16 67.4314 1307.57 67.4314 Q1311.87 67.4314 1315.88 66.3781 Q1319.93 65.3249 1323.9 63.2184 L1323.9 70.267 Q1319.89 71.9684 1315.68 72.8596 Q1311.46 73.7508 1307.13 73.7508 Q1296.27 73.7508 1289.91 67.4314 Q1283.59 61.1119 1283.59 50.3365 Q1283.59 39.1965 1289.59 32.6746 Q1295.62 26.1121 1305.83 26.1121 Q1314.99 26.1121 1320.29 32.0264 Q1325.64 37.9003 1325.64 48.0275 M1318.19 45.84 Q1318.11 39.7232 1314.74 36.0774 Q1311.42 32.4315 1305.91 32.4315 Q1299.67 32.4315 1295.91 35.9558 Q1292.18 39.4801 1291.61 45.8805 L1318.19 45.84 Z\" fill=\"#000000\" fill-rule=\"evenodd\" fill-opacity=\"1\" /><path clip-path=\"url(#clip050)\" d=\"M 0 0 M1359.75 34.1734 Q1358.49 33.4443 1356.99 33.1202 Q1355.54 32.7556 1353.75 32.7556 Q1347.43 32.7556 1344.03 36.8875 Q1340.67 40.9789 1340.67 48.6757 L1340.67 72.576 L1333.17 72.576 L1333.17 27.2059 L1340.67 27.2059 L1340.67 34.2544 Q1343.02 30.1225 1346.79 28.1376 Q1350.55 26.1121 1355.94 26.1121 Q1356.71 26.1121 1357.64 26.2337 Q1358.57 26.3147 1359.71 26.5172 L1359.75 34.1734 Z\" fill=\"#000000\" fill-rule=\"evenodd\" fill-opacity=\"1\" /><path clip-path=\"url(#clip050)\" d=\"M 0 0 M1388.19 49.7694 Q1379.15 49.7694 1375.67 51.8354 Q1372.19 53.9013 1372.19 58.8839 Q1372.19 62.8538 1374.78 65.2034 Q1377.41 67.5124 1381.91 67.5124 Q1388.11 67.5124 1391.83 63.1374 Q1395.6 58.7219 1395.6 51.4303 L1395.6 49.7694 L1388.19 49.7694 M1403.05 46.6907 L1403.05 72.576 L1395.6 72.576 L1395.6 65.6895 Q1393.05 69.8214 1389.24 71.8063 Q1385.43 73.7508 1379.92 73.7508 Q1372.95 73.7508 1368.82 69.8619 Q1364.73 65.9325 1364.73 59.3701 Q1364.73 51.7138 1369.84 47.825 Q1374.98 43.9361 1385.15 43.9361 L1395.6 43.9361 L1395.6 43.2069 Q1395.6 38.0623 1392.2 35.2672 Q1388.83 32.4315 1382.72 32.4315 Q1378.83 32.4315 1375.14 33.3632 Q1371.46 34.295 1368.05 36.1584 L1368.05 29.2718 Q1372.14 27.692 1375.99 26.9223 Q1379.84 26.1121 1383.49 26.1121 Q1393.33 26.1121 1398.19 31.2163 Q1403.05 36.3204 1403.05 46.6907 Z\" fill=\"#000000\" fill-rule=\"evenodd\" fill-opacity=\"1\" /><path clip-path=\"url(#clip050)\" d=\"M 0 0 M1418.24 14.324 L1418.24 27.2059 L1433.6 27.2059 L1433.6 32.9987 L1418.24 32.9987 L1418.24 57.6282 Q1418.24 63.1779 1419.74 64.7578 Q1421.28 66.3376 1425.94 66.3376 L1433.6 66.3376 L1433.6 72.576 L1425.94 72.576 Q1417.31 72.576 1414.03 69.3758 Q1410.75 66.1351 1410.75 57.6282 L1410.75 32.9987 L1405.28 32.9987 L1405.28 27.2059 L1410.75 27.2059 L1410.75 14.324 L1418.24 14.324 Z\" fill=\"#000000\" fill-rule=\"evenodd\" fill-opacity=\"1\" /><path clip-path=\"url(#clip050)\" d=\"M 0 0 M1441.42 27.2059 L1448.87 27.2059 L1448.87 72.576 L1441.42 72.576 L1441.42 27.2059 M1441.42 9.54393 L1448.87 9.54393 L1448.87 18.9825 L1441.42 18.9825 L1441.42 9.54393 Z\" fill=\"#000000\" fill-rule=\"evenodd\" fill-opacity=\"1\" /><path clip-path=\"url(#clip050)\" d=\"M 0 0 M1474.27 32.4315 Q1468.27 32.4315 1464.79 37.1306 Q1461.31 41.7891 1461.31 49.9314 Q1461.31 58.0738 1464.75 62.7728 Q1468.23 67.4314 1474.27 67.4314 Q1480.22 67.4314 1483.71 62.7323 Q1487.19 58.0333 1487.19 49.9314 Q1487.19 41.8701 1483.71 37.1711 Q1480.22 32.4315 1474.27 32.4315 M1474.27 26.1121 Q1483.99 26.1121 1489.54 32.4315 Q1495.09 38.7509 1495.09 49.9314 Q1495.09 61.0714 1489.54 67.4314 Q1483.99 73.7508 1474.27 73.7508 Q1464.51 73.7508 1458.96 67.4314 Q1453.45 61.0714 1453.45 49.9314 Q1453.45 38.7509 1458.96 32.4315 Q1464.51 26.1121 1474.27 26.1121 Z\" fill=\"#000000\" fill-rule=\"evenodd\" fill-opacity=\"1\" /><path clip-path=\"url(#clip050)\" d=\"M 0 0 M1540.62 45.1919 L1540.62 72.576 L1533.17 72.576 L1533.17 45.4349 Q1533.17 38.994 1530.66 35.7938 Q1528.14 32.5936 1523.12 32.5936 Q1517.09 32.5936 1513.6 36.4419 Q1510.12 40.2903 1510.12 46.9338 L1510.12 72.576 L1502.62 72.576 L1502.62 27.2059 L1510.12 27.2059 L1510.12 34.2544 Q1512.79 30.163 1516.4 28.1376 Q1520.04 26.1121 1524.78 26.1121 Q1532.6 26.1121 1536.61 30.9732 Q1540.62 35.7938 1540.62 45.1919 Z\" fill=\"#000000\" fill-rule=\"evenodd\" fill-opacity=\"1\" /><path clip-path=\"url(#clip050)\" d=\"M 0 0 M1577.36 28.5427 L1577.36 35.5912 Q1574.2 33.9709 1570.8 33.1607 Q1567.4 32.3505 1563.75 32.3505 Q1558.2 32.3505 1555.41 34.0519 Q1552.65 35.7533 1552.65 39.156 Q1552.65 41.7486 1554.64 43.2475 Q1556.62 44.7058 1562.62 46.0426 L1565.17 46.6097 Q1573.11 48.3111 1576.43 51.4303 Q1579.79 54.509 1579.79 60.0587 Q1579.79 66.3781 1574.77 70.0644 Q1569.79 73.7508 1561.04 73.7508 Q1557.39 73.7508 1553.42 73.0216 Q1549.49 72.3329 1545.12 70.9151 L1545.12 63.2184 Q1549.25 65.3654 1553.26 66.4591 Q1557.27 67.5124 1561.2 67.5124 Q1566.47 67.5124 1569.3 65.73 Q1572.14 63.9071 1572.14 60.6258 Q1572.14 57.5877 1570.07 55.9673 Q1568.05 54.3469 1561.12 52.8481 L1558.53 52.2405 Q1551.6 50.7821 1548.52 47.7845 Q1545.44 44.7463 1545.44 39.4801 Q1545.44 33.0797 1549.98 29.5959 Q1554.52 26.1121 1562.86 26.1121 Q1566.99 26.1121 1570.64 26.7198 Q1574.28 27.3274 1577.36 28.5427 Z\" fill=\"#000000\" fill-rule=\"evenodd\" fill-opacity=\"1\" /><polyline clip-path=\"url(#clip052)\" style=\"stroke:#009af9; stroke-width:4; stroke-opacity:1; fill:none\" points=\"\n",
       "  197.363,1227.98 232.831,1206.21 268.299,1183.99 303.767,814.038 339.235,1337.15 374.703,1337.08 410.171,1336.37 445.639,1328.95 481.107,1278.88 516.575,1318.61 \n",
       "  552.043,1275.16 587.511,1301.55 622.979,1264.57 658.447,1293.72 693.916,1258.65 729.384,1289.51 764.852,1275.04 800.32,1268.86 835.788,1265.27 871.256,1262.49 \n",
       "  906.724,1260.11 942.192,1257.99 977.66,1256.06 1013.13,1254.29 1048.6,1252.63 1084.06,1251.06 1119.53,1249.59 1155,1248.18 1190.47,1246.83 1225.94,1245.53 \n",
       "  1261.4,1244.26 1296.87,1243.01 1332.34,1241.75 1367.81,1240.48 1403.28,1239.18 1438.74,1237.8 1474.21,1236.32 1509.68,1234.69 1545.15,1232.83 1580.62,1230.66 \n",
       "  1616.08,1228.01 1651.55,1224.62 1687.02,1220.05 1722.49,1213.41 1757.96,1202.66 1793.42,1181.99 1828.89,1124.87 1864.36,162.047 1899.83,1402.15 1935.3,1402.14 \n",
       "  1970.77,1402.09 2006.23,1401.49 2041.7,1395.11 2077.17,1345.75 2112.64,1249.89 2148.11,956.27 2183.57,1447.87 2219.04,1366.9 2254.51,1253.24 2289.98,315.806 \n",
       "  \n",
       "  \"/>\n",
       "<path clip-path=\"url(#clip050)\" d=\"\n",
       "M1981.34 289.865 L2278.82 289.865 L2278.82 168.905 L1981.34 168.905  Z\n",
       "  \" fill=\"#ffffff\" fill-rule=\"evenodd\" fill-opacity=\"1\"/>\n",
       "<polyline clip-path=\"url(#clip050)\" style=\"stroke:#000000; stroke-width:4; stroke-opacity:1; fill:none\" points=\"\n",
       "  1981.34,289.865 2278.82,289.865 2278.82,168.905 1981.34,168.905 1981.34,289.865 \n",
       "  \"/>\n",
       "<polyline clip-path=\"url(#clip050)\" style=\"stroke:#009af9; stroke-width:4; stroke-opacity:1; fill:none\" points=\"\n",
       "  2005.98,229.385 2153.86,229.385 \n",
       "  \"/>\n",
       "<path clip-path=\"url(#clip050)\" d=\"M 0 0 M2192.35 249.072 Q2190.54 253.702 2188.83 255.114 Q2187.12 256.526 2184.25 256.526 L2180.84 256.526 L2180.84 252.961 L2183.34 252.961 Q2185.1 252.961 2186.08 252.128 Q2187.05 251.294 2188.23 248.192 L2188.99 246.248 L2178.51 220.739 L2183.02 220.739 L2191.12 241.017 L2199.22 220.739 L2203.74 220.739 L2192.35 249.072 Z\" fill=\"#000000\" fill-rule=\"evenodd\" fill-opacity=\"1\" /><path clip-path=\"url(#clip050)\" d=\"M 0 0 M2209.62 242.729 L2217.26 242.729 L2217.26 216.364 L2208.95 218.031 L2208.95 213.771 L2217.21 212.105 L2221.89 212.105 L2221.89 242.729 L2229.52 242.729 L2229.52 246.665 L2209.62 246.665 L2209.62 242.729 Z\" fill=\"#000000\" fill-rule=\"evenodd\" fill-opacity=\"1\" /></svg>\n"
      ]
     },
     "execution_count": 138,
     "metadata": {},
     "output_type": "execute_result"
    }
   ],
   "source": [
    "plot(x_iter, ρvalues, title=\"ρ for $(length(lossvalues)) iterations\")"
   ]
  },
  {
   "cell_type": "markdown",
   "id": "terminal-shopper",
   "metadata": {},
   "source": [
    "Interestingly, lambda did not change - we should be expecting it to move around"
   ]
  },
  {
   "cell_type": "code",
   "execution_count": 139,
   "id": "valued-calculation",
   "metadata": {},
   "outputs": [
    {
     "data": {
      "image/svg+xml": [
       "<?xml version=\"1.0\" encoding=\"utf-8\"?>\n",
       "<svg xmlns=\"http://www.w3.org/2000/svg\" xmlns:xlink=\"http://www.w3.org/1999/xlink\" width=\"600\" height=\"400\" viewBox=\"0 0 2400 1600\">\n",
       "<defs>\n",
       "  <clipPath id=\"clip090\">\n",
       "    <rect x=\"0\" y=\"0\" width=\"2400\" height=\"1600\"/>\n",
       "  </clipPath>\n",
       "</defs>\n",
       "<path clip-path=\"url(#clip090)\" d=\"\n",
       "M0 1600 L2400 1600 L2400 0 L0 0  Z\n",
       "  \" fill=\"#ffffff\" fill-rule=\"evenodd\" fill-opacity=\"1\"/>\n",
       "<defs>\n",
       "  <clipPath id=\"clip091\">\n",
       "    <rect x=\"480\" y=\"0\" width=\"1681\" height=\"1600\"/>\n",
       "  </clipPath>\n",
       "</defs>\n",
       "<path clip-path=\"url(#clip090)\" d=\"\n",
       "M174.862 1486.45 L2352.76 1486.45 L2352.76 123.472 L174.862 123.472  Z\n",
       "  \" fill=\"#ffffff\" fill-rule=\"evenodd\" fill-opacity=\"1\"/>\n",
       "<defs>\n",
       "  <clipPath id=\"clip092\">\n",
       "    <rect x=\"174\" y=\"123\" width=\"2179\" height=\"1364\"/>\n",
       "  </clipPath>\n",
       "</defs>\n",
       "<polyline clip-path=\"url(#clip092)\" style=\"stroke:#000000; stroke-width:2; stroke-opacity:0.1; fill:none\" points=\"\n",
       "  201.677,1486.45 201.677,123.472 \n",
       "  \"/>\n",
       "<polyline clip-path=\"url(#clip092)\" style=\"stroke:#000000; stroke-width:2; stroke-opacity:0.1; fill:none\" points=\"\n",
       "  549.917,1486.45 549.917,123.472 \n",
       "  \"/>\n",
       "<polyline clip-path=\"url(#clip092)\" style=\"stroke:#000000; stroke-width:2; stroke-opacity:0.1; fill:none\" points=\"\n",
       "  898.157,1486.45 898.157,123.472 \n",
       "  \"/>\n",
       "<polyline clip-path=\"url(#clip092)\" style=\"stroke:#000000; stroke-width:2; stroke-opacity:0.1; fill:none\" points=\"\n",
       "  1246.4,1486.45 1246.4,123.472 \n",
       "  \"/>\n",
       "<polyline clip-path=\"url(#clip092)\" style=\"stroke:#000000; stroke-width:2; stroke-opacity:0.1; fill:none\" points=\"\n",
       "  1594.64,1486.45 1594.64,123.472 \n",
       "  \"/>\n",
       "<polyline clip-path=\"url(#clip092)\" style=\"stroke:#000000; stroke-width:2; stroke-opacity:0.1; fill:none\" points=\"\n",
       "  1942.88,1486.45 1942.88,123.472 \n",
       "  \"/>\n",
       "<polyline clip-path=\"url(#clip092)\" style=\"stroke:#000000; stroke-width:2; stroke-opacity:0.1; fill:none\" points=\"\n",
       "  2291.12,1486.45 2291.12,123.472 \n",
       "  \"/>\n",
       "<polyline clip-path=\"url(#clip090)\" style=\"stroke:#000000; stroke-width:4; stroke-opacity:1; fill:none\" points=\"\n",
       "  174.862,1486.45 2352.76,1486.45 \n",
       "  \"/>\n",
       "<polyline clip-path=\"url(#clip090)\" style=\"stroke:#000000; stroke-width:4; stroke-opacity:1; fill:none\" points=\"\n",
       "  201.677,1486.45 201.677,1470.09 \n",
       "  \"/>\n",
       "<polyline clip-path=\"url(#clip090)\" style=\"stroke:#000000; stroke-width:4; stroke-opacity:1; fill:none\" points=\"\n",
       "  549.917,1486.45 549.917,1470.09 \n",
       "  \"/>\n",
       "<polyline clip-path=\"url(#clip090)\" style=\"stroke:#000000; stroke-width:4; stroke-opacity:1; fill:none\" points=\"\n",
       "  898.157,1486.45 898.157,1470.09 \n",
       "  \"/>\n",
       "<polyline clip-path=\"url(#clip090)\" style=\"stroke:#000000; stroke-width:4; stroke-opacity:1; fill:none\" points=\"\n",
       "  1246.4,1486.45 1246.4,1470.09 \n",
       "  \"/>\n",
       "<polyline clip-path=\"url(#clip090)\" style=\"stroke:#000000; stroke-width:4; stroke-opacity:1; fill:none\" points=\"\n",
       "  1594.64,1486.45 1594.64,1470.09 \n",
       "  \"/>\n",
       "<polyline clip-path=\"url(#clip090)\" style=\"stroke:#000000; stroke-width:4; stroke-opacity:1; fill:none\" points=\"\n",
       "  1942.88,1486.45 1942.88,1470.09 \n",
       "  \"/>\n",
       "<polyline clip-path=\"url(#clip090)\" style=\"stroke:#000000; stroke-width:4; stroke-opacity:1; fill:none\" points=\"\n",
       "  2291.12,1486.45 2291.12,1470.09 \n",
       "  \"/>\n",
       "<path clip-path=\"url(#clip090)\" d=\"M 0 0 M201.677 1515.64 Q198.065 1515.64 196.237 1519.2 Q194.431 1522.75 194.431 1529.87 Q194.431 1536.98 196.237 1540.55 Q198.065 1544.09 201.677 1544.09 Q205.311 1544.09 207.116 1540.55 Q208.945 1536.98 208.945 1529.87 Q208.945 1522.75 207.116 1519.2 Q205.311 1515.64 201.677 1515.64 M201.677 1511.93 Q207.487 1511.93 210.542 1516.54 Q213.621 1521.12 213.621 1529.87 Q213.621 1538.6 210.542 1543.21 Q207.487 1547.79 201.677 1547.79 Q195.866 1547.79 192.788 1543.21 Q189.732 1538.6 189.732 1529.87 Q189.732 1521.12 192.788 1516.54 Q195.866 1511.93 201.677 1511.93 Z\" fill=\"#000000\" fill-rule=\"evenodd\" fill-opacity=\"1\" /><path clip-path=\"url(#clip090)\" d=\"M 0 0 M526.792 1543.18 L534.431 1543.18 L534.431 1516.82 L526.12 1518.49 L526.12 1514.23 L534.384 1512.56 L539.06 1512.56 L539.06 1543.18 L546.699 1543.18 L546.699 1547.12 L526.792 1547.12 L526.792 1543.18 Z\" fill=\"#000000\" fill-rule=\"evenodd\" fill-opacity=\"1\" /><path clip-path=\"url(#clip090)\" d=\"M 0 0 M561.768 1515.64 Q558.157 1515.64 556.329 1519.2 Q554.523 1522.75 554.523 1529.87 Q554.523 1536.98 556.329 1540.55 Q558.157 1544.09 561.768 1544.09 Q565.403 1544.09 567.208 1540.55 Q569.037 1536.98 569.037 1529.87 Q569.037 1522.75 567.208 1519.2 Q565.403 1515.64 561.768 1515.64 M561.768 1511.93 Q567.579 1511.93 570.634 1516.54 Q573.713 1521.12 573.713 1529.87 Q573.713 1538.6 570.634 1543.21 Q567.579 1547.79 561.768 1547.79 Q555.958 1547.79 552.88 1543.21 Q549.824 1538.6 549.824 1529.87 Q549.824 1521.12 552.88 1516.54 Q555.958 1511.93 561.768 1511.93 Z\" fill=\"#000000\" fill-rule=\"evenodd\" fill-opacity=\"1\" /><path clip-path=\"url(#clip090)\" d=\"M 0 0 M879.303 1543.18 L895.622 1543.18 L895.622 1547.12 L873.678 1547.12 L873.678 1543.18 Q876.34 1540.43 880.923 1535.8 Q885.53 1531.15 886.71 1529.81 Q888.955 1527.28 889.835 1525.55 Q890.738 1523.79 890.738 1522.1 Q890.738 1519.34 888.793 1517.61 Q886.872 1515.87 883.77 1515.87 Q881.571 1515.87 879.118 1516.63 Q876.687 1517.4 873.909 1518.95 L873.909 1514.23 Q876.733 1513.09 879.187 1512.51 Q881.641 1511.93 883.678 1511.93 Q889.048 1511.93 892.242 1514.62 Q895.437 1517.31 895.437 1521.8 Q895.437 1523.93 894.627 1525.85 Q893.84 1527.74 891.733 1530.34 Q891.155 1531.01 888.053 1534.23 Q884.951 1537.42 879.303 1543.18 Z\" fill=\"#000000\" fill-rule=\"evenodd\" fill-opacity=\"1\" /><path clip-path=\"url(#clip090)\" d=\"M 0 0 M910.691 1515.64 Q907.08 1515.64 905.252 1519.2 Q903.446 1522.75 903.446 1529.87 Q903.446 1536.98 905.252 1540.55 Q907.08 1544.09 910.691 1544.09 Q914.326 1544.09 916.131 1540.55 Q917.96 1536.98 917.96 1529.87 Q917.96 1522.75 916.131 1519.2 Q914.326 1515.64 910.691 1515.64 M910.691 1511.93 Q916.502 1511.93 919.557 1516.54 Q922.636 1521.12 922.636 1529.87 Q922.636 1538.6 919.557 1543.21 Q916.502 1547.79 910.691 1547.79 Q904.881 1547.79 901.803 1543.21 Q898.747 1538.6 898.747 1529.87 Q898.747 1521.12 901.803 1516.54 Q904.881 1511.93 910.691 1511.93 Z\" fill=\"#000000\" fill-rule=\"evenodd\" fill-opacity=\"1\" /><path clip-path=\"url(#clip090)\" d=\"M 0 0 M1237.14 1528.49 Q1240.49 1529.2 1242.37 1531.47 Q1244.27 1533.74 1244.27 1537.07 Q1244.27 1542.19 1240.75 1544.99 Q1237.23 1547.79 1230.75 1547.79 Q1228.57 1547.79 1226.26 1547.35 Q1223.97 1546.93 1221.51 1546.08 L1221.51 1541.56 Q1223.46 1542.7 1225.77 1543.28 Q1228.09 1543.86 1230.61 1543.86 Q1235.01 1543.86 1237.3 1542.12 Q1239.61 1540.38 1239.61 1537.07 Q1239.61 1534.02 1237.46 1532.31 Q1235.33 1530.57 1231.51 1530.57 L1227.49 1530.57 L1227.49 1526.73 L1231.7 1526.73 Q1235.15 1526.73 1236.98 1525.36 Q1238.8 1523.97 1238.8 1521.38 Q1238.8 1518.72 1236.91 1517.31 Q1235.03 1515.87 1231.51 1515.87 Q1229.59 1515.87 1227.39 1516.29 Q1225.19 1516.7 1222.55 1517.58 L1222.55 1513.42 Q1225.22 1512.68 1227.53 1512.31 Q1229.87 1511.93 1231.93 1511.93 Q1237.25 1511.93 1240.36 1514.37 Q1243.46 1516.77 1243.46 1520.89 Q1243.46 1523.76 1241.81 1525.75 Q1240.17 1527.72 1237.14 1528.49 Z\" fill=\"#000000\" fill-rule=\"evenodd\" fill-opacity=\"1\" /><path clip-path=\"url(#clip090)\" d=\"M 0 0 M1259.34 1515.64 Q1255.73 1515.64 1253.9 1519.2 Q1252.09 1522.75 1252.09 1529.87 Q1252.09 1536.98 1253.9 1540.55 Q1255.73 1544.09 1259.34 1544.09 Q1262.97 1544.09 1264.78 1540.55 Q1266.61 1536.98 1266.61 1529.87 Q1266.61 1522.75 1264.78 1519.2 Q1262.97 1515.64 1259.34 1515.64 M1259.34 1511.93 Q1265.15 1511.93 1268.2 1516.54 Q1271.28 1521.12 1271.28 1529.87 Q1271.28 1538.6 1268.2 1543.21 Q1265.15 1547.79 1259.34 1547.79 Q1253.53 1547.79 1250.45 1543.21 Q1247.39 1538.6 1247.39 1529.87 Q1247.39 1521.12 1250.45 1516.54 Q1253.53 1511.93 1259.34 1511.93 Z\" fill=\"#000000\" fill-rule=\"evenodd\" fill-opacity=\"1\" /><path clip-path=\"url(#clip090)\" d=\"M 0 0 M1584.14 1516.63 L1572.33 1535.08 L1584.14 1535.08 L1584.14 1516.63 M1582.91 1512.56 L1588.79 1512.56 L1588.79 1535.08 L1593.72 1535.08 L1593.72 1538.97 L1588.79 1538.97 L1588.79 1547.12 L1584.14 1547.12 L1584.14 1538.97 L1568.54 1538.97 L1568.54 1534.46 L1582.91 1512.56 Z\" fill=\"#000000\" fill-rule=\"evenodd\" fill-opacity=\"1\" /><path clip-path=\"url(#clip090)\" d=\"M 0 0 M1608.79 1515.64 Q1605.18 1515.64 1603.35 1519.2 Q1601.55 1522.75 1601.55 1529.87 Q1601.55 1536.98 1603.35 1540.55 Q1605.18 1544.09 1608.79 1544.09 Q1612.43 1544.09 1614.23 1540.55 Q1616.06 1536.98 1616.06 1529.87 Q1616.06 1522.75 1614.23 1519.2 Q1612.43 1515.64 1608.79 1515.64 M1608.79 1511.93 Q1614.6 1511.93 1617.66 1516.54 Q1620.74 1521.12 1620.74 1529.87 Q1620.74 1538.6 1617.66 1543.21 Q1614.6 1547.79 1608.79 1547.79 Q1602.98 1547.79 1599.9 1543.21 Q1596.85 1538.6 1596.85 1529.87 Q1596.85 1521.12 1599.9 1516.54 Q1602.98 1511.93 1608.79 1511.93 Z\" fill=\"#000000\" fill-rule=\"evenodd\" fill-opacity=\"1\" /><path clip-path=\"url(#clip090)\" d=\"M 0 0 M1919.65 1512.56 L1938 1512.56 L1938 1516.5 L1923.93 1516.5 L1923.93 1524.97 Q1924.95 1524.62 1925.97 1524.46 Q1926.99 1524.27 1928 1524.27 Q1933.79 1524.27 1937.17 1527.44 Q1940.55 1530.62 1940.55 1536.03 Q1940.55 1541.61 1937.08 1544.71 Q1933.61 1547.79 1927.29 1547.79 Q1925.11 1547.79 1922.84 1547.42 Q1920.6 1547.05 1918.19 1546.31 L1918.19 1541.61 Q1920.27 1542.74 1922.5 1543.3 Q1924.72 1543.86 1927.19 1543.86 Q1931.2 1543.86 1933.54 1541.75 Q1935.87 1539.64 1935.87 1536.03 Q1935.87 1532.42 1933.54 1530.31 Q1931.2 1528.21 1927.19 1528.21 Q1925.32 1528.21 1923.44 1528.62 Q1921.59 1529.04 1919.65 1529.92 L1919.65 1512.56 Z\" fill=\"#000000\" fill-rule=\"evenodd\" fill-opacity=\"1\" /><path clip-path=\"url(#clip090)\" d=\"M 0 0 M1955.62 1515.64 Q1952.01 1515.64 1950.18 1519.2 Q1948.37 1522.75 1948.37 1529.87 Q1948.37 1536.98 1950.18 1540.55 Q1952.01 1544.09 1955.62 1544.09 Q1959.25 1544.09 1961.06 1540.55 Q1962.89 1536.98 1962.89 1529.87 Q1962.89 1522.75 1961.06 1519.2 Q1959.25 1515.64 1955.62 1515.64 M1955.62 1511.93 Q1961.43 1511.93 1964.49 1516.54 Q1967.56 1521.12 1967.56 1529.87 Q1967.56 1538.6 1964.49 1543.21 Q1961.43 1547.79 1955.62 1547.79 Q1949.81 1547.79 1946.73 1543.21 Q1943.68 1538.6 1943.68 1529.87 Q1943.68 1521.12 1946.73 1516.54 Q1949.81 1511.93 1955.62 1511.93 Z\" fill=\"#000000\" fill-rule=\"evenodd\" fill-opacity=\"1\" /><path clip-path=\"url(#clip090)\" d=\"M 0 0 M2278.02 1527.98 Q2274.87 1527.98 2273.02 1530.13 Q2271.19 1532.28 2271.19 1536.03 Q2271.19 1539.76 2273.02 1541.93 Q2274.87 1544.09 2278.02 1544.09 Q2281.16 1544.09 2282.99 1541.93 Q2284.84 1539.76 2284.84 1536.03 Q2284.84 1532.28 2282.99 1530.13 Q2281.16 1527.98 2278.02 1527.98 M2287.3 1513.32 L2287.3 1517.58 Q2285.54 1516.75 2283.73 1516.31 Q2281.95 1515.87 2280.19 1515.87 Q2275.56 1515.87 2273.11 1519 Q2270.68 1522.12 2270.33 1528.44 Q2271.7 1526.43 2273.76 1525.36 Q2275.82 1524.27 2278.29 1524.27 Q2283.5 1524.27 2286.51 1527.44 Q2289.54 1530.59 2289.54 1536.03 Q2289.54 1541.36 2286.4 1544.57 Q2283.25 1547.79 2278.02 1547.79 Q2272.02 1547.79 2268.85 1543.21 Q2265.68 1538.6 2265.68 1529.87 Q2265.68 1521.68 2269.57 1516.82 Q2273.46 1511.93 2280.01 1511.93 Q2281.77 1511.93 2283.55 1512.28 Q2285.35 1512.63 2287.3 1513.32 Z\" fill=\"#000000\" fill-rule=\"evenodd\" fill-opacity=\"1\" /><path clip-path=\"url(#clip090)\" d=\"M 0 0 M2304.61 1515.64 Q2301 1515.64 2299.17 1519.2 Q2297.37 1522.75 2297.37 1529.87 Q2297.37 1536.98 2299.17 1540.55 Q2301 1544.09 2304.61 1544.09 Q2308.25 1544.09 2310.05 1540.55 Q2311.88 1536.98 2311.88 1529.87 Q2311.88 1522.75 2310.05 1519.2 Q2308.25 1515.64 2304.61 1515.64 M2304.61 1511.93 Q2310.42 1511.93 2313.48 1516.54 Q2316.56 1521.12 2316.56 1529.87 Q2316.56 1538.6 2313.48 1543.21 Q2310.42 1547.79 2304.61 1547.79 Q2298.8 1547.79 2295.72 1543.21 Q2292.67 1538.6 2292.67 1529.87 Q2292.67 1521.12 2295.72 1516.54 Q2298.8 1511.93 2304.61 1511.93 Z\" fill=\"#000000\" fill-rule=\"evenodd\" fill-opacity=\"1\" /><polyline clip-path=\"url(#clip092)\" style=\"stroke:#000000; stroke-width:2; stroke-opacity:0.1; fill:none\" points=\"\n",
       "  174.862,1447.87 2352.76,1447.87 \n",
       "  \"/>\n",
       "<polyline clip-path=\"url(#clip092)\" style=\"stroke:#000000; stroke-width:2; stroke-opacity:0.1; fill:none\" points=\"\n",
       "  174.862,1204.94 2352.76,1204.94 \n",
       "  \"/>\n",
       "<polyline clip-path=\"url(#clip092)\" style=\"stroke:#000000; stroke-width:2; stroke-opacity:0.1; fill:none\" points=\"\n",
       "  174.862,961.997 2352.76,961.997 \n",
       "  \"/>\n",
       "<polyline clip-path=\"url(#clip092)\" style=\"stroke:#000000; stroke-width:2; stroke-opacity:0.1; fill:none\" points=\"\n",
       "  174.862,719.059 2352.76,719.059 \n",
       "  \"/>\n",
       "<polyline clip-path=\"url(#clip092)\" style=\"stroke:#000000; stroke-width:2; stroke-opacity:0.1; fill:none\" points=\"\n",
       "  174.862,476.12 2352.76,476.12 \n",
       "  \"/>\n",
       "<polyline clip-path=\"url(#clip092)\" style=\"stroke:#000000; stroke-width:2; stroke-opacity:0.1; fill:none\" points=\"\n",
       "  174.862,233.182 2352.76,233.182 \n",
       "  \"/>\n",
       "<polyline clip-path=\"url(#clip090)\" style=\"stroke:#000000; stroke-width:4; stroke-opacity:1; fill:none\" points=\"\n",
       "  174.862,1486.45 174.862,123.472 \n",
       "  \"/>\n",
       "<polyline clip-path=\"url(#clip090)\" style=\"stroke:#000000; stroke-width:4; stroke-opacity:1; fill:none\" points=\"\n",
       "  174.862,1447.87 200.997,1447.87 \n",
       "  \"/>\n",
       "<polyline clip-path=\"url(#clip090)\" style=\"stroke:#000000; stroke-width:4; stroke-opacity:1; fill:none\" points=\"\n",
       "  174.862,1204.94 200.997,1204.94 \n",
       "  \"/>\n",
       "<polyline clip-path=\"url(#clip090)\" style=\"stroke:#000000; stroke-width:4; stroke-opacity:1; fill:none\" points=\"\n",
       "  174.862,961.997 200.997,961.997 \n",
       "  \"/>\n",
       "<polyline clip-path=\"url(#clip090)\" style=\"stroke:#000000; stroke-width:4; stroke-opacity:1; fill:none\" points=\"\n",
       "  174.862,719.059 200.997,719.059 \n",
       "  \"/>\n",
       "<polyline clip-path=\"url(#clip090)\" style=\"stroke:#000000; stroke-width:4; stroke-opacity:1; fill:none\" points=\"\n",
       "  174.862,476.12 200.997,476.12 \n",
       "  \"/>\n",
       "<polyline clip-path=\"url(#clip090)\" style=\"stroke:#000000; stroke-width:4; stroke-opacity:1; fill:none\" points=\"\n",
       "  174.862,233.182 200.997,233.182 \n",
       "  \"/>\n",
       "<path clip-path=\"url(#clip090)\" d=\"M 0 0 M62.9365 1433.67 Q59.3254 1433.67 57.4967 1437.24 Q55.6912 1440.78 55.6912 1447.91 Q55.6912 1455.01 57.4967 1458.58 Q59.3254 1462.12 62.9365 1462.12 Q66.5707 1462.12 68.3763 1458.58 Q70.205 1455.01 70.205 1447.91 Q70.205 1440.78 68.3763 1437.24 Q66.5707 1433.67 62.9365 1433.67 M62.9365 1429.97 Q68.7467 1429.97 71.8022 1434.58 Q74.8809 1439.16 74.8809 1447.91 Q74.8809 1456.64 71.8022 1461.24 Q68.7467 1465.82 62.9365 1465.82 Q57.1264 1465.82 54.0477 1461.24 Q50.9921 1456.64 50.9921 1447.91 Q50.9921 1439.16 54.0477 1434.58 Q57.1264 1429.97 62.9365 1429.97 Z\" fill=\"#000000\" fill-rule=\"evenodd\" fill-opacity=\"1\" /><path clip-path=\"url(#clip090)\" d=\"M 0 0 M79.9503 1459.27 L84.8345 1459.27 L84.8345 1465.15 L79.9503 1465.15 L79.9503 1459.27 Z\" fill=\"#000000\" fill-rule=\"evenodd\" fill-opacity=\"1\" /><path clip-path=\"url(#clip090)\" d=\"M 0 0 M99.9039 1433.67 Q96.2928 1433.67 94.4641 1437.24 Q92.6586 1440.78 92.6586 1447.91 Q92.6586 1455.01 94.4641 1458.58 Q96.2928 1462.12 99.9039 1462.12 Q103.538 1462.12 105.344 1458.58 Q107.172 1455.01 107.172 1447.91 Q107.172 1440.78 105.344 1437.24 Q103.538 1433.67 99.9039 1433.67 M99.9039 1429.97 Q105.714 1429.97 108.77 1434.58 Q111.848 1439.16 111.848 1447.91 Q111.848 1456.64 108.77 1461.24 Q105.714 1465.82 99.9039 1465.82 Q94.0937 1465.82 91.0151 1461.24 Q87.9595 1456.64 87.9595 1447.91 Q87.9595 1439.16 91.0151 1434.58 Q94.0937 1429.97 99.9039 1429.97 Z\" fill=\"#000000\" fill-rule=\"evenodd\" fill-opacity=\"1\" /><path clip-path=\"url(#clip090)\" d=\"M 0 0 M126.918 1433.67 Q123.307 1433.67 121.478 1437.24 Q119.672 1440.78 119.672 1447.91 Q119.672 1455.01 121.478 1458.58 Q123.307 1462.12 126.918 1462.12 Q130.552 1462.12 132.357 1458.58 Q134.186 1455.01 134.186 1447.91 Q134.186 1440.78 132.357 1437.24 Q130.552 1433.67 126.918 1433.67 M126.918 1429.97 Q132.728 1429.97 135.783 1434.58 Q138.862 1439.16 138.862 1447.91 Q138.862 1456.64 135.783 1461.24 Q132.728 1465.82 126.918 1465.82 Q121.107 1465.82 118.029 1461.24 Q114.973 1456.64 114.973 1447.91 Q114.973 1439.16 118.029 1434.58 Q121.107 1429.97 126.918 1429.97 Z\" fill=\"#000000\" fill-rule=\"evenodd\" fill-opacity=\"1\" /><path clip-path=\"url(#clip090)\" d=\"M 0 0 M63.9319 1190.73 Q60.3208 1190.73 58.4921 1194.3 Q56.6865 1197.84 56.6865 1204.97 Q56.6865 1212.08 58.4921 1215.64 Q60.3208 1219.18 63.9319 1219.18 Q67.5661 1219.18 69.3717 1215.64 Q71.2004 1212.08 71.2004 1204.97 Q71.2004 1197.84 69.3717 1194.3 Q67.5661 1190.73 63.9319 1190.73 M63.9319 1187.03 Q69.742 1187.03 72.7976 1191.64 Q75.8763 1196.22 75.8763 1204.97 Q75.8763 1213.7 72.7976 1218.3 Q69.742 1222.89 63.9319 1222.89 Q58.1217 1222.89 55.043 1218.3 Q51.9875 1213.7 51.9875 1204.97 Q51.9875 1196.22 55.043 1191.64 Q58.1217 1187.03 63.9319 1187.03 Z\" fill=\"#000000\" fill-rule=\"evenodd\" fill-opacity=\"1\" /><path clip-path=\"url(#clip090)\" d=\"M 0 0 M80.9457 1216.34 L85.8299 1216.34 L85.8299 1222.22 L80.9457 1222.22 L80.9457 1216.34 Z\" fill=\"#000000\" fill-rule=\"evenodd\" fill-opacity=\"1\" /><path clip-path=\"url(#clip090)\" d=\"M 0 0 M100.899 1190.73 Q97.2882 1190.73 95.4595 1194.3 Q93.6539 1197.84 93.6539 1204.97 Q93.6539 1212.08 95.4595 1215.64 Q97.2882 1219.18 100.899 1219.18 Q104.534 1219.18 106.339 1215.64 Q108.168 1212.08 108.168 1204.97 Q108.168 1197.84 106.339 1194.3 Q104.534 1190.73 100.899 1190.73 M100.899 1187.03 Q106.709 1187.03 109.765 1191.64 Q112.844 1196.22 112.844 1204.97 Q112.844 1213.7 109.765 1218.3 Q106.709 1222.89 100.899 1222.89 Q95.0891 1222.89 92.0104 1218.3 Q88.9549 1213.7 88.9549 1204.97 Q88.9549 1196.22 92.0104 1191.64 Q95.0891 1187.03 100.899 1187.03 Z\" fill=\"#000000\" fill-rule=\"evenodd\" fill-opacity=\"1\" /><path clip-path=\"url(#clip090)\" d=\"M 0 0 M117.959 1187.66 L136.316 1187.66 L136.316 1191.59 L122.242 1191.59 L122.242 1200.06 Q123.26 1199.72 124.279 1199.55 Q125.297 1199.37 126.316 1199.37 Q132.103 1199.37 135.482 1202.54 Q138.862 1205.71 138.862 1211.13 Q138.862 1216.71 135.39 1219.81 Q131.918 1222.89 125.598 1222.89 Q123.422 1222.89 121.154 1222.52 Q118.908 1222.15 116.501 1221.41 L116.501 1216.71 Q118.584 1217.84 120.807 1218.4 Q123.029 1218.95 125.506 1218.95 Q129.51 1218.95 131.848 1216.84 Q134.186 1214.74 134.186 1211.13 Q134.186 1207.52 131.848 1205.41 Q129.51 1203.3 125.506 1203.3 Q123.631 1203.3 121.756 1203.72 Q119.904 1204.14 117.959 1205.02 L117.959 1187.66 Z\" fill=\"#000000\" fill-rule=\"evenodd\" fill-opacity=\"1\" /><path clip-path=\"url(#clip090)\" d=\"M 0 0 M64.1634 947.796 Q60.5523 947.796 58.7236 951.36 Q56.918 954.902 56.918 962.032 Q56.918 969.138 58.7236 972.703 Q60.5523 976.245 64.1634 976.245 Q67.7976 976.245 69.6031 972.703 Q71.4318 969.138 71.4318 962.032 Q71.4318 954.902 69.6031 951.36 Q67.7976 947.796 64.1634 947.796 M64.1634 944.092 Q69.9735 944.092 73.029 948.698 Q76.1077 953.282 76.1077 962.032 Q76.1077 970.759 73.029 975.365 Q69.9735 979.948 64.1634 979.948 Q58.3532 979.948 55.2745 975.365 Q52.219 970.759 52.219 962.032 Q52.219 953.282 55.2745 948.698 Q58.3532 944.092 64.1634 944.092 Z\" fill=\"#000000\" fill-rule=\"evenodd\" fill-opacity=\"1\" /><path clip-path=\"url(#clip090)\" d=\"M 0 0 M81.1771 973.397 L86.0614 973.397 L86.0614 979.277 L81.1771 979.277 L81.1771 973.397 Z\" fill=\"#000000\" fill-rule=\"evenodd\" fill-opacity=\"1\" /><path clip-path=\"url(#clip090)\" d=\"M 0 0 M91.941 975.342 L99.5798 975.342 L99.5798 948.976 L91.2697 950.643 L91.2697 946.384 L99.5335 944.717 L104.209 944.717 L104.209 975.342 L111.848 975.342 L111.848 979.277 L91.941 979.277 L91.941 975.342 Z\" fill=\"#000000\" fill-rule=\"evenodd\" fill-opacity=\"1\" /><path clip-path=\"url(#clip090)\" d=\"M 0 0 M126.918 947.796 Q123.307 947.796 121.478 951.36 Q119.672 954.902 119.672 962.032 Q119.672 969.138 121.478 972.703 Q123.307 976.245 126.918 976.245 Q130.552 976.245 132.357 972.703 Q134.186 969.138 134.186 962.032 Q134.186 954.902 132.357 951.36 Q130.552 947.796 126.918 947.796 M126.918 944.092 Q132.728 944.092 135.783 948.698 Q138.862 953.282 138.862 962.032 Q138.862 970.759 135.783 975.365 Q132.728 979.948 126.918 979.948 Q121.107 979.948 118.029 975.365 Q114.973 970.759 114.973 962.032 Q114.973 953.282 118.029 948.698 Q121.107 944.092 126.918 944.092 Z\" fill=\"#000000\" fill-rule=\"evenodd\" fill-opacity=\"1\" /><path clip-path=\"url(#clip090)\" d=\"M 0 0 M65.1587 704.857 Q61.5476 704.857 59.7189 708.422 Q57.9134 711.964 57.9134 719.093 Q57.9134 726.2 59.7189 729.765 Q61.5476 733.306 65.1587 733.306 Q68.793 733.306 70.5985 729.765 Q72.4272 726.2 72.4272 719.093 Q72.4272 711.964 70.5985 708.422 Q68.793 704.857 65.1587 704.857 M65.1587 701.154 Q70.9689 701.154 74.0244 705.76 Q77.1031 710.343 77.1031 719.093 Q77.1031 727.82 74.0244 732.427 Q70.9689 737.01 65.1587 737.01 Q59.3486 737.01 56.2699 732.427 Q53.2143 727.82 53.2143 719.093 Q53.2143 710.343 56.2699 705.76 Q59.3486 701.154 65.1587 701.154 Z\" fill=\"#000000\" fill-rule=\"evenodd\" fill-opacity=\"1\" /><path clip-path=\"url(#clip090)\" d=\"M 0 0 M82.1725 730.459 L87.0567 730.459 L87.0567 736.339 L82.1725 736.339 L82.1725 730.459 Z\" fill=\"#000000\" fill-rule=\"evenodd\" fill-opacity=\"1\" /><path clip-path=\"url(#clip090)\" d=\"M 0 0 M92.9363 732.404 L100.575 732.404 L100.575 706.038 L92.2651 707.705 L92.2651 703.445 L100.529 701.779 L105.205 701.779 L105.205 732.404 L112.844 732.404 L112.844 736.339 L92.9363 736.339 L92.9363 732.404 Z\" fill=\"#000000\" fill-rule=\"evenodd\" fill-opacity=\"1\" /><path clip-path=\"url(#clip090)\" d=\"M 0 0 M117.959 701.779 L136.316 701.779 L136.316 705.714 L122.242 705.714 L122.242 714.186 Q123.26 713.839 124.279 713.677 Q125.297 713.492 126.316 713.492 Q132.103 713.492 135.482 716.663 Q138.862 719.834 138.862 725.251 Q138.862 730.829 135.39 733.931 Q131.918 737.01 125.598 737.01 Q123.422 737.01 121.154 736.64 Q118.908 736.269 116.501 735.529 L116.501 730.829 Q118.584 731.964 120.807 732.519 Q123.029 733.075 125.506 733.075 Q129.51 733.075 131.848 730.968 Q134.186 728.862 134.186 725.251 Q134.186 721.64 131.848 719.533 Q129.51 717.427 125.506 717.427 Q123.631 717.427 121.756 717.843 Q119.904 718.26 117.959 719.14 L117.959 701.779 Z\" fill=\"#000000\" fill-rule=\"evenodd\" fill-opacity=\"1\" /><path clip-path=\"url(#clip090)\" d=\"M 0 0 M64.5337 461.919 Q60.9226 461.919 59.0939 465.484 Q57.2884 469.026 57.2884 476.155 Q57.2884 483.262 59.0939 486.826 Q60.9226 490.368 64.5337 490.368 Q68.168 490.368 69.9735 486.826 Q71.8022 483.262 71.8022 476.155 Q71.8022 469.026 69.9735 465.484 Q68.168 461.919 64.5337 461.919 M64.5337 458.215 Q70.3439 458.215 73.3994 462.822 Q76.4781 467.405 76.4781 476.155 Q76.4781 484.882 73.3994 489.488 Q70.3439 494.072 64.5337 494.072 Q58.7236 494.072 55.6449 489.488 Q52.5893 484.882 52.5893 476.155 Q52.5893 467.405 55.6449 462.822 Q58.7236 458.215 64.5337 458.215 Z\" fill=\"#000000\" fill-rule=\"evenodd\" fill-opacity=\"1\" /><path clip-path=\"url(#clip090)\" d=\"M 0 0 M81.5475 487.521 L86.4318 487.521 L86.4318 493.4 L81.5475 493.4 L81.5475 487.521 Z\" fill=\"#000000\" fill-rule=\"evenodd\" fill-opacity=\"1\" /><path clip-path=\"url(#clip090)\" d=\"M 0 0 M95.5289 489.465 L111.848 489.465 L111.848 493.4 L89.904 493.4 L89.904 489.465 Q92.566 486.711 97.1493 482.081 Q101.756 477.428 102.936 476.086 Q105.182 473.563 106.061 471.826 Q106.964 470.067 106.964 468.377 Q106.964 465.623 105.02 463.887 Q103.098 462.151 99.9965 462.151 Q97.7974 462.151 95.3437 462.914 Q92.9132 463.678 90.1354 465.229 L90.1354 460.507 Q92.9595 459.373 95.4132 458.794 Q97.8669 458.215 99.9039 458.215 Q105.274 458.215 108.469 460.901 Q111.663 463.586 111.663 468.076 Q111.663 470.206 110.853 472.127 Q110.066 474.026 107.959 476.618 Q107.381 477.289 104.279 480.507 Q101.177 483.701 95.5289 489.465 Z\" fill=\"#000000\" fill-rule=\"evenodd\" fill-opacity=\"1\" /><path clip-path=\"url(#clip090)\" d=\"M 0 0 M126.918 461.919 Q123.307 461.919 121.478 465.484 Q119.672 469.026 119.672 476.155 Q119.672 483.262 121.478 486.826 Q123.307 490.368 126.918 490.368 Q130.552 490.368 132.357 486.826 Q134.186 483.262 134.186 476.155 Q134.186 469.026 132.357 465.484 Q130.552 461.919 126.918 461.919 M126.918 458.215 Q132.728 458.215 135.783 462.822 Q138.862 467.405 138.862 476.155 Q138.862 484.882 135.783 489.488 Q132.728 494.072 126.918 494.072 Q121.107 494.072 118.029 489.488 Q114.973 484.882 114.973 476.155 Q114.973 467.405 118.029 462.822 Q121.107 458.215 126.918 458.215 Z\" fill=\"#000000\" fill-rule=\"evenodd\" fill-opacity=\"1\" /><path clip-path=\"url(#clip090)\" d=\"M 0 0 M65.5291 218.981 Q61.918 218.981 60.0893 222.546 Q58.2838 226.087 58.2838 233.217 Q58.2838 240.323 60.0893 243.888 Q61.918 247.43 65.5291 247.43 Q69.1633 247.43 70.9689 243.888 Q72.7976 240.323 72.7976 233.217 Q72.7976 226.087 70.9689 222.546 Q69.1633 218.981 65.5291 218.981 M65.5291 215.277 Q71.3392 215.277 74.3948 219.884 Q77.4735 224.467 77.4735 233.217 Q77.4735 241.944 74.3948 246.55 Q71.3392 251.133 65.5291 251.133 Q59.7189 251.133 56.6402 246.55 Q53.5847 241.944 53.5847 233.217 Q53.5847 224.467 56.6402 219.884 Q59.7189 215.277 65.5291 215.277 Z\" fill=\"#000000\" fill-rule=\"evenodd\" fill-opacity=\"1\" /><path clip-path=\"url(#clip090)\" d=\"M 0 0 M82.5429 244.583 L87.4271 244.583 L87.4271 250.462 L82.5429 250.462 L82.5429 244.583 Z\" fill=\"#000000\" fill-rule=\"evenodd\" fill-opacity=\"1\" /><path clip-path=\"url(#clip090)\" d=\"M 0 0 M96.5243 246.527 L112.844 246.527 L112.844 250.462 L90.8993 250.462 L90.8993 246.527 Q93.5613 243.772 98.1447 239.143 Q102.751 234.49 103.932 233.147 Q106.177 230.624 107.057 228.888 Q107.959 227.129 107.959 225.439 Q107.959 222.684 106.015 220.948 Q104.094 219.212 100.992 219.212 Q98.7928 219.212 96.3391 219.976 Q93.9086 220.74 91.1308 222.291 L91.1308 217.569 Q93.9549 216.435 96.4085 215.856 Q98.8622 215.277 100.899 215.277 Q106.27 215.277 109.464 217.962 Q112.658 220.647 112.658 225.138 Q112.658 227.268 111.848 229.189 Q111.061 231.087 108.955 233.68 Q108.376 234.351 105.274 237.569 Q102.172 240.763 96.5243 246.527 Z\" fill=\"#000000\" fill-rule=\"evenodd\" fill-opacity=\"1\" /><path clip-path=\"url(#clip090)\" d=\"M 0 0 M117.959 215.902 L136.316 215.902 L136.316 219.837 L122.242 219.837 L122.242 228.309 Q123.26 227.962 124.279 227.8 Q125.297 227.615 126.316 227.615 Q132.103 227.615 135.482 230.786 Q138.862 233.958 138.862 239.374 Q138.862 244.953 135.39 248.055 Q131.918 251.133 125.598 251.133 Q123.422 251.133 121.154 250.763 Q118.908 250.393 116.501 249.652 L116.501 244.953 Q118.584 246.087 120.807 246.643 Q123.029 247.198 125.506 247.198 Q129.51 247.198 131.848 245.092 Q134.186 242.985 134.186 239.374 Q134.186 235.763 131.848 233.657 Q129.51 231.55 125.506 231.55 Q123.631 231.55 121.756 231.967 Q119.904 232.384 117.959 233.263 L117.959 215.902 Z\" fill=\"#000000\" fill-rule=\"evenodd\" fill-opacity=\"1\" /><path clip-path=\"url(#clip090)\" d=\"M 0 0 M949.114 16.633 L970.058 72.576 L962.158 72.576 L949.439 39.0345 L933.802 72.576 L925.903 72.576 L945.793 29.0693 L942.795 21.0485 Q940.891 15.9444 936.557 15.9444 L932.668 15.9444 L932.668 9.54393 L937.407 9.62495 Q946.562 9.74648 949.114 16.633 Z\" fill=\"#000000\" fill-rule=\"evenodd\" fill-opacity=\"1\" /><path clip-path=\"url(#clip090)\" d=\"M 0 0 M1027.22 9.54393 L1027.22 15.7418 L1020.09 15.7418 Q1016.08 15.7418 1014.5 17.3622 Q1012.96 18.9825 1012.96 23.1955 L1012.96 27.2059 L1025.23 27.2059 L1025.23 32.9987 L1012.96 32.9987 L1012.96 72.576 L1005.46 72.576 L1005.46 32.9987 L998.333 32.9987 L998.333 27.2059 L1005.46 27.2059 L1005.46 24.0462 Q1005.46 16.471 1008.99 13.0277 Q1012.51 9.54393 1020.17 9.54393 L1027.22 9.54393 Z\" fill=\"#000000\" fill-rule=\"evenodd\" fill-opacity=\"1\" /><path clip-path=\"url(#clip090)\" d=\"M 0 0 M1052.62 32.4315 Q1046.62 32.4315 1043.14 37.1306 Q1039.65 41.7891 1039.65 49.9314 Q1039.65 58.0738 1043.1 62.7728 Q1046.58 67.4314 1052.62 67.4314 Q1058.57 67.4314 1062.05 62.7323 Q1065.54 58.0333 1065.54 49.9314 Q1065.54 41.8701 1062.05 37.1711 Q1058.57 32.4315 1052.62 32.4315 M1052.62 26.1121 Q1062.34 26.1121 1067.89 32.4315 Q1073.44 38.7509 1073.44 49.9314 Q1073.44 61.0714 1067.89 67.4314 Q1062.34 73.7508 1052.62 73.7508 Q1042.85 73.7508 1037.3 67.4314 Q1031.79 61.0714 1031.79 49.9314 Q1031.79 38.7509 1037.3 32.4315 Q1042.85 26.1121 1052.62 26.1121 Z\" fill=\"#000000\" fill-rule=\"evenodd\" fill-opacity=\"1\" /><path clip-path=\"url(#clip090)\" d=\"M 0 0 M1107.55 34.1734 Q1106.29 33.4443 1104.79 33.1202 Q1103.33 32.7556 1101.55 32.7556 Q1095.23 32.7556 1091.83 36.8875 Q1088.47 40.9789 1088.47 48.6757 L1088.47 72.576 L1080.97 72.576 L1080.97 27.2059 L1088.47 27.2059 L1088.47 34.2544 Q1090.82 30.1225 1094.58 28.1376 Q1098.35 26.1121 1103.74 26.1121 Q1104.51 26.1121 1105.44 26.2337 Q1106.37 26.3147 1107.5 26.5172 L1107.55 34.1734 Z\" fill=\"#000000\" fill-rule=\"evenodd\" fill-opacity=\"1\" /><path clip-path=\"url(#clip090)\" d=\"M 0 0 M1161.3 39.075 Q1155.79 39.075 1152.55 42.8424 Q1149.35 46.6097 1149.35 53.1722 Q1149.35 59.6941 1152.55 63.502 Q1155.79 67.2693 1161.3 67.2693 Q1166.81 67.2693 1170.01 63.502 Q1173.25 59.6941 1173.25 53.1722 Q1173.25 46.6097 1170.01 42.8424 Q1166.81 39.075 1161.3 39.075 M1177.54 13.4328 L1177.54 20.8865 Q1174.47 19.4281 1171.31 18.6585 Q1168.19 17.8888 1165.11 17.8888 Q1157.01 17.8888 1152.71 23.3575 Q1148.46 28.8262 1147.85 39.8852 Q1150.24 36.3609 1153.85 34.4975 Q1157.45 32.5936 1161.79 32.5936 Q1170.9 32.5936 1176.17 38.1433 Q1181.47 43.6525 1181.47 53.1722 Q1181.47 62.4892 1175.97 68.12 Q1170.46 73.7508 1161.3 73.7508 Q1150.81 73.7508 1145.26 65.73 Q1139.71 57.6687 1139.71 42.3968 Q1139.71 28.0566 1146.52 19.5497 Q1153.32 11.0023 1164.78 11.0023 Q1167.86 11.0023 1170.98 11.6099 Q1174.14 12.2175 1177.54 13.4328 Z\" fill=\"#000000\" fill-rule=\"evenodd\" fill-opacity=\"1\" /><path clip-path=\"url(#clip090)\" d=\"M 0 0 M1207.85 17.4837 Q1201.53 17.4837 1198.33 23.7221 Q1195.17 29.92 1195.17 42.3968 Q1195.17 54.833 1198.33 61.0714 Q1201.53 67.2693 1207.85 67.2693 Q1214.21 67.2693 1217.37 61.0714 Q1220.57 54.833 1220.57 42.3968 Q1220.57 29.92 1217.37 23.7221 Q1214.21 17.4837 1207.85 17.4837 M1207.85 11.0023 Q1218.01 11.0023 1223.36 19.0636 Q1228.75 27.0843 1228.75 42.3968 Q1228.75 57.6687 1223.36 65.73 Q1218.01 73.7508 1207.85 73.7508 Q1197.68 73.7508 1192.29 65.73 Q1186.94 57.6687 1186.94 42.3968 Q1186.94 27.0843 1192.29 19.0636 Q1197.68 11.0023 1207.85 11.0023 Z\" fill=\"#000000\" fill-rule=\"evenodd\" fill-opacity=\"1\" /><path clip-path=\"url(#clip090)\" d=\"M 0 0 M1262.94 27.2059 L1270.39 27.2059 L1270.39 72.576 L1262.94 72.576 L1262.94 27.2059 M1262.94 9.54393 L1270.39 9.54393 L1270.39 18.9825 L1262.94 18.9825 L1262.94 9.54393 Z\" fill=\"#000000\" fill-rule=\"evenodd\" fill-opacity=\"1\" /><path clip-path=\"url(#clip090)\" d=\"M 0 0 M1285.58 14.324 L1285.58 27.2059 L1300.94 27.2059 L1300.94 32.9987 L1285.58 32.9987 L1285.58 57.6282 Q1285.58 63.1779 1287.08 64.7578 Q1288.62 66.3376 1293.28 66.3376 L1300.94 66.3376 L1300.94 72.576 L1293.28 72.576 Q1284.65 72.576 1281.37 69.3758 Q1278.09 66.1351 1278.09 57.6282 L1278.09 32.9987 L1272.62 32.9987 L1272.62 27.2059 L1278.09 27.2059 L1278.09 14.324 L1285.58 14.324 Z\" fill=\"#000000\" fill-rule=\"evenodd\" fill-opacity=\"1\" /><path clip-path=\"url(#clip090)\" d=\"M 0 0 M1347.56 48.0275 L1347.56 51.6733 L1313.29 51.6733 Q1313.78 59.3701 1317.91 63.421 Q1322.08 67.4314 1329.49 67.4314 Q1333.79 67.4314 1337.8 66.3781 Q1341.85 65.3249 1345.82 63.2184 L1345.82 70.267 Q1341.81 71.9684 1337.6 72.8596 Q1333.38 73.7508 1329.05 73.7508 Q1318.19 73.7508 1311.83 67.4314 Q1305.51 61.1119 1305.51 50.3365 Q1305.51 39.1965 1311.51 32.6746 Q1317.54 26.1121 1327.75 26.1121 Q1336.91 26.1121 1342.21 32.0264 Q1347.56 37.9003 1347.56 48.0275 M1340.11 45.84 Q1340.03 39.7232 1336.66 36.0774 Q1333.34 32.4315 1327.83 32.4315 Q1321.6 32.4315 1317.83 35.9558 Q1314.1 39.4801 1313.53 45.8805 L1340.11 45.84 Z\" fill=\"#000000\" fill-rule=\"evenodd\" fill-opacity=\"1\" /><path clip-path=\"url(#clip090)\" d=\"M 0 0 M1381.67 34.1734 Q1380.41 33.4443 1378.92 33.1202 Q1377.46 32.7556 1375.67 32.7556 Q1369.36 32.7556 1365.95 36.8875 Q1362.59 40.9789 1362.59 48.6757 L1362.59 72.576 L1355.1 72.576 L1355.1 27.2059 L1362.59 27.2059 L1362.59 34.2544 Q1364.94 30.1225 1368.71 28.1376 Q1372.47 26.1121 1377.86 26.1121 Q1378.63 26.1121 1379.56 26.2337 Q1380.5 26.3147 1381.63 26.5172 L1381.67 34.1734 Z\" fill=\"#000000\" fill-rule=\"evenodd\" fill-opacity=\"1\" /><path clip-path=\"url(#clip090)\" d=\"M 0 0 M1410.11 49.7694 Q1401.07 49.7694 1397.59 51.8354 Q1394.11 53.9013 1394.11 58.8839 Q1394.11 62.8538 1396.7 65.2034 Q1399.33 67.5124 1403.83 67.5124 Q1410.03 67.5124 1413.75 63.1374 Q1417.52 58.7219 1417.52 51.4303 L1417.52 49.7694 L1410.11 49.7694 M1424.97 46.6907 L1424.97 72.576 L1417.52 72.576 L1417.52 65.6895 Q1414.97 69.8214 1411.16 71.8063 Q1407.35 73.7508 1401.84 73.7508 Q1394.88 73.7508 1390.74 69.8619 Q1386.65 65.9325 1386.65 59.3701 Q1386.65 51.7138 1391.76 47.825 Q1396.9 43.9361 1407.07 43.9361 L1417.52 43.9361 L1417.52 43.2069 Q1417.52 38.0623 1414.12 35.2672 Q1410.76 32.4315 1404.64 32.4315 Q1400.75 32.4315 1397.06 33.3632 Q1393.38 34.295 1389.97 36.1584 L1389.97 29.2718 Q1394.07 27.692 1397.91 26.9223 Q1401.76 26.1121 1405.41 26.1121 Q1415.25 26.1121 1420.11 31.2163 Q1424.97 36.3204 1424.97 46.6907 Z\" fill=\"#000000\" fill-rule=\"evenodd\" fill-opacity=\"1\" /><path clip-path=\"url(#clip090)\" d=\"M 0 0 M1440.17 14.324 L1440.17 27.2059 L1455.52 27.2059 L1455.52 32.9987 L1440.17 32.9987 L1440.17 57.6282 Q1440.17 63.1779 1441.66 64.7578 Q1443.2 66.3376 1447.86 66.3376 L1455.52 66.3376 L1455.52 72.576 L1447.86 72.576 Q1439.23 72.576 1435.95 69.3758 Q1432.67 66.1351 1432.67 57.6282 L1432.67 32.9987 L1427.2 32.9987 L1427.2 27.2059 L1432.67 27.2059 L1432.67 14.324 L1440.17 14.324 Z\" fill=\"#000000\" fill-rule=\"evenodd\" fill-opacity=\"1\" /><path clip-path=\"url(#clip090)\" d=\"M 0 0 M1463.34 27.2059 L1470.79 27.2059 L1470.79 72.576 L1463.34 72.576 L1463.34 27.2059 M1463.34 9.54393 L1470.79 9.54393 L1470.79 18.9825 L1463.34 18.9825 L1463.34 9.54393 Z\" fill=\"#000000\" fill-rule=\"evenodd\" fill-opacity=\"1\" /><path clip-path=\"url(#clip090)\" d=\"M 0 0 M1496.19 32.4315 Q1490.19 32.4315 1486.71 37.1306 Q1483.23 41.7891 1483.23 49.9314 Q1483.23 58.0738 1486.67 62.7728 Q1490.15 67.4314 1496.19 67.4314 Q1502.14 67.4314 1505.63 62.7323 Q1509.11 58.0333 1509.11 49.9314 Q1509.11 41.8701 1505.63 37.1711 Q1502.14 32.4315 1496.19 32.4315 M1496.19 26.1121 Q1505.91 26.1121 1511.46 32.4315 Q1517.01 38.7509 1517.01 49.9314 Q1517.01 61.0714 1511.46 67.4314 Q1505.91 73.7508 1496.19 73.7508 Q1486.43 73.7508 1480.88 67.4314 Q1475.37 61.0714 1475.37 49.9314 Q1475.37 38.7509 1480.88 32.4315 Q1486.43 26.1121 1496.19 26.1121 Z\" fill=\"#000000\" fill-rule=\"evenodd\" fill-opacity=\"1\" /><path clip-path=\"url(#clip090)\" d=\"M 0 0 M1562.54 45.1919 L1562.54 72.576 L1555.09 72.576 L1555.09 45.4349 Q1555.09 38.994 1552.58 35.7938 Q1550.07 32.5936 1545.04 32.5936 Q1539.01 32.5936 1535.52 36.4419 Q1532.04 40.2903 1532.04 46.9338 L1532.04 72.576 L1524.55 72.576 L1524.55 27.2059 L1532.04 27.2059 L1532.04 34.2544 Q1534.71 30.163 1538.32 28.1376 Q1541.96 26.1121 1546.7 26.1121 Q1554.52 26.1121 1558.53 30.9732 Q1562.54 35.7938 1562.54 45.1919 Z\" fill=\"#000000\" fill-rule=\"evenodd\" fill-opacity=\"1\" /><path clip-path=\"url(#clip090)\" d=\"M 0 0 M1599.28 28.5427 L1599.28 35.5912 Q1596.12 33.9709 1592.72 33.1607 Q1589.32 32.3505 1585.67 32.3505 Q1580.12 32.3505 1577.33 34.0519 Q1574.57 35.7533 1574.57 39.156 Q1574.57 41.7486 1576.56 43.2475 Q1578.54 44.7058 1584.54 46.0426 L1587.09 46.6097 Q1595.03 48.3111 1598.35 51.4303 Q1601.72 54.509 1601.72 60.0587 Q1601.72 66.3781 1596.69 70.0644 Q1591.71 73.7508 1582.96 73.7508 Q1579.31 73.7508 1575.34 73.0216 Q1571.41 72.3329 1567.04 70.9151 L1567.04 63.2184 Q1571.17 65.3654 1575.18 66.4591 Q1579.19 67.5124 1583.12 67.5124 Q1588.39 67.5124 1591.22 65.73 Q1594.06 63.9071 1594.06 60.6258 Q1594.06 57.5877 1591.99 55.9673 Q1589.97 54.3469 1583.04 52.8481 L1580.45 52.2405 Q1573.52 50.7821 1570.44 47.7845 Q1567.36 44.7463 1567.36 39.4801 Q1567.36 33.0797 1571.9 29.5959 Q1576.44 26.1121 1584.78 26.1121 Q1588.91 26.1121 1592.56 26.7198 Q1596.21 27.3274 1599.28 28.5427 Z\" fill=\"#000000\" fill-rule=\"evenodd\" fill-opacity=\"1\" /><polyline clip-path=\"url(#clip092)\" style=\"stroke:#009af9; stroke-width:4; stroke-opacity:1; fill:none\" points=\"\n",
       "  236.501,1442.47 271.325,1447.27 306.149,1447.81 340.973,1447.87 375.797,1447.79 410.621,1446.98 445.445,1438.02 480.269,1339.45 515.093,1435.83 549.917,1315.35 \n",
       "  584.741,1433.15 619.565,1285.91 654.389,1429.88 689.213,1249.91 724.037,1425.88 758.861,1445.43 793.685,1447.6 828.509,1447.84 863.333,1447.87 898.157,1447.87 \n",
       "  932.981,1447.87 967.805,1447.87 1002.63,1447.87 1037.45,1447.87 1072.28,1447.87 1107.1,1447.87 1141.92,1447.87 1176.75,1447.87 1211.57,1447.87 1246.4,1447.87 \n",
       "  1281.22,1447.87 1316.04,1447.87 1350.87,1447.87 1385.69,1447.87 1420.52,1447.87 1455.34,1447.87 1490.17,1447.87 1524.99,1447.87 1559.81,1447.87 1594.64,1447.87 \n",
       "  1629.46,1447.87 1664.29,1447.87 1699.11,1447.87 1733.93,1447.87 1768.76,1447.87 1803.58,1447.87 1838.41,1447.87 1873.23,1447.87 1908.05,1447.87 1942.88,1447.81 \n",
       "  1977.7,1447.23 2012.53,1440.76 2047.35,1369.62 2082.17,587.114 2117,1352.23 2151.82,1437.25 2186.65,1330.98 2221.47,162.047 2256.29,1305 2291.12,1432 \n",
       "  \n",
       "  \"/>\n",
       "<path clip-path=\"url(#clip090)\" d=\"\n",
       "M1987.15 289.865 L2280.16 289.865 L2280.16 168.905 L1987.15 168.905  Z\n",
       "  \" fill=\"#ffffff\" fill-rule=\"evenodd\" fill-opacity=\"1\"/>\n",
       "<polyline clip-path=\"url(#clip090)\" style=\"stroke:#000000; stroke-width:4; stroke-opacity:1; fill:none\" points=\"\n",
       "  1987.15,289.865 2280.16,289.865 2280.16,168.905 1987.15,168.905 1987.15,289.865 \n",
       "  \"/>\n",
       "<polyline clip-path=\"url(#clip090)\" style=\"stroke:#009af9; stroke-width:4; stroke-opacity:1; fill:none\" points=\"\n",
       "  2011.35,229.385 2156.54,229.385 \n",
       "  \"/>\n",
       "<path clip-path=\"url(#clip090)\" d=\"M 0 0 M2194.59 249.072 Q2192.78 253.702 2191.07 255.114 Q2189.35 256.526 2186.48 256.526 L2183.08 256.526 L2183.08 252.961 L2185.58 252.961 Q2187.34 252.961 2188.31 252.128 Q2189.29 251.294 2190.47 248.192 L2191.23 246.248 L2180.74 220.739 L2185.26 220.739 L2193.36 241.017 L2201.46 220.739 L2205.97 220.739 L2194.59 249.072 Z\" fill=\"#000000\" fill-rule=\"evenodd\" fill-opacity=\"1\" /><path clip-path=\"url(#clip090)\" d=\"M 0 0 M2211.85 242.729 L2219.49 242.729 L2219.49 216.364 L2211.18 218.031 L2211.18 213.771 L2219.45 212.105 L2224.12 212.105 L2224.12 242.729 L2231.76 242.729 L2231.76 246.665 L2211.85 246.665 L2211.85 242.729 Z\" fill=\"#000000\" fill-rule=\"evenodd\" fill-opacity=\"1\" /></svg>\n"
      ]
     },
     "execution_count": 139,
     "metadata": {},
     "output_type": "execute_result"
    }
   ],
   "source": [
    "plot(x_iter, λvalues, title=\"λ for $(length(lossvalues)) iterations\")"
   ]
  },
  {
   "cell_type": "markdown",
   "id": "intense-damages",
   "metadata": {},
   "source": [
    "# Fitted parameters against the data, not great!"
   ]
  },
  {
   "cell_type": "code",
   "execution_count": 140,
   "id": "robust-moment",
   "metadata": {},
   "outputs": [
    {
     "data": {
      "image/svg+xml": [
       "<?xml version=\"1.0\" encoding=\"utf-8\"?>\n",
       "<svg xmlns=\"http://www.w3.org/2000/svg\" xmlns:xlink=\"http://www.w3.org/1999/xlink\" width=\"600\" height=\"400\" viewBox=\"0 0 2400 1600\">\n",
       "<defs>\n",
       "  <clipPath id=\"clip130\">\n",
       "    <rect x=\"0\" y=\"0\" width=\"2400\" height=\"1600\"/>\n",
       "  </clipPath>\n",
       "</defs>\n",
       "<path clip-path=\"url(#clip130)\" d=\"\n",
       "M0 1600 L2400 1600 L2400 0 L0 0  Z\n",
       "  \" fill=\"#ffffff\" fill-rule=\"evenodd\" fill-opacity=\"1\"/>\n",
       "<defs>\n",
       "  <clipPath id=\"clip131\">\n",
       "    <rect x=\"480\" y=\"0\" width=\"1681\" height=\"1600\"/>\n",
       "  </clipPath>\n",
       "</defs>\n",
       "<path clip-path=\"url(#clip130)\" d=\"\n",
       "M148.334 1486.45 L2352.76 1486.45 L2352.76 47.2441 L148.334 47.2441  Z\n",
       "  \" fill=\"#ffffff\" fill-rule=\"evenodd\" fill-opacity=\"1\"/>\n",
       "<defs>\n",
       "  <clipPath id=\"clip132\">\n",
       "    <rect x=\"148\" y=\"47\" width=\"2205\" height=\"1440\"/>\n",
       "  </clipPath>\n",
       "</defs>\n",
       "<polyline clip-path=\"url(#clip132)\" style=\"stroke:#000000; stroke-width:2; stroke-opacity:0.1; fill:none\" points=\"\n",
       "  210.724,1486.45 210.724,47.2441 \n",
       "  \"/>\n",
       "<polyline clip-path=\"url(#clip132)\" style=\"stroke:#000000; stroke-width:2; stroke-opacity:0.1; fill:none\" points=\"\n",
       "  730.634,1486.45 730.634,47.2441 \n",
       "  \"/>\n",
       "<polyline clip-path=\"url(#clip132)\" style=\"stroke:#000000; stroke-width:2; stroke-opacity:0.1; fill:none\" points=\"\n",
       "  1250.55,1486.45 1250.55,47.2441 \n",
       "  \"/>\n",
       "<polyline clip-path=\"url(#clip132)\" style=\"stroke:#000000; stroke-width:2; stroke-opacity:0.1; fill:none\" points=\"\n",
       "  1770.46,1486.45 1770.46,47.2441 \n",
       "  \"/>\n",
       "<polyline clip-path=\"url(#clip132)\" style=\"stroke:#000000; stroke-width:2; stroke-opacity:0.1; fill:none\" points=\"\n",
       "  2290.37,1486.45 2290.37,47.2441 \n",
       "  \"/>\n",
       "<polyline clip-path=\"url(#clip130)\" style=\"stroke:#000000; stroke-width:4; stroke-opacity:1; fill:none\" points=\"\n",
       "  148.334,1486.45 2352.76,1486.45 \n",
       "  \"/>\n",
       "<polyline clip-path=\"url(#clip130)\" style=\"stroke:#000000; stroke-width:4; stroke-opacity:1; fill:none\" points=\"\n",
       "  210.724,1486.45 210.724,1469.18 \n",
       "  \"/>\n",
       "<polyline clip-path=\"url(#clip130)\" style=\"stroke:#000000; stroke-width:4; stroke-opacity:1; fill:none\" points=\"\n",
       "  730.634,1486.45 730.634,1469.18 \n",
       "  \"/>\n",
       "<polyline clip-path=\"url(#clip130)\" style=\"stroke:#000000; stroke-width:4; stroke-opacity:1; fill:none\" points=\"\n",
       "  1250.55,1486.45 1250.55,1469.18 \n",
       "  \"/>\n",
       "<polyline clip-path=\"url(#clip130)\" style=\"stroke:#000000; stroke-width:4; stroke-opacity:1; fill:none\" points=\"\n",
       "  1770.46,1486.45 1770.46,1469.18 \n",
       "  \"/>\n",
       "<polyline clip-path=\"url(#clip130)\" style=\"stroke:#000000; stroke-width:4; stroke-opacity:1; fill:none\" points=\"\n",
       "  2290.37,1486.45 2290.37,1469.18 \n",
       "  \"/>\n",
       "<path clip-path=\"url(#clip130)\" d=\"M 0 0 M210.724 1515.64 Q207.113 1515.64 205.284 1519.2 Q203.478 1522.75 203.478 1529.87 Q203.478 1536.98 205.284 1540.55 Q207.113 1544.09 210.724 1544.09 Q214.358 1544.09 216.163 1540.55 Q217.992 1536.98 217.992 1529.87 Q217.992 1522.75 216.163 1519.2 Q214.358 1515.64 210.724 1515.64 M210.724 1511.93 Q216.534 1511.93 219.589 1516.54 Q222.668 1521.12 222.668 1529.87 Q222.668 1538.6 219.589 1543.21 Q216.534 1547.79 210.724 1547.79 Q204.914 1547.79 201.835 1543.21 Q198.779 1538.6 198.779 1529.87 Q198.779 1521.12 201.835 1516.54 Q204.914 1511.93 210.724 1511.93 Z\" fill=\"#000000\" fill-rule=\"evenodd\" fill-opacity=\"1\" /><path clip-path=\"url(#clip130)\" d=\"M 0 0 M720.912 1512.56 L739.269 1512.56 L739.269 1516.5 L725.195 1516.5 L725.195 1524.97 Q726.213 1524.62 727.232 1524.46 Q728.25 1524.27 729.269 1524.27 Q735.056 1524.27 738.435 1527.44 Q741.815 1530.62 741.815 1536.03 Q741.815 1541.61 738.343 1544.71 Q734.871 1547.79 728.551 1547.79 Q726.375 1547.79 724.107 1547.42 Q721.861 1547.05 719.454 1546.31 L719.454 1541.61 Q721.537 1542.74 723.759 1543.3 Q725.982 1543.86 728.458 1543.86 Q732.463 1543.86 734.801 1541.75 Q737.139 1539.64 737.139 1536.03 Q737.139 1532.42 734.801 1530.31 Q732.463 1528.21 728.458 1528.21 Q726.584 1528.21 724.709 1528.62 Q722.857 1529.04 720.912 1529.92 L720.912 1512.56 Z\" fill=\"#000000\" fill-rule=\"evenodd\" fill-opacity=\"1\" /><path clip-path=\"url(#clip130)\" d=\"M 0 0 M1227.42 1543.18 L1235.06 1543.18 L1235.06 1516.82 L1226.75 1518.49 L1226.75 1514.23 L1235.01 1512.56 L1239.69 1512.56 L1239.69 1543.18 L1247.33 1543.18 L1247.33 1547.12 L1227.42 1547.12 L1227.42 1543.18 Z\" fill=\"#000000\" fill-rule=\"evenodd\" fill-opacity=\"1\" /><path clip-path=\"url(#clip130)\" d=\"M 0 0 M1262.4 1515.64 Q1258.79 1515.64 1256.96 1519.2 Q1255.15 1522.75 1255.15 1529.87 Q1255.15 1536.98 1256.96 1540.55 Q1258.79 1544.09 1262.4 1544.09 Q1266.03 1544.09 1267.84 1540.55 Q1269.67 1536.98 1269.67 1529.87 Q1269.67 1522.75 1267.84 1519.2 Q1266.03 1515.64 1262.4 1515.64 M1262.4 1511.93 Q1268.21 1511.93 1271.26 1516.54 Q1274.34 1521.12 1274.34 1529.87 Q1274.34 1538.6 1271.26 1543.21 Q1268.21 1547.79 1262.4 1547.79 Q1256.59 1547.79 1253.51 1543.21 Q1250.45 1538.6 1250.45 1529.87 Q1250.45 1521.12 1253.51 1516.54 Q1256.59 1511.93 1262.4 1511.93 Z\" fill=\"#000000\" fill-rule=\"evenodd\" fill-opacity=\"1\" /><path clip-path=\"url(#clip130)\" d=\"M 0 0 M1747.83 1543.18 L1755.47 1543.18 L1755.47 1516.82 L1747.16 1518.49 L1747.16 1514.23 L1755.42 1512.56 L1760.1 1512.56 L1760.1 1543.18 L1767.74 1543.18 L1767.74 1547.12 L1747.83 1547.12 L1747.83 1543.18 Z\" fill=\"#000000\" fill-rule=\"evenodd\" fill-opacity=\"1\" /><path clip-path=\"url(#clip130)\" d=\"M 0 0 M1772.85 1512.56 L1791.21 1512.56 L1791.21 1516.5 L1777.13 1516.5 L1777.13 1524.97 Q1778.15 1524.62 1779.17 1524.46 Q1780.19 1524.27 1781.21 1524.27 Q1787 1524.27 1790.37 1527.44 Q1793.75 1530.62 1793.75 1536.03 Q1793.75 1541.61 1790.28 1544.71 Q1786.81 1547.79 1780.49 1547.79 Q1778.31 1547.79 1776.05 1547.42 Q1773.8 1547.05 1771.39 1546.31 L1771.39 1541.61 Q1773.48 1542.74 1775.7 1543.3 Q1777.92 1543.86 1780.4 1543.86 Q1784.4 1543.86 1786.74 1541.75 Q1789.08 1539.64 1789.08 1536.03 Q1789.08 1532.42 1786.74 1530.31 Q1784.4 1528.21 1780.4 1528.21 Q1778.52 1528.21 1776.65 1528.62 Q1774.8 1529.04 1772.85 1529.92 L1772.85 1512.56 Z\" fill=\"#000000\" fill-rule=\"evenodd\" fill-opacity=\"1\" /><path clip-path=\"url(#clip130)\" d=\"M 0 0 M2271.51 1543.18 L2287.83 1543.18 L2287.83 1547.12 L2265.89 1547.12 L2265.89 1543.18 Q2268.55 1540.43 2273.13 1535.8 Q2277.74 1531.15 2278.92 1529.81 Q2281.17 1527.28 2282.04 1525.55 Q2282.95 1523.79 2282.95 1522.1 Q2282.95 1519.34 2281 1517.61 Q2279.08 1515.87 2275.98 1515.87 Q2273.78 1515.87 2271.33 1516.63 Q2268.9 1517.4 2266.12 1518.95 L2266.12 1514.23 Q2268.94 1513.09 2271.4 1512.51 Q2273.85 1511.93 2275.89 1511.93 Q2281.26 1511.93 2284.45 1514.62 Q2287.65 1517.31 2287.65 1521.8 Q2287.65 1523.93 2286.84 1525.85 Q2286.05 1527.74 2283.94 1530.34 Q2283.36 1531.01 2280.26 1534.23 Q2277.16 1537.42 2271.51 1543.18 Z\" fill=\"#000000\" fill-rule=\"evenodd\" fill-opacity=\"1\" /><path clip-path=\"url(#clip130)\" d=\"M 0 0 M2302.9 1515.64 Q2299.29 1515.64 2297.46 1519.2 Q2295.66 1522.75 2295.66 1529.87 Q2295.66 1536.98 2297.46 1540.55 Q2299.29 1544.09 2302.9 1544.09 Q2306.54 1544.09 2308.34 1540.55 Q2310.17 1536.98 2310.17 1529.87 Q2310.17 1522.75 2308.34 1519.2 Q2306.54 1515.64 2302.9 1515.64 M2302.9 1511.93 Q2308.71 1511.93 2311.77 1516.54 Q2314.85 1521.12 2314.85 1529.87 Q2314.85 1538.6 2311.77 1543.21 Q2308.71 1547.79 2302.9 1547.79 Q2297.09 1547.79 2294.01 1543.21 Q2290.96 1538.6 2290.96 1529.87 Q2290.96 1521.12 2294.01 1516.54 Q2297.09 1511.93 2302.9 1511.93 Z\" fill=\"#000000\" fill-rule=\"evenodd\" fill-opacity=\"1\" /><polyline clip-path=\"url(#clip132)\" style=\"stroke:#000000; stroke-width:2; stroke-opacity:0.1; fill:none\" points=\"\n",
       "  148.334,1445.22 2352.76,1445.22 \n",
       "  \"/>\n",
       "<polyline clip-path=\"url(#clip132)\" style=\"stroke:#000000; stroke-width:2; stroke-opacity:0.1; fill:none\" points=\"\n",
       "  148.334,1130.47 2352.76,1130.47 \n",
       "  \"/>\n",
       "<polyline clip-path=\"url(#clip132)\" style=\"stroke:#000000; stroke-width:2; stroke-opacity:0.1; fill:none\" points=\"\n",
       "  148.334,815.719 2352.76,815.719 \n",
       "  \"/>\n",
       "<polyline clip-path=\"url(#clip132)\" style=\"stroke:#000000; stroke-width:2; stroke-opacity:0.1; fill:none\" points=\"\n",
       "  148.334,500.967 2352.76,500.967 \n",
       "  \"/>\n",
       "<polyline clip-path=\"url(#clip132)\" style=\"stroke:#000000; stroke-width:2; stroke-opacity:0.1; fill:none\" points=\"\n",
       "  148.334,186.216 2352.76,186.216 \n",
       "  \"/>\n",
       "<polyline clip-path=\"url(#clip130)\" style=\"stroke:#000000; stroke-width:4; stroke-opacity:1; fill:none\" points=\"\n",
       "  148.334,1486.45 148.334,47.2441 \n",
       "  \"/>\n",
       "<polyline clip-path=\"url(#clip130)\" style=\"stroke:#000000; stroke-width:4; stroke-opacity:1; fill:none\" points=\"\n",
       "  148.334,1445.22 174.787,1445.22 \n",
       "  \"/>\n",
       "<polyline clip-path=\"url(#clip130)\" style=\"stroke:#000000; stroke-width:4; stroke-opacity:1; fill:none\" points=\"\n",
       "  148.334,1130.47 174.787,1130.47 \n",
       "  \"/>\n",
       "<polyline clip-path=\"url(#clip130)\" style=\"stroke:#000000; stroke-width:4; stroke-opacity:1; fill:none\" points=\"\n",
       "  148.334,815.719 174.787,815.719 \n",
       "  \"/>\n",
       "<polyline clip-path=\"url(#clip130)\" style=\"stroke:#000000; stroke-width:4; stroke-opacity:1; fill:none\" points=\"\n",
       "  148.334,500.967 174.787,500.967 \n",
       "  \"/>\n",
       "<polyline clip-path=\"url(#clip130)\" style=\"stroke:#000000; stroke-width:4; stroke-opacity:1; fill:none\" points=\"\n",
       "  148.334,186.216 174.787,186.216 \n",
       "  \"/>\n",
       "<path clip-path=\"url(#clip130)\" d=\"M 0 0 M62.9365 1431.02 Q59.3254 1431.02 57.4967 1434.58 Q55.6912 1438.13 55.6912 1445.26 Q55.6912 1452.36 57.4967 1455.93 Q59.3254 1459.47 62.9365 1459.47 Q66.5707 1459.47 68.3763 1455.93 Q70.205 1452.36 70.205 1445.26 Q70.205 1438.13 68.3763 1434.58 Q66.5707 1431.02 62.9365 1431.02 M62.9365 1427.32 Q68.7467 1427.32 71.8022 1431.92 Q74.8809 1436.51 74.8809 1445.26 Q74.8809 1453.98 71.8022 1458.59 Q68.7467 1463.17 62.9365 1463.17 Q57.1264 1463.17 54.0477 1458.59 Q50.9921 1453.98 50.9921 1445.26 Q50.9921 1436.51 54.0477 1431.92 Q57.1264 1427.32 62.9365 1427.32 Z\" fill=\"#000000\" fill-rule=\"evenodd\" fill-opacity=\"1\" /><path clip-path=\"url(#clip130)\" d=\"M 0 0 M79.9503 1456.62 L84.8345 1456.62 L84.8345 1462.5 L79.9503 1462.5 L79.9503 1456.62 Z\" fill=\"#000000\" fill-rule=\"evenodd\" fill-opacity=\"1\" /><path clip-path=\"url(#clip130)\" d=\"M 0 0 M102.751 1432.02 L90.9456 1450.46 L102.751 1450.46 L102.751 1432.02 M101.524 1427.94 L107.404 1427.94 L107.404 1450.46 L112.334 1450.46 L112.334 1454.35 L107.404 1454.35 L107.404 1462.5 L102.751 1462.5 L102.751 1454.35 L87.1493 1454.35 L87.1493 1449.84 L101.524 1427.94 Z\" fill=\"#000000\" fill-rule=\"evenodd\" fill-opacity=\"1\" /><path clip-path=\"url(#clip130)\" d=\"M 0 0 M64.418 1116.27 Q60.8069 1116.27 58.9782 1119.83 Q57.1726 1123.38 57.1726 1130.5 Q57.1726 1137.61 58.9782 1141.18 Q60.8069 1144.72 64.418 1144.72 Q68.0522 1144.72 69.8578 1141.18 Q71.6865 1137.61 71.6865 1130.5 Q71.6865 1123.38 69.8578 1119.83 Q68.0522 1116.27 64.418 1116.27 M64.418 1112.56 Q70.2281 1112.56 73.2837 1117.17 Q76.3624 1121.75 76.3624 1130.5 Q76.3624 1139.23 73.2837 1143.84 Q70.2281 1148.42 64.418 1148.42 Q58.6078 1148.42 55.5291 1143.84 Q52.4736 1139.23 52.4736 1130.5 Q52.4736 1121.75 55.5291 1117.17 Q58.6078 1112.56 64.418 1112.56 Z\" fill=\"#000000\" fill-rule=\"evenodd\" fill-opacity=\"1\" /><path clip-path=\"url(#clip130)\" d=\"M 0 0 M81.4318 1141.87 L86.316 1141.87 L86.316 1147.75 L81.4318 1147.75 L81.4318 1141.87 Z\" fill=\"#000000\" fill-rule=\"evenodd\" fill-opacity=\"1\" /><path clip-path=\"url(#clip130)\" d=\"M 0 0 M91.4317 1113.19 L109.788 1113.19 L109.788 1117.13 L95.7141 1117.13 L95.7141 1125.6 Q96.7326 1125.25 97.7511 1125.09 Q98.7696 1124.9 99.7882 1124.9 Q105.575 1124.9 108.955 1128.07 Q112.334 1131.25 112.334 1136.66 Q112.334 1142.24 108.862 1145.34 Q105.39 1148.42 99.0706 1148.42 Q96.8947 1148.42 94.6262 1148.05 Q92.3808 1147.68 89.9734 1146.94 L89.9734 1142.24 Q92.0567 1143.37 94.2789 1143.93 Q96.5011 1144.49 98.978 1144.49 Q102.983 1144.49 105.321 1142.38 Q107.658 1140.27 107.658 1136.66 Q107.658 1133.05 105.321 1130.94 Q102.983 1128.84 98.978 1128.84 Q97.103 1128.84 95.228 1129.25 Q93.3762 1129.67 91.4317 1130.55 L91.4317 1113.19 Z\" fill=\"#000000\" fill-rule=\"evenodd\" fill-opacity=\"1\" /><path clip-path=\"url(#clip130)\" d=\"M 0 0 M63.2606 801.517 Q59.6495 801.517 57.8208 805.082 Q56.0152 808.624 56.0152 815.753 Q56.0152 822.86 57.8208 826.425 Q59.6495 829.966 63.2606 829.966 Q66.8948 829.966 68.7004 826.425 Q70.5291 822.86 70.5291 815.753 Q70.5291 808.624 68.7004 805.082 Q66.8948 801.517 63.2606 801.517 M63.2606 797.814 Q69.0707 797.814 72.1263 802.42 Q75.205 807.003 75.205 815.753 Q75.205 824.48 72.1263 829.087 Q69.0707 833.67 63.2606 833.67 Q57.4504 833.67 54.3717 829.087 Q51.3162 824.48 51.3162 815.753 Q51.3162 807.003 54.3717 802.42 Q57.4504 797.814 63.2606 797.814 Z\" fill=\"#000000\" fill-rule=\"evenodd\" fill-opacity=\"1\" /><path clip-path=\"url(#clip130)\" d=\"M 0 0 M80.2744 827.119 L85.1586 827.119 L85.1586 832.999 L80.2744 832.999 L80.2744 827.119 Z\" fill=\"#000000\" fill-rule=\"evenodd\" fill-opacity=\"1\" /><path clip-path=\"url(#clip130)\" d=\"M 0 0 M100.807 813.855 Q97.6585 813.855 95.8067 816.008 Q93.978 818.161 93.978 821.911 Q93.978 825.638 95.8067 827.814 Q97.6585 829.966 100.807 829.966 Q103.955 829.966 105.783 827.814 Q107.635 825.638 107.635 821.911 Q107.635 818.161 105.783 816.008 Q103.955 813.855 100.807 813.855 M110.089 799.203 L110.089 803.462 Q108.33 802.628 106.524 802.189 Q104.742 801.749 102.983 801.749 Q98.353 801.749 95.8993 804.874 Q93.4688 807.999 93.1215 814.318 Q94.4873 812.304 96.5474 811.24 Q98.6076 810.152 101.084 810.152 Q106.293 810.152 109.302 813.323 Q112.334 816.471 112.334 821.911 Q112.334 827.235 109.186 830.452 Q106.038 833.67 100.807 833.67 Q94.8113 833.67 91.6401 829.087 Q88.4688 824.48 88.4688 815.753 Q88.4688 807.559 92.3576 802.698 Q96.2465 797.814 102.797 797.814 Q104.557 797.814 106.339 798.161 Q108.145 798.508 110.089 799.203 Z\" fill=\"#000000\" fill-rule=\"evenodd\" fill-opacity=\"1\" /><path clip-path=\"url(#clip130)\" d=\"M 0 0 M64.3254 486.766 Q60.7143 486.766 58.8856 490.331 Q57.0801 493.873 57.0801 501.002 Q57.0801 508.109 58.8856 511.673 Q60.7143 515.215 64.3254 515.215 Q67.9596 515.215 69.7652 511.673 Q71.5939 508.109 71.5939 501.002 Q71.5939 493.873 69.7652 490.331 Q67.9596 486.766 64.3254 486.766 M64.3254 483.063 Q70.1355 483.063 73.1911 487.669 Q76.2698 492.252 76.2698 501.002 Q76.2698 509.729 73.1911 514.335 Q70.1355 518.919 64.3254 518.919 Q58.5152 518.919 55.4365 514.335 Q52.381 509.729 52.381 501.002 Q52.381 492.252 55.4365 487.669 Q58.5152 483.063 64.3254 483.063 Z\" fill=\"#000000\" fill-rule=\"evenodd\" fill-opacity=\"1\" /><path clip-path=\"url(#clip130)\" d=\"M 0 0 M81.3392 512.368 L86.2234 512.368 L86.2234 518.247 L81.3392 518.247 L81.3392 512.368 Z\" fill=\"#000000\" fill-rule=\"evenodd\" fill-opacity=\"1\" /><path clip-path=\"url(#clip130)\" d=\"M 0 0 M90.1123 483.687 L112.334 483.687 L112.334 485.678 L99.7882 518.247 L94.9039 518.247 L106.709 487.623 L90.1123 487.623 L90.1123 483.687 Z\" fill=\"#000000\" fill-rule=\"evenodd\" fill-opacity=\"1\" /><path clip-path=\"url(#clip130)\" d=\"M 0 0 M63.5152 172.015 Q59.9041 172.015 58.0754 175.58 Q56.2699 179.121 56.2699 186.251 Q56.2699 193.357 58.0754 196.922 Q59.9041 200.464 63.5152 200.464 Q67.1494 200.464 68.955 196.922 Q70.7837 193.357 70.7837 186.251 Q70.7837 179.121 68.955 175.58 Q67.1494 172.015 63.5152 172.015 M63.5152 168.311 Q69.3254 168.311 72.3809 172.918 Q75.4596 177.501 75.4596 186.251 Q75.4596 194.978 72.3809 199.584 Q69.3254 204.168 63.5152 204.168 Q57.7051 204.168 54.6264 199.584 Q51.5708 194.978 51.5708 186.251 Q51.5708 177.501 54.6264 172.918 Q57.7051 168.311 63.5152 168.311 Z\" fill=\"#000000\" fill-rule=\"evenodd\" fill-opacity=\"1\" /><path clip-path=\"url(#clip130)\" d=\"M 0 0 M80.529 197.617 L85.4132 197.617 L85.4132 203.496 L80.529 203.496 L80.529 197.617 Z\" fill=\"#000000\" fill-rule=\"evenodd\" fill-opacity=\"1\" /><path clip-path=\"url(#clip130)\" d=\"M 0 0 M100.483 187.084 Q97.1493 187.084 95.228 188.867 Q93.3299 190.649 93.3299 193.774 Q93.3299 196.899 95.228 198.682 Q97.1493 200.464 100.483 200.464 Q103.816 200.464 105.737 198.682 Q107.658 196.876 107.658 193.774 Q107.658 190.649 105.737 188.867 Q103.839 187.084 100.483 187.084 M95.8067 185.094 Q92.7975 184.353 91.1077 182.293 Q89.441 180.233 89.441 177.27 Q89.441 173.126 92.3808 170.719 Q95.3437 168.311 100.483 168.311 Q105.645 168.311 108.584 170.719 Q111.524 173.126 111.524 177.27 Q111.524 180.233 109.834 182.293 Q108.168 184.353 105.182 185.094 Q108.561 185.881 110.436 188.172 Q112.334 190.464 112.334 193.774 Q112.334 198.797 109.256 201.482 Q106.2 204.168 100.483 204.168 Q94.765 204.168 91.6864 201.482 Q88.6308 198.797 88.6308 193.774 Q88.6308 190.464 90.529 188.172 Q92.4271 185.881 95.8067 185.094 M94.0937 177.709 Q94.0937 180.395 95.7604 181.899 Q97.4502 183.404 100.483 183.404 Q103.492 183.404 105.182 181.899 Q106.895 180.395 106.895 177.709 Q106.895 175.024 105.182 173.52 Q103.492 172.015 100.483 172.015 Q97.4502 172.015 95.7604 173.52 Q94.0937 175.024 94.0937 177.709 Z\" fill=\"#000000\" fill-rule=\"evenodd\" fill-opacity=\"1\" /><polyline clip-path=\"url(#clip132)\" style=\"stroke:#009af9; stroke-width:4; stroke-opacity:1; fill:none\" points=\"\n",
       "  210.724,87.9763 221.122,253.436 231.52,410.352 241.918,555.225 252.317,686.275 262.715,802.915 273.113,905.358 283.511,994.329 293.909,1070.86 304.308,1136.13 \n",
       "  314.706,1191.38 325.104,1237.82 335.502,1276.61 345.9,1308.82 356.299,1335.42 366.697,1357.27 377.095,1375.12 387.493,1389.64 397.892,1401.38 408.29,1410.84 \n",
       "  418.688,1418.41 429.086,1424.45 439.484,1429.24 449.883,1433.02 460.281,1435.99 470.679,1438.3 481.077,1440.09 491.475,1441.47 501.874,1442.53 512.272,1443.33 \n",
       "  522.67,1443.93 533.068,1444.38 543.467,1444.7 553.865,1444.94 564.263,1445.11 574.661,1445.22 585.059,1445.3 595.458,1445.35 605.856,1445.38 616.254,1445.39 \n",
       "  626.652,1445.39 637.05,1445.39 647.449,1445.38 657.847,1445.38 668.245,1445.36 678.643,1445.35 689.042,1445.34 699.44,1445.33 709.838,1445.32 720.236,1445.32 \n",
       "  730.634,1445.31 741.033,1445.3 751.431,1445.3 761.829,1445.29 772.227,1445.29 782.625,1445.28 793.024,1445.28 803.422,1445.28 813.82,1445.28 824.218,1445.27 \n",
       "  834.617,1445.27 845.015,1445.27 855.413,1445.27 865.811,1445.27 876.209,1445.27 886.608,1445.27 897.006,1445.27 907.404,1445.27 917.802,1445.27 928.2,1445.27 \n",
       "  938.599,1445.27 948.997,1445.27 959.395,1445.27 969.793,1445.27 980.192,1445.27 990.59,1445.27 1000.99,1445.27 1011.39,1445.27 1021.78,1445.27 1032.18,1445.27 \n",
       "  1042.58,1445.27 1052.98,1445.27 1063.38,1445.27 1073.78,1445.27 1084.17,1445.27 1094.57,1445.27 1104.97,1445.27 1115.37,1445.27 1125.77,1445.27 1136.16,1445.27 \n",
       "  1146.56,1445.27 1156.96,1445.27 1167.36,1445.27 1177.76,1445.27 1188.16,1445.27 1198.55,1445.27 1208.95,1445.27 1219.35,1445.27 1229.75,1445.27 1240.15,1445.27 \n",
       "  1250.55,1445.27 1260.94,1445.27 1271.34,1445.27 1281.74,1445.27 1292.14,1445.27 1302.54,1445.27 1312.93,1445.27 1323.33,1445.27 1333.73,1445.27 1344.13,1445.27 \n",
       "  1354.53,1445.27 1364.93,1445.27 1375.32,1445.27 1385.72,1445.27 1396.12,1445.27 1406.52,1445.27 1416.92,1445.27 1427.31,1445.27 1437.71,1445.27 1448.11,1445.27 \n",
       "  1458.51,1445.27 1468.91,1445.27 1479.31,1445.27 1489.7,1445.27 1500.1,1445.27 1510.5,1445.27 1520.9,1445.27 1531.3,1445.27 1541.7,1445.27 1552.09,1445.27 \n",
       "  1562.49,1445.27 1572.89,1445.27 1583.29,1445.27 1593.69,1445.27 1604.08,1445.27 1614.48,1445.27 1624.88,1445.27 1635.28,1445.27 1645.68,1445.27 1656.08,1445.27 \n",
       "  1666.47,1445.27 1676.87,1445.27 1687.27,1445.27 1697.67,1445.27 1708.07,1445.27 1718.46,1445.27 1728.86,1445.27 1739.26,1445.27 1749.66,1445.27 1760.06,1445.27 \n",
       "  1770.46,1445.27 1780.85,1445.27 1791.25,1445.27 1801.65,1445.27 1812.05,1445.27 1822.45,1445.27 1832.85,1445.27 1843.24,1445.27 1853.64,1445.27 1864.04,1445.27 \n",
       "  1874.44,1445.27 1884.84,1445.27 1895.23,1445.27 1905.63,1445.27 1916.03,1445.27 1926.43,1445.27 1936.83,1445.27 1947.23,1445.27 1957.62,1445.27 1968.02,1445.27 \n",
       "  1978.42,1445.27 1988.82,1445.27 1999.22,1445.27 2009.61,1445.27 2020.01,1445.27 2030.41,1445.27 2040.81,1445.27 2051.21,1445.27 2061.61,1445.27 2072,1445.27 \n",
       "  2082.4,1445.27 2092.8,1445.27 2103.2,1445.27 2113.6,1445.27 2124,1445.27 2134.39,1445.27 2144.79,1445.27 2155.19,1445.27 2165.59,1445.27 2175.99,1445.27 \n",
       "  2186.38,1445.27 2196.78,1445.27 2207.18,1445.27 2217.58,1445.27 2227.98,1445.27 2238.38,1445.27 2248.77,1445.27 2259.17,1445.27 2269.57,1445.27 2279.97,1445.27 \n",
       "  2290.37,1445.27 \n",
       "  \"/>\n",
       "<polyline clip-path=\"url(#clip132)\" style=\"stroke:#e26f46; stroke-width:4; stroke-opacity:1; fill:none\" points=\"\n",
       "  210.724,90.489 221.122,258.462 231.52,415.515 241.918,559.366 252.317,688.977 262.715,804.189 273.113,905.432 283.511,993.518 293.909,1069.49 304.308,1134.48 \n",
       "  314.706,1189.69 325.104,1236.28 335.502,1275.33 345.9,1307.87 356.299,1334.83 366.697,1357.03 377.095,1375.22 387.493,1390.04 397.892,1402.04 408.29,1411.7 \n",
       "  418.688,1419.43 429.086,1425.58 439.484,1430.43 449.883,1434.24 460.281,1437.21 470.679,1439.5 481.077,1441.24 491.475,1442.57 501.874,1443.55 512.272,1444.27 \n",
       "  522.67,1444.79 533.068,1445.16 543.467,1445.4 553.865,1445.56 564.263,1445.66 574.661,1445.7 585.059,1445.72 595.458,1445.71 605.856,1445.68 616.254,1445.65 \n",
       "  626.652,1445.61 637.05,1445.57 647.449,1445.53 657.847,1445.49 668.245,1445.45 678.643,1445.42 689.042,1445.39 699.44,1445.37 709.838,1445.34 720.236,1445.32 \n",
       "  730.634,1445.31 741.033,1445.29 751.431,1445.28 761.829,1445.27 772.227,1445.26 782.625,1445.25 793.024,1445.25 803.422,1445.24 813.82,1445.24 824.218,1445.23 \n",
       "  834.617,1445.23 845.015,1445.23 855.413,1445.23 865.811,1445.23 876.209,1445.22 886.608,1445.22 897.006,1445.22 907.404,1445.22 917.802,1445.22 928.2,1445.22 \n",
       "  938.599,1445.22 948.997,1445.22 959.395,1445.22 969.793,1445.22 980.192,1445.22 990.59,1445.22 1000.99,1445.22 1011.39,1445.22 1021.78,1445.22 1032.18,1445.22 \n",
       "  1042.58,1445.22 1052.98,1445.22 1063.38,1445.22 1073.78,1445.22 1084.17,1445.22 1094.57,1445.22 1104.97,1445.22 1115.37,1445.22 1125.77,1445.22 1136.16,1445.22 \n",
       "  1146.56,1445.22 1156.96,1445.22 1167.36,1445.22 1177.76,1445.22 1188.16,1445.22 1198.55,1445.22 1208.95,1445.22 1219.35,1445.22 1229.75,1445.22 1240.15,1445.22 \n",
       "  1250.55,1445.22 1260.94,1445.22 1271.34,1445.22 1281.74,1445.22 1292.14,1445.22 1302.54,1445.22 1312.93,1445.22 1323.33,1445.22 1333.73,1445.22 1344.13,1445.22 \n",
       "  1354.53,1445.22 1364.93,1445.22 1375.32,1445.22 1385.72,1445.22 1396.12,1445.22 1406.52,1445.22 1416.92,1445.22 1427.31,1445.22 1437.71,1445.22 1448.11,1445.22 \n",
       "  1458.51,1445.22 1468.91,1445.22 1479.31,1445.22 1489.7,1445.22 1500.1,1445.22 1510.5,1445.22 1520.9,1445.22 1531.3,1445.22 1541.7,1445.22 1552.09,1445.22 \n",
       "  1562.49,1445.22 1572.89,1445.22 1583.29,1445.22 1593.69,1445.22 1604.08,1445.22 1614.48,1445.22 1624.88,1445.22 1635.28,1445.22 1645.68,1445.22 1656.08,1445.22 \n",
       "  1666.47,1445.22 1676.87,1445.22 1687.27,1445.22 1697.67,1445.22 1708.07,1445.22 1718.46,1445.22 1728.86,1445.22 1739.26,1445.22 1749.66,1445.22 1760.06,1445.22 \n",
       "  1770.46,1445.22 1780.85,1445.22 1791.25,1445.22 1801.65,1445.22 1812.05,1445.22 1822.45,1445.22 1832.85,1445.22 1843.24,1445.22 1853.64,1445.22 1864.04,1445.22 \n",
       "  1874.44,1445.22 1884.84,1445.22 1895.23,1445.22 1905.63,1445.22 1916.03,1445.22 1926.43,1445.22 1936.83,1445.22 1947.23,1445.22 1957.62,1445.22 1968.02,1445.22 \n",
       "  1978.42,1445.22 1988.82,1445.22 1999.22,1445.22 2009.61,1445.22 2020.01,1445.22 2030.41,1445.22 2040.81,1445.22 2051.21,1445.22 2061.61,1445.22 2072,1445.22 \n",
       "  2082.4,1445.22 2092.8,1445.22 2103.2,1445.22 2113.6,1445.22 2124,1445.22 2134.39,1445.22 2144.79,1445.22 2155.19,1445.22 2165.59,1445.22 2175.99,1445.22 \n",
       "  2186.38,1445.22 2196.78,1445.22 2207.18,1445.22 2217.58,1445.22 2227.98,1445.22 2238.38,1445.22 2248.77,1445.22 2259.17,1445.22 2269.57,1445.22 2279.97,1445.22 \n",
       "  2290.37,1445.22 \n",
       "  \"/>\n",
       "<path clip-path=\"url(#clip130)\" d=\"\n",
       "M1724.53 276.658 L2279.28 276.658 L2279.28 95.2176 L1724.53 95.2176  Z\n",
       "  \" fill=\"#ffffff\" fill-rule=\"evenodd\" fill-opacity=\"1\"/>\n",
       "<polyline clip-path=\"url(#clip130)\" style=\"stroke:#000000; stroke-width:4; stroke-opacity:1; fill:none\" points=\"\n",
       "  1724.53,276.658 2279.28,276.658 2279.28,95.2176 1724.53,95.2176 1724.53,276.658 \n",
       "  \"/>\n",
       "<polyline clip-path=\"url(#clip130)\" style=\"stroke:#009af9; stroke-width:4; stroke-opacity:1; fill:none\" points=\"\n",
       "  1749.02,155.698 1895.98,155.698 \n",
       "  \"/>\n",
       "<path clip-path=\"url(#clip130)\" d=\"M 0 0 M1925.15 142.26 L1925.15 155.246 L1931.03 155.246 Q1934.29 155.246 1936.08 153.556 Q1937.86 151.867 1937.86 148.742 Q1937.86 145.64 1936.08 143.95 Q1934.29 142.26 1931.03 142.26 L1925.15 142.26 M1920.47 138.418 L1931.03 138.418 Q1936.84 138.418 1939.8 141.056 Q1942.79 143.672 1942.79 148.742 Q1942.79 153.857 1939.8 156.473 Q1936.84 159.089 1931.03 159.089 L1925.15 159.089 L1925.15 172.978 L1920.47 172.978 L1920.47 138.418 Z\" fill=\"#000000\" fill-rule=\"evenodd\" fill-opacity=\"1\" /><path clip-path=\"url(#clip130)\" d=\"M 0 0 M1961.45 151.033 Q1960.73 150.617 1959.87 150.431 Q1959.04 150.223 1958.02 150.223 Q1954.41 150.223 1952.47 152.584 Q1950.54 154.922 1950.54 159.32 L1950.54 172.978 L1946.26 172.978 L1946.26 147.052 L1950.54 147.052 L1950.54 151.08 Q1951.89 148.718 1954.04 147.584 Q1956.19 146.427 1959.27 146.427 Q1959.71 146.427 1960.24 146.496 Q1960.78 146.543 1961.42 146.658 L1961.45 151.033 Z\" fill=\"#000000\" fill-rule=\"evenodd\" fill-opacity=\"1\" /><path clip-path=\"url(#clip130)\" d=\"M 0 0 M1987.05 158.95 L1987.05 161.033 L1967.47 161.033 Q1967.74 165.431 1970.1 167.746 Q1972.49 170.038 1976.72 170.038 Q1979.18 170.038 1981.47 169.436 Q1983.78 168.834 1986.05 167.63 L1986.05 171.658 Q1983.76 172.63 1981.35 173.14 Q1978.95 173.649 1976.47 173.649 Q1970.27 173.649 1966.63 170.038 Q1963.02 166.427 1963.02 160.269 Q1963.02 153.904 1966.45 150.177 Q1969.9 146.427 1975.73 146.427 Q1980.96 146.427 1983.99 149.806 Q1987.05 153.163 1987.05 158.95 M1982.79 157.7 Q1982.74 154.205 1980.82 152.121 Q1978.92 150.038 1975.78 150.038 Q1972.21 150.038 1970.06 152.052 Q1967.93 154.066 1967.6 157.723 L1982.79 157.7 Z\" fill=\"#000000\" fill-rule=\"evenodd\" fill-opacity=\"1\" /><path clip-path=\"url(#clip130)\" d=\"M 0 0 M2008.58 150.987 L2008.58 136.959 L2012.84 136.959 L2012.84 172.978 L2008.58 172.978 L2008.58 169.089 Q2007.23 171.403 2005.17 172.538 Q2003.14 173.649 2000.27 173.649 Q1995.57 173.649 1992.6 169.899 Q1989.66 166.149 1989.66 160.038 Q1989.66 153.927 1992.6 150.177 Q1995.57 146.427 2000.27 146.427 Q2003.14 146.427 2005.17 147.561 Q2007.23 148.672 2008.58 150.987 M1994.06 160.038 Q1994.06 164.737 1995.98 167.422 Q1997.93 170.084 2001.31 170.084 Q2004.69 170.084 2006.63 167.422 Q2008.58 164.737 2008.58 160.038 Q2008.58 155.339 2006.63 152.677 Q2004.69 149.992 2001.31 149.992 Q1997.93 149.992 1995.98 152.677 Q1994.06 155.339 1994.06 160.038 Z\" fill=\"#000000\" fill-rule=\"evenodd\" fill-opacity=\"1\" /><path clip-path=\"url(#clip130)\" d=\"M 0 0 M2017.3 147.052 L2021.56 147.052 L2021.56 172.978 L2017.3 172.978 L2017.3 147.052 M2017.3 136.959 L2021.56 136.959 L2021.56 142.353 L2017.3 142.353 L2017.3 136.959 Z\" fill=\"#000000\" fill-rule=\"evenodd\" fill-opacity=\"1\" /><path clip-path=\"url(#clip130)\" d=\"M 0 0 M2044.69 148.047 L2044.69 152.029 Q2042.88 151.033 2041.05 150.547 Q2039.25 150.038 2037.4 150.038 Q2033.25 150.038 2030.96 152.677 Q2028.67 155.292 2028.67 160.038 Q2028.67 164.783 2030.96 167.422 Q2033.25 170.038 2037.4 170.038 Q2039.25 170.038 2041.05 169.552 Q2042.88 169.042 2044.69 168.047 L2044.69 171.982 Q2042.9 172.816 2040.98 173.232 Q2039.09 173.649 2036.93 173.649 Q2031.08 173.649 2027.63 169.968 Q2024.18 166.288 2024.18 160.038 Q2024.18 153.695 2027.65 150.061 Q2031.15 146.427 2037.21 146.427 Q2039.18 146.427 2041.05 146.843 Q2042.93 147.237 2044.69 148.047 Z\" fill=\"#000000\" fill-rule=\"evenodd\" fill-opacity=\"1\" /><path clip-path=\"url(#clip130)\" d=\"M 0 0 M2053.37 139.691 L2053.37 147.052 L2062.14 147.052 L2062.14 150.362 L2053.37 150.362 L2053.37 164.436 Q2053.37 167.607 2054.22 168.51 Q2055.1 169.413 2057.77 169.413 L2062.14 169.413 L2062.14 172.978 L2057.77 172.978 Q2052.84 172.978 2050.96 171.149 Q2049.09 169.297 2049.09 164.436 L2049.09 150.362 L2045.96 150.362 L2045.96 147.052 L2049.09 147.052 L2049.09 139.691 L2053.37 139.691 Z\" fill=\"#000000\" fill-rule=\"evenodd\" fill-opacity=\"1\" /><path clip-path=\"url(#clip130)\" d=\"M 0 0 M2088.78 158.95 L2088.78 161.033 L2069.2 161.033 Q2069.48 165.431 2071.84 167.746 Q2074.22 170.038 2078.46 170.038 Q2080.91 170.038 2083.21 169.436 Q2085.52 168.834 2087.79 167.63 L2087.79 171.658 Q2085.5 172.63 2083.09 173.14 Q2080.68 173.649 2078.21 173.649 Q2072 173.649 2068.37 170.038 Q2064.76 166.427 2064.76 160.269 Q2064.76 153.904 2068.18 150.177 Q2071.63 146.427 2077.46 146.427 Q2082.7 146.427 2085.73 149.806 Q2088.78 153.163 2088.78 158.95 M2084.52 157.7 Q2084.48 154.205 2082.56 152.121 Q2080.66 150.038 2077.51 150.038 Q2073.95 150.038 2071.79 152.052 Q2069.66 154.066 2069.34 157.723 L2084.52 157.7 Z\" fill=\"#000000\" fill-rule=\"evenodd\" fill-opacity=\"1\" /><path clip-path=\"url(#clip130)\" d=\"M 0 0 M2110.31 150.987 L2110.31 136.959 L2114.57 136.959 L2114.57 172.978 L2110.31 172.978 L2110.31 169.089 Q2108.97 171.403 2106.91 172.538 Q2104.87 173.649 2102 173.649 Q2097.3 173.649 2094.34 169.899 Q2091.4 166.149 2091.4 160.038 Q2091.4 153.927 2094.34 150.177 Q2097.3 146.427 2102 146.427 Q2104.87 146.427 2106.91 147.561 Q2108.97 148.672 2110.31 150.987 M2095.8 160.038 Q2095.8 164.737 2097.72 167.422 Q2099.66 170.084 2103.04 170.084 Q2106.42 170.084 2108.37 167.422 Q2110.31 164.737 2110.31 160.038 Q2110.31 155.339 2108.37 152.677 Q2106.42 149.992 2103.04 149.992 Q2099.66 149.992 2097.72 152.677 Q2095.8 155.339 2095.8 160.038 Z\" fill=\"#000000\" fill-rule=\"evenodd\" fill-opacity=\"1\" /><path clip-path=\"url(#clip130)\" d=\"M 0 0 M2138.97 142.26 L2138.97 169.135 L2144.62 169.135 Q2151.77 169.135 2155.08 165.894 Q2158.41 162.654 2158.41 155.663 Q2158.41 148.718 2155.08 145.501 Q2151.77 142.26 2144.62 142.26 L2138.97 142.26 M2134.29 138.418 L2143.9 138.418 Q2153.95 138.418 2158.64 142.607 Q2163.34 146.774 2163.34 155.663 Q2163.34 164.598 2158.62 168.788 Q2153.9 172.978 2143.9 172.978 L2134.29 172.978 L2134.29 138.418 Z\" fill=\"#000000\" fill-rule=\"evenodd\" fill-opacity=\"1\" /><path clip-path=\"url(#clip130)\" d=\"M 0 0 M2179.59 159.945 Q2174.43 159.945 2172.44 161.126 Q2170.45 162.306 2170.45 165.154 Q2170.45 167.422 2171.93 168.765 Q2173.44 170.084 2176.01 170.084 Q2179.55 170.084 2181.68 167.584 Q2183.83 165.061 2183.83 160.894 L2183.83 159.945 L2179.59 159.945 M2188.09 158.186 L2188.09 172.978 L2183.83 172.978 L2183.83 169.042 Q2182.37 171.403 2180.2 172.538 Q2178.02 173.649 2174.87 173.649 Q2170.89 173.649 2168.53 171.427 Q2166.19 169.181 2166.19 165.431 Q2166.19 161.056 2169.11 158.834 Q2172.05 156.612 2177.86 156.612 L2183.83 156.612 L2183.83 156.195 Q2183.83 153.255 2181.89 151.658 Q2179.96 150.038 2176.47 150.038 Q2174.25 150.038 2172.14 150.57 Q2170.03 151.103 2168.09 152.167 L2168.09 148.232 Q2170.43 147.33 2172.63 146.89 Q2174.83 146.427 2176.91 146.427 Q2182.53 146.427 2185.31 149.343 Q2188.09 152.26 2188.09 158.186 Z\" fill=\"#000000\" fill-rule=\"evenodd\" fill-opacity=\"1\" /><path clip-path=\"url(#clip130)\" d=\"M 0 0 M2196.77 139.691 L2196.77 147.052 L2205.54 147.052 L2205.54 150.362 L2196.77 150.362 L2196.77 164.436 Q2196.77 167.607 2197.63 168.51 Q2198.51 169.413 2201.17 169.413 L2205.54 169.413 L2205.54 172.978 L2201.17 172.978 Q2196.24 172.978 2194.36 171.149 Q2192.49 169.297 2192.49 164.436 L2192.49 150.362 L2189.36 150.362 L2189.36 147.052 L2192.49 147.052 L2192.49 139.691 L2196.77 139.691 Z\" fill=\"#000000\" fill-rule=\"evenodd\" fill-opacity=\"1\" /><path clip-path=\"url(#clip130)\" d=\"M 0 0 M2221.79 159.945 Q2216.63 159.945 2214.64 161.126 Q2212.65 162.306 2212.65 165.154 Q2212.65 167.422 2214.13 168.765 Q2215.64 170.084 2218.2 170.084 Q2221.75 170.084 2223.88 167.584 Q2226.03 165.061 2226.03 160.894 L2226.03 159.945 L2221.79 159.945 M2230.29 158.186 L2230.29 172.978 L2226.03 172.978 L2226.03 169.042 Q2224.57 171.403 2222.39 172.538 Q2220.22 173.649 2217.07 173.649 Q2213.09 173.649 2210.73 171.427 Q2208.39 169.181 2208.39 165.431 Q2208.39 161.056 2211.31 158.834 Q2214.25 156.612 2220.06 156.612 L2226.03 156.612 L2226.03 156.195 Q2226.03 153.255 2224.08 151.658 Q2222.16 150.038 2218.67 150.038 Q2216.45 150.038 2214.34 150.57 Q2212.23 151.103 2210.29 152.167 L2210.29 148.232 Q2212.63 147.33 2214.83 146.89 Q2217.02 146.427 2219.11 146.427 Q2224.73 146.427 2227.51 149.343 Q2230.29 152.26 2230.29 158.186 Z\" fill=\"#000000\" fill-rule=\"evenodd\" fill-opacity=\"1\" /><polyline clip-path=\"url(#clip130)\" style=\"stroke:#e26f46; stroke-width:4; stroke-opacity:1; fill:none\" points=\"\n",
       "  1749.02,216.178 1895.98,216.178 \n",
       "  \"/>\n",
       "<path clip-path=\"url(#clip130)\" d=\"M 0 0 M1936.31 203.504 L1929.97 220.703 L1942.67 220.703 L1936.31 203.504 M1933.67 198.898 L1938.97 198.898 L1952.14 233.458 L1947.28 233.458 L1944.13 224.592 L1928.55 224.592 L1925.41 233.458 L1920.47 233.458 L1933.67 198.898 Z\" fill=\"#000000\" fill-rule=\"evenodd\" fill-opacity=\"1\" /><path clip-path=\"url(#clip130)\" d=\"M 0 0 M1974.43 208.527 L1974.43 212.509 Q1972.63 211.513 1970.8 211.027 Q1968.99 210.518 1967.14 210.518 Q1963 210.518 1960.71 213.157 Q1958.41 215.772 1958.41 220.518 Q1958.41 225.263 1960.71 227.902 Q1963 230.518 1967.14 230.518 Q1968.99 230.518 1970.8 230.032 Q1972.63 229.522 1974.43 228.527 L1974.43 232.462 Q1972.65 233.296 1970.73 233.712 Q1968.83 234.129 1966.68 234.129 Q1960.82 234.129 1957.37 230.448 Q1953.92 226.768 1953.92 220.518 Q1953.92 214.175 1957.4 210.541 Q1960.89 206.907 1966.96 206.907 Q1968.92 206.907 1970.8 207.323 Q1972.67 207.717 1974.43 208.527 Z\" fill=\"#000000\" fill-rule=\"evenodd\" fill-opacity=\"1\" /><path clip-path=\"url(#clip130)\" d=\"M 0 0 M1983.11 200.171 L1983.11 207.532 L1991.89 207.532 L1991.89 210.842 L1983.11 210.842 L1983.11 224.916 Q1983.11 228.087 1983.97 228.99 Q1984.85 229.893 1987.51 229.893 L1991.89 229.893 L1991.89 233.458 L1987.51 233.458 Q1982.58 233.458 1980.71 231.629 Q1978.83 229.777 1978.83 224.916 L1978.83 210.842 L1975.71 210.842 L1975.71 207.532 L1978.83 207.532 L1978.83 200.171 L1983.11 200.171 Z\" fill=\"#000000\" fill-rule=\"evenodd\" fill-opacity=\"1\" /><path clip-path=\"url(#clip130)\" d=\"M 0 0 M1995.91 223.226 L1995.91 207.532 L2000.17 207.532 L2000.17 223.064 Q2000.17 226.745 2001.61 228.596 Q2003.04 230.425 2005.91 230.425 Q2009.36 230.425 2011.35 228.226 Q2013.37 226.027 2013.37 222.231 L2013.37 207.532 L2017.63 207.532 L2017.63 233.458 L2013.37 233.458 L2013.37 229.476 Q2011.82 231.837 2009.76 232.995 Q2007.72 234.129 2005.01 234.129 Q2000.54 234.129 1998.23 231.351 Q1995.91 228.573 1995.91 223.226 M2006.63 206.907 L2006.63 206.907 Z\" fill=\"#000000\" fill-rule=\"evenodd\" fill-opacity=\"1\" /><path clip-path=\"url(#clip130)\" d=\"M 0 0 M2033.88 220.425 Q2028.72 220.425 2026.72 221.606 Q2024.73 222.786 2024.73 225.634 Q2024.73 227.902 2026.22 229.245 Q2027.72 230.564 2030.29 230.564 Q2033.83 230.564 2035.96 228.064 Q2038.11 225.541 2038.11 221.374 L2038.11 220.425 L2033.88 220.425 M2042.37 218.666 L2042.37 233.458 L2038.11 233.458 L2038.11 229.522 Q2036.65 231.883 2034.48 233.018 Q2032.3 234.129 2029.15 234.129 Q2025.17 234.129 2022.81 231.907 Q2020.47 229.661 2020.47 225.911 Q2020.47 221.536 2023.39 219.314 Q2026.33 217.092 2032.14 217.092 L2038.11 217.092 L2038.11 216.675 Q2038.11 213.735 2036.17 212.138 Q2034.25 210.518 2030.75 210.518 Q2028.53 210.518 2026.42 211.05 Q2024.32 211.583 2022.37 212.647 L2022.37 208.712 Q2024.71 207.81 2026.91 207.37 Q2029.11 206.907 2031.19 206.907 Q2036.82 206.907 2039.59 209.823 Q2042.37 212.74 2042.37 218.666 Z\" fill=\"#000000\" fill-rule=\"evenodd\" fill-opacity=\"1\" /><path clip-path=\"url(#clip130)\" d=\"M 0 0 M2046.84 197.439 L2051.1 197.439 L2051.1 233.458 L2046.84 233.458 L2046.84 197.439 Z\" fill=\"#000000\" fill-rule=\"evenodd\" fill-opacity=\"1\" /><path clip-path=\"url(#clip130)\" d=\"M 0 0 M2075.5 202.74 L2075.5 229.615 L2081.15 229.615 Q2088.3 229.615 2091.61 226.374 Q2094.94 223.134 2094.94 216.143 Q2094.94 209.198 2091.61 205.981 Q2088.3 202.74 2081.15 202.74 L2075.5 202.74 M2070.82 198.898 L2080.43 198.898 Q2090.47 198.898 2095.17 203.087 Q2099.87 207.254 2099.87 216.143 Q2099.87 225.078 2095.15 229.268 Q2090.43 233.458 2080.43 233.458 L2070.82 233.458 L2070.82 198.898 Z\" fill=\"#000000\" fill-rule=\"evenodd\" fill-opacity=\"1\" /><path clip-path=\"url(#clip130)\" d=\"M 0 0 M2116.12 220.425 Q2110.96 220.425 2108.97 221.606 Q2106.98 222.786 2106.98 225.634 Q2106.98 227.902 2108.46 229.245 Q2109.96 230.564 2112.53 230.564 Q2116.08 230.564 2118.21 228.064 Q2120.36 225.541 2120.36 221.374 L2120.36 220.425 L2116.12 220.425 M2124.62 218.666 L2124.62 233.458 L2120.36 233.458 L2120.36 229.522 Q2118.9 231.883 2116.72 233.018 Q2114.55 234.129 2111.4 234.129 Q2107.42 234.129 2105.06 231.907 Q2102.72 229.661 2102.72 225.911 Q2102.72 221.536 2105.64 219.314 Q2108.58 217.092 2114.39 217.092 L2120.36 217.092 L2120.36 216.675 Q2120.36 213.735 2118.41 212.138 Q2116.49 210.518 2113 210.518 Q2110.77 210.518 2108.67 211.05 Q2106.56 211.583 2104.62 212.647 L2104.62 208.712 Q2106.96 207.81 2109.15 207.37 Q2111.35 206.907 2113.44 206.907 Q2119.06 206.907 2121.84 209.823 Q2124.62 212.74 2124.62 218.666 Z\" fill=\"#000000\" fill-rule=\"evenodd\" fill-opacity=\"1\" /><path clip-path=\"url(#clip130)\" d=\"M 0 0 M2133.3 200.171 L2133.3 207.532 L2142.07 207.532 L2142.07 210.842 L2133.3 210.842 L2133.3 224.916 Q2133.3 228.087 2134.15 228.99 Q2135.03 229.893 2137.7 229.893 L2142.07 229.893 L2142.07 233.458 L2137.7 233.458 Q2132.77 233.458 2130.89 231.629 Q2129.02 229.777 2129.02 224.916 L2129.02 210.842 L2125.89 210.842 L2125.89 207.532 L2129.02 207.532 L2129.02 200.171 L2133.3 200.171 Z\" fill=\"#000000\" fill-rule=\"evenodd\" fill-opacity=\"1\" /><path clip-path=\"url(#clip130)\" d=\"M 0 0 M2158.32 220.425 Q2153.16 220.425 2151.17 221.606 Q2149.18 222.786 2149.18 225.634 Q2149.18 227.902 2150.66 229.245 Q2152.16 230.564 2154.73 230.564 Q2158.27 230.564 2160.4 228.064 Q2162.56 225.541 2162.56 221.374 L2162.56 220.425 L2158.32 220.425 M2166.82 218.666 L2166.82 233.458 L2162.56 233.458 L2162.56 229.522 Q2161.1 231.883 2158.92 233.018 Q2156.75 234.129 2153.6 234.129 Q2149.62 234.129 2147.26 231.907 Q2144.92 229.661 2144.92 225.911 Q2144.92 221.536 2147.83 219.314 Q2150.77 217.092 2156.58 217.092 L2162.56 217.092 L2162.56 216.675 Q2162.56 213.735 2160.61 212.138 Q2158.69 210.518 2155.2 210.518 Q2152.97 210.518 2150.87 211.05 Q2148.76 211.583 2146.82 212.647 L2146.82 208.712 Q2149.15 207.81 2151.35 207.37 Q2153.55 206.907 2155.64 206.907 Q2161.26 206.907 2164.04 209.823 Q2166.82 212.74 2166.82 218.666 Z\" fill=\"#000000\" fill-rule=\"evenodd\" fill-opacity=\"1\" /></svg>\n"
      ]
     },
     "execution_count": 140,
     "metadata": {},
     "output_type": "execute_result"
    }
   ],
   "source": [
    "ŷ = f(x, newparameters...)\n",
    "plot([x, x], [ŷ, y], label=[\"Predicted Data\" \"Actual Data\"])"
   ]
  },
  {
   "cell_type": "markdown",
   "id": "measured-payment",
   "metadata": {},
   "source": [
    "# Try a larger iteration to see if we can beat the loss"
   ]
  },
  {
   "cell_type": "code",
   "execution_count": 70,
   "id": "blessed-filing",
   "metadata": {},
   "outputs": [
    {
     "name": "stdout",
     "output_type": "stream",
     "text": [
      "Iterations: 100000, Loss: 0.025171947699427412"
     ]
    },
    {
     "data": {
      "text/plain": [
       "5-element Array{Float64,1}:\n",
       " 0.40630008944965806\n",
       " 0.4130416869947689\n",
       " 1.1500785697535834\n",
       " 0.9458429878071659\n",
       " 1.1246721936555848"
      ]
     },
     "execution_count": 70,
     "metadata": {},
     "output_type": "execute_result"
    }
   ],
   "source": [
    "newparameters = step(f, collect(x), y, p, ϵ=1e-5, maxiters=99999, lossvalues=lossvalues, ρvalues=ρvalues, λvalues=λvalues)"
   ]
  },
  {
   "cell_type": "markdown",
   "id": "korean-basket",
   "metadata": {},
   "source": [
    "# Check function is \"Type stable\"\n",
    "\n",
    "This macro expands into a list of the types Julia infers from the function, if they're all highlighted blue, then we're good!"
   ]
  },
  {
   "cell_type": "code",
   "execution_count": 67,
   "id": "trained-server",
   "metadata": {},
   "outputs": [
    {
     "name": "stdout",
     "output_type": "stream",
     "text": [
      "Variables\n",
      "  #self#\u001b[36m::Core.Compiler.Const(step, false)\u001b[39m\n",
      "  f\u001b[36m::Core.Compiler.Const(f, false)\u001b[39m\n",
      "  x\u001b[36m::Array{Float64,1}\u001b[39m\n",
      "  y\u001b[36m::Array{Float64,1}\u001b[39m\n",
      "  parameters\u001b[36m::Array{Float64,1}\u001b[39m\n",
      "  #51\u001b[36m::var\"#51#53\"\u001b[39m\n",
      "\n",
      "Body\u001b[36m::Array{Float64,1}\u001b[39m\n",
      "\u001b[90m1 ─\u001b[39m      (#51 = %new(Main.:(var\"#51#53\")))\n",
      "\u001b[90m│  \u001b[39m %2 = #51\u001b[36m::Core.Compiler.Const(var\"#51#53\"(), false)\u001b[39m\n",
      "\u001b[90m│  \u001b[39m %3 = Base.vect()\u001b[36m::Array{Any,1}\u001b[39m\n",
      "\u001b[90m│  \u001b[39m %4 = Base.vect()\u001b[36m::Array{Any,1}\u001b[39m\n",
      "\u001b[90m│  \u001b[39m %5 = Base.vect()\u001b[36m::Array{Any,1}\u001b[39m\n",
      "\u001b[90m│  \u001b[39m %6 = Main.:(var\"#step#50\")(0.01, %2, %3, %4, %5, #self#, f, x, y, parameters)\u001b[36m::Array{Float64,1}\u001b[39m\n",
      "\u001b[90m└──\u001b[39m      return %6\n"
     ]
    }
   ],
   "source": [
    "@code_warntype step(f, collect(x), y, p)"
   ]
  }
 ],
 "metadata": {
  "kernelspec": {
   "display_name": "Julia 1.4.1",
   "language": "julia",
   "name": "julia-1.4"
  },
  "language_info": {
   "file_extension": ".jl",
   "mimetype": "application/julia",
   "name": "julia",
   "version": "1.4.1"
  }
 },
 "nbformat": 4,
 "nbformat_minor": 5
}
